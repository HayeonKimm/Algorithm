{
 "cells": [
  {
   "cell_type": "markdown",
   "id": "d3979ec9",
   "metadata": {},
   "source": [
    "재귀함수\n",
    "\n",
    "스스로 반복하는 함수, 멈추는 기능을 넣어야한다. 안그러면 출력 값이 안나온다."
   ]
  },
  {
   "cell_type": "code",
   "execution_count": 3,
   "id": "e32921a5",
   "metadata": {},
   "outputs": [],
   "source": [
    "def revival(n):\n",
    "    \n",
    "    if n==1: \n",
    "        return 1\n",
    "    \n",
    "    return 1+revival(n-1)    "
   ]
  },
  {
   "cell_type": "code",
   "execution_count": 4,
   "id": "d9886b48",
   "metadata": {},
   "outputs": [
    {
     "data": {
      "text/plain": [
       "6"
      ]
     },
     "execution_count": 4,
     "metadata": {},
     "output_type": "execute_result"
    }
   ],
   "source": [
    "revival(6)"
   ]
  },
  {
   "cell_type": "markdown",
   "id": "45d4c0a9",
   "metadata": {},
   "source": [
    "1+revival(6)\n",
    "=1+1+1+1+1+1"
   ]
  },
  {
   "cell_type": "markdown",
   "id": "4ed87289",
   "metadata": {},
   "source": [
    "### 스택\n",
    "\n",
    "스택은 선입후출. 늦게 온놈이 가장 빨리 삭제된다."
   ]
  },
  {
   "cell_type": "code",
   "execution_count": 5,
   "id": "de500b42",
   "metadata": {},
   "outputs": [
    {
     "name": "stdout",
     "output_type": "stream",
     "text": [
      "[1]\n"
     ]
    }
   ],
   "source": [
    "ab =[]\n",
    "\n",
    "ab.append(1)\n",
    "ab.append(3)\n",
    "ab.append(4)\n",
    "\n",
    "ab.pop()\n",
    "ab.pop()\n",
    "\n",
    "# 1이 나올듯\n",
    "\n",
    "print(ab)"
   ]
  },
  {
   "cell_type": "markdown",
   "id": "52e547a7",
   "metadata": {},
   "source": [
    "## 큐\n",
    "\n",
    "큐는 선입선출. 먼저 온놈이 가장 빨리 들어간다(삭제된다.)"
   ]
  },
  {
   "cell_type": "code",
   "execution_count": 10,
   "id": "62a0fe0f",
   "metadata": {
    "ExecuteTime": {
     "end_time": "2021-11-06T11:34:23.261516Z",
     "start_time": "2021-11-06T11:34:23.254535Z"
    }
   },
   "outputs": [
    {
     "name": "stdout",
     "output_type": "stream",
     "text": [
      "deque([2, 2])\n"
     ]
    }
   ],
   "source": [
    "ab=[] # 리스트 초기화\n",
    "\n",
    "from collections import deque\n",
    "\n",
    "de=deque()\n",
    "\n",
    "\n",
    "\n",
    "\n",
    "\n",
    "de.append(3)\n",
    "de.append(4)\n",
    "de.append(2)\n",
    "\n",
    "\n",
    "de.popleft()\n",
    "de.append(2)\n",
    "de.popleft()\n",
    "\n",
    "# 답:([2,2])\n",
    "\n",
    "print(de)"
   ]
  },
  {
   "cell_type": "code",
   "execution_count": 11,
   "id": "339ead22",
   "metadata": {
    "ExecuteTime": {
     "end_time": "2021-11-06T11:42:24.247596Z",
     "start_time": "2021-11-06T11:42:24.233490Z"
    }
   },
   "outputs": [
    {
     "name": "stdout",
     "output_type": "stream",
     "text": [
      "[[], [], []]\n"
     ]
    }
   ],
   "source": [
    "graph = [[] for _ in range(3)]\n",
    "\n",
    "print(graph)\n",
    "\n",
    "# 인접리스트 생성"
   ]
  },
  {
   "cell_type": "code",
   "execution_count": 12,
   "id": "dca7b1c0",
   "metadata": {
    "ExecuteTime": {
     "end_time": "2021-11-06T11:43:36.522998Z",
     "start_time": "2021-11-06T11:43:36.504049Z"
    }
   },
   "outputs": [
    {
     "name": "stdout",
     "output_type": "stream",
     "text": [
      "[[(1, 7), (2, 5)], [(1, 2)], [(3, 3)]]\n"
     ]
    }
   ],
   "source": [
    "graph[0].append((1,7))\n",
    "graph[0].append((2,5))\n",
    "\n",
    "graph[1].append((1,2))\n",
    "graph[2].append((3,3))\n",
    "\n",
    "print(graph)"
   ]
  },
  {
   "cell_type": "markdown",
   "id": "95ee28e4",
   "metadata": {},
   "source": [
    "인접 행렬 방식은 모든 관계를 저장하므로 노드 개수가 많을수록 메모리가 불필요\n",
    "인접 리스트 방식은 연결된 정보만을 저장하기 떄문에 메모리를 효율적 사용\n",
    "\n",
    "but, 이와 같은 속성 때문에 인접 리스트 방식은 인접 행렬 방식에 비해 특정한 두 노드가 연결되어 있는지에 대한 정보를\n",
    "\n",
    "얻는 속도가 느리다. 인접 리스트 방식에서는 연결된 데이터를 하나씩 확인해야 하기\n",
    "때문"
   ]
  },
  {
   "cell_type": "markdown",
   "id": "8b581b7c",
   "metadata": {},
   "source": [
    "DFS(깊이우선탐색) 는 스택을 이용하는 알고리즘이므로 재귀함수를 이용했을 때 매우 간결하게 구현 가능하다."
   ]
  },
  {
   "cell_type": "code",
   "execution_count": 19,
   "id": "0d68ebac",
   "metadata": {
    "ExecuteTime": {
     "end_time": "2021-11-06T12:10:10.876325Z",
     "start_time": "2021-11-06T12:10:10.866352Z"
    }
   },
   "outputs": [],
   "source": [
    "def dfs(graph, v, visited):\n",
    "    \n",
    "    # 현재 노드를 방문 처리\n",
    "    visited[v]= True\n",
    "    print(v, end=' ') # 방문처리 = 이동한 노드 \n",
    "    #end=' ': 띄어쓰기해서 출력\n",
    "    \n",
    "    # 현재 노드와 연결된 다른 노드를 재귀적으로 방문\n",
    "    # 여기가 중요하다.\n",
    "    for i in graph[v]: # 여기서 그래프가 뭐지?\n",
    "        if not visited[i]: # 방문을 안했다면\n",
    "            dfs(graph,i,visited)\n",
    "\n",
    "# 여기까지는 함수정의"
   ]
  },
  {
   "cell_type": "code",
   "execution_count": 20,
   "id": "75800532",
   "metadata": {
    "ExecuteTime": {
     "end_time": "2021-11-06T12:10:11.201462Z",
     "start_time": "2021-11-06T12:10:11.185498Z"
    }
   },
   "outputs": [
    {
     "name": "stdout",
     "output_type": "stream",
     "text": [
      "12768345"
     ]
    }
   ],
   "source": [
    "# 각 노드가 연결된 정보를 리스트 자료형으로 표현(2차원 리스트)\n",
    "# 이것부터 썼으면 이해가 빨랐을텐데\n",
    "\n",
    "# 인접 리스트 형식\n",
    "graph = [\n",
    "    [],\n",
    "    [2,3,8],\n",
    "    [1,7],\n",
    "    [1,4,5],\n",
    "    [3,5],\n",
    "    [3,4],\n",
    "    [7],\n",
    "    [2,6,8],\n",
    "    [1,7]\n",
    "]\n",
    "\n",
    "# 각 노드가 방문된 정보를 리스트 자료형으로 표현(1차원 리스트)\n",
    "visited = [False]*9\n",
    "\n",
    "# 정의된 DFS 함수 호출\n",
    "dfs(graph, 1 , visited) \n",
    "\n",
    "# 최종 값은 탐색순서 출력"
   ]
  },
  {
   "cell_type": "code",
   "execution_count": 15,
   "id": "bc07d6e6",
   "metadata": {
    "ExecuteTime": {
     "end_time": "2021-11-06T12:05:16.450195Z",
     "start_time": "2021-11-06T12:05:16.434236Z"
    }
   },
   "outputs": [
    {
     "data": {
      "text/plain": [
       "[False, False, False, False, False, False, False, False, False]"
      ]
     },
     "execution_count": 15,
     "metadata": {},
     "output_type": "execute_result"
    }
   ],
   "source": [
    "visited"
   ]
  },
  {
   "cell_type": "code",
   "execution_count": null,
   "id": "c9e68ef7",
   "metadata": {},
   "outputs": [],
   "source": []
  },
  {
   "cell_type": "code",
   "execution_count": null,
   "id": "64d967a4",
   "metadata": {},
   "outputs": [],
   "source": []
  },
  {
   "cell_type": "code",
   "execution_count": null,
   "id": "3a1b2c3f",
   "metadata": {},
   "outputs": [],
   "source": []
  },
  {
   "cell_type": "code",
   "execution_count": null,
   "id": "bd61ffdb",
   "metadata": {},
   "outputs": [],
   "source": []
  },
  {
   "cell_type": "code",
   "execution_count": null,
   "id": "9aadde81",
   "metadata": {},
   "outputs": [],
   "source": []
  },
  {
   "cell_type": "code",
   "execution_count": null,
   "id": "8f2f0c4e",
   "metadata": {},
   "outputs": [],
   "source": []
  },
  {
   "cell_type": "code",
   "execution_count": null,
   "id": "51a3f221",
   "metadata": {},
   "outputs": [],
   "source": []
  },
  {
   "cell_type": "code",
   "execution_count": 35,
   "id": "d9379f74",
   "metadata": {
    "ExecuteTime": {
     "end_time": "2021-11-06T12:25:10.208569Z",
     "start_time": "2021-11-06T12:25:10.196339Z"
    }
   },
   "outputs": [
    {
     "name": "stdout",
     "output_type": "stream",
     "text": [
      "1 2 7 6 8 3 4 5 "
     ]
    }
   ],
   "source": [
    "def hehe(graph,v,visited):\n",
    "    \n",
    "    visited[v]=True\n",
    "    \n",
    "    print(v,end=' ') #띄어쓰기해서 출력\n",
    "    \n",
    "    for i in graph[v]:\n",
    "        if not visited[i]:\n",
    "            hehe(graph,i,visited)\n",
    "            \n",
    "            \n",
    "\n",
    "graph = [\n",
    "    [],\n",
    "    [2,3,8],\n",
    "    [1,7],\n",
    "    [1,4,5],\n",
    "    [3,5],\n",
    "    [3,4],\n",
    "    [7],\n",
    "    [2,6,8],\n",
    "    [1,7]]\n",
    "\n",
    "visited=[False]*9\n",
    "\n",
    "hehe(graph,1,visited)"
   ]
  },
  {
   "cell_type": "code",
   "execution_count": 36,
   "id": "ef3577d0",
   "metadata": {
    "ExecuteTime": {
     "end_time": "2021-11-06T12:26:09.521592Z",
     "start_time": "2021-11-06T12:26:09.513614Z"
    }
   },
   "outputs": [
    {
     "name": "stdout",
     "output_type": "stream",
     "text": [
      "[[], [2, 3, 8], [1, 7], [1, 4, 5], [3, 5], [3, 4], [7], [2, 6, 8], [1, 7]]\n"
     ]
    }
   ],
   "source": [
    "print(graph)"
   ]
  },
  {
   "cell_type": "code",
   "execution_count": null,
   "id": "808cc4ec",
   "metadata": {},
   "outputs": [],
   "source": []
  }
 ],
 "metadata": {
  "hide_input": false,
  "kernelspec": {
   "display_name": "Python 3 (ipykernel)",
   "language": "python",
   "name": "python3"
  },
  "language_info": {
   "codemirror_mode": {
    "name": "ipython",
    "version": 3
   },
   "file_extension": ".py",
   "mimetype": "text/x-python",
   "name": "python",
   "nbconvert_exporter": "python",
   "pygments_lexer": "ipython3",
   "version": "3.8.11"
  },
  "toc": {
   "base_numbering": 1,
   "nav_menu": {},
   "number_sections": true,
   "sideBar": true,
   "skip_h1_title": false,
   "title_cell": "Table of Contents",
   "title_sidebar": "Contents",
   "toc_cell": false,
   "toc_position": {},
   "toc_section_display": true,
   "toc_window_display": false
  }
 },
 "nbformat": 4,
 "nbformat_minor": 5
}
