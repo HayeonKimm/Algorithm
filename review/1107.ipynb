{
 "cells": [
  {
   "cell_type": "markdown",
   "id": "2d992d2f",
   "metadata": {},
   "source": [
    "DFS 깊이우선 탐색. \n",
    "멀리있는것부터 우선적으로 탐색한다.\n",
    "\n",
    "BFS 너비우선탐색.\n",
    "가까운 것부터 우선적으로 탐색"
   ]
  },
  {
   "cell_type": "code",
   "execution_count": null,
   "id": "d4ae0414",
   "metadata": {},
   "outputs": [],
   "source": [
    "DFS는 스택구조이기 때문에,재귀함수를 이용해서 간결하게 해결가능하다."
   ]
  },
  {
   "cell_type": "code",
   "execution_count": 3,
   "id": "d6ae86f2",
   "metadata": {
    "ExecuteTime": {
     "end_time": "2021-11-07T07:27:46.917485Z",
     "start_time": "2021-11-07T07:27:46.886562Z"
    }
   },
   "outputs": [
    {
     "name": "stdout",
     "output_type": "stream",
     "text": [
      "1 2 7 6 8 3 4 5 "
     ]
    }
   ],
   "source": [
    "def dfs(graph,v,visited):\n",
    "    \n",
    "    visited[v]=True\n",
    "    print(v,end=' ')\n",
    "    \n",
    "    for i in graph[v]:\n",
    "        if not visited[i]:\n",
    "            dfs(graph,i,visited)\n",
    "\n",
    "\n",
    "graph = [\n",
    "    [],\n",
    "    [2,3,8],\n",
    "    [1,7],\n",
    "    [1,4,5],\n",
    "    [3,5],\n",
    "    [3,4],\n",
    "    [7],\n",
    "    [2,6,8],\n",
    "    [1,7] \n",
    "]\n",
    "\n",
    "visited = [False]*9\n",
    "\n",
    "dfs(graph,1,visited)"
   ]
  },
  {
   "cell_type": "markdown",
   "id": "88b37ae4",
   "metadata": {},
   "source": [
    "# 탐색문제.\n",
    "## 그래프를 통해 해결하자. (DFS)"
   ]
  },
  {
   "cell_type": "markdown",
   "id": "9648c77f",
   "metadata": {},
   "source": [
    "1. 특정한 지점의 주변 상,하,좌,우를 살펴본 뒤에 주변 지점 중에서 값이\n",
    "'0'이면서 아직 방문하지 않은 지점이 있다면 해당 지점을 방문한다.\n",
    "\n",
    "\n",
    "2. 방문한 지점에서 다시 상,하,좌,우를 살펴보면서 방문을 다시 진행하면,\n",
    "연결된 모든 지점을 방문할 수 있다.\n",
    "\n",
    "3. 1~2 번의 과정을 모든 노드에 반복하며 방문하지 않은 지점의 수를 센다."
   ]
  },
  {
   "cell_type": "markdown",
   "id": "c344b8aa",
   "metadata": {},
   "source": [
    "## 0이면서 아직 방문하지 않은 지점을 세는게 중요하다"
   ]
  },
  {
   "cell_type": "code",
   "execution_count": null,
   "id": "0e0a6b83",
   "metadata": {},
   "outputs": [],
   "source": [
    "#얼음을 얼릴 수 있는 지역의 수(묶음) 세기\n",
    "\n",
    "\n",
    "n,m = map(int,input().split())\n",
    "\n",
    "\n",
    "graph=[]\n",
    "\n",
    "for _ in range(a+1):\n",
    "    graph.append(list(map(int,input().split())))\n",
    "    \n",
    "def dfs(x,y):\n",
    "    # 주어진 범위를 벗어나는 경우에는 즉시 종료\n",
    "    if x<= -1 or x>=n or y<= -1 or y>= m:\n",
    "        return False\n",
    "    \n",
    "    # 현재 노드를 아직 방문하지 않았다면\n",
    "    if graph[x][y]==0:\n",
    "        #방문처리\n",
    "        graph[x][y]=1\n",
    "        \n",
    "        # 상 ,하 ,좌 ,우의 위치도 모두 재귀적으로 호출\n",
    "        \n",
    "        dfs(x-1,y)\n",
    "        dfs(x,y-1)\n",
    "        dfs(x+1,y)\n",
    "        dfs(x,y+1)\n",
    "        \n",
    "        return True\n",
    "    \n",
    "    return False\n",
    "\n",
    "\n",
    "#모든 노드(위치)에 대하여 음료수 채우기\n",
    "\n",
    "result=0\n",
    "for i in range(n):\n",
    "    for j in range(m):\n",
    "        \n",
    "        # 현재 위치에서 DFS 수행\n",
    "        \n",
    "        if dfs(i,j) == True:\n",
    "            result+=1\n",
    "            \n",
    "print(result)"
   ]
  },
  {
   "cell_type": "markdown",
   "id": "a82d20b0",
   "metadata": {},
   "source": [
    "## 아 한번 함수 돌리면 주변거까지 다 방문시키는구나!\n",
    "\n",
    "### 이 부분 알아차리는데 오래걸림"
   ]
  }
 ],
 "metadata": {
  "hide_input": false,
  "kernelspec": {
   "display_name": "Python 3 (ipykernel)",
   "language": "python",
   "name": "python3"
  },
  "language_info": {
   "codemirror_mode": {
    "name": "ipython",
    "version": 3
   },
   "file_extension": ".py",
   "mimetype": "text/x-python",
   "name": "python",
   "nbconvert_exporter": "python",
   "pygments_lexer": "ipython3",
   "version": "3.8.11"
  },
  "toc": {
   "base_numbering": 1,
   "nav_menu": {},
   "number_sections": true,
   "sideBar": true,
   "skip_h1_title": false,
   "title_cell": "Table of Contents",
   "title_sidebar": "Contents",
   "toc_cell": false,
   "toc_position": {},
   "toc_section_display": true,
   "toc_window_display": false
  }
 },
 "nbformat": 4,
 "nbformat_minor": 5
}
