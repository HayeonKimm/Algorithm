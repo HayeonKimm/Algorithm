{
 "cells": [
  {
   "cell_type": "markdown",
   "id": "1f37c77a",
   "metadata": {},
   "source": [
    "1213 복습"
   ]
  },
  {
   "cell_type": "code",
   "execution_count": 1,
   "id": "bb99ec54",
   "metadata": {
    "ExecuteTime": {
     "end_time": "2021-12-13T18:15:29.193480Z",
     "start_time": "2021-12-13T18:15:29.161564Z"
    }
   },
   "outputs": [],
   "source": [
    "#유효한 팰린드롬\n",
    "\n",
    "s = 'A man, a plan, a canal: Panama'\n",
    "# 출력 : True"
   ]
  },
  {
   "cell_type": "code",
   "execution_count": 7,
   "id": "4599123f",
   "metadata": {
    "ExecuteTime": {
     "end_time": "2021-12-13T18:20:39.831637Z",
     "start_time": "2021-12-13T18:20:39.801120Z"
    }
   },
   "outputs": [
    {
     "name": "stdout",
     "output_type": "stream",
     "text": [
      "true\n",
      "true\n",
      "true\n",
      "true\n",
      "true\n",
      "true\n",
      "true\n",
      "true\n",
      "true\n",
      "true\n"
     ]
    }
   ],
   "source": [
    "# 데크 자료형을 이용한 버전\n",
    "\n",
    "from collections import deque\n",
    "\n",
    "strs = deque()\n",
    "\n",
    "# 글자만 분류\n",
    "\n",
    "for char in s:\n",
    "    if char.isalnum():\n",
    "        strs.append(char.lower()) # char을 소문자화해서 추가\n",
    "        \n",
    "while len(strs)>1:\n",
    "    \n",
    "    if strs.popleft() != strs.pop():\n",
    "        print('false')\n",
    "        \n",
    "    else:\n",
    "        print('true')"
   ]
  },
  {
   "cell_type": "code",
   "execution_count": 10,
   "id": "82358167",
   "metadata": {
    "ExecuteTime": {
     "end_time": "2021-12-13T18:24:34.853386Z",
     "start_time": "2021-12-13T18:24:34.822932Z"
    }
   },
   "outputs": [
    {
     "data": {
      "text/plain": [
       "True"
      ]
     },
     "execution_count": 10,
     "metadata": {},
     "output_type": "execute_result"
    }
   ],
   "source": [
    "# 슬라이싱 사용\n",
    "import re\n",
    "\n",
    "def ispali(s):\n",
    "    \n",
    "    s=s.lower()\n",
    "    # 정규식으로 불필요한 문자 필터링\n",
    "    s= re.sub('[^a-z0-9]','',s) # 영문자, 숫자가 아닌건 공백으로 처리\n",
    "    \n",
    "    return s==s[::-1]\n",
    "\n",
    "ispali(s)"
   ]
  },
  {
   "cell_type": "code",
   "execution_count": 24,
   "id": "bf8ca09e",
   "metadata": {
    "ExecuteTime": {
     "end_time": "2021-12-13T18:27:43.650010Z",
     "start_time": "2021-12-13T18:27:43.629071Z"
    }
   },
   "outputs": [],
   "source": [
    "# 문자열 뒤집기\n",
    "\n",
    "s=['h','e','l','l','o']"
   ]
  },
  {
   "cell_type": "code",
   "execution_count": 16,
   "id": "41903c75",
   "metadata": {
    "ExecuteTime": {
     "end_time": "2021-12-13T18:26:51.434385Z",
     "start_time": "2021-12-13T18:26:51.420423Z"
    }
   },
   "outputs": [
    {
     "name": "stdout",
     "output_type": "stream",
     "text": [
      "['o', 'l', 'l', 'e', 'h']\n"
     ]
    }
   ],
   "source": [
    "# 투 포인터\n",
    "\n",
    "left, right = 0, len(s)-1\n",
    "\n",
    "while left<right:\n",
    "    \n",
    "    s[left],s[right]=s[right],s[left]\n",
    "    left+=1\n",
    "    right-=1\n",
    "\n",
    "    \n",
    "print(s)"
   ]
  },
  {
   "cell_type": "code",
   "execution_count": 25,
   "id": "25a12105",
   "metadata": {
    "ExecuteTime": {
     "end_time": "2021-12-13T18:27:47.977656Z",
     "start_time": "2021-12-13T18:27:47.954717Z"
    }
   },
   "outputs": [
    {
     "name": "stdout",
     "output_type": "stream",
     "text": [
      "['o', 'l', 'l', 'e', 'h']\n"
     ]
    }
   ],
   "source": [
    "# 파이썬 다운 방식\n",
    "\n",
    "s.reverse()\n",
    "print(s)"
   ]
  },
  {
   "cell_type": "code",
   "execution_count": 19,
   "id": "25d38398",
   "metadata": {
    "ExecuteTime": {
     "end_time": "2021-12-13T18:27:12.617186Z",
     "start_time": "2021-12-13T18:27:12.595167Z"
    }
   },
   "outputs": [
    {
     "data": {
      "text/plain": [
       "['h', 'e', 'l', 'l', 'o']"
      ]
     },
     "execution_count": 19,
     "metadata": {},
     "output_type": "execute_result"
    }
   ],
   "source": [
    "s"
   ]
  },
  {
   "cell_type": "code",
   "execution_count": 35,
   "id": "53f50a11",
   "metadata": {
    "ExecuteTime": {
     "end_time": "2021-12-13T18:36:38.531926Z",
     "start_time": "2021-12-13T18:36:38.515970Z"
    }
   },
   "outputs": [],
   "source": [
    "# 로그 파일 재정렬\n",
    "\n",
    "logs = ['dig1 8 1 5 1','let1 art can','dog2 3 6','let2 own kit dig','let3 art zero']"
   ]
  },
  {
   "cell_type": "code",
   "execution_count": 38,
   "id": "6f7e677b",
   "metadata": {
    "ExecuteTime": {
     "end_time": "2021-12-13T18:38:21.621960Z",
     "start_time": "2021-12-13T18:38:21.603970Z"
    }
   },
   "outputs": [
    {
     "name": "stdout",
     "output_type": "stream",
     "text": [
      "['let1 art can', 'let3 art zero', 'let2 own kit dig', 'dig1 8 1 5 1', 'dog2 3 6']\n"
     ]
    }
   ],
   "source": [
    "letter=[]\n",
    "nums=[]\n",
    "\n",
    "for log in logs:\n",
    "\n",
    "    if log.split()[1].isalpha():\n",
    "        letter.append(log)\n",
    "    else:\n",
    "        nums.append(log)\n",
    "        \n",
    "\n",
    "letter.sort(key=lambda x: (x.split()[1:],x.split()[0]))\n",
    "\n",
    "print(letter+nums)"
   ]
  },
  {
   "cell_type": "code",
   "execution_count": 48,
   "id": "b487ea87",
   "metadata": {
    "ExecuteTime": {
     "end_time": "2021-12-13T18:44:07.385507Z",
     "start_time": "2021-12-13T18:44:07.368186Z"
    }
   },
   "outputs": [],
   "source": [
    "# 가장 흔한 단어 찾기\n",
    "\n",
    "paragraph = 'Bob hit a ball, the hit Ball flew far after it was hit'\n",
    "banned=['hit']"
   ]
  },
  {
   "cell_type": "code",
   "execution_count": 49,
   "id": "dfb38acb",
   "metadata": {
    "ExecuteTime": {
     "end_time": "2021-12-13T18:44:07.723658Z",
     "start_time": "2021-12-13T18:44:07.698749Z"
    }
   },
   "outputs": [
    {
     "data": {
      "text/plain": [
       "['bob', 'a', 'ball', 'the', 'ball', 'flew', 'far', 'after', 'it', 'was']"
      ]
     },
     "execution_count": 49,
     "metadata": {},
     "output_type": "execute_result"
    }
   ],
   "source": [
    "# 리스트 컴프리헨션, Counter 객체 사용\n",
    "\n",
    "words = [word for word in re.sub(r'[^\\w]',' ',paragraph)\n",
    "                                 .lower().split() if word not in banned]\n",
    "         \n",
    "words"
   ]
  },
  {
   "cell_type": "code",
   "execution_count": 51,
   "id": "e78c8395",
   "metadata": {
    "ExecuteTime": {
     "end_time": "2021-12-13T18:45:16.350246Z",
     "start_time": "2021-12-13T18:45:16.333156Z"
    }
   },
   "outputs": [],
   "source": [
    "from collections import defaultdict\n",
    "\n",
    "counts = defaultdict(int)\n",
    "\n",
    "for word in words:\n",
    "    \n",
    "    counts[word]+=1"
   ]
  },
  {
   "cell_type": "code",
   "execution_count": 61,
   "id": "b0dee1d9",
   "metadata": {
    "ExecuteTime": {
     "end_time": "2021-12-13T18:48:13.242432Z",
     "start_time": "2021-12-13T18:48:13.216727Z"
    }
   },
   "outputs": [
    {
     "name": "stdout",
     "output_type": "stream",
     "text": [
      "ball\n"
     ]
    }
   ],
   "source": [
    "print(max(counts, key=counts.get))"
   ]
  },
  {
   "cell_type": "code",
   "execution_count": 64,
   "id": "55617eba",
   "metadata": {
    "ExecuteTime": {
     "end_time": "2021-12-13T18:49:11.719934Z",
     "start_time": "2021-12-13T18:49:11.708370Z"
    }
   },
   "outputs": [
    {
     "name": "stdout",
     "output_type": "stream",
     "text": [
      "ball\n"
     ]
    }
   ],
   "source": [
    "# 다른 버전\n",
    "\n",
    "import collections\n",
    "\n",
    "\n",
    "counts2 = collections.Counter(words)\n",
    "\n",
    "print(counts2.most_common(1)[0][0])"
   ]
  },
  {
   "cell_type": "code",
   "execution_count": 74,
   "id": "1bd073f7",
   "metadata": {
    "ExecuteTime": {
     "end_time": "2021-12-13T19:11:18.592227Z",
     "start_time": "2021-12-13T19:11:18.574226Z"
    }
   },
   "outputs": [],
   "source": [
    "# 가장 긴 팰린드롬 부분 문자열을 출력하라\n",
    "\n",
    "s = 'babad'\n",
    "#출력 = ''bab"
   ]
  },
  {
   "cell_type": "code",
   "execution_count": 75,
   "id": "611b1404",
   "metadata": {
    "ExecuteTime": {
     "end_time": "2021-12-13T19:11:18.810323Z",
     "start_time": "2021-12-13T19:11:18.794289Z"
    }
   },
   "outputs": [
    {
     "data": {
      "text/plain": [
       "5"
      ]
     },
     "execution_count": 75,
     "metadata": {},
     "output_type": "execute_result"
    }
   ],
   "source": [
    "len(s)"
   ]
  },
  {
   "cell_type": "code",
   "execution_count": 89,
   "id": "e91b4f69",
   "metadata": {
    "ExecuteTime": {
     "end_time": "2021-12-13T19:15:44.908830Z",
     "start_time": "2021-12-13T19:15:44.884468Z"
    }
   },
   "outputs": [],
   "source": [
    "# 투 포인터 풀이\n",
    "\n",
    "def long(s):\n",
    "    \n",
    "    def expand(left,right):\n",
    "        \n",
    "        while left>=0 and right < len(s) and s[left]==s[right]:\n",
    "            \n",
    "            left-=1\n",
    "            right+=1\n",
    "            \n",
    "        return s[left+1:right]\n",
    "            \n",
    "    # 해당 사항이 없을 때 빠르게 리턴\n",
    "    \n",
    "    if len(s)<2 or s==s[::-1]:\n",
    "        return s\n",
    "    \n",
    "    result=''\n",
    "    \n",
    "    # 슬라이딩 윈도우 우측으로 이동\n",
    "    for i in range(len(s)-1):\n",
    "        \n",
    "        result=max(result,\n",
    "                  expand(i,i+1), # 짝수 포인터\n",
    "                  expand(i,i+2),\n",
    "                  key=len)\n",
    "        \n",
    "    return result"
   ]
  },
  {
   "cell_type": "code",
   "execution_count": 91,
   "id": "b0d07b58",
   "metadata": {
    "ExecuteTime": {
     "end_time": "2021-12-13T19:15:50.772874Z",
     "start_time": "2021-12-13T19:15:50.755961Z"
    }
   },
   "outputs": [
    {
     "data": {
      "text/plain": [
       "'bab'"
      ]
     },
     "execution_count": 91,
     "metadata": {},
     "output_type": "execute_result"
    }
   ],
   "source": [
    "long(s)"
   ]
  },
  {
   "cell_type": "code",
   "execution_count": 96,
   "id": "f197a524",
   "metadata": {
    "ExecuteTime": {
     "end_time": "2021-12-13T19:20:22.989819Z",
     "start_time": "2021-12-13T19:20:22.967504Z"
    }
   },
   "outputs": [],
   "source": [
    "# 복습\n",
    "\n",
    "def long(s):\n",
    "    \n",
    "    def expand(left,right):\n",
    "        \n",
    "        while left>=0 and right<len(s) and s[left]==s[right]:\n",
    "            \n",
    "            left-=1\n",
    "            right+=1\n",
    "        \n",
    "        return s[left+1:right]\n",
    "    \n",
    "    if len(s)<2 or s==s[::-1]:\n",
    "        return s\n",
    "    \n",
    "    result=''\n",
    "    \n",
    "    for i in range(len(s)-1):\n",
    "        \n",
    "        result= max(result,\n",
    "                   expand(i,i+1),\n",
    "                   expand(i,i+2),\n",
    "                   key=len)\n",
    "        \n",
    "    return result"
   ]
  },
  {
   "cell_type": "code",
   "execution_count": 97,
   "id": "baf9965a",
   "metadata": {
    "ExecuteTime": {
     "end_time": "2021-12-13T19:20:23.377898Z",
     "start_time": "2021-12-13T19:20:23.363874Z"
    }
   },
   "outputs": [
    {
     "data": {
      "text/plain": [
       "'bab'"
      ]
     },
     "execution_count": 97,
     "metadata": {},
     "output_type": "execute_result"
    }
   ],
   "source": [
    "long(s)"
   ]
  }
 ],
 "metadata": {
  "hide_input": false,
  "kernelspec": {
   "display_name": "Python 3 (ipykernel)",
   "language": "python",
   "name": "python3"
  },
  "language_info": {
   "codemirror_mode": {
    "name": "ipython",
    "version": 3
   },
   "file_extension": ".py",
   "mimetype": "text/x-python",
   "name": "python",
   "nbconvert_exporter": "python",
   "pygments_lexer": "ipython3",
   "version": "3.8.11"
  }
 },
 "nbformat": 4,
 "nbformat_minor": 5
}
