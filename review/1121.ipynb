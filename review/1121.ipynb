{
  "nbformat": 4,
  "nbformat_minor": 0,
  "metadata": {
    "colab": {
      "name": "1121.ipynb",
      "provenance": [],
      "collapsed_sections": [
        "xKz-4foSTtqB"
      ]
    },
    "kernelspec": {
      "name": "python3",
      "display_name": "Python 3"
    },
    "language_info": {
      "name": "python"
    }
  },
  "cells": [
    {
      "cell_type": "markdown",
      "metadata": {
        "id": "xKz-4foSTtqB"
      },
      "source": [
        "# 1121 복습"
      ]
    },
    {
      "cell_type": "markdown",
      "metadata": {
        "id": "nRwThP6hTx1G"
      },
      "source": [
        "# 모험가 길드 "
      ]
    },
    {
      "cell_type": "code",
      "metadata": {
        "colab": {
          "base_uri": "https://localhost:8080/"
        },
        "id": "X6jM1tRA_Hvv",
        "outputId": "1bf0870f-cd72-48a4-c9f9-b4e2e3428fb6"
      },
      "source": [
        "# 공포도. 공포도 이상 사람이면 x\n",
        "# 모든 모험가가 들어갈 필요는 없다.\n",
        "\n",
        "n = int(input())\n",
        "\n",
        "s = list(map(int,input().split()))\n",
        "s.sort()\n",
        "count=0\n",
        "result=0\n",
        "\n",
        "for i in s:\n",
        "  count+=1\n",
        "  # result+=i\n",
        "\n",
        "  if i>=count:\n",
        "    result+=1\n",
        "\n",
        "\n",
        "print(result)\n"
      ],
      "execution_count": 4,
      "outputs": [
        {
          "output_type": "stream",
          "name": "stdout",
          "text": [
            "5\n",
            "2 3 1 2 2\n",
            "2\n"
          ]
        }
      ]
    },
    {
      "cell_type": "markdown",
      "metadata": {
        "id": "ZDQsx27DAH7r"
      },
      "source": [
        "# 문자열 뒤집기"
      ]
    },
    {
      "cell_type": "markdown",
      "metadata": {
        "id": "Mo5_L3O6AjCk"
      },
      "source": [
        "다솜이는 0과 1로만 이루어진 문자열 s를 가지고 있습니다. 다솜이는 이 문자열 s에 있는 모든 숫자를 전부 같게 만들려고 합니다. \n",
        "\n",
        "다솜이가 할 수 있는 행동은 s에서 연속된 하나 이상의 숫자를 잡고 모두 뒤집는 것입니다. 뒤집는 것은 1을 0으로, 0을 1로 바꾸는 것을 의미합니다.\n",
        "\n",
        "예를 들어 s =0001100 일때는  다음과 같습니다.\n",
        "\n",
        "1. 전체를 뒤집으면 1110011이 됩니다.\n",
        "2. 4번째 문자부터 5번째 문자까지 뒤집으면 1111111이 되어서 두 번 만에 모두 같은 숫자로 만들 수 있습니다.\n",
        "\n",
        "하지만, 처음부터 4번째 문자부터 5번째 문자까지 문자를 뒤집으면 한 번에 0000000이 되어서 1번 만에 모두 같은 숫자로 만들 수 있습니다\n",
        "\n",
        "\n",
        "```\n",
        "문자열 s가 주어졌을 때, 다솜이가 해야 하는 행동의 최소 횟수를 출력하세요.\n",
        "\n",
        "```"
      ]
    },
    {
      "cell_type": "code",
      "metadata": {
        "id": "8pob2yW736Sw"
      },
      "source": [
        ""
      ],
      "execution_count": null,
      "outputs": []
    },
    {
      "cell_type": "code",
      "metadata": {
        "id": "gomvIacl36PZ"
      },
      "source": [
        ""
      ],
      "execution_count": null,
      "outputs": []
    },
    {
      "cell_type": "code",
      "metadata": {
        "colab": {
          "base_uri": "https://localhost:8080/"
        },
        "id": "EAswxs0l36MA",
        "outputId": "7abcdb3d-31b6-4a32-eedd-1114ed01ae13"
      },
      "source": [
        "data = input()\n",
        "\n",
        "count0=0\n",
        "count1=0\n",
        "\n",
        "if data[0] =='1':\n",
        "\n",
        "  count0+=1\n",
        "\n",
        "else:\n",
        "\n",
        "  count1+=1\n",
        "\n",
        "\n",
        "for i in range(len(data)-1):\n",
        "\n",
        "  if data[i]!=data[i+1]:\n",
        "\n",
        "    if data[i+1] == '1':\n",
        "\n",
        "      count0+=1\n",
        "\n",
        "    else:\n",
        "      count1+=1\n",
        "\n",
        "\n",
        "print(min(count0,count1))\n"
      ],
      "execution_count": 3,
      "outputs": [
        {
          "output_type": "stream",
          "name": "stdout",
          "text": [
            "0001100\n",
            "1\n"
          ]
        }
      ]
    },
    {
      "cell_type": "code",
      "metadata": {
        "id": "vPp1-Iie36H7"
      },
      "source": [
        ""
      ],
      "execution_count": null,
      "outputs": []
    },
    {
      "cell_type": "code",
      "metadata": {
        "id": "FKS5nrIH36D4"
      },
      "source": [
        ""
      ],
      "execution_count": null,
      "outputs": []
    },
    {
      "cell_type": "code",
      "metadata": {
        "id": "hPjx6ELd35yC"
      },
      "source": [
        ""
      ],
      "execution_count": null,
      "outputs": []
    },
    {
      "cell_type": "code",
      "metadata": {
        "id": "idI_ApkF35S3"
      },
      "source": [
        ""
      ],
      "execution_count": null,
      "outputs": []
    },
    {
      "cell_type": "code",
      "metadata": {
        "colab": {
          "base_uri": "https://localhost:8080/"
        },
        "id": "7wxu3wyW0zl9",
        "outputId": "60253aa8-e9bf-4766-f1cd-6a3ef693cbf7"
      },
      "source": [
        "data = input()\n",
        "\n",
        "count0=0 # 전부 0으로 바꾸는 경우\n",
        "count1=0 # 전부 1으로 바꾸는 경우\n",
        "\n",
        "\n",
        "if data[0]==0:\n",
        "  count1+=1\n",
        "\n",
        "else:\n",
        "\n",
        "  count0+=1\n",
        "\n",
        "for i in range(len(data)-1):\n",
        "\n",
        "  if data[i] != data[i+1]:  \n",
        "\n",
        "    if data[i+1]==1:  # data[i+1]값이 1이면 0으로 바꿔야하는 경우가 하나 더 증가한거다.\n",
        "      count0+=1\n",
        "\n",
        "    else:\n",
        "\n",
        "      count1+=1\n",
        "\n",
        "\n",
        "\n",
        "\n",
        "print(min(count0,count1))\n",
        "\n"
      ],
      "execution_count": 12,
      "outputs": [
        {
          "output_type": "stream",
          "name": "stdout",
          "text": [
            "0001100\n",
            "1\n"
          ]
        }
      ]
    },
    {
      "cell_type": "code",
      "metadata": {
        "id": "1q1GqnWK0zih"
      },
      "source": [
        ""
      ],
      "execution_count": null,
      "outputs": []
    },
    {
      "cell_type": "code",
      "metadata": {
        "id": "FV51ehOp0zeg"
      },
      "source": [
        ""
      ],
      "execution_count": null,
      "outputs": []
    },
    {
      "cell_type": "code",
      "metadata": {
        "id": "UslWfosr0zbF"
      },
      "source": [
        ""
      ],
      "execution_count": null,
      "outputs": []
    },
    {
      "cell_type": "code",
      "metadata": {
        "id": "ioosJ_eY0zXG"
      },
      "source": [
        ""
      ],
      "execution_count": null,
      "outputs": []
    },
    {
      "cell_type": "code",
      "metadata": {
        "id": "9Rynmxi40zSv"
      },
      "source": [
        ""
      ],
      "execution_count": null,
      "outputs": []
    },
    {
      "cell_type": "code",
      "metadata": {
        "id": "TpdDxjH80zOK"
      },
      "source": [
        ""
      ],
      "execution_count": null,
      "outputs": []
    },
    {
      "cell_type": "code",
      "metadata": {
        "id": "65KZsJ9j0zEf"
      },
      "source": [
        ""
      ],
      "execution_count": null,
      "outputs": []
    },
    {
      "cell_type": "code",
      "metadata": {
        "id": "VNKel_940yJA"
      },
      "source": [
        ""
      ],
      "execution_count": null,
      "outputs": []
    },
    {
      "cell_type": "markdown",
      "metadata": {
        "id": "z0UafmiADGKG"
      },
      "source": [
        "전부 0으로 바꾸는 경우와 전부 1로 바뀌는 경우 중에서 더 적은 횟수를 가지는 경우를 계산하면 된다."
      ]
    },
    {
      "cell_type": "code",
      "metadata": {
        "colab": {
          "base_uri": "https://localhost:8080/"
        },
        "id": "VcmArfBwBXoq",
        "outputId": "8a0b4e2b-7891-4d82-f9d3-1c39ca47cf06"
      },
      "source": [
        "data = input()\n",
        "\n",
        "count0=0 # 전부 0으로 바꾸는 경우\n",
        "count1=0 # 전부 1로 바꾸는 경우\n",
        "\n",
        "if data[0] == 0: # 첫 값은 왜 이렇게 셋팅할까?\n",
        "  count1+=1\n",
        "\n",
        "else:\n",
        "  count0+=1\n",
        "\n",
        "\n",
        "for dat in range(len(data)-1): # 두 개의 값씩 보니까 \n",
        "\n",
        "  if data[dat] != data[dat+1]:\n",
        "\n",
        "    if data[dat+1] == 1:\n",
        "      count0+=1\n",
        "\n",
        "    else:\n",
        "      count1+=1\n",
        "\n",
        "\n",
        "print(min(count0,count1))"
      ],
      "execution_count": 6,
      "outputs": [
        {
          "output_type": "stream",
          "name": "stdout",
          "text": [
            "0001100\n",
            "1\n"
          ]
        }
      ]
    },
    {
      "cell_type": "markdown",
      "metadata": {
        "id": "bbmwvAhtDR2Y"
      },
      "source": [
        "# 복습하자"
      ]
    }
  ]
}