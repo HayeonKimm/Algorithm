{
 "cells": [
  {
   "cell_type": "markdown",
   "id": "e5f3a7b6",
   "metadata": {},
   "source": [
    "# 그리디"
   ]
  },
  {
   "cell_type": "markdown",
   "id": "48aaea4d",
   "metadata": {},
   "source": [
    "탐욕적 프로그래밍."
   ]
  },
  {
   "cell_type": "code",
   "execution_count": 2,
   "id": "98dc21ae",
   "metadata": {
    "ExecuteTime": {
     "end_time": "2021-11-10T12:13:08.241247Z",
     "start_time": "2021-11-10T12:13:08.228314Z"
    }
   },
   "outputs": [
    {
     "name": "stdout",
     "output_type": "stream",
     "text": [
      "6\n"
     ]
    }
   ],
   "source": [
    "n = 1260\n",
    "\n",
    "coin_index = [500,100,50,10]\n",
    "count=0\n",
    "\n",
    "for i in coin_index:\n",
    "    \n",
    "    count+=n//i\n",
    "    n=n%i\n",
    "    \n",
    "    \n",
    "print(count)"
   ]
  },
  {
   "cell_type": "code",
   "execution_count": 8,
   "id": "13cf6aa2",
   "metadata": {
    "ExecuteTime": {
     "end_time": "2021-11-10T12:21:13.613384Z",
     "start_time": "2021-11-10T12:21:08.121766Z"
    }
   },
   "outputs": [
    {
     "name": "stdout",
     "output_type": "stream",
     "text": [
      "5 8 3\n",
      "2 4 5 4 6\n",
      "46\n"
     ]
    }
   ],
   "source": [
    "# 큰 수의 법칙\n",
    "\n",
    "n,m,k = map(int,input().split())\n",
    "\n",
    "a=list(map(int,input().split()))\n",
    "\n",
    "\n",
    "a.sort()\n",
    "first=a[-1] # :는 스트링때 가능하다.\n",
    "second=a[-2]\n",
    "\n",
    "result=0\n",
    "\n",
    "while m!=0:\n",
    "    \n",
    "    for i in range(k):\n",
    "        result+=first\n",
    "        m-=1\n",
    "        \n",
    "    \n",
    "    result+=second\n",
    "    m-=1\n",
    "    \n",
    "print(result)\n",
    "    \n",
    "    \n",
    "    \n",
    "    \n",
    "\n",
    "\n",
    "\n"
   ]
  },
  {
   "cell_type": "code",
   "execution_count": 10,
   "id": "903ffe14",
   "metadata": {
    "ExecuteTime": {
     "end_time": "2021-11-10T12:26:09.158664Z",
     "start_time": "2021-11-10T12:26:01.136112Z"
    }
   },
   "outputs": [
    {
     "name": "stdout",
     "output_type": "stream",
     "text": [
      "2 4\n",
      "7 3 1 8\n",
      "3 3 3 4\n",
      "3\n"
     ]
    }
   ],
   "source": [
    "# 숫자카드 게임\n",
    "\n",
    "n,m = map(int,input().split())\n",
    "\n",
    "result=0\n",
    "\n",
    "for i in range(n):\n",
    "\n",
    "    ax=list(map(int,input().split()))\n",
    "    \n",
    "    min_ = min(ax)\n",
    "    \n",
    "    result = max(result,min_)\n",
    "    \n",
    "    \n",
    "print(result)"
   ]
  },
  {
   "cell_type": "markdown",
   "id": "aecca1d4",
   "metadata": {},
   "source": [
    "# 구현"
   ]
  },
  {
   "cell_type": "code",
   "execution_count": 12,
   "id": "1104154b",
   "metadata": {
    "ExecuteTime": {
     "end_time": "2021-11-10T12:35:53.834552Z",
     "start_time": "2021-11-10T12:35:46.956707Z"
    }
   },
   "outputs": [
    {
     "name": "stdout",
     "output_type": "stream",
     "text": [
      "5\n",
      "R R R U D D\n",
      "3 4\n"
     ]
    }
   ],
   "source": [
    "# 상하좌우\n",
    "\n",
    "n = int(input())\n",
    "plans = input().split()\n",
    "\n",
    "\n",
    "x,y = 1,1\n",
    "\n",
    "box = ['L','R','U','D']\n",
    "box_x = [0,0,-1,1] \n",
    "box_y = [-1,1,0,0]\n",
    "\n",
    "for plan in plans:\n",
    "    for i in range(len(box)):\n",
    "        \n",
    "        if plan == box[i]:\n",
    "            dx = x+box_x[i]\n",
    "            dy = y+box_y[i]\n",
    "            \n",
    "            if dx<1 or dy<1 or dx>n or dy>n:\n",
    "                \n",
    "                continue\n",
    "                \n",
    "            else:\n",
    "                \n",
    "                x,y = dx,dy\n",
    "                \n",
    "                \n",
    "print(x,y)\n",
    "        \n",
    "\n"
   ]
  },
  {
   "cell_type": "code",
   "execution_count": 14,
   "id": "aa18f319",
   "metadata": {
    "ExecuteTime": {
     "end_time": "2021-11-10T12:38:48.938828Z",
     "start_time": "2021-11-10T12:38:48.231228Z"
    }
   },
   "outputs": [
    {
     "name": "stdout",
     "output_type": "stream",
     "text": [
      "5\n",
      "11475\n"
     ]
    }
   ],
   "source": [
    "# 시각\n",
    "\n",
    "# 정수 n이 입력되면 00시 00분 00초부터 n시 59분 59초까지의 모든 시각 중에서 3이 하나라도 포함되는 모든 경우의 수를 구하는 프로그램을 작성하시오.\n",
    "\n",
    "# 예를 들어 1을 입력했을 때 다음은 3이 하나라도 포함되어 있으므로 세어야 하는 시각이다.\n",
    "\n",
    "\n",
    "n = int(input())\n",
    "count=0\n",
    "for i in range(n+1):\n",
    "    for j in range(60):\n",
    "        for k in range(60):\n",
    "            \n",
    "            if '3' in (str(i)+str(j)+str(k)):\n",
    "                count+=1\n",
    "                \n",
    "                \n",
    "print(count)"
   ]
  },
  {
   "cell_type": "code",
   "execution_count": 26,
   "id": "32bccf65",
   "metadata": {
    "ExecuteTime": {
     "end_time": "2021-11-10T13:45:38.473249Z",
     "start_time": "2021-11-10T13:45:25.120948Z"
    }
   },
   "outputs": [
    {
     "name": "stdout",
     "output_type": "stream",
     "text": [
      "4 4\n",
      "1 1 0\n",
      "1 1 1 1\n",
      "1 0 0 1\n",
      "1 1 0 1\n",
      "1 1 1 1\n",
      "3\n",
      "2\n",
      "1\n",
      "0\n",
      "3\n",
      "2\n",
      "1\n",
      "0\n",
      "3\n",
      "2\n",
      "1\n",
      "0\n",
      "3\n",
      "2\n",
      "3\n"
     ]
    }
   ],
   "source": [
    "# 게임개발\n",
    "\n",
    "\n",
    "n,m = map(int,input().split())\n",
    "\n",
    "d =[[0]*m for _ in range(n)]\n",
    "\n",
    "x,y,direction = map(int,input().split())  \n",
    "\n",
    "array=[]\n",
    "\n",
    "for i in range(n):\n",
    "    array.append(list(map(int,input().split())))\n",
    "\n",
    "    \n",
    "\n",
    "    \n",
    "d[x][y]=1\n",
    "\n",
    "dx=[-1,0,1,0]\n",
    "dy=[0,1,0,-1]\n",
    "\n",
    "\n",
    "\n",
    "def turn_left():\n",
    "\n",
    "    global direction\n",
    "\n",
    "    direction-=1\n",
    "    if direction == -1:\n",
    "        direction=3\n",
    "        \n",
    "count=1\n",
    "turn_time=0\n",
    "\n",
    "while True:\n",
    "    \n",
    "    turn_left()\n",
    "    print(direction)\n",
    "    nx=x+dx[direction]\n",
    "    ny=y+dy[direction]\n",
    "\n",
    "    \n",
    "    if d[nx][ny]==0 and array[nx][ny]==0:\n",
    "        \n",
    "\n",
    "           \n",
    "        d[nx][ny]=1\n",
    "        x,y=nx,ny\n",
    "        count+=1\n",
    "        turn_time=0\n",
    "        \n",
    "        continue\n",
    "    else:\n",
    "        \n",
    "        turn_time+=1\n",
    "        \n",
    "        \n",
    "    if turn_time == 4:\n",
    "        \n",
    "        nx=x-dx[direction]\n",
    "        ny=y-dy[direction]\n",
    "        \n",
    "        if array[nx][ny]==0:\n",
    "        \n",
    "            x,y  = nx,ny\n",
    "            \n",
    "        else:\n",
    "            break\n",
    "        \n",
    "        turn_time=0\n",
    "    \n",
    "print(count)\n",
    "            \n",
    "            \n",
    "        \n"
   ]
  },
  {
   "cell_type": "code",
   "execution_count": 28,
   "id": "47aff4fa",
   "metadata": {
    "ExecuteTime": {
     "end_time": "2021-11-10T14:05:55.096437Z",
     "start_time": "2021-11-10T14:05:44.815327Z"
    }
   },
   "outputs": [
    {
     "name": "stdout",
     "output_type": "stream",
     "text": [
      "4 4\n",
      "1 1 0\n",
      "1 1 1 1\n",
      "1 0 0 1\n",
      "1 1 0 1\n",
      "1 1 1 1\n",
      "3\n"
     ]
    }
   ],
   "source": [
    "n,m = map(int,input().split())\n",
    "\n",
    "x,y,direction = map(int,input().split())\n",
    "\n",
    "d = [[0]*m for _ in range(n)]\n",
    "\n",
    "d[x][y]=1\n",
    "\n",
    "array=[]\n",
    "\n",
    "for i in range(n):\n",
    "    array.append(list(map(int,input().split())))\n",
    "    \n",
    "dx = [-1,0,1,0]\n",
    "dy = [0,1,0,-1]\n",
    "\n",
    "def turn_left():\n",
    "    \n",
    "    global direction\n",
    "    direction-=1\n",
    "    if direction==-1:\n",
    "        direction=3\n",
    "        \n",
    "        \n",
    "count=1\n",
    "turn_num=0\n",
    "\n",
    "\n",
    "while True:\n",
    "    \n",
    "    turn_left()\n",
    "    nx=x+dx[direction]\n",
    "    ny=y+dy[direction]\n",
    "    \n",
    "    if d[nx][ny]==0 and array[nx][ny]==0:\n",
    "        \n",
    "        d[nx][ny]=1\n",
    "        x,y=nx,ny\n",
    "        count+=1\n",
    "        turn_num=0\n",
    "        \n",
    "    else:\n",
    "        \n",
    "        turn_num+=1\n",
    "        \n",
    "    if turn_num==4:\n",
    "            \n",
    "        nx=x-dx[direction]\n",
    "        ny=y-dy[direction]\n",
    "        \n",
    "        if array[nx][ny]==0:\n",
    "            \n",
    "            x,y=nx,ny\n",
    "            \n",
    "        else:\n",
    "            \n",
    "            break\n",
    "            \n",
    "            \n",
    "        turn_num=0\n",
    "        \n",
    "        \n",
    "print(count)\n",
    "            \n",
    "        \n",
    "        \n"
   ]
  },
  {
   "cell_type": "code",
   "execution_count": null,
   "id": "a40e8154",
   "metadata": {},
   "outputs": [],
   "source": []
  }
 ],
 "metadata": {
  "hide_input": false,
  "kernelspec": {
   "display_name": "Python 3 (ipykernel)",
   "language": "python",
   "name": "python3"
  },
  "language_info": {
   "codemirror_mode": {
    "name": "ipython",
    "version": 3
   },
   "file_extension": ".py",
   "mimetype": "text/x-python",
   "name": "python",
   "nbconvert_exporter": "python",
   "pygments_lexer": "ipython3",
   "version": "3.8.11"
  },
  "toc": {
   "base_numbering": 1,
   "nav_menu": {},
   "number_sections": true,
   "sideBar": true,
   "skip_h1_title": false,
   "title_cell": "Table of Contents",
   "title_sidebar": "Contents",
   "toc_cell": false,
   "toc_position": {},
   "toc_section_display": true,
   "toc_window_display": false
  }
 },
 "nbformat": 4,
 "nbformat_minor": 5
}
