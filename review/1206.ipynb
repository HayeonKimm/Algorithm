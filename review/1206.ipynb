{
  "nbformat": 4,
  "nbformat_minor": 0,
  "metadata": {
    "colab": {
      "name": "1206.ipynb",
      "provenance": [],
      "collapsed_sections": [],
      "authorship_tag": "ABX9TyObp2ctn0YcUENgDuhJG4ML",
      "include_colab_link": true
    },
    "kernelspec": {
      "display_name": "Python 3",
      "name": "python3"
    },
    "language_info": {
      "name": "python"
    }
  },
  "cells": [
    {
      "cell_type": "markdown",
      "metadata": {
        "id": "view-in-github",
        "colab_type": "text"
      },
      "source": [
        "<a href=\"https://colab.research.google.com/github/HayeonKimm/Algorithm-Note/blob/master/review/1206.ipynb\" target=\"_parent\"><img src=\"https://colab.research.google.com/assets/colab-badge.svg\" alt=\"Open In Colab\"/></a>"
      ]
    },
    {
      "cell_type": "markdown",
      "metadata": {
        "id": "pD99U_27cYJp"
      },
      "source": [
        "1157 단어공부 백준"
      ]
    },
    {
      "cell_type": "code",
      "metadata": {
        "id": "sjmO2WPecDNW"
      },
      "source": [
        "n=input().upper()\n",
        "\n",
        "word=list(set(n))\n",
        "list_=[]\n",
        "\n",
        "for i in word:\n",
        "    \n",
        "    list_.append(n.count(i))\n",
        "    \n",
        "    \n",
        "if list_.count(max(list_))>1:\n",
        "    \n",
        "    print('?')\n",
        "    \n",
        "else:\n",
        "    print(word[list_.index(max(list_))])\n",
        "    \n",
        "    \n",
        "\n",
        "\n",
        "\n"
      ],
      "execution_count": null,
      "outputs": []
    },
    {
      "cell_type": "code",
      "metadata": {
        "id": "wRqf1jd8cFtN"
      },
      "source": [
        "n = input().upper()\n",
        "word=list(set(n))\n",
        "lst=[]\n",
        "\n",
        "for i in word:\n",
        "  \n",
        "  lst.append(n.count(i))\n",
        "\n",
        "if lst.count(max(lst))>1:\n",
        "  print('?')\n",
        "\n",
        "else:\n",
        "  \n",
        "  print(word[lst.index(max(lst))])"
      ],
      "execution_count": null,
      "outputs": []
    },
    {
      "cell_type": "markdown",
      "metadata": {
        "id": "-fSG7N9XtVjr"
      },
      "source": [
        "# 팰린드롬 \n",
        "## 예제"
      ]
    },
    {
      "cell_type": "code",
      "metadata": {
        "id": "sYea-5lv6P6t"
      },
      "source": [
        "6//2"
      ],
      "execution_count": null,
      "outputs": []
    },
    {
      "cell_type": "code",
      "metadata": {
        "id": "H7Ft_1UL6IA6"
      },
      "source": [
        "def solution(s):\n",
        "\n",
        "  for i in range(len(s)//2):\n",
        "    j = len(s) -1 -i\n",
        "\n",
        "    if s[i]!=s[j]:\n",
        "      return -1"
      ],
      "execution_count": null,
      "outputs": []
    },
    {
      "cell_type": "code",
      "metadata": {
        "id": "kfPiuKuz7TdB"
      },
      "source": [
        "print(solution('abcd'))"
      ],
      "execution_count": null,
      "outputs": []
    },
    {
      "cell_type": "code",
      "metadata": {
        "id": "aybDf9aZ7Vom"
      },
      "source": [
        "answer='aaa3'\n",
        "\n",
        "answer[3]"
      ],
      "execution_count": null,
      "outputs": []
    },
    {
      "cell_type": "code",
      "metadata": {
        "id": "YDPkzGvM6bSG"
      },
      "source": [
        "answer='.'"
      ],
      "execution_count": null,
      "outputs": []
    },
    {
      "cell_type": "code",
      "metadata": {
        "id": "CVXtE_6X1--b"
      },
      "source": [
        "    # answer=answer[1:] if answer[0]=='.' and len(answer)>1 else answer  # len(answer)>1 조건을 안넣으면 사라져버린다.\n",
        "    answer=answer[:-1] if answer[-1]=='.' else answer"
      ],
      "execution_count": null,
      "outputs": []
    },
    {
      "cell_type": "code",
      "metadata": {
        "id": "bh5tdyvh6g5G"
      },
      "source": [
        "answer"
      ],
      "execution_count": null,
      "outputs": []
    },
    {
      "cell_type": "markdown",
      "metadata": {
        "id": "71mC9O_d7cNT"
      },
      "source": [
        "# 코딩테스트 연습\n",
        "## 2021 KAKAO BLIND RECRUITMENT\n",
        "### 신규 아이디 추천\n"
      ]
    },
    {
      "cell_type": "code",
      "metadata": {
        "id": "wEcoa4B57abP"
      },
      "source": [
        "https://programmers.co.kr/learn/courses/30/lessons/72410"
      ],
      "execution_count": null,
      "outputs": []
    },
    {
      "cell_type": "code",
      "metadata": {
        "id": "mmwVKYBo6ixp"
      },
      "source": [
        "def solution(new_id):\n",
        "    \n",
        "    \n",
        "    answer=''\n",
        "    \n",
        "    \n",
        "    new_id=new_id.lower()\n",
        "    \n",
        "    \n",
        "    for i in new_id:\n",
        "        \n",
        "        if i.isalnum() or i in '-_.':\n",
        "            \n",
        "            answer+=i\n",
        "            \n",
        "    while '..' in answer:\n",
        "            \n",
        "        answer=answer.replace('..','.')\n",
        "        \n",
        "        \n",
        "        \n",
        "        \n",
        "    answer=answer[1:] if answer[0]=='.' and len(answer)>1 else answer \n",
        "    answer=answer[:-1] if answer[-1]=='.' else answer\n",
        "    \n",
        "    \n",
        "    \n",
        "    if answer[-1]=='.' and len(answer)>1:\n",
        "        answer=answer[:-1]\n",
        "        \n",
        "    else:\n",
        "        pass\n",
        "        \n",
        "\n",
        "        \n",
        "        \n",
        "    if answer[0]=='.':\n",
        "        answer=answer[1:]\n",
        "        \n",
        "    else:\n",
        "        \n",
        "        pass\n",
        "\n",
        "        \n",
        "        \n",
        "        \n",
        "        \n",
        "    if len(answer)==0:\n",
        "        answer='a'\n",
        "        \n",
        "    if len(answer)>=16:\n",
        "        answer=answer[:15]\n",
        "        \n",
        "        if answer[-1]=='.':\n",
        "            answer = answer[:-1]\n",
        "            \n",
        "    if len(answer)<=2:\n",
        "        \n",
        "        \n",
        "        while len(answer)<3:\n",
        "            \n",
        "            answer+=answer[-1]\n",
        "        \n",
        "        \n",
        "    return answer\n",
        "        \n",
        "    \n",
        "    \n",
        "    \n",
        "    \n",
        "    \n",
        "    \n",
        "    \n",
        "    \n",
        "    \n",
        "    \n",
        "    \n",
        "    \n",
        "    \n",
        "    \n",
        "    \n",
        "    \n",
        "    \n",
        "#     # 1단계\n",
        "#     new_id = new_id.lower()\n",
        "    \n",
        "#     # 2단계\n",
        "#     for word in new_id:\n",
        "        \n",
        "#         if word.isalnum() or word in '-_.':\n",
        "#             answer+=word\n",
        "            \n",
        "#     # 3단계\n",
        "    \n",
        "#     while '..' in answer:\n",
        "#         answer = answer.replace('..','.')\n",
        "        \n",
        "#     # 4단계\n",
        "    \n",
        "#     answer=answer[1:] if answer[0]=='.' and len(answer)>1 else answer \n",
        "#     answer=answer[:-1] if answer[-1]=='.' else answer\n",
        "        \n",
        "#     # 5단계\n",
        "    \n",
        "#     if answer =='': \n",
        "#         answer+='a'\n",
        "        \n",
        "#     # 6단계\n",
        "    \n",
        "#     if len(answer)>=16:\n",
        "#         answer=answer[:15]\n",
        "        \n",
        "#         if answer[-1]=='.':\n",
        "#             answer=answer[:-1]\n",
        "            \n",
        "#     # 7단계\n",
        "\n",
        "#     while len(answer)<3:\n",
        "#         answer+= answer[-1]\n",
        "        \n",
        "            \n",
        "#     return answer"
      ],
      "execution_count": null,
      "outputs": []
    },
    {
      "cell_type": "markdown",
      "metadata": {
        "id": "Xp43VNoI9t59"
      },
      "source": [
        "# 코딩테스트 연습   \n",
        "\n",
        "2021 Dev-Matching: 웹 백엔드 개발자(상반기)   \n",
        "로또의 최고 순위와 최저 순위\n"
      ]
    },
    {
      "cell_type": "code",
      "metadata": {
        "id": "t8UsQbZu7f1x"
      },
      "source": [
        "def solution(lottos, win_nums):\n",
        "    \n",
        "    \n",
        "    score=7\n",
        "    \n",
        "    for x in lottos:\n",
        "        \n",
        "        if x in win_nums:\n",
        "            score-=1\n",
        "    # 0가 다맞았을때\n",
        "        if x==0:\n",
        "            \n",
        "            score-=1\n",
        "    if score>=7:\n",
        "        score=6\n",
        "            \n",
        "    a=score\n",
        "    \n",
        "    score=7\n",
        "    \n",
        "    for y in lottos:\n",
        "        \n",
        "        if y in win_nums:\n",
        "            score-=1\n",
        "            \n",
        "    if score>=7:\n",
        "        score=6\n",
        "            \n",
        "    b=score\n",
        "    \n",
        "    answer=[a,b]\n",
        "    \n",
        "    return answer\n",
        "        \n",
        "    \n",
        "    \n",
        "    \n",
        "    \n",
        "    \n",
        "    \n",
        "    \n",
        "    \n",
        "    \n",
        "    \n",
        "    \n",
        "    \n",
        "    \n",
        "    \n",
        "    \n",
        "    \n",
        "    \n",
        "    \n",
        "    \n",
        "    \n",
        "    \n",
        "    \n",
        "    \n",
        "    \n",
        "#     count=7\n",
        "#     list_=[]\n",
        "    \n",
        "#     for i in lottos:\n",
        "#         if i in win_nums: count-=1\n",
        "        \n",
        "#         elif i == 0: count-=1\n",
        "    \n",
        "#     if count>=6: list_.append(6)\n",
        "        \n",
        "#     else: list_.append(count)\n",
        "        \n",
        "        \n",
        "    \n",
        "#     count=7\n",
        "    \n",
        "#     for i in lottos:\n",
        "        \n",
        "#         if i in win_nums:count-=1\n",
        "#     if count>=6: list_.append(6)\n",
        "        \n",
        "#     else : list_.append(count)\n",
        "        \n",
        "#     return list_"
      ],
      "execution_count": null,
      "outputs": []
    },
    {
      "cell_type": "markdown",
      "metadata": {
        "id": "dhOjXLub-Xl7"
      },
      "source": [
        "코딩테스트 연습   \n",
        "연습문제   \n",
        "자릿수 더하기   "
      ]
    },
    {
      "cell_type": "code",
      "metadata": {
        "id": "Q_ANGSAy-WHG"
      },
      "source": [
        "def solution(n):\n",
        "    \n",
        "    count=0\n",
        "    \n",
        "    for i in str(n):\n",
        "        \n",
        "        count+=int(i)\n",
        "        \n",
        "    \n",
        "    \n",
        "    return count\n"
      ],
      "execution_count": null,
      "outputs": []
    },
    {
      "cell_type": "code",
      "metadata": {
        "id": "RX_DUUk--2Ry"
      },
      "source": [
        "round(2.5)"
      ],
      "execution_count": null,
      "outputs": []
    },
    {
      "cell_type": "code",
      "metadata": {
        "id": "bIfmEErQ-4pT"
      },
      "source": [
        "s=\"abcd\"\n",
        "\n",
        "# len(s)/2\n",
        "\n",
        "answer=s[int((len(s))/2)-1],s[int(len(s)/2)]\n",
        "\n",
        "print(answer)"
      ],
      "execution_count": null,
      "outputs": []
    },
    {
      "cell_type": "markdown",
      "metadata": {
        "id": "NrMZ4XjVEBdc"
      },
      "source": [
        "코딩테스트 연습   \n",
        "연습문제   \n",
        "가운데 글자 가져오기  "
      ]
    },
    {
      "cell_type": "markdown",
      "metadata": {
        "id": "gjYuh-FOEG1J"
      },
      "source": [
        "# 내가 짰던 코드. 테스트 케이스에서 한개가 안넘어간다."
      ]
    },
    {
      "cell_type": "code",
      "metadata": {
        "id": "HF-DCkfsECFj"
      },
      "source": [
        "def solution(s):\n",
        "        \n",
        "    \n",
        "    if len(s)>=3:\n",
        "    \n",
        "    \n",
        "        if len(s)%2!=0:\n",
        "\n",
        "            answer=s[int(round(len(s)/2))]\n",
        "\n",
        "\n",
        "\n",
        "        elif len(s)%2==0:\n",
        "\n",
        "            answer=s[int((len(s))/2)-1],s[int(len(s)/2)]\n",
        "            \n",
        "    else:\n",
        "        \n",
        "        answer=s\n",
        "        \n",
        "        \n",
        "\n",
        "    answer=''.join(answer)\n",
        "  \n",
        "        \n",
        "    \n",
        "        \n",
        "    \n",
        "    return answer"
      ],
      "execution_count": null,
      "outputs": []
    },
    {
      "cell_type": "markdown",
      "metadata": {
        "id": "OZ7JQoVlEKPF"
      },
      "source": [
        "# round, int를 걷어내고 //로 몫만 취하니 문제가 해결됐다."
      ]
    },
    {
      "cell_type": "code",
      "metadata": {
        "id": "XmrjNaMC_i_m"
      },
      "source": [
        "def solution(s):\n",
        "        \n",
        "    \n",
        "    if len(s)>=3:\n",
        "    \n",
        "    \n",
        "        if len(s)%2!=0:\n",
        "\n",
        "            answer=s[len(s)//2]\n",
        "\n",
        "\n",
        "\n",
        "        elif len(s)%2==0:\n",
        "\n",
        "            answer=s[(len(s)//2)-1],s[len(s)//2]\n",
        "            \n",
        "    else:\n",
        "        \n",
        "        answer=s\n",
        "        \n",
        "        \n",
        "\n",
        "    answer=''.join(answer)\n",
        "  \n",
        "        \n",
        "    \n",
        "        \n",
        "    \n",
        "    return answer"
      ],
      "execution_count": null,
      "outputs": []
    },
    {
      "cell_type": "code",
      "metadata": {
        "id": "6OXEtoM5FYUo"
      },
      "source": [
        "a=list(range(1,6))\n",
        "a"
      ],
      "execution_count": null,
      "outputs": []
    },
    {
      "cell_type": "code",
      "metadata": {
        "id": "XK73ya8yJIWa"
      },
      "source": [
        "answer=[1,2,3,4,5]"
      ],
      "execution_count": null,
      "outputs": []
    },
    {
      "cell_type": "code",
      "metadata": {
        "id": "Gf8nvPFDFcj-"
      },
      "source": [
        "def solution(answers):\n",
        "    # answer = []\n",
        "\n",
        "    count1=0\n",
        "    count2=0\n",
        "    count3=0\n",
        "    \n",
        "    \n",
        "    \n",
        "    person_1 =  [1,2,3,4,5]\n",
        "    person_2 =  [2,1,2,3,2,4,2,5]\n",
        "    person_3 =  [3,3,1,1,2,2,4,4,5,5]\n",
        "    \n",
        "    person=[1,2,3]\n",
        "    \n",
        "    \n",
        "    for idx,num in enumerate(answer):\n",
        "        \n",
        "        if num==person_1[idx]:\n",
        "            count1+=1\n",
        "            \n",
        "        elif num==person_2[idx]:\n",
        "            count2+=1\n",
        "            \n",
        "        elif num==person_3[idx]:\n",
        "            count3+=1\n",
        "        else:\n",
        "            pass\n",
        "    \n",
        "    aaa=[count1,count2,count3]\n",
        "\n",
        "    \n",
        "    \n",
        "    if len(max(aaa))==1:\n",
        "        return [person[max(aaa).index]]\n",
        "        \n",
        "    elif len(max(aaa))>=2:\n",
        "        \n",
        "        for i in range(1,len(person)+1):\n",
        "            \n",
        "            if person[i]==max(aaa).index():\n",
        "                \n",
        "                list_.append(i)\n",
        "                \n",
        "        return list_\n",
        "        \n",
        "    \n",
        "    \n"
      ],
      "execution_count": null,
      "outputs": []
    },
    {
      "cell_type": "code",
      "metadata": {
        "id": "siadZZ5GJPIK"
      },
      "source": [
        "aaa=list(count1,count2,count3)\n",
        "\n",
        "len(aaa)"
      ],
      "execution_count": null,
      "outputs": []
    },
    {
      "cell_type": "code",
      "metadata": {
        "id": "z5vbqdbzJSzw"
      },
      "source": [
        "# list_=[1,2,3,4,5]*2000\n",
        "# list_"
      ],
      "execution_count": null,
      "outputs": []
    },
    {
      "cell_type": "code",
      "metadata": {
        "id": "xS9-y8_lJV9w"
      },
      "source": [
        "solution(answer)"
      ],
      "execution_count": null,
      "outputs": []
    },
    {
      "cell_type": "code",
      "metadata": {
        "id": "GHtulJPtKd0E"
      },
      "source": [
        "a=[111,222,333]\n",
        "for idx,num in enumerate(a):\n",
        "  print(idx,num)"
      ],
      "execution_count": null,
      "outputs": []
    },
    {
      "cell_type": "code",
      "metadata": {
        "id": "OCIMFtfRMamh"
      },
      "source": [
        "print(6%8)"
      ],
      "execution_count": null,
      "outputs": []
    },
    {
      "cell_type": "markdown",
      "metadata": {
        "id": "BqMy6pJlddSn"
      },
      "source": [
        "##코딩테스트 연습\n",
        "##완전탐색\n",
        "##모의고사"
      ]
    },
    {
      "cell_type": "markdown",
      "metadata": {
        "id": "eSPsqKOidgaC"
      },
      "source": [
        "elif를 써서 답을 못찾았다. if로 그냥 쓰기. elif 로 값 오류 주의하자."
      ]
    },
    {
      "cell_type": "code",
      "metadata": {
        "id": "HEYVtGJ3UqEt"
      },
      "source": [
        "def sol(answers):\n",
        "\n",
        "  pat1 = [1,2,3,4,5]\n",
        "  pat2 = [2,1,2,3,2,4,2,5]\n",
        "  pat3 = [3,3,1,1,2,2,4,4,5,5]\n",
        "\n",
        "  score=[0,0,0]\n",
        "  result=[]\n",
        "\n",
        "  for idx, num in enumerate(answers):\n",
        "\n",
        "    if num == pat1[idx%len(pat1)]:\n",
        "      score[0]+=1\n",
        "\n",
        "    if num ==pat2[idx%len(pat2)]:\n",
        "      score[1]+=1\n",
        "\n",
        "    if num == pat3[idx%len(pat3)]:\n",
        "      score[2]+=1\n",
        "\n",
        "    \n",
        "  for id,number in enumerate(score):\n",
        "\n",
        "    if number==max(score):\n",
        "      result.append(id+1)\n",
        "\n",
        "  return result\n",
        "      \n"
      ],
      "execution_count": null,
      "outputs": []
    },
    {
      "cell_type": "code",
      "metadata": {
        "id": "caLA7O7wZ8uY"
      },
      "source": [
        "answer=[1,3,2,4,2]\t"
      ],
      "execution_count": null,
      "outputs": []
    },
    {
      "cell_type": "code",
      "metadata": {
        "id": "6NRQKvgHZ2dp"
      },
      "source": [
        "sol(answer)"
      ],
      "execution_count": null,
      "outputs": []
    },
    {
      "cell_type": "markdown",
      "metadata": {
        "id": "WR-OdX5sZ98-"
      },
      "source": [
        "# 백준 바이러스 2606 파이썬"
      ]
    },
    {
      "cell_type": "markdown",
      "metadata": {
        "id": "eKQdejKnw3HT"
      },
      "source": [
        "## DFS (깊이우선탐색, 스택,재귀함수)"
      ]
    },
    {
      "cell_type": "code",
      "metadata": {
        "id": "KT7kfwdCfLsK"
      },
      "source": [
        "n = int(input())\n",
        "m = int(input())\n",
        "\n",
        "graph=[[] for _ in range(n+1)]\n",
        "visited = [0]*(n+1)\n",
        "count=0\n",
        "\n",
        "for i in range(m):\n",
        "\n",
        "  a,b = map(int,input().split())\n",
        "  graph[a].append(b)\n",
        "  graph[b].append(a)\n",
        "\n",
        "def dfs(start):\n",
        "\n",
        "  global count\n",
        "\n",
        "  visited[start]=1\n",
        "\n",
        "  for i in graph[start]:\n",
        "\n",
        "    if visited[i]==0:\n",
        "      dfs(i)\n",
        "      count+=1\n",
        "\n",
        "dfs(1)\n",
        "\n",
        "print(count)"
      ],
      "execution_count": null,
      "outputs": []
    },
    {
      "cell_type": "code",
      "metadata": {
        "id": "glaiO7e2iIiq"
      },
      "source": [
        "b"
      ],
      "execution_count": null,
      "outputs": []
    },
    {
      "cell_type": "code",
      "metadata": {
        "id": "5UYn9_m5gfVJ"
      },
      "source": [
        "graph=[[] for _ in range(5+1)]\n",
        "graph"
      ],
      "execution_count": null,
      "outputs": []
    },
    {
      "cell_type": "code",
      "metadata": {
        "id": "Z9hXoxiXggXU"
      },
      "source": [
        "graph=[[] for _ in range(5+1)]\n",
        "graph"
      ],
      "execution_count": null,
      "outputs": []
    },
    {
      "cell_type": "markdown",
      "metadata": {
        "id": "KLEzssFSg4Bu"
      },
      "source": [
        "# 7562 나이트의 이동 백준"
      ]
    },
    {
      "cell_type": "markdown",
      "metadata": {
        "id": "IupoZ384t62e"
      },
      "source": [
        "## 깊이 우선 탐색\n",
        "\n",
        "### BFS"
      ]
    },
    {
      "cell_type": "code",
      "metadata": {
        "id": "EZ2penv8wl5c"
      },
      "source": [
        "visited=[[0]*l for _ in range(l)]\n",
        "visited2=[[0] for _ in range(l)]\n",
        "\n",
        "visited\n",
        "# visited2"
      ],
      "execution_count": null,
      "outputs": []
    },
    {
      "cell_type": "code",
      "metadata": {
        "id": "fe-r8cfdwBwQ"
      },
      "source": [
        "visited"
      ],
      "execution_count": null,
      "outputs": []
    },
    {
      "cell_type": "code",
      "metadata": {
        "id": "5jyCSpCSwCVf"
      },
      "source": [
        "from collections import deque\n",
        "import sys\n",
        "\n",
        "input=sys.stdin.readline\n",
        "\n",
        "T = int(input())\n",
        "\n",
        "for _ in range(T): # 테스트 케이스 입력\n",
        "  l = int(input())\n",
        "  start_x, start_y = map(int,input().split())\n",
        "  end_x, end_y = map(int,input().split())\n",
        "\n",
        "  # 출석부 만들기\n",
        "\n",
        "  visited = [[0]* l for _ in range(l)]\n",
        "  visited[start_x][start_y] = 1\n",
        "\n",
        "  dx = [-2,-2,2,2,-1,1,-1,1]\n",
        "  dy = [-1,1,-1,1,-2,-2,2,2]\n",
        "\n",
        "  q = deque()\n",
        "  q.append((start_x,start_y,0))\n",
        "\n",
        "  while q:\n",
        "    temp = q.popleft()\n",
        "    x,y =temp[0],temp[1]\n",
        "\n",
        "    if x ==end_x and y ==end_y:\n",
        "      print(temp[2])\n",
        "      break\n",
        "\n",
        "    for i in range(8):\n",
        "      nx=dx[i]+x\n",
        "      ny=dy[i]+y\n",
        "\n",
        "      if 0<=nx<l and 0<=ny<l and visited[nx][ny]==0:\n",
        "        visited[nx][ny]=1\n",
        "        q.append((nx,ny,temp[2]+1))\n",
        "\n"
      ],
      "execution_count": null,
      "outputs": []
    },
    {
      "cell_type": "markdown",
      "metadata": {
        "id": "4lkid8paFc6X"
      },
      "source": [
        "# 백준 7569 토마토"
      ]
    },
    {
      "cell_type": "markdown",
      "metadata": {
        "id": "WC0bW3-PFjzt"
      },
      "source": [
        "문제 해결\n",
        "1.  BFS | silver1\n",
        "\n",
        "2. 익은토마토(값이 1)를 찾아서 리스트에 담는다.\n",
        "\n",
        "3. 3번의 리스트를 BFS를 실행한다. \n",
        "\n",
        "4. 4번을 다 하고 나면 아직 익지 않은 토마토(0)가 있는 확인하고 있으면 -1을 답으로 출력\n",
        "\n",
        "5. 없으면 가장 큰 값에서 -1한 값을 답으로 출력\n",
        "\n",
        " \n",
        "\n",
        "- 3차원 배열이라서 헷갈릴 수 있는 문제. 하지만 단순히 BFS로 풀면 된다."
      ]
    },
    {
      "cell_type": "code",
      "metadata": {
        "colab": {
          "base_uri": "https://localhost:8080/"
        },
        "id": "QTLktohyyOAt",
        "outputId": "ba256108-8f4f-42e9-d539-4986e5ce0745"
      },
      "source": [
        "from collections import deque\n",
        "\n",
        "dx= [-1,1,0,0,0,0]\n",
        "dy= [0,0,-1,1,0,0]\n",
        "dz= [0,0,0,0,-1,1]\n",
        "\n",
        "# bfs로 주변 토마토 익히기\n",
        "def bfs():\n",
        "  while q:\n",
        "    x,y,z = q.popleft()\n",
        "    for k in range(6):\n",
        "      nx=x+dx[k]\n",
        "      ny=y+dy[k]\n",
        "      nz=z+dz[k]\n",
        "\n",
        "      if 0<=nx<H and 0<=ny<M and 0<=nz<N:\n",
        "        if box[nx][ny][nz]==0:\n",
        "          box[nx][ny][nz] = box[x][y][z]+1\n",
        "          q.append((nx,ny,nz))\n",
        "\n",
        "# 0이 있을 경우 토마토는 다 익지 못함, 0이 없으면 day를 return\n",
        "\n",
        "def check_ripen():\n",
        "  max_day=0\n",
        "  for i in range(H):\n",
        "    for j in range(M):\n",
        "      for k in range(N):\n",
        "        if box[i][j][k]==0:\n",
        "          return -1\n",
        "\n",
        "        else:\n",
        "          max_day = max(max_day, box[i][j][k])\n",
        "\n",
        "  return max_day-1\n",
        "\n",
        "\n",
        "# 시작 !\n",
        "\n",
        "N,M,H = map(int, input().split())\n",
        "\n",
        "# 토마토 상자 채우기\n",
        "\n",
        "box=[]\n",
        "\n",
        "for i in range(H):\n",
        "  step=[list(map(int,input().split())) for _ in range(M)]\n",
        "  box.append(step)\n",
        "\n",
        "# 익은 토마토 찾기\n",
        "\n",
        "q=deque()\n",
        "\n",
        "for i in range(H):\n",
        "  for j in range(M):\n",
        "    for k in range(N):\n",
        "      if box[i][j][k]==1:\n",
        "        q.append((i,j,k))\n",
        "\n",
        "bfs()\n",
        "answer=check_ripen()\n",
        "print(answer)"
      ],
      "execution_count": 5,
      "outputs": [
        {
          "output_type": "stream",
          "name": "stdout",
          "text": [
            "5 3 2\n",
            "0 0 0 0 0\n",
            "0 0 0 0 0\n",
            "0 0 0 0 0\n",
            "0 0 0 0 0\n",
            "0 0 1 0 0\n",
            "0 0 0 0 0\n",
            "4\n"
          ]
        }
      ]
    },
    {
      "cell_type": "code",
      "metadata": {
        "id": "QNUunFydHmrJ"
      },
      "source": [
        ""
      ],
      "execution_count": null,
      "outputs": []
    }
  ]
}