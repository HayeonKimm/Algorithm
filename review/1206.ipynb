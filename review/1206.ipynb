{
  "nbformat": 4,
  "nbformat_minor": 0,
  "metadata": {
    "colab": {
      "name": "1206.ipynb",
      "provenance": [],
      "collapsed_sections": [],
      "authorship_tag": "ABX9TyMYVMR6GMW8HSMDAIHcLkfg",
      "include_colab_link": true
    },
    "kernelspec": {
      "display_name": "Python 3",
      "name": "python3"
    },
    "language_info": {
      "name": "python"
    }
  },
  "cells": [
    {
      "cell_type": "markdown",
      "metadata": {
        "id": "view-in-github",
        "colab_type": "text"
      },
      "source": [
        "<a href=\"https://colab.research.google.com/github/HayeonKimm/Algorithm-Note/blob/master/review/1206.ipynb\" target=\"_parent\"><img src=\"https://colab.research.google.com/assets/colab-badge.svg\" alt=\"Open In Colab\"/></a>"
      ]
    },
    {
      "cell_type": "markdown",
      "metadata": {
        "id": "pD99U_27cYJp"
      },
      "source": [
        "1157 단어공부 백준"
      ]
    },
    {
      "cell_type": "code",
      "metadata": {
        "colab": {
          "base_uri": "https://localhost:8080/"
        },
        "id": "sjmO2WPecDNW",
        "outputId": "185c908e-dca8-44cc-f85c-b7ef1ec9ad82"
      },
      "source": [
        "n=input().upper()\n",
        "\n",
        "word=list(set(n))\n",
        "list_=[]\n",
        "\n",
        "for i in word:\n",
        "    \n",
        "    list_.append(n.count(i))\n",
        "    \n",
        "    \n",
        "if list_.count(max(list_))>1:\n",
        "    \n",
        "    print('?')\n",
        "    \n",
        "else:\n",
        "    print(word[list_.index(max(list_))])\n",
        "    \n",
        "    \n",
        "\n",
        "\n",
        "\n"
      ],
      "execution_count": null,
      "outputs": [
        {
          "name": "stdout",
          "output_type": "stream",
          "text": [
            "zZa\n",
            "Z\n"
          ]
        }
      ]
    },
    {
      "cell_type": "code",
      "metadata": {
        "colab": {
          "base_uri": "https://localhost:8080/"
        },
        "id": "wRqf1jd8cFtN",
        "outputId": "e61a7d5e-6231-49eb-928f-8747d004cb7b"
      },
      "source": [
        "n = input().upper()\n",
        "word=list(set(n))\n",
        "lst=[]\n",
        "\n",
        "for i in word:\n",
        "  \n",
        "  lst.append(n.count(i))\n",
        "\n",
        "if lst.count(max(lst))>1:\n",
        "  print('?')\n",
        "\n",
        "else:\n",
        "  \n",
        "  print(word[lst.index(max(lst))])"
      ],
      "execution_count": null,
      "outputs": [
        {
          "name": "stdout",
          "output_type": "stream",
          "text": [
            "zZa\n",
            "Z\n"
          ]
        }
      ]
    },
    {
      "cell_type": "markdown",
      "metadata": {
        "id": "-fSG7N9XtVjr"
      },
      "source": [
        "# 팰린드롬 \n",
        "## 예제"
      ]
    },
    {
      "cell_type": "code",
      "metadata": {
        "colab": {
          "base_uri": "https://localhost:8080/"
        },
        "id": "sYea-5lv6P6t",
        "outputId": "c6570f7c-92f3-4729-f8be-b8002037a7cf"
      },
      "source": [
        "6//2"
      ],
      "execution_count": 1,
      "outputs": [
        {
          "output_type": "execute_result",
          "data": {
            "text/plain": [
              "3"
            ]
          },
          "metadata": {},
          "execution_count": 1
        }
      ]
    },
    {
      "cell_type": "code",
      "metadata": {
        "id": "H7Ft_1UL6IA6"
      },
      "source": [
        "def solution(s):\n",
        "\n",
        "  for i in range(len(s)//2):\n",
        "    j = len(s) -1 -i\n",
        "\n",
        "    if s[i]!=s[j]:\n",
        "      return -1"
      ],
      "execution_count": 2,
      "outputs": []
    },
    {
      "cell_type": "code",
      "metadata": {
        "colab": {
          "base_uri": "https://localhost:8080/"
        },
        "id": "kfPiuKuz7TdB",
        "outputId": "a85f3ec4-20eb-49df-85b6-8359e85a3d99"
      },
      "source": [
        "print(solution('abcd'))"
      ],
      "execution_count": 5,
      "outputs": [
        {
          "output_type": "stream",
          "name": "stdout",
          "text": [
            "-1\n"
          ]
        }
      ]
    },
    {
      "cell_type": "code",
      "metadata": {
        "colab": {
          "base_uri": "https://localhost:8080/",
          "height": 35
        },
        "id": "aybDf9aZ7Vom",
        "outputId": "47f8a0e5-0ac1-4041-a49f-0eb3fb96ba26"
      },
      "source": [
        "answer='aaa3'\n",
        "\n",
        "answer[3]"
      ],
      "execution_count": 3,
      "outputs": [
        {
          "output_type": "execute_result",
          "data": {
            "application/vnd.google.colaboratory.intrinsic+json": {
              "type": "string"
            },
            "text/plain": [
              "'3'"
            ]
          },
          "metadata": {},
          "execution_count": 3
        }
      ]
    },
    {
      "cell_type": "code",
      "metadata": {
        "id": "YDPkzGvM6bSG"
      },
      "source": [
        "answer='.'"
      ],
      "execution_count": 12,
      "outputs": []
    },
    {
      "cell_type": "code",
      "metadata": {
        "id": "CVXtE_6X1--b"
      },
      "source": [
        "    # answer=answer[1:] if answer[0]=='.' and len(answer)>1 else answer  # len(answer)>1 조건을 안넣으면 사라져버린다.\n",
        "    answer=answer[:-1] if answer[-1]=='.' else answer"
      ],
      "execution_count": 13,
      "outputs": []
    },
    {
      "cell_type": "code",
      "metadata": {
        "colab": {
          "base_uri": "https://localhost:8080/",
          "height": 35
        },
        "id": "bh5tdyvh6g5G",
        "outputId": "4fba7dd5-418e-4d24-ab1c-18d322345c8a"
      },
      "source": [
        "answer"
      ],
      "execution_count": 14,
      "outputs": [
        {
          "output_type": "execute_result",
          "data": {
            "application/vnd.google.colaboratory.intrinsic+json": {
              "type": "string"
            },
            "text/plain": [
              "''"
            ]
          },
          "metadata": {},
          "execution_count": 14
        }
      ]
    },
    {
      "cell_type": "markdown",
      "metadata": {
        "id": "71mC9O_d7cNT"
      },
      "source": [
        "# 코딩테스트 연습\n",
        "## 2021 KAKAO BLIND RECRUITMENT\n",
        "### 신규 아이디 추천\n"
      ]
    },
    {
      "cell_type": "code",
      "metadata": {
        "id": "wEcoa4B57abP"
      },
      "source": [
        "https://programmers.co.kr/learn/courses/30/lessons/72410"
      ],
      "execution_count": null,
      "outputs": []
    },
    {
      "cell_type": "code",
      "metadata": {
        "id": "mmwVKYBo6ixp"
      },
      "source": [
        "def solution(new_id):\n",
        "    \n",
        "    \n",
        "    answer=''\n",
        "    \n",
        "    \n",
        "    new_id=new_id.lower()\n",
        "    \n",
        "    \n",
        "    for i in new_id:\n",
        "        \n",
        "        if i.isalnum() or i in '-_.':\n",
        "            \n",
        "            answer+=i\n",
        "            \n",
        "    while '..' in answer:\n",
        "            \n",
        "        answer=answer.replace('..','.')\n",
        "        \n",
        "        \n",
        "        \n",
        "        \n",
        "    answer=answer[1:] if answer[0]=='.' and len(answer)>1 else answer \n",
        "    answer=answer[:-1] if answer[-1]=='.' else answer\n",
        "    \n",
        "    \n",
        "    \n",
        "    if answer[-1]=='.' and len(answer)>1:\n",
        "        answer=answer[:-1]\n",
        "        \n",
        "    else:\n",
        "        pass\n",
        "        \n",
        "\n",
        "        \n",
        "        \n",
        "    if answer[0]=='.':\n",
        "        answer=answer[1:]\n",
        "        \n",
        "    else:\n",
        "        \n",
        "        pass\n",
        "\n",
        "        \n",
        "        \n",
        "        \n",
        "        \n",
        "    if len(answer)==0:\n",
        "        answer='a'\n",
        "        \n",
        "    if len(answer)>=16:\n",
        "        answer=answer[:15]\n",
        "        \n",
        "        if answer[-1]=='.':\n",
        "            answer = answer[:-1]\n",
        "            \n",
        "    if len(answer)<=2:\n",
        "        \n",
        "        \n",
        "        while len(answer)<3:\n",
        "            \n",
        "            answer+=answer[-1]\n",
        "        \n",
        "        \n",
        "    return answer\n",
        "        \n",
        "    \n",
        "    \n",
        "    \n",
        "    \n",
        "    \n",
        "    \n",
        "    \n",
        "    \n",
        "    \n",
        "    \n",
        "    \n",
        "    \n",
        "    \n",
        "    \n",
        "    \n",
        "    \n",
        "    \n",
        "#     # 1단계\n",
        "#     new_id = new_id.lower()\n",
        "    \n",
        "#     # 2단계\n",
        "#     for word in new_id:\n",
        "        \n",
        "#         if word.isalnum() or word in '-_.':\n",
        "#             answer+=word\n",
        "            \n",
        "#     # 3단계\n",
        "    \n",
        "#     while '..' in answer:\n",
        "#         answer = answer.replace('..','.')\n",
        "        \n",
        "#     # 4단계\n",
        "    \n",
        "#     answer=answer[1:] if answer[0]=='.' and len(answer)>1 else answer \n",
        "#     answer=answer[:-1] if answer[-1]=='.' else answer\n",
        "        \n",
        "#     # 5단계\n",
        "    \n",
        "#     if answer =='': \n",
        "#         answer+='a'\n",
        "        \n",
        "#     # 6단계\n",
        "    \n",
        "#     if len(answer)>=16:\n",
        "#         answer=answer[:15]\n",
        "        \n",
        "#         if answer[-1]=='.':\n",
        "#             answer=answer[:-1]\n",
        "            \n",
        "#     # 7단계\n",
        "\n",
        "#     while len(answer)<3:\n",
        "#         answer+= answer[-1]\n",
        "        \n",
        "            \n",
        "#     return answer"
      ],
      "execution_count": null,
      "outputs": []
    },
    {
      "cell_type": "markdown",
      "metadata": {
        "id": "Xp43VNoI9t59"
      },
      "source": [
        "# 코딩테스트 연습   \n",
        "\n",
        "2021 Dev-Matching: 웹 백엔드 개발자(상반기)   \n",
        "로또의 최고 순위와 최저 순위\n"
      ]
    },
    {
      "cell_type": "code",
      "metadata": {
        "id": "t8UsQbZu7f1x"
      },
      "source": [
        "def solution(lottos, win_nums):\n",
        "    \n",
        "    \n",
        "    score=7\n",
        "    \n",
        "    for x in lottos:\n",
        "        \n",
        "        if x in win_nums:\n",
        "            score-=1\n",
        "    # 0가 다맞았을때\n",
        "        if x==0:\n",
        "            \n",
        "            score-=1\n",
        "    if score>=7:\n",
        "        score=6\n",
        "            \n",
        "    a=score\n",
        "    \n",
        "    score=7\n",
        "    \n",
        "    for y in lottos:\n",
        "        \n",
        "        if y in win_nums:\n",
        "            score-=1\n",
        "            \n",
        "    if score>=7:\n",
        "        score=6\n",
        "            \n",
        "    b=score\n",
        "    \n",
        "    answer=[a,b]\n",
        "    \n",
        "    return answer\n",
        "        \n",
        "    \n",
        "    \n",
        "    \n",
        "    \n",
        "    \n",
        "    \n",
        "    \n",
        "    \n",
        "    \n",
        "    \n",
        "    \n",
        "    \n",
        "    \n",
        "    \n",
        "    \n",
        "    \n",
        "    \n",
        "    \n",
        "    \n",
        "    \n",
        "    \n",
        "    \n",
        "    \n",
        "    \n",
        "#     count=7\n",
        "#     list_=[]\n",
        "    \n",
        "#     for i in lottos:\n",
        "#         if i in win_nums: count-=1\n",
        "        \n",
        "#         elif i == 0: count-=1\n",
        "    \n",
        "#     if count>=6: list_.append(6)\n",
        "        \n",
        "#     else: list_.append(count)\n",
        "        \n",
        "        \n",
        "    \n",
        "#     count=7\n",
        "    \n",
        "#     for i in lottos:\n",
        "        \n",
        "#         if i in win_nums:count-=1\n",
        "#     if count>=6: list_.append(6)\n",
        "        \n",
        "#     else : list_.append(count)\n",
        "        \n",
        "#     return list_"
      ],
      "execution_count": null,
      "outputs": []
    },
    {
      "cell_type": "markdown",
      "metadata": {
        "id": "dhOjXLub-Xl7"
      },
      "source": [
        "코딩테스트 연습   \n",
        "연습문제   \n",
        "자릿수 더하기   "
      ]
    },
    {
      "cell_type": "code",
      "metadata": {
        "id": "Q_ANGSAy-WHG"
      },
      "source": [
        "def solution(n):\n",
        "    \n",
        "    count=0\n",
        "    \n",
        "    for i in str(n):\n",
        "        \n",
        "        count+=int(i)\n",
        "        \n",
        "    \n",
        "    \n",
        "    return count\n"
      ],
      "execution_count": null,
      "outputs": []
    },
    {
      "cell_type": "code",
      "metadata": {
        "colab": {
          "base_uri": "https://localhost:8080/"
        },
        "id": "RX_DUUk--2Ry",
        "outputId": "517a5f7f-2992-4d14-95e5-23b1105b2639"
      },
      "source": [
        "round(2.5)"
      ],
      "execution_count": 15,
      "outputs": [
        {
          "output_type": "execute_result",
          "data": {
            "text/plain": [
              "2"
            ]
          },
          "metadata": {},
          "execution_count": 15
        }
      ]
    },
    {
      "cell_type": "code",
      "metadata": {
        "colab": {
          "base_uri": "https://localhost:8080/"
        },
        "id": "bIfmEErQ-4pT",
        "outputId": "94d0f9f9-9e41-482c-ea54-dc036d3b2f42"
      },
      "source": [
        "s=\"abcd\"\n",
        "\n",
        "# len(s)/2\n",
        "\n",
        "answer=s[int((len(s))/2)-1],s[int(len(s)/2)]\n",
        "\n",
        "print(answer)"
      ],
      "execution_count": 24,
      "outputs": [
        {
          "output_type": "stream",
          "name": "stdout",
          "text": [
            "('b', 'c')\n"
          ]
        }
      ]
    },
    {
      "cell_type": "code",
      "metadata": {
        "id": "NrMZ4XjVEBdc"
      },
      "source": [
        "코딩테스트 연습\n",
        "연습문제\n",
        "가운데 글자 가져오기\n"
      ],
      "execution_count": null,
      "outputs": []
    },
    {
      "cell_type": "markdown",
      "metadata": {
        "id": "gjYuh-FOEG1J"
      },
      "source": [
        "# 내가 짰던 코드. 테스트케이스에서 한개가 안넘어간다."
      ]
    },
    {
      "cell_type": "code",
      "metadata": {
        "id": "HF-DCkfsECFj"
      },
      "source": [
        "def solution(s):\n",
        "        \n",
        "    \n",
        "    if len(s)>=3:\n",
        "    \n",
        "    \n",
        "        if len(s)%2!=0:\n",
        "\n",
        "            answer=s[int(round(len(s)/2))]\n",
        "\n",
        "\n",
        "\n",
        "        elif len(s)%2==0:\n",
        "\n",
        "            answer=s[int((len(s))/2)-1],s[int(len(s)/2)]\n",
        "            \n",
        "    else:\n",
        "        \n",
        "        answer=s\n",
        "        \n",
        "        \n",
        "\n",
        "    answer=''.join(answer)\n",
        "  \n",
        "        \n",
        "    \n",
        "        \n",
        "    \n",
        "    return answer"
      ],
      "execution_count": null,
      "outputs": []
    },
    {
      "cell_type": "markdown",
      "metadata": {
        "id": "OZ7JQoVlEKPF"
      },
      "source": [
        "# round, int를 걷어내고 //로 몫만 취하니 문제가 해결됐다."
      ]
    },
    {
      "cell_type": "code",
      "metadata": {
        "id": "XmrjNaMC_i_m"
      },
      "source": [
        "def solution(s):\n",
        "        \n",
        "    \n",
        "    if len(s)>=3:\n",
        "    \n",
        "    \n",
        "        if len(s)%2!=0:\n",
        "\n",
        "            answer=s[len(s)//2]\n",
        "\n",
        "\n",
        "\n",
        "        elif len(s)%2==0:\n",
        "\n",
        "            answer=s[(len(s)//2)-1],s[len(s)//2]\n",
        "            \n",
        "    else:\n",
        "        \n",
        "        answer=s\n",
        "        \n",
        "        \n",
        "\n",
        "    answer=''.join(answer)\n",
        "  \n",
        "        \n",
        "    \n",
        "        \n",
        "    \n",
        "    return answer"
      ],
      "execution_count": null,
      "outputs": []
    }
  ]
}