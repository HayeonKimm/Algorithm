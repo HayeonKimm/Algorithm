{
 "cells": [
  {
   "cell_type": "markdown",
   "id": "a0c64d50",
   "metadata": {},
   "source": [
    "# 상하좌우 - 구현\n",
    "\n",
    "난이도 1, 풀이 시간 15분, 시간제한 1초, 메모리 제한 128MB   \n",
    "이것이 코딩 테스트다. 110p"
   ]
  },
  {
   "cell_type": "markdown",
   "id": "385cfb60",
   "metadata": {},
   "source": [
    "여행가 A는 NxN 크기의 정사각형 공간 위에 서 있다. 이 공간은 1x1 크기의 정사각형으로 나누어져 있다.   \n",
    "가장 왼쪽 위 좌표는 (1,1)이며, 가장 오른쪽 아래 좌표는 (N,N)에 해당한다.   \n",
    "여행가 A는 상,하,좌,우 방향으로 이동할 수 있으며, 시작 좌표는 항상 (1,1)이다. 우리 앞에는 여행가 A가 이동할 계획이 적힌 계획서가 놓여 있다."
   ]
  },
  {
   "cell_type": "markdown",
   "id": "34f3b5b0",
   "metadata": {},
   "source": [
    "계획서에는 하나의 줄에 띄어쓰기를 기준으로 하여 L,R,U,D 중 하나의 문자가 반복적으로 적혀있다. 각 문자의 의미는 다음과 같다.   \n",
    "   \n",
    "L: 왼쪽 , R: 오른쪽 , U: 위로 한 칸 이동, D: 아래로 한 칸 이동\n",
    "\n",
    "이때 여행가 A가 NxN 크기의 정사각형 공간을 벗어나는 움직임은 무시된다. 예를 들어 (1,1) 의 위치에서 L 혹은 U를 만나면 무시된다.\n",
    "\n",
    "계획서가 주어 졌을 때 여행가 A가 최종적으로 도착할 지점의 좌표를 출력하는 프로그램을 작성하시오."
   ]
  },
  {
   "cell_type": "markdown",
   "id": "33822a05",
   "metadata": {},
   "source": [
    "## 나의 코드"
   ]
  },
  {
   "cell_type": "code",
   "execution_count": 3,
   "id": "11e982c6",
   "metadata": {
    "ExecuteTime": {
     "end_time": "2021-12-07T09:32:05.890013Z",
     "start_time": "2021-12-07T09:31:59.566044Z"
    }
   },
   "outputs": [
    {
     "name": "stdout",
     "output_type": "stream",
     "text": [
      "5\n",
      "R R R U D D\n",
      "3 4\n"
     ]
    }
   ],
   "source": [
    "n = int(input())\n",
    "\n",
    "plans = list(input().split())\n",
    "\n",
    "tool=['L','R','U','D']\n",
    "\n",
    "dx= [0,0,-1,1]\n",
    "dy= [-1,1,0,0]\n",
    "\n",
    "x,y=1,1\n",
    "\n",
    "for plan in plans:\n",
    "    for i in range(len(tool)):\n",
    "    \n",
    "        if plan == tool[i]:\n",
    "\n",
    "            nx= dx[i]+x\n",
    "            ny= dy[i]+y\n",
    "\n",
    "\n",
    "            if 0<nx<=n and 0<ny<=n:\n",
    "\n",
    "                x=nx\n",
    "                y=ny\n",
    "            \n",
    "print(x,y)"
   ]
  },
  {
   "cell_type": "markdown",
   "id": "f748e4f0",
   "metadata": {},
   "source": [
    "## Tip: continue로 실행 건너뛰기"
   ]
  },
  {
   "cell_type": "code",
   "execution_count": null,
   "id": "5a9cfc5f",
   "metadata": {},
   "outputs": [],
   "source": [
    "for i in range(100):       # 0부터 99까지 증가하면서 100번 반복\n",
    "    if i % 2 == 0:         # i를 2로 나누었을 때 나머지가 0면 짝수\n",
    "        continue           # 아래 코드를 실행하지 않고 건너뜀\n",
    "    print(i)"
   ]
  },
  {
   "cell_type": "markdown",
   "id": "e39a51ef",
   "metadata": {},
   "source": [
    "# 왕실의 나이트 - 구현\n",
    "\n",
    "난이도 1, 풀이 시간 20분, 시간 제한 1초, 메모리 제한 128MB\n",
    "\n",
    "115p"
   ]
  },
  {
   "cell_type": "markdown",
   "id": "b0424ad1",
   "metadata": {},
   "source": [
    "### 나의 코드"
   ]
  },
  {
   "cell_type": "code",
   "execution_count": 12,
   "id": "fe1f2ad0",
   "metadata": {
    "ExecuteTime": {
     "end_time": "2021-12-07T10:01:34.030008Z",
     "start_time": "2021-12-07T10:01:32.250616Z"
    }
   },
   "outputs": [
    {
     "name": "stdout",
     "output_type": "stream",
     "text": [
      "a1\n",
      "2\n"
     ]
    }
   ],
   "source": [
    "now = input()\n",
    "\n",
    "\n",
    "\n",
    "x,y=now[0],int(now[1])\n",
    "\n",
    "\n",
    "dx=[-2,-1,1,2,2,1,-1,-2]\n",
    "dy=[1,2,2,1,-1,-2,-2,-1]\n",
    "\n",
    "alph=['a','b','c','d','e','f','g','h']\n",
    "alph_2=[1,2,3,4,5,6,7,8]\n",
    "count=0\n",
    "\n",
    "\n",
    "for idx,k in enumerate(alph):\n",
    "\n",
    "    if x==k:\n",
    "        x=alph_2[idx]\n",
    "\n",
    "# print(x)\n",
    "\n",
    "\n",
    "            \n",
    "for i in range(8):\n",
    "    \n",
    "    nx= dx[i]+x\n",
    "    ny= dy[i]+y\n",
    "    \n",
    "    if 0<nx<=8 and 0<ny<=8:\n",
    "        \n",
    "#         x,y=nx,ny  아 이건 현위치에서 어디로 이동할 수 있는지를 계산하는거라 이 부분이 필요없다. 이건 누적해서 이동할 때\n",
    "        count+=1\n",
    "    else:\n",
    "        pass \n",
    "\n",
    "print(count)"
   ]
  },
  {
   "cell_type": "markdown",
   "id": "b9a94f80",
   "metadata": {
    "ExecuteTime": {
     "end_time": "2021-12-07T10:16:22.657313Z",
     "start_time": "2021-12-07T10:16:22.638920Z"
    }
   },
   "source": [
    "**책의 답안**"
   ]
  },
  {
   "cell_type": "code",
   "execution_count": 15,
   "id": "045d8c1a",
   "metadata": {
    "ExecuteTime": {
     "end_time": "2021-12-07T10:22:15.721350Z",
     "start_time": "2021-12-07T10:22:13.623286Z"
    }
   },
   "outputs": [
    {
     "name": "stdout",
     "output_type": "stream",
     "text": [
      "a1\n",
      "2\n"
     ]
    }
   ],
   "source": [
    "# 현재 나이트의 위치 입력받기\n",
    "input_data=input()\n",
    "\n",
    "row=int(input_data[1])\n",
    "columns=int(ord(input_data[0])) - int(ord('a'))+1\n",
    "\n",
    "\n",
    "# 나이트가 이동할 수 있는 8가지 방향 정의\n",
    "steps=[(-2,-1),(-1,-2),(1,-2),(2,-1),(2,1),(1,2),(-1,2),(-2,1)]\n",
    "\n",
    "\n",
    "# 8가지 방향에 대하여 각 위치로 이동이 가능한지 확인\n",
    "result=0\n",
    "for step in steps:\n",
    "    \n",
    "    # 이동하고자 하는 위치 확인\n",
    "    next_row = row+step[0]\n",
    "    next_column = columns+step[1]\n",
    "    \n",
    "    # 해당 위치로 이동이 가능하다면 카운트 증가\n",
    "    if next_row>=1 and next_row <= 8 and next_column >=1 and next_column<=8:\n",
    "        result+=1\n",
    "        \n",
    "print(result)"
   ]
  },
  {
   "cell_type": "markdown",
   "id": "53f42d52",
   "metadata": {},
   "source": [
    "# 게임 개발 - 구현, 시뮬레이션\n",
    "\n",
    "난이도 2, 풀이시간 40분, 시간 제한 1초, 메모리 제한 128MB"
   ]
  },
  {
   "cell_type": "markdown",
   "id": "7fcb9415",
   "metadata": {},
   "source": [
    "### 나의 코드"
   ]
  },
  {
   "cell_type": "code",
   "execution_count": 14,
   "id": "59bc31d1",
   "metadata": {
    "ExecuteTime": {
     "end_time": "2021-12-07T12:14:44.348226Z",
     "start_time": "2021-12-07T12:14:31.663246Z"
    }
   },
   "outputs": [
    {
     "name": "stdout",
     "output_type": "stream",
     "text": [
      "4 4\n",
      "1 1 0\n",
      "1 1 1 1\n",
      "1 0 0 1\n",
      "1 1 0 1\n",
      "1 1 1 1\n",
      "3\n"
     ]
    }
   ],
   "source": [
    "n,m = map(int,input().split())\n",
    "# n이 세로 크기, m이 가로 크기\n",
    "x,y,direction = map(int,input().split())\n",
    "\n",
    "# 맵이 육지인지, 바다인지\n",
    "array=[]\n",
    "count=1\n",
    "turn_time=0\n",
    "\n",
    "\n",
    "\n",
    "\n",
    "d = [[0] * m for _ in range(n)]\n",
    "d[x][y]=1\n",
    "for i in range(n):\n",
    "    array.append(list(map(int,input().split())))\n",
    "\n",
    "# 방향박스 (북,동,남,서)\n",
    "# direction_box = [0,1,2,3]\n",
    "\n",
    "dx=[-1,0,1,0]\n",
    "dy=[0,1,0,-1]\n",
    "\n",
    "def turn_left():\n",
    "    \n",
    "    global direction\n",
    "    \n",
    "    direction-=1\n",
    "    if direction==-1:\n",
    "        direction=3\n",
    "\n",
    "while True:\n",
    "    \n",
    "    turn_left()\n",
    "    \n",
    "    nx= x+dx[direction]\n",
    "    ny= y+dy[direction]\n",
    "    \n",
    "    if d[nx][ny]==0 and array[nx][ny]==0:\n",
    "        \n",
    "        d[nx][ny]=1\n",
    "        x,y=nx,ny\n",
    "        count+=1\n",
    "        turn_time=0\n",
    "        continue\n",
    "    \n",
    "    else:\n",
    "        \n",
    "        \n",
    "        turn_time+=1\n",
    "        \n",
    "        \n",
    "    if turn_time==4:\n",
    "\n",
    "        nx=x-dx[direction]\n",
    "        ny=x-dy[direction]\n",
    "               \n",
    "        if array[nx][ny]==0:\n",
    "            x,y = nx,ny\n",
    "        \n",
    "        else:\n",
    "            break\n",
    "        turn_time=0\n",
    "            \n",
    "    \n",
    "        \n",
    "        \n",
    "print(count)\n",
    "    "
   ]
  },
  {
   "cell_type": "markdown",
   "id": "a69f358e",
   "metadata": {},
   "source": [
    "#### 책의 답안"
   ]
  },
  {
   "cell_type": "code",
   "execution_count": null,
   "id": "1430e2e3",
   "metadata": {},
   "outputs": [],
   "source": [
    "n,m = map(int,input().split())\n",
    "# n이 세로 크기, m이 가로 크기\n",
    "\n",
    "# 방문한 위치를 저장하기 위한 맵을 생성하여 0으로 초기화\n",
    "d = [[0] * m for _ in range(n)] # m개의 0로 구성되어 있는 행을 n번 곱하기\n",
    "\n",
    "x,y,direction = map(int,input().split())\n",
    "d[x][y] = 1 # 현재 좌표 방문 처리\n",
    "                    \n",
    "# 전체 맵 정보를 입력받기\n",
    "array=[]\n",
    "for i in range(n):\n",
    "    array.append(list(map(int,input().split())))\n",
    "    \n",
    "# 북,동,남,서 방향 정의\n",
    "# 아 이 부분에서 놓쳤구나, 행렬로 받아도 이렇게 이동 가능하다! \n",
    "dx=[-1,0,1,0]\n",
    "dy=[0,1,0,-1]\n",
    "\n"
   ]
  },
  {
   "cell_type": "markdown",
   "id": "6cc56cdc",
   "metadata": {
    "ExecuteTime": {
     "end_time": "2021-12-07T12:15:51.764679Z",
     "start_time": "2021-12-07T12:15:51.745730Z"
    }
   },
   "source": [
    "# 음료수 얼려 먹기 - 탐색 (DFS) ,재귀함수\n",
    "\n",
    "난이도 1.5, 풀이시간 30분, 시간 제한 1초, 메모리 제한 128MB"
   ]
  },
  {
   "cell_type": "markdown",
   "id": "2b5abe4e",
   "metadata": {},
   "source": [
    "혼자 못 품 - 복습 필"
   ]
  },
  {
   "cell_type": "code",
   "execution_count": 5,
   "id": "2b7716d4",
   "metadata": {
    "ExecuteTime": {
     "end_time": "2021-12-07T14:06:33.281646Z",
     "start_time": "2021-12-07T14:06:22.030963Z"
    }
   },
   "outputs": [
    {
     "name": "stdout",
     "output_type": "stream",
     "text": [
      "4 5\n",
      "00110\n",
      "00011\n",
      "11111\n",
      "00000\n",
      "3\n"
     ]
    }
   ],
   "source": [
    "n,m = map(int,input().split())\n",
    "\n",
    "\n",
    "graph=[]\n",
    "\n",
    "for _ in range(n):\n",
    "    graph.append(list(map(int,input())))\n",
    "    \n",
    "def dfs(x,y):\n",
    "    # 주어진 범위를 벗어나는 경우에는 즉시 종료\n",
    "    if x<= -1 or x>=n or y<= -1 or y>= m:\n",
    "        return False\n",
    "    \n",
    "    # 현재 노드를 아직 방문하지 않았다면\n",
    "    if graph[x][y]==0:\n",
    "        #방문처리\n",
    "        graph[x][y]=1\n",
    "        \n",
    "        # 상 ,하 ,좌 ,우의 위치도 모두 재귀적으로 호출\n",
    "        \n",
    "        dfs(x-1,y)\n",
    "        dfs(x,y-1)\n",
    "        dfs(x+1,y)\n",
    "        dfs(x,y+1)\n",
    "        \n",
    "        return True\n",
    "    \n",
    "    return False\n",
    "\n",
    "\n",
    "#모든 노드(위치)에 대하여 음료수 채우기\n",
    "\n",
    "result=0\n",
    "for i in range(n):\n",
    "    for j in range(m):\n",
    "        \n",
    "        # 현재 위치에서 DFS 수행\n",
    "        \n",
    "        if dfs(i,j) == True:\n",
    "            result+=1\n",
    "            \n",
    "print(result)"
   ]
  },
  {
   "cell_type": "code",
   "execution_count": 9,
   "id": "a1f4dd87",
   "metadata": {
    "ExecuteTime": {
     "end_time": "2021-12-07T14:10:11.639627Z",
     "start_time": "2021-12-07T14:10:00.705943Z"
    }
   },
   "outputs": [
    {
     "name": "stdout",
     "output_type": "stream",
     "text": [
      "4 5\n",
      "00110\n",
      "00011\n",
      "11111\n",
      "00000\n",
      "3\n"
     ]
    }
   ],
   "source": [
    "n,m = map(int,input().split())\n",
    "\n",
    "graph=[] # 그래프를 만들고,\n",
    "\n",
    "for _ in range(n): # 그래프에다 넣고\n",
    "    graph.append(list(map(int,input())))\n",
    "\n",
    "result=0\n",
    "# dfs로 특정한 노드를 방문한 뒤에 연결된 모든 노드들도 방문\n",
    "\n",
    "def dfs(x,y):\n",
    "                 \n",
    "    if x<0 or x>=n or y<0 or y>=m:\n",
    "        \n",
    "        return False\n",
    "    \n",
    "    # 현재 노드를 아직 방문하지 않았다면,\n",
    "    \n",
    "    if graph[x][y]==0:\n",
    "        \n",
    "        # 해당 노드 방문처리\n",
    "        \n",
    "        graph[x][y]=1 # 여기선 1(아이스크림 못 놓음)이 방문처리로 쓰인다.\n",
    "        \n",
    "        # 상하좌우 노드방문\n",
    "        \n",
    "        dfs(x+1,y)\n",
    "        dfs(x-1,y)\n",
    "        dfs(x,y-1)\n",
    "        dfs(x,y+1)\n",
    "        \n",
    "        return True\n",
    "    \n",
    "    return False\n",
    "\n",
    "\n",
    "for i in range(n):\n",
    "    for j in range(m):\n",
    "        \n",
    "        if dfs(i,j)==True:\n",
    "            \n",
    "            result+=1\n",
    "                 \n",
    "print(result)"
   ]
  },
  {
   "cell_type": "markdown",
   "id": "02e83a3c",
   "metadata": {},
   "source": [
    "# 미로 탈출 (BFS)\n",
    "\n",
    "난이도 1.5, 풀이시간 30분, 시간 제한 1초, 메모리 제한 128MB, 152p\n",
    "\n",
    "괴물이 있는 부분은 0, 없는 부분은 1"
   ]
  },
  {
   "cell_type": "code",
   "execution_count": 17,
   "id": "f1ecb2aa",
   "metadata": {
    "ExecuteTime": {
     "end_time": "2021-12-07T14:40:24.906753Z",
     "start_time": "2021-12-07T14:40:10.096624Z"
    }
   },
   "outputs": [
    {
     "name": "stdout",
     "output_type": "stream",
     "text": [
      "5 6\n",
      "101010\n",
      "111111\n",
      "000001\n",
      "111111\n",
      "111111\n",
      "10\n"
     ]
    }
   ],
   "source": [
    "from collections import deque\n",
    "\n",
    "\n",
    "\n",
    "# n, m을 공백으로 구분하여 입력받기\n",
    "\n",
    "n,m = map(int,input().split())\n",
    "\n",
    "graph=[]\n",
    "\n",
    "for i in range(n):\n",
    "    graph.append(list(map(int,input())))\n",
    "\n",
    "# 방향 정의, 모든 BFS,DFS가 방향을 정의하지는 않는다.\n",
    "\n",
    "dx=[-1,1,0,0]\n",
    "dy=[0,0,-1,1]\n",
    "\n",
    "# dfs,bfs를 쓸 때는 보통 함수를 정의한다.\n",
    "\n",
    "def bfs(x,y):\n",
    "    \n",
    "    q=deque()\n",
    "    q.append((x,y))\n",
    "    \n",
    "    # 큐가 빌 때까지 반복\n",
    "    \n",
    "    while q:\n",
    "        x,y =q.popleft()\n",
    "        \n",
    "        for i in range(4):\n",
    "            \n",
    "            nx=x+dx[i]\n",
    "            ny=y+dy[i]\n",
    "            \n",
    "            # 미로 찾기 공간을 벗어난 경우 무시\n",
    "            \n",
    "            if nx<0 or ny<0 or nx>=n or ny>=m:\n",
    "                continue\n",
    "            # 벽인 경우 무시\n",
    "            if graph[nx][ny]==0:\n",
    "                continue\n",
    "            # 길(1)인 경우 전의 노드에서 +1    \n",
    "            if graph[nx][ny]==1:\n",
    "                graph[nx][ny]=graph[x][y]+1\n",
    "                q.append((nx,ny))\n",
    "                \n",
    "                \n",
    "    return graph[n-1][m-1]\n",
    "\n",
    "\n",
    "print(bfs(0,0))"
   ]
  }
 ],
 "metadata": {
  "hide_input": false,
  "kernelspec": {
   "display_name": "Python 3 (ipykernel)",
   "language": "python",
   "name": "python3"
  },
  "language_info": {
   "codemirror_mode": {
    "name": "ipython",
    "version": 3
   },
   "file_extension": ".py",
   "mimetype": "text/x-python",
   "name": "python",
   "nbconvert_exporter": "python",
   "pygments_lexer": "ipython3",
   "version": "3.8.11"
  },
  "toc": {
   "base_numbering": 1,
   "nav_menu": {},
   "number_sections": true,
   "sideBar": true,
   "skip_h1_title": false,
   "title_cell": "Table of Contents",
   "title_sidebar": "Contents",
   "toc_cell": false,
   "toc_position": {},
   "toc_section_display": true,
   "toc_window_display": false
  }
 },
 "nbformat": 4,
 "nbformat_minor": 5
}
