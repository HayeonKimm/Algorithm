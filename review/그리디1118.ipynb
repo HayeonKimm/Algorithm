{
  "nbformat": 4,
  "nbformat_minor": 0,
  "metadata": {
    "colab": {
      "name": "그리디1118.ipynb",
      "provenance": [],
      "collapsed_sections": []
    },
    "kernelspec": {
      "name": "python3",
      "display_name": "Python 3"
    },
    "language_info": {
      "name": "python"
    }
  },
  "cells": [
    {
      "cell_type": "markdown",
      "metadata": {
        "id": "qMxIw5BSFcmY"
      },
      "source": [
        "# 그리디"
      ]
    },
    {
      "cell_type": "markdown",
      "metadata": {
        "id": "dE02xGstFl6m"
      },
      "source": [
        "# 모험가 길드"
      ]
    },
    {
      "cell_type": "code",
      "metadata": {
        "colab": {
          "base_uri": "https://localhost:8080/"
        },
        "id": "4uACYFx8KMGB",
        "outputId": "2a2f1be2-2b38-48d6-ad70-d7566f7b4cc2"
      },
      "source": [
        "list_=[1,2,3,4]\n",
        "print(max(list_))"
      ],
      "execution_count": 4,
      "outputs": [
        {
          "output_type": "stream",
          "name": "stdout",
          "text": [
            "4\n"
          ]
        }
      ]
    },
    {
      "cell_type": "code",
      "metadata": {
        "colab": {
          "base_uri": "https://localhost:8080/"
        },
        "id": "Q9hoX4k9FrGD",
        "outputId": "067445e1-4b57-43ab-a1a8-36ba94d120a9"
      },
      "source": [
        "n=map(int,input().split())\n",
        "\n",
        "data = list(map(int,input().split()))\n",
        "\n",
        "\n",
        "data.sort()\n",
        "count=0\n",
        "result=0\n",
        "for i in data:\n",
        "\n",
        "  count+=1 # 합류된 수\n",
        "\n",
        "  if count>=i: # 합류된 수가 공포보다 크다면\n",
        "    result+=1\n",
        "    count=0\n",
        "\n",
        "\n",
        "print(result)\n"
      ],
      "execution_count": 17,
      "outputs": [
        {
          "output_type": "stream",
          "name": "stdout",
          "text": [
            "5\n",
            "2 3 1 2 2\n",
            "2\n"
          ]
        }
      ]
    },
    {
      "cell_type": "markdown",
      "metadata": {
        "id": "H43eb_p8Jyoz"
      },
      "source": [
        "# 곱하기 혹은 더하기"
      ]
    },
    {
      "cell_type": "code",
      "metadata": {
        "colab": {
          "base_uri": "https://localhost:8080/"
        },
        "id": "4Gqfqs9TRWvs",
        "outputId": "c74e855d-9a79-4c48-cffe-80b5b0cc486b"
      },
      "source": [
        "s='02984'\n",
        "s_list=[]\n",
        "for i in s:\n",
        "  s_list.append(i)\n",
        "\n",
        "\n",
        "s_list"
      ],
      "execution_count": 26,
      "outputs": [
        {
          "output_type": "execute_result",
          "data": {
            "text/plain": [
              "['0', '2', '9', '8', '4']"
            ]
          },
          "metadata": {},
          "execution_count": 26
        }
      ]
    },
    {
      "cell_type": "code",
      "metadata": {
        "colab": {
          "base_uri": "https://localhost:8080/"
        },
        "id": "0jNDy14KQwuO",
        "outputId": "a1958349-65dc-443c-b520-a09ca3c4f9cc"
      },
      "source": [
        "s = input()\n",
        "\n",
        "\n",
        "sum=1\n",
        "sum_2=0\n",
        "s_list=[]\n",
        "for i in s:\n",
        "  s_list.append(i)\n",
        "\n",
        "\n",
        "for i in s_list:\n",
        "  if i == '0' or i =='1':\n",
        "    sum_2+=int(i)\n",
        "\n",
        "  else:\n",
        "    sum*=int(i)\n",
        "\n",
        "\n",
        "print(sum+sum_2)\n",
        "\n",
        "\n",
        "\n",
        "# 오 한번에 정답.\n"
      ],
      "execution_count": 30,
      "outputs": [
        {
          "output_type": "stream",
          "name": "stdout",
          "text": [
            "567\n",
            "210\n"
          ]
        }
      ]
    },
    {
      "cell_type": "markdown",
      "metadata": {
        "id": "X-HoNyR-Skdi"
      },
      "source": [
        "# 문자열 뒤집기"
      ]
    },
    {
      "cell_type": "code",
      "metadata": {
        "colab": {
          "base_uri": "https://localhost:8080/"
        },
        "id": "kl4i4qjSTMJf",
        "outputId": "3076c403-7603-455c-a182-fc58435c47f6"
      },
      "source": [
        "# 답안 버전\n",
        "\n",
        "data = input()\n",
        "\n",
        "result=int(data[0])\n",
        "\n",
        "\n",
        "for i in range(1,len(data)):\n",
        "  num=int(data[i])\n",
        "  if num<=1 or result<=1:\n",
        "    result+=num\n",
        "\n",
        "  else:\n",
        "    result*=num\n",
        "\n",
        "print(result)"
      ],
      "execution_count": 33,
      "outputs": [
        {
          "output_type": "stream",
          "name": "stdout",
          "text": [
            "567\n",
            "210\n"
          ]
        }
      ]
    },
    {
      "cell_type": "code",
      "metadata": {
        "id": "97l3oVheVKaN"
      },
      "source": [
        ""
      ],
      "execution_count": null,
      "outputs": []
    }
  ]
}