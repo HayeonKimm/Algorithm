{
  "nbformat": 4,
  "nbformat_minor": 0,
  "metadata": {
    "colab": {
      "name": "1203.ipynb",
      "provenance": [],
      "collapsed_sections": [],
      "authorship_tag": "ABX9TyOvTs4hcs7OG8QVtTpYC9aS",
      "include_colab_link": true
    },
    "kernelspec": {
      "name": "python3",
      "display_name": "Python 3"
    },
    "language_info": {
      "name": "python"
    }
  },
  "cells": [
    {
      "cell_type": "markdown",
      "metadata": {
        "id": "view-in-github",
        "colab_type": "text"
      },
      "source": [
        "<a href=\"https://colab.research.google.com/github/HayeonKimm/Algorithm-Note/blob/master/review/1203.ipynb\" target=\"_parent\"><img src=\"https://colab.research.google.com/assets/colab-badge.svg\" alt=\"Open In Colab\"/></a>"
      ]
    },
    {
      "cell_type": "code",
      "metadata": {
        "colab": {
          "base_uri": "https://localhost:8080/"
        },
        "id": "dssK9d95Yb_U",
        "outputId": "a84a9e4f-b31e-48f1-8ba4-609fcd64949e"
      },
      "source": [
        "import sys\n",
        "input=sys.stdin.readline\n",
        "from collections import deque\n",
        "q= deque()\n",
        "stack=[]\n",
        "n,k = map(int,input().split())\n",
        "for i in range(1,n+1):\n",
        "    q.append(i)\n",
        "\n",
        "\n",
        "while q:\n",
        "    for i in range(k-1):\n",
        "\n",
        "        q.append(q.popleft())\n",
        "    stack.append(q.popleft())\n",
        "\n",
        "print('<',end='')\n",
        "\n",
        "for i in range(len(stack)-1):\n",
        "\n",
        "  print('{}, '.format(stack[i]),end='')\n",
        "\n",
        "print('{}>'.format(stack[-1]))\n",
        "        \n"
      ],
      "execution_count": 21,
      "outputs": [
        {
          "output_type": "stream",
          "name": "stdout",
          "text": [
            "7 3\n",
            "<3, 6, 2, 7, 5, 1, 4>\n"
          ]
        }
      ]
    },
    {
      "cell_type": "code",
      "metadata": {
        "colab": {
          "base_uri": "https://localhost:8080/",
          "height": 284
        },
        "id": "nYYjuiepYd34",
        "outputId": "d12c1b63-da01-4e7e-9ea7-33aa65405cd5"
      },
      "source": [
        "# import sys\n",
        "# input=sys.stdin.readline\n",
        "from collections import deque\n",
        "# q= deque()\n",
        "a= int(input())\n",
        "# n,m = map(int,input().split())\n",
        "# n은 문서의 개수, m은 궁금한 문서의 위치\n",
        "# 각 테스트 케이스에 대해 문서가 몇번째로 인쇄되는지 출력하라.\n",
        "# count=0\n",
        "# stack=[]\n",
        "while True:\n",
        "  # q=deque()\n",
        "  # a= int(input())\n",
        "  # n,m = map(int,input().split())\n",
        "  \n",
        "  count=0\n",
        "\n",
        "  for i in range(a):\n",
        "  \n",
        "    # a= int(input())\n",
        "    n,m = map(int,input().split())\n",
        "\n",
        "    q.append(list(map(int,input().split())))\n",
        "    q=q[0]\n",
        "    print(q)\n",
        "    # hint=q[m]\n",
        "    print(hint)\n",
        "    q.reverse()\n",
        "\n",
        " \n",
        "    while q:\n",
        "      \n",
        "      if q[0]==hint:\n",
        "        count+=1\n",
        "        print(count)\n",
        "        break\n",
        "\n",
        "      elif q[0]!=hint:\n",
        "        q.popleft()\n",
        "        count+=1\n",
        "        q=deque()\n",
        "        continue\n",
        "\n",
        "\n",
        "    \n",
        "\n",
        "        \n",
        "      \n",
        "    \n",
        "    \n"
      ],
      "execution_count": 82,
      "outputs": [
        {
          "name": "stdout",
          "output_type": "stream",
          "text": [
            "3\n",
            "1 0\n"
          ]
        },
        {
          "output_type": "error",
          "ename": "AttributeError",
          "evalue": "ignored",
          "traceback": [
            "\u001b[0;31m---------------------------------------------------------------------------\u001b[0m",
            "\u001b[0;31mAttributeError\u001b[0m                            Traceback (most recent call last)",
            "\u001b[0;32m<ipython-input-82-e4f02b78e7bb>\u001b[0m in \u001b[0;36m<module>\u001b[0;34m()\u001b[0m\n\u001b[1;32m     21\u001b[0m     \u001b[0mn\u001b[0m\u001b[0;34m,\u001b[0m\u001b[0mm\u001b[0m \u001b[0;34m=\u001b[0m \u001b[0mmap\u001b[0m\u001b[0;34m(\u001b[0m\u001b[0mint\u001b[0m\u001b[0;34m,\u001b[0m\u001b[0minput\u001b[0m\u001b[0;34m(\u001b[0m\u001b[0;34m)\u001b[0m\u001b[0;34m.\u001b[0m\u001b[0msplit\u001b[0m\u001b[0;34m(\u001b[0m\u001b[0;34m)\u001b[0m\u001b[0;34m)\u001b[0m\u001b[0;34m\u001b[0m\u001b[0;34m\u001b[0m\u001b[0m\n\u001b[1;32m     22\u001b[0m \u001b[0;34m\u001b[0m\u001b[0m\n\u001b[0;32m---> 23\u001b[0;31m     \u001b[0mq\u001b[0m\u001b[0;34m.\u001b[0m\u001b[0mappend\u001b[0m\u001b[0;34m(\u001b[0m\u001b[0mlist\u001b[0m\u001b[0;34m(\u001b[0m\u001b[0mmap\u001b[0m\u001b[0;34m(\u001b[0m\u001b[0mint\u001b[0m\u001b[0;34m,\u001b[0m\u001b[0minput\u001b[0m\u001b[0;34m(\u001b[0m\u001b[0;34m)\u001b[0m\u001b[0;34m.\u001b[0m\u001b[0msplit\u001b[0m\u001b[0;34m(\u001b[0m\u001b[0;34m)\u001b[0m\u001b[0;34m)\u001b[0m\u001b[0;34m)\u001b[0m\u001b[0;34m)\u001b[0m\u001b[0;34m\u001b[0m\u001b[0;34m\u001b[0m\u001b[0m\n\u001b[0m\u001b[1;32m     24\u001b[0m     \u001b[0mq\u001b[0m\u001b[0;34m=\u001b[0m\u001b[0mq\u001b[0m\u001b[0;34m[\u001b[0m\u001b[0;36m0\u001b[0m\u001b[0;34m]\u001b[0m\u001b[0;34m\u001b[0m\u001b[0;34m\u001b[0m\u001b[0m\n\u001b[1;32m     25\u001b[0m     \u001b[0mprint\u001b[0m\u001b[0;34m(\u001b[0m\u001b[0mq\u001b[0m\u001b[0;34m)\u001b[0m\u001b[0;34m\u001b[0m\u001b[0;34m\u001b[0m\u001b[0m\n",
            "\u001b[0;31mAttributeError\u001b[0m: 'map' object has no attribute 'append'"
          ]
        }
      ]
    },
    {
      "cell_type": "code",
      "metadata": {
        "id": "LV5hD2ulvKcr"
      },
      "source": [
        "a = int(input())\n",
        "\n",
        "for _ in range(a):\n",
        "  n,m = list(map(int,input().split()))\n",
        "  imp = list(map(int,input().split()))\n",
        "  idx = list(map(int,input().split()))\n",
        "  idx[m] = 'target'\n",
        "\n",
        "  order = 0\n",
        "\n",
        "  while True:\n",
        "\n",
        "    if imp[0]==max(imp):\n",
        "      order+=1\n",
        "\n",
        "      if imp[0]=='target':\n",
        "        print(order)\n",
        "\n",
        "      else:\n",
        "        imp.pop()"
      ],
      "execution_count": null,
      "outputs": []
    },
    {
      "cell_type": "code",
      "metadata": {
        "colab": {
          "base_uri": "https://localhost:8080/"
        },
        "id": "Df4KqXHcjLhu",
        "outputId": "2bb3bf5a-ec38-4124-d0fc-72cd525ba946"
      },
      "source": [
        "5\\q=deque()\n",
        "q.append(1)\n",
        "q.append(2)\n",
        "print(q[1])"
      ],
      "execution_count": 73,
      "outputs": [
        {
          "output_type": "stream",
          "name": "stdout",
          "text": [
            "2\n"
          ]
        }
      ]
    },
    {
      "cell_type": "code",
      "metadata": {
        "colab": {
          "base_uri": "https://localhost:8080/"
        },
        "id": "QSTXbCXmmsqp",
        "outputId": "377885b2-a2e0-4aba-d9b9-3e3901714b1d"
      },
      "source": [
        "test_cases = int(input())\n",
        "\n",
        "for _ in range(test_cases):\n",
        "    n,m = list(map(int, input().split( )))\n",
        "    imp = list(map(int, input().split( )))\n",
        "    idx = list(range(len(imp)))\n",
        "    idx[m] = 'target'\n",
        "\n",
        "    # 순서\n",
        "    order = 0\n",
        "    \n",
        "    while True:\n",
        "        # 첫번째 if: imp의 첫번째 값 = 최댓값?\n",
        "        if imp[0]==max(imp):\n",
        "            order += 1\n",
        "                        \n",
        "            # 두번째 if: idx의 첫 번째 값 = \"target\"?\n",
        "            if idx[0]=='target':\n",
        "                print(order)\n",
        "                break\n",
        "            else:\n",
        "                imp.pop(0)\n",
        "                idx.pop(0)\n",
        "\n",
        "        else:\n",
        "            imp.append(imp.pop(0))\n",
        "            idx.append(idx.pop(0))        "
      ],
      "execution_count": 83,
      "outputs": [
        {
          "output_type": "stream",
          "name": "stdout",
          "text": [
            "3\n",
            "1 0\n",
            "5\n",
            "1\n",
            "4 2\n",
            "1 2 3 4\n",
            "2\n",
            "6 0\n",
            "1 1 9 1 1 1\n",
            "5\n"
          ]
        }
      ]
    },
    {
      "cell_type": "code",
      "metadata": {
        "id": "wTOe_hGTtB3r"
      },
      "source": [
        ""
      ],
      "execution_count": null,
      "outputs": []
    }
  ]
}