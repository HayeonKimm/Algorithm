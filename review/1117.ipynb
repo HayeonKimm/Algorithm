{
 "cells": [
  {
   "cell_type": "code",
   "execution_count": 5,
   "id": "20bfd4fb",
   "metadata": {
    "ExecuteTime": {
     "end_time": "2021-11-17T03:07:21.286848Z",
     "start_time": "2021-11-17T03:07:21.274881Z"
    }
   },
   "outputs": [
    {
     "name": "stdout",
     "output_type": "stream",
     "text": [
      "6\n"
     ]
    }
   ],
   "source": [
    "# 1117\n",
    "\n",
    "\n",
    "n=1260\n",
    "count=0\n",
    "\n",
    "\n",
    "coin_types=[500,100,50,10]\n",
    "\n",
    "for i in coin_types:\n",
    "    count+=n//i\n",
    "    n=n%i\n",
    "    \n",
    "    \n",
    "print(count)"
   ]
  },
  {
   "cell_type": "code",
   "execution_count": 11,
   "id": "af3defc1",
   "metadata": {
    "ExecuteTime": {
     "end_time": "2021-11-17T03:21:05.751129Z",
     "start_time": "2021-11-17T03:20:59.947547Z"
    }
   },
   "outputs": [
    {
     "name": "stdout",
     "output_type": "stream",
     "text": [
      "5\n",
      "R R R U D D\n"
     ]
    },
    {
     "ename": "NameError",
     "evalue": "name 'nx' is not defined",
     "output_type": "error",
     "traceback": [
      "\u001b[1;31m---------------------------------------------------------------------------\u001b[0m",
      "\u001b[1;31mNameError\u001b[0m                                 Traceback (most recent call last)",
      "\u001b[1;32m~\\AppData\\Local\\Temp/ipykernel_23732/130741599.py\u001b[0m in \u001b[0;36m<module>\u001b[1;34m\u001b[0m\n\u001b[0;32m     22\u001b[0m             \u001b[0mny\u001b[0m \u001b[1;33m=\u001b[0m \u001b[0my\u001b[0m\u001b[1;33m+\u001b[0m\u001b[0mdy\u001b[0m\u001b[1;33m[\u001b[0m\u001b[0mi\u001b[0m\u001b[1;33m]\u001b[0m\u001b[1;33m\u001b[0m\u001b[1;33m\u001b[0m\u001b[0m\n\u001b[0;32m     23\u001b[0m \u001b[1;33m\u001b[0m\u001b[0m\n\u001b[1;32m---> 24\u001b[1;33m     \u001b[1;32mif\u001b[0m \u001b[0mnx\u001b[0m\u001b[1;33m>\u001b[0m\u001b[0mn\u001b[0m \u001b[1;32mor\u001b[0m \u001b[0mny\u001b[0m\u001b[1;33m>\u001b[0m\u001b[0mn\u001b[0m \u001b[1;32mor\u001b[0m \u001b[0mnx\u001b[0m\u001b[1;33m<\u001b[0m\u001b[1;36m1\u001b[0m \u001b[1;32mor\u001b[0m \u001b[0mny\u001b[0m\u001b[1;33m<\u001b[0m\u001b[1;36m1\u001b[0m\u001b[1;33m:\u001b[0m\u001b[1;33m\u001b[0m\u001b[1;33m\u001b[0m\u001b[0m\n\u001b[0m\u001b[0;32m     25\u001b[0m \u001b[1;33m\u001b[0m\u001b[0m\n\u001b[0;32m     26\u001b[0m         \u001b[1;32mcontinue\u001b[0m\u001b[1;33m\u001b[0m\u001b[1;33m\u001b[0m\u001b[0m\n",
      "\u001b[1;31mNameError\u001b[0m: name 'nx' is not defined"
     ]
    }
   ],
   "source": [
    "# 왕실의 나이트\n",
    "\n",
    "\n",
    "n = int(input())\n",
    "\n",
    "plans = list(input().split())\n",
    "\n",
    "alpa = ['L','R','U','D']\n",
    "\n",
    "x,y=1,1\n",
    "\n",
    "dx=[0,0,-1,1]\n",
    "dy=[-1,1,0,0]\n",
    "\n",
    "for plan in plans:\n",
    "    \n",
    "    for i in range(len(alpa)):\n",
    "    \n",
    "        if  plans == alpa[i]:\n",
    "            \n",
    "            nx = x+dx[i]\n",
    "            ny = y+dy[i]\n",
    "\n",
    "    if nx>n or ny>n or nx<1 or ny<1:\n",
    "\n",
    "        continue\n",
    "            \n",
    "    x,y = nx,ny\n",
    "\n",
    "print(x,y)\n",
    "            \n",
    "            "
   ]
  },
  {
   "cell_type": "code",
   "execution_count": 14,
   "id": "5cfe00ce",
   "metadata": {
    "ExecuteTime": {
     "end_time": "2021-11-17T03:26:55.162830Z",
     "start_time": "2021-11-17T03:26:49.509210Z"
    }
   },
   "outputs": [
    {
     "name": "stdout",
     "output_type": "stream",
     "text": [
      "5\n",
      "R R R U D D\n",
      "3 4\n"
     ]
    }
   ],
   "source": [
    "# 왕실의 나이트\n",
    "\n",
    "\n",
    "n = int(input())\n",
    "\n",
    "plans = list(input().split())\n",
    "alpa = ['L','R','U','D']\n",
    "\n",
    "x,y=1,1\n",
    "\n",
    "dx=[0,0,-1,1]\n",
    "dy=[-1,1,0,0]\n",
    "\n",
    "for plan in plans:\n",
    "    \n",
    "    for i in range(len(alpa)):\n",
    "    \n",
    "        if  plan == alpa[i]:\n",
    "            \n",
    "            nx = x+dx[i]\n",
    "            ny = y+dy[i]\n",
    "\n",
    "    if nx>n or ny>n or nx<1 or ny<1:\n",
    "\n",
    "        continue\n",
    "            \n",
    "    x,y = nx,ny\n",
    "\n",
    "print(x,y)\n",
    "            \n",
    "            "
   ]
  },
  {
   "cell_type": "code",
   "execution_count": 15,
   "id": "84327ca1",
   "metadata": {
    "ExecuteTime": {
     "end_time": "2021-11-17T04:47:18.199561Z",
     "start_time": "2021-11-17T04:47:18.190584Z"
    }
   },
   "outputs": [
    {
     "name": "stdout",
     "output_type": "stream",
     "text": [
      "10\n",
      "9\n",
      "8\n",
      "7\n",
      "6\n",
      "5\n",
      "4\n",
      "3\n",
      "2\n",
      "1\n"
     ]
    }
   ],
   "source": [
    "for i in range(10,0,-1):\n",
    "    print(i)"
   ]
  }
 ],
 "metadata": {
  "hide_input": false,
  "kernelspec": {
   "display_name": "Python 3 (ipykernel)",
   "language": "python",
   "name": "python3"
  },
  "language_info": {
   "codemirror_mode": {
    "name": "ipython",
    "version": 3
   },
   "file_extension": ".py",
   "mimetype": "text/x-python",
   "name": "python",
   "nbconvert_exporter": "python",
   "pygments_lexer": "ipython3",
   "version": "3.8.11"
  },
  "toc": {
   "base_numbering": 1,
   "nav_menu": {},
   "number_sections": true,
   "sideBar": true,
   "skip_h1_title": false,
   "title_cell": "Table of Contents",
   "title_sidebar": "Contents",
   "toc_cell": false,
   "toc_position": {},
   "toc_section_display": true,
   "toc_window_display": false
  }
 },
 "nbformat": 4,
 "nbformat_minor": 5
}
