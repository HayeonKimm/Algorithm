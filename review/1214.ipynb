{
 "cells": [
  {
   "cell_type": "code",
   "execution_count": 1,
   "id": "039f007b",
   "metadata": {
    "ExecuteTime": {
     "end_time": "2021-12-14T08:10:35.174016Z",
     "start_time": "2021-12-14T08:10:35.165995Z"
    }
   },
   "outputs": [],
   "source": [
    "#가장 긴 팰린드롬 부분 문자열\n",
    "#가장 긴 팰린드롬 부분 문자열을 출력하라"
   ]
  },
  {
   "cell_type": "code",
   "execution_count": 2,
   "id": "96040b2e",
   "metadata": {
    "ExecuteTime": {
     "end_time": "2021-12-14T08:10:52.545416Z",
     "start_time": "2021-12-14T08:10:52.514471Z"
    }
   },
   "outputs": [],
   "source": [
    "s='babad'\n",
    "# output = 'bab'"
   ]
  },
  {
   "cell_type": "code",
   "execution_count": 3,
   "id": "8fe55d37",
   "metadata": {
    "ExecuteTime": {
     "end_time": "2021-12-14T08:14:23.384480Z",
     "start_time": "2021-12-14T08:14:23.359503Z"
    }
   },
   "outputs": [],
   "source": [
    "def longestPalindrome(self, s):\n",
    "    \n",
    "    def expand(left, right):\n",
    "        \n",
    "        while left>=0 and right<len(s) and s[left]==s[right]:\n",
    "            left-=1\n",
    "            right+=1\n",
    "        \n",
    "        return s[left+1:right]\n",
    "    \n",
    "    # 해당 사항이 없을 때 빠르게 리턴\n",
    "    \n",
    "    if len(s)<2 or s==s[::-1]:\n",
    "        return s\n",
    "    \n",
    "    result=''\n",
    "    # 슬라이딩 윈도우 우측으로 이동\n",
    "    for i in range(len(s)-1):\n",
    "        result=max(result,\n",
    "                  expand(i,i+1),\n",
    "                  expand(i,i+2),\n",
    "                  key=len)\n",
    "        \n",
    "    return result"
   ]
  },
  {
   "cell_type": "code",
   "execution_count": 6,
   "id": "807c8ead",
   "metadata": {
    "ExecuteTime": {
     "end_time": "2021-12-14T08:18:30.361922Z",
     "start_time": "2021-12-14T08:18:30.338035Z"
    }
   },
   "outputs": [],
   "source": [
    "# 두 수의 합\n",
    "# 덧셈하여 타겟을 만들 수 있는 배열의 두 숫자 인덱스를 리턴하라.\n",
    "\n",
    "nums=[2,7,11,15]\n",
    "target=9\n",
    "\n",
    "def two(self,nums,target):\n",
    "    nums_map={}\n",
    "    \n",
    "    for i, num in enumerate(nums):\n",
    "        nums_map[num]=i\n",
    "        \n",
    "    # 타겟에서 첫 번째 수를 뺀 결과를 키로 조회\n",
    "    \n",
    "    for i, num in enumerate(nums):\n",
    "        if target-num in nums_map and i!= nums_map[target-num]:\n",
    "            return [i, nums_map[target-num]]"
   ]
  },
  {
   "cell_type": "code",
   "execution_count": 8,
   "id": "8152d084",
   "metadata": {
    "ExecuteTime": {
     "end_time": "2021-12-14T08:44:17.269349Z",
     "start_time": "2021-12-14T08:44:17.246666Z"
    }
   },
   "outputs": [],
   "source": [
    "# 빗물 트래핑\n",
    "\n",
    "# 높이를 입력받아 비 온 후 얼마나 많은 물이 쌓일 수 있는지 계산하라\n",
    "\n",
    "s=[0,1,0,2,1,0,1,3,2,1,2,1]\n",
    "\n",
    "## 투 포인터 이용\n",
    "\n",
    "def trap(self,s):\n",
    "    \n",
    "    if not s:\n",
    "        return 0\n",
    "    \n",
    "    volume=0\n",
    "    left,right= 0, len(height)-1\n",
    "    left_max, right_max = height[left],height[right]\n",
    "    \n",
    "    while left<right:\n",
    "        left_max, right_max = max(height[left], left_max),max(height[right], right_max)\n",
    "        \n",
    "        if left_max <= right_max:\n",
    "            volume += left_max - height[left]\n",
    "            left+=1\n",
    "        \n",
    "        else:\n",
    "            volume += right_max - height[right]\n",
    "            right-=1\n",
    "            \n",
    "    return volume\n",
    "            "
   ]
  },
  {
   "cell_type": "code",
   "execution_count": 9,
   "id": "ef57338a",
   "metadata": {
    "ExecuteTime": {
     "end_time": "2021-12-14T08:45:05.491660Z",
     "start_time": "2021-12-14T08:45:05.477256Z"
    }
   },
   "outputs": [],
   "source": [
    "# 세 수의 합\n",
    "# 배열을 입력받아 합으로 0을 만들 수 있는 3개의 엘리먼트를 출력하라.\n",
    "\n",
    "nums=[-1,0,1,2,-1,-4]"
   ]
  },
  {
   "cell_type": "code",
   "execution_count": 13,
   "id": "8a0129fc",
   "metadata": {
    "ExecuteTime": {
     "end_time": "2021-12-14T08:53:09.220108Z",
     "start_time": "2021-12-14T08:53:09.183205Z"
    }
   },
   "outputs": [
    {
     "name": "stdout",
     "output_type": "stream",
     "text": [
      "[]\n",
      "[[-1, -1, 2], [-1, 0, 1]]\n",
      "[[-1, -1, 2], [-1, 0, 1]]\n"
     ]
    }
   ],
   "source": [
    "results=[]\n",
    "nums.sort()\n",
    "\n",
    "for i in range(len(nums)-2):\n",
    "    # 중복값 건너뛰기\n",
    "    if i>0 and nums[i]==nums[i-1]:\n",
    "        continue\n",
    "        \n",
    "    # 간격을 좁혀가면서 합 sum 계산\n",
    "    \n",
    "    left,right = i+1, len(nums)-1\n",
    "    \n",
    "    while left<right:\n",
    "        sum = nums[i]+nums[left]+nums[right]\n",
    "        if sum<0:\n",
    "            left+=1\n",
    "        elif sum>0:\n",
    "            right-=1\n",
    "            \n",
    "        else:\n",
    "            results.append([nums[i],nums[left],nums[right]])\n",
    "            \n",
    "            # sum=0인 경우이므로 정답 및 스킵 처리\n",
    "            \n",
    "            while left<right and nums[left]==nums[left+1]:\n",
    "                left+=1\n",
    "                \n",
    "            while left<right and nums[right]==nums[right-1]:\n",
    "                right-=1\n",
    "            \n",
    "            left+=1\n",
    "            right-=1\n",
    "            \n",
    "    print(results)"
   ]
  },
  {
   "cell_type": "code",
   "execution_count": null,
   "id": "4c5ac3bb",
   "metadata": {},
   "outputs": [],
   "source": []
  }
 ],
 "metadata": {
  "hide_input": false,
  "kernelspec": {
   "display_name": "Python 3 (ipykernel)",
   "language": "python",
   "name": "python3"
  },
  "language_info": {
   "codemirror_mode": {
    "name": "ipython",
    "version": 3
   },
   "file_extension": ".py",
   "mimetype": "text/x-python",
   "name": "python",
   "nbconvert_exporter": "python",
   "pygments_lexer": "ipython3",
   "version": "3.8.11"
  }
 },
 "nbformat": 4,
 "nbformat_minor": 5
}
