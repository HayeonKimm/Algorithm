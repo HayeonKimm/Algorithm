{
 "cells": [
  {
   "cell_type": "markdown",
   "id": "1ee40713",
   "metadata": {},
   "source": [
    "# DFS"
   ]
  },
  {
   "cell_type": "code",
   "execution_count": 6,
   "id": "ebc3f80d",
   "metadata": {
    "ExecuteTime": {
     "end_time": "2021-11-13T11:18:30.451034Z",
     "start_time": "2021-11-13T11:18:30.442048Z"
    }
   },
   "outputs": [
    {
     "name": "stdout",
     "output_type": "stream",
     "text": [
      "1 2 7 6 8 3 4 5 "
     ]
    }
   ],
   "source": [
    "def dfs(graph,v,visited):\n",
    "    \n",
    "\n",
    "\n",
    "    visited[v]=True # 방문처리\n",
    "    print(v, end=' ')\n",
    "\n",
    "    # 현재 노드와 연결된 다른 노드를 재귀적으로 방문\n",
    "\n",
    "    for i in graph[v]:\n",
    "        if not visited[i]: # 방문을 안했다면\n",
    "            dfs(graph,i,visited)\n",
    "    \n",
    "    \n",
    "        # 출석부\n",
    "visited=[False]*9\n",
    "\n",
    "graph=[\n",
    "    [],\n",
    "    [2,3,8],\n",
    "    [1,7],\n",
    "    [1,4,5],\n",
    "    [3,5],\n",
    "    [3,4],\n",
    "    [7],\n",
    "    [2,6,8],\n",
    "    [1,7]\n",
    "]\n",
    "    \n",
    "    \n",
    "        \n",
    "dfs(graph,1,visited)"
   ]
  },
  {
   "cell_type": "markdown",
   "id": "266a1389",
   "metadata": {},
   "source": [
    "## 음료수 채우기"
   ]
  },
  {
   "cell_type": "code",
   "execution_count": 12,
   "id": "e9a4c019",
   "metadata": {
    "ExecuteTime": {
     "end_time": "2021-11-13T11:37:14.202826Z",
     "start_time": "2021-11-13T11:34:32.709846Z"
    }
   },
   "outputs": [
    {
     "name": "stdout",
     "output_type": "stream",
     "text": [
      "15 14\n",
      "00000111100000\n",
      "11111101111110\n",
      "11011101101110\n",
      "11011101100000\n",
      "11011111111111\n",
      "11011111111100\n",
      "11000000011111\n",
      "01111111111111\n",
      "0000000011111\n",
      "x\n"
     ]
    },
    {
     "ename": "ValueError",
     "evalue": "invalid literal for int() with base 10: 'x'",
     "output_type": "error",
     "traceback": [
      "\u001b[1;31m---------------------------------------------------------------------------\u001b[0m",
      "\u001b[1;31mValueError\u001b[0m                                Traceback (most recent call last)",
      "\u001b[1;32m~\\AppData\\Local\\Temp/ipykernel_24272/4218378920.py\u001b[0m in \u001b[0;36m<module>\u001b[1;34m\u001b[0m\n\u001b[0;32m      5\u001b[0m \u001b[0mgraph\u001b[0m \u001b[1;33m=\u001b[0m \u001b[1;33m[\u001b[0m\u001b[1;33m]\u001b[0m\u001b[1;33m\u001b[0m\u001b[1;33m\u001b[0m\u001b[0m\n\u001b[0;32m      6\u001b[0m \u001b[1;32mfor\u001b[0m \u001b[0m_\u001b[0m \u001b[1;32min\u001b[0m \u001b[0mrange\u001b[0m\u001b[1;33m(\u001b[0m\u001b[0mn\u001b[0m\u001b[1;33m)\u001b[0m\u001b[1;33m:\u001b[0m\u001b[1;33m\u001b[0m\u001b[1;33m\u001b[0m\u001b[0m\n\u001b[1;32m----> 7\u001b[1;33m     \u001b[0mgraph\u001b[0m\u001b[1;33m.\u001b[0m\u001b[0mappend\u001b[0m\u001b[1;33m(\u001b[0m\u001b[0mlist\u001b[0m\u001b[1;33m(\u001b[0m\u001b[0mmap\u001b[0m\u001b[1;33m(\u001b[0m\u001b[0mint\u001b[0m\u001b[1;33m,\u001b[0m\u001b[0minput\u001b[0m\u001b[1;33m(\u001b[0m\u001b[1;33m)\u001b[0m\u001b[1;33m.\u001b[0m\u001b[0msplit\u001b[0m\u001b[1;33m(\u001b[0m\u001b[1;33m)\u001b[0m\u001b[1;33m)\u001b[0m\u001b[1;33m)\u001b[0m\u001b[1;33m)\u001b[0m\u001b[1;33m\u001b[0m\u001b[1;33m\u001b[0m\u001b[0m\n\u001b[0m\u001b[0;32m      8\u001b[0m \u001b[1;33m\u001b[0m\u001b[0m\n\u001b[0;32m      9\u001b[0m \u001b[1;33m\u001b[0m\u001b[0m\n",
      "\u001b[1;31mValueError\u001b[0m: invalid literal for int() with base 10: 'x'"
     ]
    }
   ],
   "source": [
    "n,m = map(int,input().split())\n",
    "\n",
    "\n",
    "# 맵 정보 만들기\n",
    "graph = []\n",
    "for _ in range(n):\n",
    "    graph.append(list(map(int,input().split())))\n",
    "    \n",
    "    \n",
    "result=0\n",
    "    \n",
    "    \n",
    "def dfs(x,y):\n",
    "    \n",
    "    if x<=-1 or y<=-1 or x>n or y>n:\n",
    "        \n",
    "        return False\n",
    "    \n",
    "    if graph[x][y]==0: # 미방문 자리면\n",
    "        \n",
    "        graph[x][y]=1\n",
    "        \n",
    "        dfs[x][y-1]\n",
    "        dfs[x-1][y]\n",
    "        dfs[x][y+1]\n",
    "        dfs[x+1][y]\n",
    "        \n",
    "        return True\n",
    "    \n",
    "    return False\n",
    "\n",
    "# 모든 노드에 음료수 채우기\n",
    "\n",
    "for i in range(n):\n",
    "    for j in range(m):\n",
    "        \n",
    "        if graph[i][j]==0:\n",
    "            result+=1 \n",
    "            dfs[i,j]\n",
    "            \n",
    "        else:\n",
    "            continue\n",
    "print(result) "
   ]
  },
  {
   "cell_type": "code",
   "execution_count": null,
   "id": "4075caab",
   "metadata": {},
   "outputs": [],
   "source": [
    "n,m = map(int,input().split())\n",
    "\n",
    "graph=[]\n",
    "\n",
    "\n",
    "for _ in range(n):\n",
    "    graph.append(list(map(int,input().split())))\n",
    "    \n",
    "    \n",
    "def dfs(x,y):\n",
    "    \n",
    "    if x<=-1 y<=-1 or x>n or y>m:\n",
    "        \n",
    "        return False\n",
    "    \n",
    "    if graph[x][y]==0:\n",
    "        \n",
    "        graph[x][y]=1\n",
    "        \n",
    "        \n",
    "        dfs[x][y-1]\n",
    "        dfs[x][y+1]\n",
    "        df[x-1][y]\n",
    "        dfs[x+1][y]\n",
    "        \n",
    "        \n",
    "        return True\n",
    "    \n",
    "    return False\n",
    "\n",
    "\n",
    "for i in range(n):\n",
    "    for j in range(m):\n",
    "        \n",
    "        if dfs(i,j) == True:\n",
    "            result+=1\n",
    "            \n",
    "            \n",
    "printi(result)s\n"
   ]
  }
 ],
 "metadata": {
  "hide_input": false,
  "kernelspec": {
   "display_name": "Python 3 (ipykernel)",
   "language": "python",
   "name": "python3"
  },
  "language_info": {
   "codemirror_mode": {
    "name": "ipython",
    "version": 3
   },
   "file_extension": ".py",
   "mimetype": "text/x-python",
   "name": "python",
   "nbconvert_exporter": "python",
   "pygments_lexer": "ipython3",
   "version": "3.8.11"
  }
 },
 "nbformat": 4,
 "nbformat_minor": 5
}
