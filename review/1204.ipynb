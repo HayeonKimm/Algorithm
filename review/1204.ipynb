{
  "nbformat": 4,
  "nbformat_minor": 0,
  "metadata": {
    "colab": {
      "name": "1204.ipynb",
      "provenance": [],
      "collapsed_sections": [],
      "authorship_tag": "ABX9TyNMTA/0Qr8Hq/xz7n0+qbtX",
      "include_colab_link": true
    },
    "kernelspec": {
      "name": "python3",
      "display_name": "Python 3"
    },
    "language_info": {
      "name": "python"
    }
  },
  "cells": [
    {
      "cell_type": "markdown",
      "metadata": {
        "id": "view-in-github",
        "colab_type": "text"
      },
      "source": [
        "<a href=\"https://colab.research.google.com/github/HayeonKimm/Algorithm-Note/blob/master/review/1204.ipynb\" target=\"_parent\"><img src=\"https://colab.research.google.com/assets/colab-badge.svg\" alt=\"Open In Colab\"/></a>"
      ]
    },
    {
      "cell_type": "code",
      "metadata": {
        "colab": {
          "base_uri": "https://localhost:8080/"
        },
        "id": "zsCkiB7xQ--n",
        "outputId": "0228f1e9-cc0a-40e9-8243-8506ce422dae"
      },
      "source": [
        "import sys\n",
        "\n",
        "input=sys.stdin.readline\n",
        "\n",
        "a = int(input())\n",
        "\n",
        "for _ in range(a):\n",
        "  n,m = map(int,input().split())\n",
        "  lst = list(map(int,input().split()))\n",
        "  idx = list(range(len(lst)))\n",
        "  idx[m]='target'\n",
        "\n",
        "  order=0\n",
        "\n",
        "  while True:\n",
        "\n",
        "    if lst[0] == max(lst):\n",
        "      order+=1\n",
        "\n",
        "      if idx[0] == 'target':\n",
        "        print(order)\n",
        "        break\n",
        "      \n",
        "      else:\n",
        "        lst.pop(0)\n",
        "        idx.pop(0)\n",
        "\n",
        "    else:\n",
        "      lst.append(lst.pop(0))\n",
        "      idx.append(idx.pop(0))"
      ],
      "execution_count": null,
      "outputs": [
        {
          "output_type": "stream",
          "name": "stdout",
          "text": [
            "3\n",
            "1 0\n",
            "5\n",
            "1\n",
            "4 2\n",
            "1 2 3 4\n",
            "2\n",
            "6 0\n",
            "1 1 9 1 1 1\n",
            "5\n"
          ]
        }
      ]
    },
    {
      "cell_type": "markdown",
      "metadata": {
        "id": "jiJ__N4RSjnq"
      },
      "source": [
        "# 11650 백준 파이썬\n",
        "\n",
        "## 정렬"
      ]
    },
    {
      "cell_type": "markdown",
      "metadata": {
        "id": "SF91p52sS3Y3"
      },
      "source": [
        "내 풀이"
      ]
    },
    {
      "cell_type": "code",
      "metadata": {
        "colab": {
          "base_uri": "https://localhost:8080/"
        },
        "id": "hwoZB9w1Qh9r",
        "outputId": "1a7450ae-1b22-47b6-a316-dfb8226cf253"
      },
      "source": [
        "# 좌표를 x 좌표가 증가하는 순으로\n",
        "# x가 같으면 y로 정렬\n",
        "\n",
        "\n",
        "n = int(input())\n",
        "\n",
        "lst=[]\n",
        "\n",
        "for _ in range(n):\n",
        "  lst.append(list(map(int,input().split())))\n",
        "\n",
        "\n",
        "lst.sort()\n",
        "\n",
        "for i in range(len(lst)):\n",
        "\n",
        "  print(lst[i][0],lst[i][1])\n",
        "\n",
        "\n",
        "# print(lst)\n",
        "\n",
        "\n",
        "# for x in range(len(lst)):\n",
        "\n",
        "#   if x[i][0] = max(x[:][0]):\n",
        "#     x[i][0]"
      ],
      "execution_count": 29,
      "outputs": [
        {
          "output_type": "stream",
          "name": "stdout",
          "text": [
            "5\n",
            "3 4\n",
            "1 1\n",
            "1 -1\n",
            "2 2\n",
            "3 3\n",
            "1 -1\n",
            "1 1\n",
            "2 2\n",
            "3 3\n",
            "3 4\n"
          ]
        }
      ]
    },
    {
      "cell_type": "markdown",
      "metadata": {
        "id": "kAYuBolbRZ8Y"
      },
      "source": [
        "다른 사람 풀이"
      ]
    },
    {
      "cell_type": "code",
      "metadata": {
        "colab": {
          "base_uri": "https://localhost:8080/"
        },
        "id": "b3ezqeTKUWB8",
        "outputId": "1d1ae06a-9f33-4bb4-c3c2-6fefb85af839"
      },
      "source": [
        "import sys\n",
        "input =sys.stdin.readline\n",
        "\n",
        "n = int(input())\n",
        "\n",
        "li = []\n",
        "\n",
        "for _ in range(N):\n",
        "  x,y = map(int,input().split())\n",
        "\n",
        "  li.append([x,y])\n",
        "\n",
        "li.sort(key=lambda x: (x[0],x[1])) # 각 요소들의 x값과 y의 값 기준으로 정렬 \n",
        "\n",
        "for i in range(len(li)):\n",
        "  print(li[i][0],li[i][1])"
      ],
      "execution_count": 27,
      "outputs": [
        {
          "output_type": "stream",
          "name": "stdout",
          "text": [
            "3 4\n",
            "3 4\n"
          ]
        }
      ]
    },
    {
      "cell_type": "markdown",
      "metadata": {
        "id": "BPDLdfPnbXdx"
      },
      "source": [
        "# 11651 좌표 정렬하기 2 백준  "
      ]
    },
    {
      "cell_type": "code",
      "metadata": {
        "colab": {
          "base_uri": "https://localhost:8080/"
        },
        "id": "LYz5g8qFYy1P",
        "outputId": "6d3cc303-c22f-4320-e02d-bf24ece89f2d"
      },
      "source": [
        "n = int(input())\n",
        "lst=[]\n",
        "\n",
        "for _ in range(n):\n",
        "\n",
        "  lst.append(list(map(int,input().split())))\n",
        "\n",
        "lst.sort(key=lambda x: (x[1],x[0]))\n",
        "\n",
        "for i in range(len(lst)):\n",
        "\n",
        "  print(lst[i][0],lst[i][1])"
      ],
      "execution_count": 5,
      "outputs": [
        {
          "output_type": "stream",
          "name": "stdout",
          "text": [
            "5\n",
            "0 4\n",
            "1 2\n",
            "1 -1\n",
            "2 2\n",
            "3 3\n",
            "1 -1\n",
            "1 2\n",
            "2 2\n",
            "3 3\n",
            "0 4\n"
          ]
        }
      ]
    },
    {
      "cell_type": "markdown",
      "metadata": {
        "id": "dibmWMmnaryp"
      },
      "source": [
        "# 1181 단어 정렬 백준 "
      ]
    },
    {
      "cell_type": "code",
      "metadata": {
        "colab": {
          "base_uri": "https://localhost:8080/"
        },
        "id": "Z11Qy1dSbhbs",
        "outputId": "3c4e328c-49b9-4c24-9741-1d3d8949da55"
      },
      "source": [
        "n = int(input())\n",
        "lst=[]\n",
        "\n",
        "for i in range(n):\n",
        "  lst.append(input())\n",
        "\n",
        "lst=list(set(lst))\n",
        "lst.sort(key=lambda x: (len(x),x)) # key는 각 안의 요소 기준으로 생각한다.\n",
        "\n",
        "for a in lst:\n",
        "  print(a)"
      ],
      "execution_count": 26,
      "outputs": [
        {
          "output_type": "stream",
          "name": "stdout",
          "text": [
            "5\n",
            "but\n",
            "i\n",
            "and\n",
            "hey\n",
            "kkkk\n",
            "i\n",
            "and\n",
            "but\n",
            "hey\n",
            "kkkk\n"
          ]
        }
      ]
    },
    {
      "cell_type": "code",
      "metadata": {
        "colab": {
          "base_uri": "https://localhost:8080/"
        },
        "id": "wBH6fdSedKI1",
        "outputId": "cd4fa663-90b6-4192-aafb-65d0acc716f9"
      },
      "source": [
        "lst"
      ],
      "execution_count": 24,
      "outputs": [
        {
          "output_type": "execute_result",
          "data": {
            "text/plain": [
              "['ab', 'ba', 'aad', 'fffff']"
            ]
          },
          "metadata": {},
          "execution_count": 24
        }
      ]
    },
    {
      "cell_type": "markdown",
      "metadata": {
        "id": "1YhOdFhRlxtK"
      },
      "source": [
        "# 10989번 수 정렬하기 3"
      ]
    },
    {
      "cell_type": "code",
      "metadata": {
        "colab": {
          "base_uri": "https://localhost:8080/"
        },
        "id": "1t-zMZksgfNg",
        "outputId": "ce9074a4-67e7-44dd-9364-a766a61af9d2"
      },
      "source": [
        "n=int(input())\n",
        "\n",
        "lst2 = [0]* 10001\n",
        "\n",
        "\n",
        "for _ in range(n):\n",
        "  \n",
        "  lst2[int(input())]+=1\n",
        "\n",
        "               \n",
        "for x in range(len(lst2)):\n",
        "    \n",
        "    if lst2[x]!=0:\n",
        "        \n",
        "        for k in range(lst2[x]):\n",
        "            \n",
        "            print(x)"
      ],
      "execution_count": 8,
      "outputs": [
        {
          "output_type": "stream",
          "name": "stdout",
          "text": [
            "10\n",
            "5\n",
            "2\n",
            "3\n",
            "1\n",
            "4\n",
            "2\n",
            "3\n",
            "5\n",
            "1\n",
            "7\n",
            "1\n",
            "1\n",
            "2\n",
            "2\n",
            "3\n",
            "3\n",
            "4\n",
            "5\n",
            "5\n",
            "7\n"
          ]
        }
      ]
    },
    {
      "cell_type": "code",
      "metadata": {
        "id": "esMLCGnZlz4j"
      },
      "source": [
        "list_=list(range(100))\n",
        "\n",
        "list_"
      ],
      "execution_count": null,
      "outputs": []
    },
    {
      "cell_type": "code",
      "metadata": {
        "colab": {
          "base_uri": "https://localhost:8080/"
        },
        "id": "-bTIWYEXmNTR",
        "outputId": "1eedd0b1-6111-4ae0-841d-f17af9b984a9"
      },
      "source": [
        "lst=[1,2,3]\n",
        "\n",
        "idx = list(range(len(lst)))\n",
        "\n",
        "idx"
      ],
      "execution_count": 1,
      "outputs": [
        {
          "output_type": "execute_result",
          "data": {
            "text/plain": [
              "[0, 1, 2]"
            ]
          },
          "metadata": {},
          "execution_count": 1
        }
      ]
    },
    {
      "cell_type": "code",
      "metadata": {
        "id": "s7ebzPnWAfUv"
      },
      "source": [
        "2606 "
      ],
      "execution_count": null,
      "outputs": []
    },
    {
      "cell_type": "code",
      "metadata": {
        "id": "Riwnp5NFAe8y"
      },
      "source": [
        ""
      ],
      "execution_count": null,
      "outputs": []
    },
    {
      "cell_type": "markdown",
      "metadata": {
        "id": "dp0hNMmUpiCz"
      },
      "source": [
        "# 백준 7562 파이썬 \n",
        "# BFS"
      ]
    },
    {
      "cell_type": "markdown",
      "metadata": {
        "id": "pRyOsDwh1fjt"
      },
      "source": [
        "체스판 위에 한 나이트가 놓여져 있다.    \n",
        "나이트가 한 번에 이동할 수 있는 칸은 아래 그림에 나와있다.    \n",
        "\n",
        "나이트가 이동하려고 하는 칸이 주어진다. 나이트는 몇 번 움직이면 이 칸으로 이동할 수 있을까?"
      ]
    },
    {
      "cell_type": "code",
      "metadata": {
        "id": "MVZrCOIi0oLa"
      },
      "source": [
        "# 미풀이"
      ],
      "execution_count": 19,
      "outputs": []
    },
    {
      "cell_type": "code",
      "metadata": {
        "colab": {
          "base_uri": "https://localhost:8080/"
        },
        "id": "b2MEeKEZ3eFZ",
        "outputId": "630a2b38-03aa-45f3-886f-57dbd5139908"
      },
      "source": [
        "ax=list(range(1,10))\n",
        "ax"
      ],
      "execution_count": 10,
      "outputs": [
        {
          "output_type": "execute_result",
          "data": {
            "text/plain": [
              "[1, 2, 3, 4, 5, 6, 7, 8, 9]"
            ]
          },
          "metadata": {},
          "execution_count": 10
        }
      ]
    },
    {
      "cell_type": "code",
      "metadata": {
        "colab": {
          "base_uri": "https://localhost:8080/"
        },
        "id": "fKY36qc33i9m",
        "outputId": "b350698c-dfc5-4689-e576-a8cf857e87d7"
      },
      "source": [
        "for i in ax:\n",
        "  print(i,end='')\n",
        "\n",
        "for i in  ax:\n",
        "  print(i,sep='')"
      ],
      "execution_count": 15,
      "outputs": [
        {
          "output_type": "stream",
          "name": "stdout",
          "text": [
            "1234567891\n",
            "2\n",
            "3\n",
            "4\n",
            "5\n",
            "6\n",
            "7\n",
            "8\n",
            "9\n"
          ]
        }
      ]
    },
    {
      "cell_type": "code",
      "metadata": {
        "colab": {
          "base_uri": "https://localhost:8080/"
        },
        "id": "TETNwqXc3m-c",
        "outputId": "2065c3fa-7f6a-45b5-da3b-97a1520af359"
      },
      "source": [
        "# li=['a,','b,','c,']\n",
        "# ll=['bbb','cccc','sss']\n",
        "\n",
        "# for i,b in zip(li,ll):\n",
        "#   print(i,b,sep='---')"
      ],
      "execution_count": 18,
      "outputs": [
        {
          "output_type": "stream",
          "name": "stdout",
          "text": [
            "a,---bbb\n",
            "b,---cccc\n"
          ]
        }
      ]
    },
    {
      "cell_type": "markdown",
      "metadata": {
        "id": "ohAda3Hp38Zr"
      },
      "source": [
        "# 2606 백준 바이러스"
      ]
    },
    {
      "cell_type": "code",
      "metadata": {
        "colab": {
          "base_uri": "https://localhost:8080/"
        },
        "id": "7AfuvHPkLIU4",
        "outputId": "9d17598d-8222-4b24-a69e-518fdca47841"
      },
      "source": [
        "for _ in range(2):\n",
        "  a,b = map(int,input().split())\n",
        "  graph[a].append(b)\n",
        "  graph[b].append(a)\n",
        "\n",
        "print(graph)"
      ],
      "execution_count": 35,
      "outputs": [
        {
          "output_type": "stream",
          "name": "stdout",
          "text": [
            "1 3\n",
            "2 4\n",
            "[[1, 2], [2, 3, 3], [1, 5, 4], [5, 2, 1], [5, 6, 2], [4, 7]]\n"
          ]
        }
      ]
    },
    {
      "cell_type": "markdown",
      "metadata": {
        "id": "EMV6xahtM3nR"
      },
      "source": [
        "경로를 저장하기 위한 2차원 리스트\n",
        "\n",
        "총 m개의 간선을 입력받아 경로를 변수graph에 저장한다.\n",
        "\n",
        "다녀간 정점을 확인하기 위한 변수\n",
        "\n",
        "들리지않은 정점이면 dfs()를 이용하여 다시 반복"
      ]
    },
    {
      "cell_type": "code",
      "metadata": {
        "colab": {
          "base_uri": "https://localhost:8080/"
        },
        "id": "kBSlVSQQKdGc",
        "outputId": "e7172d97-d122-43cc-be3f-f434e71f7851"
      },
      "source": [
        "n = int(input())\n",
        "m = int(input())\n",
        "\n",
        "graph = [[]*b for _ in range(n+1)] # 컴퓨터의 수만큼 곱한다. 난 연결되어 있는 쌍만 고려했었다. 실수\n",
        "\n",
        "for _ in range(m):\n",
        "  a,b = map(int,input().split())\n",
        "  graph[a].append(b)\n",
        "  graph[b].append(a)\n",
        "\n",
        "cnt = 0\n",
        "visited =[0]*(n+1)\n",
        "\n",
        "def dfs(start):\n",
        "  global cnt\n",
        "  visited[start]=1\n",
        "  for i in graph[start]:\n",
        "    if visited[i]==0:\n",
        "      dfs(i)\n",
        "      cnt+=1\n",
        "\n",
        "\n",
        "dfs(1)\n",
        "print(cnt)"
      ],
      "execution_count": 36,
      "outputs": [
        {
          "output_type": "stream",
          "name": "stdout",
          "text": [
            "7\n",
            "6\n",
            "1 2\n",
            "2 3\n",
            "1 5\n",
            "5 2\n",
            "5 6\n",
            "4 7\n",
            "4\n"
          ]
        }
      ]
    },
    {
      "cell_type": "code",
      "metadata": {
        "colab": {
          "base_uri": "https://localhost:8080/"
        },
        "id": "GvoJA87URSO3",
        "outputId": "9a82da1f-b297-4a22-bc77-08003a371903"
      },
      "source": [
        "graph=[[] * 3 for _ in range(3+1)]\n",
        "graph "
      ],
      "execution_count": 57,
      "outputs": [
        {
          "output_type": "execute_result",
          "data": {
            "text/plain": [
              "[[]]"
            ]
          },
          "metadata": {},
          "execution_count": 57
        }
      ]
    },
    {
      "cell_type": "code",
      "metadata": {
        "colab": {
          "base_uri": "https://localhost:8080/"
        },
        "id": "I_KB_rsaEAdF",
        "outputId": "3b3b3b51-16da-481f-fda9-8a24a7a92fe1"
      },
      "source": [
        "n=int(input())\n",
        "m = int(input())\n",
        "graph=[[] * n for _ in range(n+1)] \n",
        "visited = [False] * (n+1)\n",
        "count=0\n",
        "# visited[1]=True\n",
        "\n",
        "\n",
        "for _ in range(m):\n",
        "  a,b = map(int,input().split())\n",
        "  graph[a].append(b)\n",
        "  graph[b].append(a)\n",
        "\n",
        "def dfs(start):\n",
        "\n",
        "  global count\n",
        "  visited[start]=True\n",
        "\n",
        "  for i in graph[start]:\n",
        "\n",
        "    if not visited[i]:\n",
        "\n",
        "      dfs(i)\n",
        "      count+=1\n",
        "\n",
        "\n",
        "dfs(1)\n",
        "print(count)\n",
        "\n",
        "\n",
        "  \n",
        "\n",
        "\n"
      ],
      "execution_count": 58,
      "outputs": [
        {
          "output_type": "stream",
          "name": "stdout",
          "text": [
            "7\n",
            "6\n",
            "1 2\n",
            "2 3\n",
            "1 5\n",
            "5 2\n",
            "5 6\n",
            "4 7\n",
            "4\n"
          ]
        }
      ]
    },
    {
      "cell_type": "code",
      "metadata": {
        "colab": {
          "base_uri": "https://localhost:8080/"
        },
        "id": "FnmewHYnQfQ_",
        "outputId": "57a58d9d-b7e9-400e-9f1b-449bdd42b1e6"
      },
      "source": [
        "visited =[0]*(3)\n",
        "visited"
      ],
      "execution_count": 50,
      "outputs": [
        {
          "output_type": "execute_result",
          "data": {
            "text/plain": [
              "[0, 0, 0]"
            ]
          },
          "metadata": {},
          "execution_count": 50
        }
      ]
    },
    {
      "cell_type": "code",
      "metadata": {
        "colab": {
          "base_uri": "https://localhost:8080/"
        },
        "id": "8rjg1nZ0HBrL",
        "outputId": "3f51cab5-0419-433a-a6eb-7c430f51cc8b"
      },
      "source": [
        "n = int(input()) # 컴퓨터의 총 수\n",
        "m = int(input()) # 직접 연결되어 있는 컴퓨터 쌍의 수\n",
        "\n",
        "graph=[[]*n for _ in range(n+1)]\n",
        "visited = [0]*(n+1)\n",
        "count=0\n",
        "\n",
        "for i in range(m):\n",
        "\n",
        "  a,b = map(int,input().split())\n",
        "  graph[a].append(b)\n",
        "  graph[b].append(a)\n",
        "\n",
        "def dfs(start):\n",
        "\n",
        "  global count\n",
        "\n",
        "  visited[start]=1\n",
        "\n",
        "  for i in graph[start]:\n",
        "\n",
        "    if visited[i]==0:\n",
        "\n",
        "      dfs(i)\n",
        "      count+=1\n",
        "\n",
        "\n",
        "dfs(1)\n",
        "\n",
        "print(count)\n"
      ],
      "execution_count": 60,
      "outputs": [
        {
          "output_type": "stream",
          "name": "stdout",
          "text": [
            "7\n",
            "6\n",
            "1 2\n",
            "2 3\n",
            "1 5\n",
            "5 2\n",
            "5 6\n",
            "4 7\n",
            "4\n"
          ]
        }
      ]
    },
    {
      "cell_type": "code",
      "metadata": {
        "id": "4HK0HV9zIycU"
      },
      "source": [
        ""
      ],
      "execution_count": null,
      "outputs": []
    }
  ]
}