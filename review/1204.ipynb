{
  "nbformat": 4,
  "nbformat_minor": 0,
  "metadata": {
    "colab": {
      "name": "1204.ipynb",
      "provenance": [],
      "collapsed_sections": [],
      "authorship_tag": "ABX9TyMTy652o+CqLZuYHo9AxEfA",
      "include_colab_link": true
    },
    "kernelspec": {
      "name": "python3",
      "display_name": "Python 3"
    },
    "language_info": {
      "name": "python"
    }
  },
  "cells": [
    {
      "cell_type": "markdown",
      "metadata": {
        "id": "view-in-github",
        "colab_type": "text"
      },
      "source": [
        "<a href=\"https://colab.research.google.com/github/HayeonKimm/Algorithm-Note/blob/master/review/1204.ipynb\" target=\"_parent\"><img src=\"https://colab.research.google.com/assets/colab-badge.svg\" alt=\"Open In Colab\"/></a>"
      ]
    },
    {
      "cell_type": "code",
      "metadata": {
        "colab": {
          "base_uri": "https://localhost:8080/"
        },
        "id": "zsCkiB7xQ--n",
        "outputId": "0228f1e9-cc0a-40e9-8243-8506ce422dae"
      },
      "source": [
        "import sys\n",
        "\n",
        "input=sys.stdin.readline\n",
        "\n",
        "a = int(input())\n",
        "\n",
        "for _ in range(a):\n",
        "  n,m = map(int,input().split())\n",
        "  lst = list(map(int,input().split()))\n",
        "  idx = list(range(len(lst)))\n",
        "  idx[m]='target'\n",
        "\n",
        "  order=0\n",
        "\n",
        "  while True:\n",
        "\n",
        "    if lst[0] == max(lst):\n",
        "      order+=1\n",
        "\n",
        "      if idx[0] == 'target':\n",
        "        print(order)\n",
        "        break\n",
        "      \n",
        "      else:\n",
        "        lst.pop(0)\n",
        "        idx.pop(0)\n",
        "\n",
        "    else:\n",
        "      lst.append(lst.pop(0))\n",
        "      idx.append(idx.pop(0))"
      ],
      "execution_count": null,
      "outputs": [
        {
          "output_type": "stream",
          "name": "stdout",
          "text": [
            "3\n",
            "1 0\n",
            "5\n",
            "1\n",
            "4 2\n",
            "1 2 3 4\n",
            "2\n",
            "6 0\n",
            "1 1 9 1 1 1\n",
            "5\n"
          ]
        }
      ]
    },
    {
      "cell_type": "markdown",
      "metadata": {
        "id": "jiJ__N4RSjnq"
      },
      "source": [
        "# 11650 백준 파이썬\n",
        "\n",
        "## 정렬"
      ]
    },
    {
      "cell_type": "markdown",
      "metadata": {
        "id": "SF91p52sS3Y3"
      },
      "source": [
        "내 풀이"
      ]
    },
    {
      "cell_type": "code",
      "metadata": {
        "colab": {
          "base_uri": "https://localhost:8080/"
        },
        "id": "hwoZB9w1Qh9r",
        "outputId": "1a7450ae-1b22-47b6-a316-dfb8226cf253"
      },
      "source": [
        "# 좌표를 x 좌표가 증가하는 순으로\n",
        "# x가 같으면 y로 정렬\n",
        "\n",
        "\n",
        "n = int(input())\n",
        "\n",
        "lst=[]\n",
        "\n",
        "for _ in range(n):\n",
        "  lst.append(list(map(int,input().split())))\n",
        "\n",
        "\n",
        "lst.sort()\n",
        "\n",
        "for i in range(len(lst)):\n",
        "\n",
        "  print(lst[i][0],lst[i][1])\n",
        "\n",
        "\n",
        "# print(lst)\n",
        "\n",
        "\n",
        "# for x in range(len(lst)):\n",
        "\n",
        "#   if x[i][0] = max(x[:][0]):\n",
        "#     x[i][0]"
      ],
      "execution_count": 29,
      "outputs": [
        {
          "output_type": "stream",
          "name": "stdout",
          "text": [
            "5\n",
            "3 4\n",
            "1 1\n",
            "1 -1\n",
            "2 2\n",
            "3 3\n",
            "1 -1\n",
            "1 1\n",
            "2 2\n",
            "3 3\n",
            "3 4\n"
          ]
        }
      ]
    },
    {
      "cell_type": "markdown",
      "metadata": {
        "id": "kAYuBolbRZ8Y"
      },
      "source": [
        "다른 사람 풀이"
      ]
    },
    {
      "cell_type": "code",
      "metadata": {
        "colab": {
          "base_uri": "https://localhost:8080/"
        },
        "id": "b3ezqeTKUWB8",
        "outputId": "1d1ae06a-9f33-4bb4-c3c2-6fefb85af839"
      },
      "source": [
        "import sys\n",
        "input =sys.stdin.readline\n",
        "\n",
        "n = int(input())\n",
        "\n",
        "li = []\n",
        "\n",
        "for _ in range(N):\n",
        "  x,y = map(int,input().split())\n",
        "\n",
        "  li.append([x,y])\n",
        "\n",
        "li.sort(key=lambda x: (x[0],x[1])) # 각 요소들의 x값과 y의 값 기준으로 정렬 \n",
        "\n",
        "for i in range(len(li)):\n",
        "  print(li[i][0],li[i][1])"
      ],
      "execution_count": 27,
      "outputs": [
        {
          "output_type": "stream",
          "name": "stdout",
          "text": [
            "3 4\n",
            "3 4\n"
          ]
        }
      ]
    },
    {
      "cell_type": "markdown",
      "metadata": {
        "id": "BPDLdfPnbXdx"
      },
      "source": [
        "# 11651 좌표 정렬하기 2 백준  "
      ]
    },
    {
      "cell_type": "code",
      "metadata": {
        "colab": {
          "base_uri": "https://localhost:8080/"
        },
        "id": "LYz5g8qFYy1P",
        "outputId": "6d3cc303-c22f-4320-e02d-bf24ece89f2d"
      },
      "source": [
        "n = int(input())\n",
        "lst=[]\n",
        "\n",
        "for _ in range(n):\n",
        "\n",
        "  lst.append(list(map(int,input().split())))\n",
        "\n",
        "lst.sort(key=lambda x: (x[1],x[0]))\n",
        "\n",
        "for i in range(len(lst)):\n",
        "\n",
        "  print(lst[i][0],lst[i][1])"
      ],
      "execution_count": 5,
      "outputs": [
        {
          "output_type": "stream",
          "name": "stdout",
          "text": [
            "5\n",
            "0 4\n",
            "1 2\n",
            "1 -1\n",
            "2 2\n",
            "3 3\n",
            "1 -1\n",
            "1 2\n",
            "2 2\n",
            "3 3\n",
            "0 4\n"
          ]
        }
      ]
    },
    {
      "cell_type": "markdown",
      "metadata": {
        "id": "dibmWMmnaryp"
      },
      "source": [
        "# 1181 단어 정렬 백준 "
      ]
    },
    {
      "cell_type": "code",
      "metadata": {
        "colab": {
          "base_uri": "https://localhost:8080/"
        },
        "id": "Z11Qy1dSbhbs",
        "outputId": "3c4e328c-49b9-4c24-9741-1d3d8949da55"
      },
      "source": [
        "n = int(input())\n",
        "lst=[]\n",
        "\n",
        "for i in range(n):\n",
        "  lst.append(input())\n",
        "\n",
        "lst=list(set(lst))\n",
        "lst.sort(key=lambda x: (len(x),x)) # key는 각 안의 요소 기준으로 생각한다.\n",
        "\n",
        "for a in lst:\n",
        "  print(a)"
      ],
      "execution_count": 26,
      "outputs": [
        {
          "output_type": "stream",
          "name": "stdout",
          "text": [
            "5\n",
            "but\n",
            "i\n",
            "and\n",
            "hey\n",
            "kkkk\n",
            "i\n",
            "and\n",
            "but\n",
            "hey\n",
            "kkkk\n"
          ]
        }
      ]
    },
    {
      "cell_type": "code",
      "metadata": {
        "colab": {
          "base_uri": "https://localhost:8080/"
        },
        "id": "wBH6fdSedKI1",
        "outputId": "cd4fa663-90b6-4192-aafb-65d0acc716f9"
      },
      "source": [
        "lst"
      ],
      "execution_count": 24,
      "outputs": [
        {
          "output_type": "execute_result",
          "data": {
            "text/plain": [
              "['ab', 'ba', 'aad', 'fffff']"
            ]
          },
          "metadata": {},
          "execution_count": 24
        }
      ]
    },
    {
      "cell_type": "code",
      "metadata": {
        "id": "1t-zMZksgfNg"
      },
      "source": [
        ""
      ],
      "execution_count": null,
      "outputs": []
    }
  ]
}