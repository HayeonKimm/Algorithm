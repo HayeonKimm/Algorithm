{
  "nbformat": 4,
  "nbformat_minor": 0,
  "metadata": {
    "colab": {
      "name": "1204.ipynb",
      "provenance": [],
      "collapsed_sections": [],
      "authorship_tag": "ABX9TyMcapkWOCKKU9NOVmHYA0Mv",
      "include_colab_link": true
    },
    "kernelspec": {
      "name": "python3",
      "display_name": "Python 3"
    },
    "language_info": {
      "name": "python"
    }
  },
  "cells": [
    {
      "cell_type": "markdown",
      "metadata": {
        "id": "view-in-github",
        "colab_type": "text"
      },
      "source": [
        "<a href=\"https://colab.research.google.com/github/HayeonKimm/Algorithm-Note/blob/master/review/1204.ipynb\" target=\"_parent\"><img src=\"https://colab.research.google.com/assets/colab-badge.svg\" alt=\"Open In Colab\"/></a>"
      ]
    },
    {
      "cell_type": "markdown",
      "metadata": {
        "id": "rEykqLEKZxnq"
      },
      "source": [
        "# 백준 2164 파이썬"
      ]
    },
    {
      "cell_type": "code",
      "metadata": {
        "colab": {
          "base_uri": "https://localhost:8080/"
        },
        "id": "PwN824nbXGuq",
        "outputId": "afdf3550-767b-44f7-85b5-514745762699"
      },
      "source": [
        "# 제일 위에 있는 카드 버리고\n",
        "# 제일 위에 있는 카드를 제일 아래로 변경\n",
        "# 제일 마지막에 남게 되는 카드를 구하라.\n",
        "\n",
        "\n",
        "# import sys\n",
        "from collections import deque\n",
        "# input = sys.stdin.readline\n",
        "q = deque()\n",
        "n = int(input())\n",
        "\n",
        "for i in range(1,n+1):\n",
        "  q.append(i)\n",
        "\n",
        "\n",
        "while True:\n",
        "  \n",
        "  if len(q)==1:\n",
        "    print(q[0])\n",
        "    break\n",
        "  else:\n",
        "    q.popleft()\n",
        "    q.append(q.popleft())\n",
        "  "
      ],
      "execution_count": null,
      "outputs": [
        {
          "output_type": "stream",
          "name": "stdout",
          "text": [
            "6\n",
            "4\n"
          ]
        }
      ]
    },
    {
      "cell_type": "code",
      "metadata": {
        "colab": {
          "base_uri": "https://localhost:8080/"
        },
        "id": "NaDNT8fbYQoe",
        "outputId": "42bb8aa0-862f-4839-8e2b-4ec0528b527f"
      },
      "source": [
        "q = deque()\n",
        "\n",
        "for i in range(1,7):\n",
        "  q.append(i)\n",
        "\n",
        "\n",
        "print(q[0])"
      ],
      "execution_count": null,
      "outputs": [
        {
          "output_type": "stream",
          "name": "stdout",
          "text": [
            "1\n"
          ]
        }
      ]
    },
    {
      "cell_type": "code",
      "metadata": {
        "colab": {
          "base_uri": "https://localhost:8080/"
        },
        "id": "0SfkxsceZI77",
        "outputId": "d3aac8ac-fdf4-46ae-cdc6-7ba1f5b486a9"
      },
      "source": [
        "print(q)"
      ],
      "execution_count": null,
      "outputs": [
        {
          "output_type": "stream",
          "name": "stdout",
          "text": [
            "deque([[1, 2, 3, 4, 5, 6]])\n"
          ]
        }
      ]
    },
    {
      "cell_type": "markdown",
      "metadata": {
        "id": "Jp-Ed3qMZKAi"
      },
      "source": [
        "# 덱 10866 파이썬"
      ]
    },
    {
      "cell_type": "code",
      "metadata": {
        "colab": {
          "base_uri": "https://localhost:8080/"
        },
        "id": "AKefRcP3oaCc",
        "outputId": "5cb7b0a1-9589-44aa-b2c7-d4c541446eab"
      },
      "source": [
        "for _ in range(1):\n",
        "   q=deque()\n",
        "   q.append(input().split())\n",
        "\n",
        "q[0]"
      ],
      "execution_count": null,
      "outputs": [
        {
          "name": "stdout",
          "output_type": "stream",
          "text": [
            "push_back 1\n"
          ]
        },
        {
          "output_type": "execute_result",
          "data": {
            "text/plain": [
              "['push_back', '1']"
            ]
          },
          "metadata": {},
          "execution_count": 22
        }
      ]
    },
    {
      "cell_type": "code",
      "metadata": {
        "colab": {
          "base_uri": "https://localhost:8080/"
        },
        "id": "pf-sjxK_pFew",
        "outputId": "ff6f9aee-89a4-40b9-d2dd-1149f1e00a9b"
      },
      "source": [
        "q[0]"
      ],
      "execution_count": null,
      "outputs": [
        {
          "output_type": "execute_result",
          "data": {
            "text/plain": [
              "['push_back', '1']"
            ]
          },
          "metadata": {},
          "execution_count": 23
        }
      ]
    },
    {
      "cell_type": "code",
      "metadata": {
        "colab": {
          "base_uri": "https://localhost:8080/"
        },
        "id": "HYrTSo92o2Mf",
        "outputId": "be66616d-4824-4ee5-dc59-3cecfc8bb4a1"
      },
      "source": [
        "q[0]"
      ],
      "execution_count": null,
      "outputs": [
        {
          "output_type": "execute_result",
          "data": {
            "text/plain": [
              "['size']"
            ]
          },
          "metadata": {},
          "execution_count": 19
        }
      ]
    },
    {
      "cell_type": "code",
      "metadata": {
        "colab": {
          "base_uri": "https://localhost:8080/"
        },
        "id": "wIZKqxGyaPAP",
        "outputId": "4e735ed1-770c-4939-a583-94b8ea7ae3ec"
      },
      "source": [
        "from collections import deque\n",
        "# import sys\n",
        "\n",
        "# input = sys.stdin.readline\n",
        "\n",
        "n = int(input())\n",
        "# q=[]\n",
        "stack=[]\n",
        "\n",
        "\n",
        "for _ in range(n):\n",
        "   q=[]\n",
        "   q.append(list((input().split())))\n",
        "   q=q[0]\n",
        "   \n",
        "  #  print(q)\n",
        "  #  print(stack)\n",
        "\n",
        "   if q[0]=='push_front':\n",
        "     stack.append(q[1])\n",
        "     \n",
        "     while stack[0]!=q[1]:\n",
        "\n",
        "       stack.append(stack.pop(0))\n",
        "\n",
        "   \n",
        "\n",
        "   elif q[0]=='push_back':\n",
        "     stack.append(q[1])\n",
        "\n",
        "   elif q[0] == 'pop_front':\n",
        "\n",
        "     if stack:\n",
        "       print(stack.pop(0))\n",
        "\n",
        "     else:\n",
        "       print(-1)\n",
        "\n",
        "   elif q[0]=='pop_back':\n",
        "    \n",
        "     if stack:\n",
        "       print(stack.pop())\n",
        "     else:\n",
        "       print(-1)\n",
        "\n",
        "   elif q[0]=='size':\n",
        "     print(len(stack))\n",
        "\n",
        "   elif q[0]=='empty':\n",
        "    \n",
        "     if stack:\n",
        "        print(0)\n",
        "\n",
        "     else:\n",
        "       print(1)\n",
        "\n",
        "   elif q[0]=='front':\n",
        "      \n",
        "     if stack:\n",
        "       print(stack[0])\n",
        "      \n",
        "     else:\n",
        "       print(-1)\n",
        "\n",
        "   elif q[0]=='back':\n",
        "      \n",
        "     if stack:\n",
        "      print(stack[-1])\n",
        "     else:\n",
        "      print(-1)\n"
      ],
      "execution_count": null,
      "outputs": [
        {
          "output_type": "stream",
          "name": "stdout",
          "text": [
            "22\n",
            "front\n",
            "-1\n",
            "back\n",
            "-1\n",
            "pop_front\n",
            "-1\n",
            "pop_back\n",
            "-1\n",
            "push_front 1\n",
            "front\n",
            "1\n",
            "pop_back\n",
            "1\n",
            "push_back 2\n",
            "back\n",
            "2\n",
            "pop_front\n",
            "2\n",
            "push_front 10\n",
            "push_front 333\n",
            "front\n",
            "333\n",
            "back\n",
            "10\n",
            "pop_back\n",
            "10\n",
            "pop_back\n",
            "333\n",
            "push_back 20\n",
            "push_back 1234\n",
            "front\n",
            "20\n",
            "back\n",
            "1234\n",
            "pop_back\n",
            "1234\n",
            "pop_back\n",
            "20\n"
          ]
        }
      ]
    },
    {
      "cell_type": "code",
      "metadata": {
        "colab": {
          "base_uri": "https://localhost:8080/"
        },
        "id": "8gPsfpuKvY20",
        "outputId": "3a0803bb-009c-44b7-f3ba-29f91111d83f"
      },
      "source": [
        "for _ in range(2):\n",
        "   q=list((input().split()))\n",
        "\n",
        "print(q)"
      ],
      "execution_count": null,
      "outputs": [
        {
          "output_type": "stream",
          "name": "stdout",
          "text": [
            "1\n",
            "2\n",
            "['2']\n"
          ]
        }
      ]
    },
    {
      "cell_type": "markdown",
      "metadata": {
        "id": "Y7Ix05qMxXLg"
      },
      "source": [
        "# 알게된 사실 : deque 는 pop(0)이 안된다."
      ]
    },
    {
      "cell_type": "code",
      "metadata": {
        "colab": {
          "base_uri": "https://localhost:8080/"
        },
        "id": "GlGNMOqMlYxp",
        "outputId": "f309de71-0ba1-421a-b32d-8364d2729827"
      },
      "source": [
        "from collections import deque\n",
        "import sys\n",
        "input = sys.stdin.readline\n",
        "n = int(input())\n",
        "q=deque()\n",
        "\n",
        "for _ in range(n):\n",
        "   \n",
        "   order=list((input().split()))\n",
        "\n",
        "   if order[0]=='push_front':\n",
        "     q.appendleft(order[1])\n",
        "    \n",
        "   \n",
        "\n",
        "   elif order[0]=='push_back':\n",
        "     q.append(order[1])\n",
        "\n",
        "   elif order[0] == 'pop_front':\n",
        "\n",
        "     if len(q)!=0:\n",
        "       print(q.popleft())\n",
        "\n",
        "     else:\n",
        "       print(-1)\n",
        "\n",
        "   elif order[0]=='pop_back':\n",
        "    \n",
        "     if q:\n",
        "       print(q.pop())\n",
        "     else:\n",
        "       print(-1)\n",
        "\n",
        "   elif order[0]=='size':\n",
        "     print(len(q))\n",
        "\n",
        "   elif order[0]=='empty':\n",
        "    \n",
        "     if q:\n",
        "        print(0)\n",
        "\n",
        "     else:\n",
        "       print(1)\n",
        "\n",
        "   elif order[0]=='front':\n",
        "      \n",
        "     if q:\n",
        "       print(q[0])\n",
        "      \n",
        "     else:\n",
        "       print(-1)\n",
        "\n",
        "   elif order[0]=='back':\n",
        "      \n",
        "     if q:\n",
        "      print(q[-1])\n",
        "     else:\n",
        "      print(-1)"
      ],
      "execution_count": null,
      "outputs": [
        {
          "output_type": "stream",
          "name": "stdout",
          "text": [
            "15\n",
            "push_back 1\n",
            "push_front  2\n",
            "front\n",
            "2\n",
            "back\n",
            "1\n",
            "size\n",
            "2\n",
            "empty\n",
            "0\n",
            "pop_front\n",
            "2\n",
            "pop_back\n",
            "1\n",
            "pop_front\n",
            "-1\n",
            "size\n",
            "0\n",
            "empty\n",
            "1\n",
            "pop_back\n",
            "-1\n",
            "push_front 3\n",
            "empty\n",
            "0\n",
            "front\n",
            "3\n"
          ]
        }
      ]
    },
    {
      "cell_type": "code",
      "metadata": {
        "id": "6bF7j1uRnPzG"
      },
      "source": [
        "stack=[]"
      ],
      "execution_count": null,
      "outputs": []
    },
    {
      "cell_type": "code",
      "metadata": {
        "id": "yRgG3Ec1oH6U"
      },
      "source": [
        "stack.append(1)"
      ],
      "execution_count": null,
      "outputs": []
    },
    {
      "cell_type": "code",
      "metadata": {
        "colab": {
          "base_uri": "https://localhost:8080/"
        },
        "id": "Zj41ad-voI41",
        "outputId": "90b1825c-2499-4d7c-bf48-4963076fc989"
      },
      "source": [
        "stack"
      ],
      "execution_count": null,
      "outputs": [
        {
          "output_type": "execute_result",
          "data": {
            "text/plain": [
              "[1]"
            ]
          },
          "metadata": {},
          "execution_count": 13
        }
      ]
    },
    {
      "cell_type": "markdown",
      "metadata": {
        "id": "K4As01mvoJY8"
      },
      "source": [
        "# 2750 백준 파이썬"
      ]
    },
    {
      "cell_type": "code",
      "metadata": {
        "colab": {
          "base_uri": "https://localhost:8080/"
        },
        "id": "m-pZCfm-y2UL",
        "outputId": "1afd7352-1481-49a6-d698-ba20227cd68e"
      },
      "source": [
        "import sys\n",
        "input = sys.stdin.readline\n",
        "\n",
        "n=int(input())\n",
        "lst=[]\n",
        "\n",
        "for i in range(n):\n",
        "  lst.append(int(input()))\n",
        "\n",
        "lst.sort()\n",
        "\n",
        "for x in lst:\n",
        "  print(x)"
      ],
      "execution_count": null,
      "outputs": [
        {
          "output_type": "stream",
          "name": "stdout",
          "text": [
            "5\n",
            "5\n",
            "2\n",
            "3\n",
            "4\n",
            "1\n",
            "1\n",
            "2\n",
            "3\n",
            "4\n",
            "5\n"
          ]
        }
      ]
    },
    {
      "cell_type": "markdown",
      "metadata": {
        "id": "EU2K4MCzzmmE"
      },
      "source": [
        "# 2751 백준 파이썬"
      ]
    },
    {
      "cell_type": "markdown",
      "metadata": {
        "id": "pDjZUtZl_VVG"
      },
      "source": [
        "# 10989 백준 파이썬\n",
        "\n",
        "공간 복잡도를 줄이는 문제"
      ]
    },
    {
      "cell_type": "markdown",
      "metadata": {
        "id": "88rLNDUj8A5P"
      },
      "source": [
        "내 답안. 메모리 초과. 덱을 써봐도 똑같다"
      ]
    },
    {
      "cell_type": "markdown",
      "metadata": {
        "id": "FE7kX-ZT-W3w"
      },
      "source": [
        "**for문 속에서 append를 사용하게 되면 메모리 재할당이 이루어져서 메모리를 효율적으로 사용못한다.**\n",
        "\n",
        "일반적으로 입력값이 크지않은 경우에는 상관없지만 이렇게 입력값이 극한으로 많이 주어질 때에는\n",
        "\n",
        "메모리를 좀 더 효율적으로 관리해야한다.\n",
        "\n",
        "그래서 입력값이 10000개 까지 주어질 수 있으니 10000개 만큼의 리스트를 만들어 놓는다.\n",
        " \n",
        "그러나 인덱스는 0부터 세기 때문에 이를 계산하기 편하게 길이가 10001인 리스트를 만든다."
      ]
    },
    {
      "cell_type": "code",
      "metadata": {
        "colab": {
          "base_uri": "https://localhost:8080/"
        },
        "id": "VI75Rh2a0PQG",
        "outputId": "04588b99-cc0b-4837-cc1c-e0a27a207b1b"
      },
      "source": [
        "import sys\n",
        "input=sys.stdin.readline\n",
        "\n",
        "\n",
        "n = int(input())\n",
        "num_list = [0] * 10001\n",
        "\n",
        "for _ in range(n):\n",
        "    num_list[int(input())] += 1\n",
        "\n",
        "for i in range(10001):\n",
        "    if num_list[i] != 0:\n",
        "        for j in range(num_list[i]):\n",
        "            print(i)"
      ],
      "execution_count": null,
      "outputs": [
        {
          "output_type": "stream",
          "name": "stdout",
          "text": [
            "5\n",
            "3\n",
            "3\n",
            "1\n",
            "1\n",
            "2\n",
            "1\n",
            "1\n",
            "2\n",
            "3\n",
            "3\n"
          ]
        }
      ]
    },
    {
      "cell_type": "code",
      "metadata": {
        "id": "9DjwRdcdC0QQ"
      },
      "source": [
        "# 답"
      ],
      "execution_count": null,
      "outputs": []
    },
    {
      "cell_type": "code",
      "metadata": {
        "colab": {
          "base_uri": "https://localhost:8080/"
        },
        "id": "poP18D-pBqh8",
        "outputId": "cd1ebe9d-5447-4f49-a894-6fad022437a2"
      },
      "source": [
        "import sys\n",
        "input=sys.stdin.readline\n",
        "\n",
        "n = int(input())\n",
        "\n",
        "lst=[0]*10001\n",
        "\n",
        "for _ in range(n):\n",
        "  lst[int(input())]+=1\n",
        "\n",
        "for i in range(10001):\n",
        "  \n",
        "  if lst[i]!=0:\n",
        "    \n",
        "    for j in range(lst[i]):\n",
        "      print(i)"
      ],
      "execution_count": null,
      "outputs": [
        {
          "output_type": "stream",
          "name": "stdout",
          "text": [
            "10\n",
            "5\n",
            "2\n",
            "3\n",
            "1\n",
            "4\n",
            "2\n",
            "3\n",
            "5\n",
            "1\n",
            "7\n",
            "1\n",
            "1\n",
            "2\n",
            "2\n",
            "3\n",
            "3\n",
            "4\n",
            "5\n",
            "5\n",
            "7\n"
          ]
        }
      ]
    },
    {
      "cell_type": "code",
      "metadata": {
        "id": "Pehd_JLcCk4J"
      },
      "source": [
        "# import sys\n",
        "# input=sys.stdin.readline\n",
        "\n",
        "n=input()\n",
        "lst=[]\n",
        "\n",
        "for i in n:\n",
        "\n",
        "  lst.append(int(i))\n",
        "\n",
        "\n",
        "lst.sort(reverse=True)\n",
        "# lst\n",
        "\n",
        "for i in lst:\n",
        "  print(i,sep='')\n",
        "\n",
        "# print(''.join(lst))"
      ],
      "execution_count": null,
      "outputs": []
    },
    {
      "cell_type": "code",
      "metadata": {
        "colab": {
          "base_uri": "https://localhost:8080/"
        },
        "id": "ZjZ-WCVCEYNk",
        "outputId": "49d1f238-739e-46e2-99a7-e9b05fffda8e"
      },
      "source": [
        "import sys\n",
        "input=sys.stdin.readline\n",
        "\n",
        "\n",
        "n=input()\n",
        "lst=[]\n",
        "\n",
        "for i in n:\n",
        "\n",
        "  lst.append(int(i))\n",
        "\n",
        "\n",
        "lst.sort(reverse=True)\n",
        "\n",
        "\n",
        "for i in lst:\n",
        "  print(i,end='')"
      ],
      "execution_count": null,
      "outputs": [
        {
          "output_type": "stream",
          "name": "stdout",
          "text": [
            "2143\n",
            "4321"
          ]
        }
      ]
    },
    {
      "cell_type": "code",
      "metadata": {
        "colab": {
          "base_uri": "https://localhost:8080/"
        },
        "id": "36T51NkvViWc",
        "outputId": "964ba405-d2b1-4e45-9a5e-3ef03bd09835"
      },
      "source": [
        "from collections import deque\n",
        "\n",
        "q=deque()\n",
        "\n",
        "q.append(1)\n",
        "q"
      ],
      "execution_count": 3,
      "outputs": [
        {
          "output_type": "execute_result",
          "data": {
            "text/plain": [
              "deque([1])"
            ]
          },
          "metadata": {},
          "execution_count": 3
        }
      ]
    },
    {
      "cell_type": "code",
      "metadata": {
        "colab": {
          "base_uri": "https://localhost:8080/"
        },
        "id": "N5RAIgivVl2e",
        "outputId": "07bfb3dc-7a5b-458e-97e7-2812e86b4f48"
      },
      "source": [
        "from collections import deque\n",
        "# import sys\n",
        "# input=sys.stdin.readline\n",
        "\n",
        "\n",
        "n=int(input())\n",
        "q=deque()\n",
        "\n",
        "for _ in range(n):\n",
        "  ord = list(input().split())\n",
        "  a=ord[0]\n",
        "  if a=='push_front':\n",
        "    q.appendleft(ord[1])\n",
        "  \n",
        "  elif a=='push_back':\n",
        "    q.append(ord[1])\n",
        "\n",
        "  elif a=='pop_front':\n",
        "    \n",
        "    if q:\n",
        "      print(q.popleft())\n",
        "    else:\n",
        "      print(-1)\n",
        "\n",
        "  elif a=='pop_back':\n",
        "\n",
        "    if q:\n",
        "      print(q.pop())\n",
        "    \n",
        "    else:\n",
        "      print(-1)\n",
        "\n",
        "  elif a=='size':\n",
        "    print(len(q))\n",
        "\n",
        "  elif a=='empty':\n",
        "\n",
        "    if q:\n",
        "      print(0)\n",
        "\n",
        "    else:\n",
        "      print(1)\n",
        "\n",
        "  elif a=='front':\n",
        "\n",
        "    if q:\n",
        "      print(q[0])\n",
        "    else:\n",
        "      print(-1)\n",
        "  \n",
        "  elif a=='back':\n",
        "\n",
        "    if q:\n",
        "      print(q[-1])\n",
        "\n",
        "    else:\n",
        "      print(-1)\n",
        "  \n",
        "  else:\n",
        "    pass\n",
        "    "
      ],
      "execution_count": 5,
      "outputs": [
        {
          "output_type": "stream",
          "name": "stdout",
          "text": [
            "15\n",
            "push_back 1\n",
            "push_front 2\n",
            "front\n",
            "2\n",
            "back\n",
            "1\n",
            "size\n",
            "2\n",
            "empty\n",
            "0\n",
            "pop_front\n",
            "2\n",
            "pop_back\n",
            "1\n",
            "pop_front\n",
            "-1\n",
            "size\n",
            "0\n",
            "empty\n",
            "1\n",
            "pop_back\n",
            "-1\n",
            "push_front 3\n",
            "empty\n",
            "0\n",
            "front\n",
            "3\n"
          ]
        }
      ]
    },
    {
      "cell_type": "code",
      "metadata": {
        "colab": {
          "base_uri": "https://localhost:8080/"
        },
        "id": "LFXq89gvYi3T",
        "outputId": "152d1bdc-4b6a-4af9-97ed-79dd480558bb"
      },
      "source": [
        "import sys\n",
        "\n",
        "input= sys.stdin.readline\n",
        "\n",
        "\n",
        "a = int(input())\n",
        "\n",
        "for i in range(a):\n",
        "\n",
        "  n,m = map(int,input().split())\n",
        "  ipx = list(map(int,input().split()))\n",
        "  idx = list(range(len(ipx)))\n",
        "  idx[m] = 'target'\n",
        "  order=0\n",
        "\n",
        "  # print(ipx)\n",
        "\n",
        "  while True:\n",
        "\n",
        "    if ipx[0] == max(ipx):\n",
        "      order+=1\n",
        "\n",
        "      if idx[0] == 'target':\n",
        "        print(order)\n",
        "        break\n",
        "\n",
        "      else:\n",
        "\n",
        "        ipx.pop(0)\n",
        "        idx.pop(0)\n",
        "\n",
        "    else:\n",
        "      ipx.append(ipx.pop(0))\n",
        "      idx.append(idx.pop(0)) \n",
        "      \n",
        "      \n",
        "\n",
        "    \n",
        "# n은 카드 수\n",
        "# m 은 알고 싶은 위치\n",
        "\n",
        "\n",
        "  "
      ],
      "execution_count": 4,
      "outputs": [
        {
          "output_type": "stream",
          "name": "stdout",
          "text": [
            "3\n",
            "1 0\n",
            "5\n",
            "1\n",
            "4 2\n",
            "1 2 3 4\n",
            "2\n",
            "6 0\n",
            "1 1 9 1 1 1\n",
            "5\n"
          ]
        }
      ]
    },
    {
      "cell_type": "code",
      "metadata": {
        "id": "eGamlrmqZh-w"
      },
      "source": [
        "import sys\n",
        "\n",
        "input= sys.stdin.readline\n",
        "\n",
        "\n",
        "a = int(input())\n",
        "\n",
        "for i in range(a):\n",
        "\n",
        "  n,m = map(int,input().split())\n",
        "  ipx = list(map(int,input().split()))\n",
        "  idx = list(range(len(ipx)))\n",
        "  idx[m] = 'target'\n",
        "  order=0\n",
        "\n",
        "  while True:\n",
        "\n",
        "    if ipx[0] == ipx(max):\n",
        "      order+=1\n",
        "\n",
        "      if idx[0] == 'target':\n",
        "        print(order)\n",
        "        break\n",
        "\n",
        "      else:\n",
        "\n",
        "        ipx.pop(0)\n",
        "        idx.pop(0)\n",
        "\n",
        "    else:\n",
        "      ipx.append(ipx.pop(0))\n",
        "      idx.append(idx.pop(0)) "
      ],
      "execution_count": null,
      "outputs": []
    }
  ]
}