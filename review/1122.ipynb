{
  "nbformat": 4,
  "nbformat_minor": 0,
  "metadata": {
    "colab": {
      "name": "1122.ipynb",
      "provenance": [],
      "collapsed_sections": [],
      "authorship_tag": "ABX9TyOsdTOCHa6UpeFQM60IJuML",
      "include_colab_link": true
    },
    "kernelspec": {
      "name": "python3",
      "display_name": "Python 3"
    },
    "language_info": {
      "name": "python"
    }
  },
  "cells": [
    {
      "cell_type": "markdown",
      "metadata": {
        "id": "view-in-github",
        "colab_type": "text"
      },
      "source": [
        "<a href=\"https://colab.research.google.com/github/HayeonKimm/Algorithm-Note/blob/master/review/1122.ipynb\" target=\"_parent\"><img src=\"https://colab.research.google.com/assets/colab-badge.svg\" alt=\"Open In Colab\"/></a>"
      ]
    },
    {
      "cell_type": "markdown",
      "metadata": {
        "id": "jo4gt5KeQRBV"
      },
      "source": [
        "# 럭키 스트레이트\n"
      ]
    },
    {
      "cell_type": "code",
      "metadata": {
        "colab": {
          "base_uri": "https://localhost:8080/"
        },
        "id": "2PQwxExfQwkv",
        "outputId": "579aedf3-af87-47f9-ca50-c4933ce85208"
      },
      "source": [
        "n=input()\n",
        "summary=0\n",
        "length=len(n)\n",
        "\n",
        "\n",
        "for i in range(length//2): # //로 해서 integer형태로 넣어야하나보다. 아니면 오류뜬다.\n",
        "\n",
        "  summary+=int(n[i])\n",
        "\n",
        "\n",
        "\n",
        "\n",
        "for j in range(length//2,length):\n",
        "\n",
        "  summary-=int(n[i])\n",
        "\n",
        "\n",
        "\n",
        "if summary==0:\n",
        "\n",
        "  print('LUCKY')\n",
        "\n",
        "else:\n",
        "\n",
        "  print('READY')\n",
        "\n",
        "\n"
      ],
      "execution_count": 4,
      "outputs": [
        {
          "output_type": "stream",
          "name": "stdout",
          "text": [
            "7755\n",
            "LUCKY\n"
          ]
        }
      ]
    },
    {
      "cell_type": "markdown",
      "metadata": {
        "id": "OfupG5Y5RPZp"
      },
      "source": [
        "# 문자열 재정렬"
      ]
    },
    {
      "cell_type": "code",
      "metadata": {
        "colab": {
          "base_uri": "https://localhost:8080/"
        },
        "id": "e12-s8J9SShC",
        "outputId": "8d5ec3bc-7b9b-4623-8549-b7a77a38b064"
      },
      "source": [
        "s = input()\n",
        "\n",
        "al=[]\n",
        "su=0\n",
        "\n",
        "\n",
        "for data in s :\n",
        "\n",
        "  if data.isalpha():\n",
        "\n",
        "    al.append(data)\n",
        "\n",
        "  else:\n",
        "\n",
        "    su+=int(data)\n",
        "\n",
        "\n",
        "al.sort()\n",
        "\n",
        "al.append(str(su))\n",
        "\n",
        "print(al)\n",
        "\n",
        "\n",
        "print(''.join(al))\n",
        "\n",
        "\n"
      ],
      "execution_count": 12,
      "outputs": [
        {
          "output_type": "stream",
          "name": "stdout",
          "text": [
            "K1KA5CB7\n",
            "['A', 'B', 'C', 'K', 'K', '13']\n",
            "ABCKK13\n"
          ]
        }
      ]
    },
    {
      "cell_type": "markdown",
      "metadata": {
        "id": "uJz9b1suS-Qe"
      },
      "source": [
        "# 특정 거리의 도시 찾기"
      ]
    },
    {
      "cell_type": "markdown",
      "metadata": {
        "id": "Yg6bzDX5Ur_P"
      },
      "source": [
        "큐를 사용.. 그래프 만들기. distance 만들기"
      ]
    },
    {
      "cell_type": "code",
      "metadata": {
        "colab": {
          "base_uri": "https://localhost:8080/"
        },
        "id": "Bn6wFj2mVIpL",
        "outputId": "328efe69-87f1-4606-e662-d8523677deb9"
      },
      "source": [
        "from collections import deque\n",
        "\n",
        "\n",
        "\n",
        "n,m,k,x = map(int,input().split())\n",
        "\n",
        "\n",
        "# 그래프 만들기\n",
        "\n",
        "graph = [[] for _ in range(n+1)]\n",
        "\n",
        "\n",
        "\n",
        "# a,b값 그래프에 넣기\n",
        "for _ in range(m):\n",
        "  a,b = map(int,input().split())\n",
        "  graph[a].append(b)\n",
        "\n",
        "\n",
        "# distance 값 만들기\n",
        "\n",
        "distance = [-1]* (n+1)\n",
        "\n",
        "distance[x] = 0\n",
        "\n",
        "q = deque([x])\n",
        "\n",
        "# now = q.popleft()\n",
        "\n",
        "\n",
        "while q:\n",
        "\n",
        "  now = q.popleft() # 안에다 넣어야한다. 필수적.\n",
        "\n",
        "\n",
        "  for next in graph[now]:\n",
        "\n",
        "    if distance[next] == -1:\n",
        "\n",
        "      distance[next] = distance[now]+1\n",
        "      q.append(next)\n",
        "\n",
        "\n",
        "\n",
        "col = False\n",
        "\n",
        "for i in range(1,n+1):\n",
        "\n",
        "  if distance[i]==k:\n",
        "    print(i)\n",
        "    col = True\n",
        "\n",
        "\n",
        "if col == False:\n",
        "\n",
        "  print(-1)\n",
        "\n",
        "\n",
        "\n",
        "\n",
        "\n",
        "\n"
      ],
      "execution_count": 17,
      "outputs": [
        {
          "output_type": "stream",
          "name": "stdout",
          "text": [
            "4 4 2 1\n",
            "1 2\n",
            "1 3\n",
            "2 3\n",
            "2 4\n",
            "4\n"
          ]
        }
      ]
    },
    {
      "cell_type": "code",
      "metadata": {
        "id": "LyyJUaASXKvh"
      },
      "source": [
        "2"
      ],
      "execution_count": null,
      "outputs": []
    },
    {
      "cell_type": "code",
      "metadata": {
        "colab": {
          "base_uri": "https://localhost:8080/"
        },
        "id": "WK5zs8j_aW13",
        "outputId": "04252fb4-03fb-4ea4-ee8a-f4d192ff5bef"
      },
      "source": [
        "# 거리가 k인 도시 찾기\n",
        "\n",
        "\n",
        "n,m,k,x = map(int,input().split())\n",
        "\n",
        "graph = [[] for _ in range(n+1)]\n",
        "\n",
        "for _ in range(m):\n",
        "\n",
        "  a,b = map(int,input().split())\n",
        "  graph[a].append(b)\n",
        "\n",
        "\n",
        "distance = [-1]*(n+1)\n",
        "distance[x]=0\n",
        "\n",
        "from collections import deque\n",
        "q = deque([x])\n",
        "\n",
        "\n",
        "while q:\n",
        "  now=q.popleft()\n",
        "\n",
        "  for next in graph[now]:\n",
        "\n",
        "    if distance[next]== -1:\n",
        "\n",
        "      distance[next] = distance[now]+1\n",
        "      q.append(next)\n",
        "\n",
        "\n",
        "col = False\n",
        "\n",
        "for i in range(1,n+1):\n",
        "\n",
        "\n",
        "  if distance[i]==k:\n",
        "      print(i)\n",
        "      col = True\n",
        "\n",
        "\n",
        "if col == False:\n",
        "\n",
        "  print(-1)\n",
        "\n"
      ],
      "execution_count": 18,
      "outputs": [
        {
          "output_type": "stream",
          "name": "stdout",
          "text": [
            "4 4 2 1\n",
            "1 2\n",
            "1 3\n",
            "2 3\n",
            "2 4\n",
            "4\n"
          ]
        }
      ]
    },
    {
      "cell_type": "code",
      "metadata": {
        "id": "wCdkEr81bj8w"
      },
      "source": [
        ""
      ],
      "execution_count": null,
      "outputs": []
    }
  ]
}