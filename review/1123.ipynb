{
 "cells": [
  {
   "cell_type": "markdown",
   "id": "a347fa29",
   "metadata": {},
   "source": [
    "# 복습 3"
   ]
  },
  {
   "cell_type": "markdown",
   "id": "d559c32a",
   "metadata": {},
   "source": [
    "## 만들 수 없는 금액"
   ]
  },
  {
   "cell_type": "code",
   "execution_count": 5,
   "id": "ae385b67",
   "metadata": {
    "ExecuteTime": {
     "end_time": "2021-11-23T13:51:37.206771Z",
     "start_time": "2021-11-23T13:51:33.374512Z"
    }
   },
   "outputs": [
    {
     "name": "stdout",
     "output_type": "stream",
     "text": [
      "5\n",
      "3 2 1 1 9\n",
      "8\n"
     ]
    }
   ],
   "source": [
    "#314p\n",
    "# 조합해서 만들 수 없는 최소 금액\n",
    "\n",
    "n = int(input())\n",
    "\n",
    "coin = list(map(int,input().split()))\n",
    "coin.sort()\n",
    "\n",
    "# 리스트로 만들고 솔트해서 작은 코인부터 반복문 돌려야 한다.\n",
    "\n",
    "target=1\n",
    "\n",
    "for x in coin:\n",
    "    if target<x:\n",
    "        \n",
    "        break\n",
    "        \n",
    "    target+=x\n",
    "    \n",
    "print(target)"
   ]
  },
  {
   "cell_type": "markdown",
   "id": "d616cd2a",
   "metadata": {},
   "source": [
    "## 무지의 먹방 라이브"
   ]
  },
  {
   "cell_type": "markdown",
   "id": "969d8645",
   "metadata": {},
   "source": [
    "이 문제는 **시간이 적게 걸리는 음식부터 확인하는 탐욕적 접근 방식으로 해결할 수 있다.**\n",
    "\n",
    "**모든 음식을 시간을 기준으로 정렬한 뒤에, 시간이 적게 걸리는 음식부터 제거해 나가는 방식을 이용하면 된다.**\n",
    "\n",
    "이를 위해 **우선순위 큐를 이용하여 구현할 수 있는데,** 문제를 풀기 위해 고려해야 하는 부분이 많아서 까다로울 수 있다."
   ]
  },
  {
   "cell_type": "markdown",
   "id": "d31a407f",
   "metadata": {},
   "source": [
    "### 우선 순위 큐 : 우선순위가 가장 높은 데이터를 가장 먼저 삭제"
   ]
  },
  {
   "cell_type": "code",
   "execution_count": null,
   "id": "2f4caab9",
   "metadata": {},
   "outputs": [],
   "source": [
    "import heapq\n",
    "\n",
    "\n",
    "def solution(food_times, k):\n",
    "    \n",
    "    # 전체 음식을 먹는 시간보다 k가 크거나 같다면 -1\n",
    "    \n",
    "    if sum(food_times) <=k: \n",
    "        \n",
    "        return -1\n",
    "    \n",
    "    \n",
    "    # 시간이 작은 음식부터 빼야 하므로 우선순위 큐를 이용\n",
    "    \n",
    "    q = []\n",
    "    \n",
    "    for i in range(len(food_times_times)):\n",
    "        \n",
    "        # (음식 시간, 음식 번호) 형태로 우선순위 큐에 삽입\n",
    "        \n",
    "        heapq.heappush(q, (food_times[i], i+1))\n",
    "        \n",
    "        \n",
    "    sum_value=0 # 먹기 위해 사용한 시간\n",
    "    previous = 0 # 직전에 다 먹은 음식 시간\n",
    "    \n",
    "    \n",
    "    length = len(food_times) # 남은 음식의 개수\n",
    "    \n",
    "    \n",
    "    # sum_value + (현재의 음식 시간 - 이전 음식 시간) * 현재 음식 개수 ----- k 비교\n",
    "    \n",
    "    while sum_value + ((q[0][0] - previous)*length) <= k: \n",
    "        \n",
    "        now = heapq.heappop(q)[0]\n",
    "        sum_value += (now - previous) * length\n",
    "        length -= 1 # 다 먹은 음식 제외\n",
    "        previous = now # 이전 음식 시간 재설정\n",
    "        \n",
    "        \n",
    "    # 남은 음식 중에서 몇 번째 음식인지 확인하여 출력\n",
    "    result = sorted(q, key = lambda x :x[1]) # 음식의 번호 기준으로 정렬\n",
    "    return result[(k-sum_value)%length][1]\n",
    "    \n",
    "\n",
    "# 이건 아직 내 수준에 안 맞다."
   ]
  }
 ],
 "metadata": {
  "hide_input": false,
  "kernelspec": {
   "display_name": "Python 3 (ipykernel)",
   "language": "python",
   "name": "python3"
  },
  "language_info": {
   "codemirror_mode": {
    "name": "ipython",
    "version": 3
   },
   "file_extension": ".py",
   "mimetype": "text/x-python",
   "name": "python",
   "nbconvert_exporter": "python",
   "pygments_lexer": "ipython3",
   "version": "3.8.11"
  },
  "toc": {
   "base_numbering": 1,
   "nav_menu": {},
   "number_sections": true,
   "sideBar": true,
   "skip_h1_title": false,
   "title_cell": "Table of Contents",
   "title_sidebar": "Contents",
   "toc_cell": false,
   "toc_position": {},
   "toc_section_display": true,
   "toc_window_display": false
  }
 },
 "nbformat": 4,
 "nbformat_minor": 5
}
