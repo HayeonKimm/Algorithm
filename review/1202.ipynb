{
  "nbformat": 4,
  "nbformat_minor": 0,
  "metadata": {
    "colab": {
      "name": "1202.ipynb",
      "provenance": [],
      "collapsed_sections": [],
      "authorship_tag": "ABX9TyO2nCZ02V958fL4o54U0WOc",
      "include_colab_link": true
    },
    "kernelspec": {
      "name": "python3",
      "display_name": "Python 3"
    },
    "language_info": {
      "name": "python"
    }
  },
  "cells": [
    {
      "cell_type": "markdown",
      "metadata": {
        "id": "view-in-github",
        "colab_type": "text"
      },
      "source": [
        "<a href=\"https://colab.research.google.com/github/HayeonKimm/Algorithm-Note/blob/master/review/1202.ipynb\" target=\"_parent\"><img src=\"https://colab.research.google.com/assets/colab-badge.svg\" alt=\"Open In Colab\"/></a>"
      ]
    },
    {
      "cell_type": "markdown",
      "metadata": {
        "id": "6TYiXrhgyKtU"
      },
      "source": [
        "# 백준 괄호 9012\n",
        "\n",
        "https://www.acmicpc.net/problem/9012"
      ]
    },
    {
      "cell_type": "code",
      "metadata": {
        "colab": {
          "base_uri": "https://localhost:8080/"
        },
        "id": "aUdgOQjhTWav",
        "outputId": "29d1dab5-e883-475f-d812-df0faf75b946"
      },
      "source": [
        "t = int(input())\n",
        "\n",
        "for _ in range(t):\n",
        "\n",
        "  ls=list(input())\n",
        "  sum=0\n",
        "\n",
        "  for data in ls:\n",
        "    \n",
        "    if data=='(':\n",
        "      sum+=1\n",
        "    \n",
        "    elif data==')':\n",
        "      sum-=1 \n",
        "    \n",
        "    if sum<0:\n",
        "      print('NO')\n",
        "      break\n",
        "\n",
        "\n",
        "  if sum==0:\n",
        "    print('YES')\n",
        "\n",
        "  elif sum>0:\n",
        "    print('NO')"
      ],
      "execution_count": 51,
      "outputs": [
        {
          "output_type": "stream",
          "name": "stdout",
          "text": [
            "3\n",
            "((\n",
            "NO\n",
            "))\n",
            "NO\n",
            "())(()\n",
            "NO\n"
          ]
        }
      ]
    },
    {
      "cell_type": "code",
      "metadata": {
        "id": "jD7ahwJuxFiG"
      },
      "source": [
        "while True:\n",
        "    s = input()\n",
        "    if s == '.':\n",
        "        break\n",
        "    stk = []\n",
        "    temp = True\n",
        "    for i in s:\n",
        "        if i == '(' or i == '[':\n",
        "            stk.append(i)\n",
        "        elif i == ')':\n",
        "            if not stk or stk[-1] == '[':\n",
        "                temp = False\n",
        "                break\n",
        "            elif stk[-1] == '(':\n",
        "                stk.pop()\n",
        "        elif i == ']':\n",
        "            if not stk or stk[-1] == '(':\n",
        "                temp = False\n",
        "                break\n",
        "            elif stk[-1] == '[':\n",
        "                stk.pop()\n",
        "    if temp == True and not stk:\n",
        "        print('yes')\n",
        "    else:\n",
        "        print('no')"
      ],
      "execution_count": 52,
      "outputs": []
    },
    {
      "cell_type": "markdown",
      "metadata": {
        "id": "9WL9rc7sx37g"
      },
      "source": [
        "# 백준 균형잡힌 세상 4949\n",
        "\n",
        "https://www.acmicpc.net/problem/4949"
      ]
    },
    {
      "cell_type": "code",
      "metadata": {
        "id": "nfsN1GYjcaob"
      },
      "source": [
        "while True:\n",
        "  s= input()\n",
        "  if s=='.':\n",
        "    break\n",
        "\n",
        "  stack=[]\n",
        "  temp=True\n",
        "\n",
        "  for i in s:\n",
        "    \n",
        "    if i == '(' or i== '[':\n",
        "      stack.append(i)\n",
        "    \n",
        "    elif i == ')':\n",
        "      if not stack or stack[-1]=='[':\n",
        "        temp=False\n",
        "        break\n",
        "\n",
        "      elif stack[-1]=='(':\n",
        "        stack.pop()\n",
        "\n",
        "    elif i == ']':\n",
        "\n",
        "      if not stack or stack[-1]=='(':\n",
        "        temp=False\n",
        "        break\n",
        "\n",
        "      elif stack[-1]=='[':\n",
        "        stack.pop()\n",
        "\n",
        "  if temp == True and not stack:\n",
        "    print('yes')\n",
        "  else:\n",
        "    print('no')\n",
        "\n"
      ],
      "execution_count": 53,
      "outputs": []
    },
    {
      "cell_type": "code",
      "metadata": {
        "id": "XsxQFW8zoG8g"
      },
      "source": [
        ""
      ],
      "execution_count": null,
      "outputs": []
    }
  ]
}