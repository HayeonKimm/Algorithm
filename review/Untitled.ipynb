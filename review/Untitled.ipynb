{
 "cells": [
  {
   "cell_type": "markdown",
   "id": "cd99f506",
   "metadata": {},
   "source": [
    "DFS 깊이 우선 탐색"
   ]
  },
  {
   "cell_type": "code",
   "execution_count": 1,
   "id": "012e6b9a",
   "metadata": {
    "ExecuteTime": {
     "end_time": "2021-11-15T12:54:54.090796Z",
     "start_time": "2021-11-15T12:54:54.049704Z"
    }
   },
   "outputs": [
    {
     "name": "stdout",
     "output_type": "stream",
     "text": [
      "1 2 7 6 8 3 4 5 "
     ]
    }
   ],
   "source": [
    "def dfs(graph,v, visited):\n",
    "    \n",
    "    visited[v]=True\n",
    "    print(v, end=' ') # 줄넘기기\n",
    "    \n",
    "    # 현재 노드와 연결된 다른 노드를 재귀적으로 방문\n",
    "    \n",
    "    for i in graph[v]:\n",
    "        if not visited[i]:\n",
    "            dfs(graph,i,visited)\n",
    "            \n",
    "            \n",
    "graph= [\n",
    "    [],\n",
    "    [2,3,8],\n",
    "    [1,7],\n",
    "    [1,4,5],\n",
    "    [3,5],\n",
    "    [3,4],\n",
    "    [7],\n",
    "    [2,6,8],\n",
    "    [1,7]\n",
    "]\n",
    "\n",
    "\n",
    "visited = [False]*9\n",
    "\n",
    "\n",
    "dfs(graph,1 ,visited)"
   ]
  },
  {
   "cell_type": "markdown",
   "id": "1e4a3653",
   "metadata": {},
   "source": [
    "BFS 너비 우선 탐색\n",
    "\n",
    "bfs는 데크를 사용한다."
   ]
  },
  {
   "cell_type": "code",
   "execution_count": null,
   "id": "cb2afa97",
   "metadata": {},
   "outputs": [],
   "source": [
    "from collections import deque\n",
    "\n",
    "def bfs(graph,start,visited):\n",
    "    \n",
    "    que = deque([start])\n",
    "    \n",
    "    visited[start]=True\n",
    "    \n",
    "    \n",
    "    v=que.popleft()\n",
    "    \n",
    "    while que:\n",
    "    \n",
    "        for i in graph[v]:\n",
    "            if not visited[i]:\n",
    "\n",
    "                visited[i]=True\n",
    "                que.append(i)\n",
    "\n",
    "    \n",
    "    \n",
    "    "
   ]
  },
  {
   "cell_type": "markdown",
   "id": "21c25b25",
   "metadata": {},
   "source": [
    "선택 정렬\n",
    "\n",
    ": 가장 작은 데이터를 선택해 맨 앞의 데이터와 바꾸고, 그 다음 작은 데이터를 두번째 데이터와 바꾼다."
   ]
  },
  {
   "cell_type": "code",
   "execution_count": 7,
   "id": "2cceda98",
   "metadata": {
    "ExecuteTime": {
     "end_time": "2021-11-15T13:22:42.518773Z",
     "start_time": "2021-11-15T13:22:42.498799Z"
    }
   },
   "outputs": [
    {
     "name": "stdout",
     "output_type": "stream",
     "text": [
      "[0, 1, 2, 3, 5, 6, 7, 8, 4, 9]\n"
     ]
    }
   ],
   "source": [
    "# 선택정렬 소스코드\n",
    "\n",
    "array=[7,5,9,0,3,1,6,2,4,8]\n",
    "\n",
    "for i in range(len(array)):\n",
    "    \n",
    "    min_index=i\n",
    "    \n",
    "    for j in range(i+1,len(array)):\n",
    "        \n",
    "        if array[min_index]>array[j]:\n",
    "            \n",
    "            min_index=j\n",
    "            \n",
    "        array[min_index],array[i]=array[i],array[min_index] # 밖으로 빼야한다.if 문이랑 상관없음\n",
    "            \n",
    "            \n",
    "print(array)"
   ]
  },
  {
   "cell_type": "code",
   "execution_count": null,
   "id": "9f02b204",
   "metadata": {},
   "outputs": [],
   "source": []
  }
 ],
 "metadata": {
  "hide_input": false,
  "kernelspec": {
   "display_name": "Python 3 (ipykernel)",
   "language": "python",
   "name": "python3"
  },
  "language_info": {
   "codemirror_mode": {
    "name": "ipython",
    "version": 3
   },
   "file_extension": ".py",
   "mimetype": "text/x-python",
   "name": "python",
   "nbconvert_exporter": "python",
   "pygments_lexer": "ipython3",
   "version": "3.8.11"
  },
  "toc": {
   "base_numbering": 1,
   "nav_menu": {},
   "number_sections": true,
   "sideBar": true,
   "skip_h1_title": false,
   "title_cell": "Table of Contents",
   "title_sidebar": "Contents",
   "toc_cell": false,
   "toc_position": {},
   "toc_section_display": true,
   "toc_window_display": false
  }
 },
 "nbformat": 4,
 "nbformat_minor": 5
}
