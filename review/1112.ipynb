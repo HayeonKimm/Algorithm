{
 "cells": [
  {
   "cell_type": "code",
   "execution_count": 1,
   "id": "8aca4f18",
   "metadata": {
    "ExecuteTime": {
     "end_time": "2021-11-10T21:33:58.768406Z",
     "start_time": "2021-11-10T21:33:35.194253Z"
    }
   },
   "outputs": [
    {
     "name": "stdout",
     "output_type": "stream",
     "text": [
      "4 4\n",
      "1 1 0\n",
      "1 1 1 1\n",
      "1 0 0 1\n",
      "1 1 0 1\n",
      "1 1 1 1\n",
      "3\n"
     ]
    }
   ],
   "source": [
    "n,m = map(int,input().split())\n",
    "\n",
    "x,y,direction = map(int,input().split())\n",
    "\n",
    "d = [[0]*m for _ in range(n)]\n",
    "\n",
    "array=[]\n",
    "\n",
    "for i in range(n):\n",
    "    array.append(list(map(int,input().split())))\n",
    "    \n",
    "d[x][y]=1\n",
    "\n",
    "\n",
    "dx=[-1,0,1,0]\n",
    "dy=[0,1,0,-1]\n",
    "\n",
    "count=1\n",
    "turn_num=0\n",
    "\n",
    "def turn_left():\n",
    "    \n",
    "    global direction\n",
    "    direction-=1\n",
    "    \n",
    "    if direction==-1:\n",
    "        direction=3\n",
    "        \n",
    "while True:\n",
    "    \n",
    "    turn_left()\n",
    "    nx=x+dx[direction]\n",
    "    ny=y+dy[direction]\n",
    "    \n",
    "    if d[nx][ny]==0 and array[nx][ny]==0:\n",
    "        \n",
    "        d[nx][ny]=1\n",
    "        x,y=nx,ny\n",
    "        count+=1\n",
    "        turn_num=0\n",
    "        \n",
    "        continue # continue를 빼먹네\n",
    "        \n",
    "    else:\n",
    "        \n",
    "        turn_num+=1\n",
    "        \n",
    "        \n",
    "    if turn_num==4:\n",
    "        \n",
    "        nx=x-dx[direction]\n",
    "        ny=y-dy[direction]\n",
    "        \n",
    "        if array[nx][ny]==1:\n",
    "            \n",
    "            x,y = nx,ny\n",
    "            \n",
    "        else:\n",
    "            break\n",
    "            \n",
    "        turn_num=0\n",
    "        \n",
    "        \n",
    "print(count)\n",
    "        \n",
    "        \n",
    "\n"
   ]
  },
  {
   "cell_type": "markdown",
   "id": "33166968",
   "metadata": {},
   "source": [
    "1. 오른쪽으로 돌고시작\n",
    "2. 앞에 육지고 간적없으면 가기\n",
    "3. 4면다, 뒤로가기, 뒤로못가면 정지"
   ]
  },
  {
   "cell_type": "code",
   "execution_count": 14,
   "id": "bc326d81",
   "metadata": {
    "ExecuteTime": {
     "end_time": "2021-11-12T02:00:53.572315Z",
     "start_time": "2021-11-12T02:00:25.836052Z"
    }
   },
   "outputs": [
    {
     "name": "stdout",
     "output_type": "stream",
     "text": [
      "4 4\n",
      "1 1 0\n",
      "1 1 1 1\n",
      "1 0 0 1\n",
      "1 1 0 1\n",
      "1 1 1 1\n",
      "3\n"
     ]
    }
   ],
   "source": [
    "n,m = map(int,input().split())\n",
    "\n",
    "\n",
    "\n",
    "x,y,direction = map(int,input().split())\n",
    "\n",
    "array=[]\n",
    "\n",
    "for _ in range(n):\n",
    "    array.append(list(map(int,input().split())))\n",
    "                 \n",
    "                 \n",
    "d=[[0]*m for _ in range(n)]\n",
    "                 \n",
    "d[x][y]=1\n",
    "\n",
    "dx=[-1,0,1,0]\n",
    "dy=[0,-1,0,1]\n",
    "                 \n",
    "count=1 \n",
    "turn_time=0\n",
    "\n",
    "def turn_left():\n",
    "    \n",
    "    global direction\n",
    "    direction-=1 \n",
    "    if direction==-1:\n",
    "        direction=3\n",
    "                 \n",
    "        \n",
    "while True:\n",
    "    \n",
    "    turn_left()\n",
    "    \n",
    "    nx=x+dx[direction]\n",
    "    ny=y+dy[direction]\n",
    "    \n",
    "    if d[nx][ny]==0 and array[nx][ny]==0:\n",
    "        d[nx][ny]=1\n",
    "        x,y=nx,ny\n",
    "        count+=1\n",
    "        turn_time=0\n",
    "                 \n",
    "    else:\n",
    "        turn_time+=1\n",
    "                 \n",
    "                 \n",
    "    if turn_time==4:\n",
    "        nx=x-dx[direction]\n",
    "        ny=y-dy[direction]\n",
    "                 \n",
    "        if array[nx][ny]==0:\n",
    "            x,y=nx,ny\n",
    "\n",
    "        else:\n",
    "            break\n",
    "\n",
    "        turn_time=0\n",
    "        \n",
    "print(count)\n"
   ]
  },
  {
   "cell_type": "code",
   "execution_count": null,
   "id": "4b1d3174",
   "metadata": {},
   "outputs": [],
   "source": []
  }
 ],
 "metadata": {
  "hide_input": false,
  "kernelspec": {
   "display_name": "Python 3 (ipykernel)",
   "language": "python",
   "name": "python3"
  },
  "language_info": {
   "codemirror_mode": {
    "name": "ipython",
    "version": 3
   },
   "file_extension": ".py",
   "mimetype": "text/x-python",
   "name": "python",
   "nbconvert_exporter": "python",
   "pygments_lexer": "ipython3",
   "version": "3.8.11"
  }
 },
 "nbformat": 4,
 "nbformat_minor": 5
}
