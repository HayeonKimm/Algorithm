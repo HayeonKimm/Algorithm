{
  "nbformat": 4,
  "nbformat_minor": 0,
  "metadata": {
    "colab": {
      "name": "구현.ipynb",
      "provenance": [],
      "collapsed_sections": [],
      "authorship_tag": "ABX9TyM5GKC60UJTvlsckuw0xV1b",
      "include_colab_link": true
    },
    "kernelspec": {
      "name": "python3",
      "display_name": "Python 3"
    },
    "language_info": {
      "name": "python"
    }
  },
  "cells": [
    {
      "cell_type": "markdown",
      "metadata": {
        "id": "view-in-github",
        "colab_type": "text"
      },
      "source": [
        "<a href=\"https://colab.research.google.com/github/HayeonKimm/Algorithm-Note/blob/master/review/%EA%B5%AC%ED%98%84.ipynb\" target=\"_parent\"><img src=\"https://colab.research.google.com/assets/colab-badge.svg\" alt=\"Open In Colab\"/></a>"
      ]
    },
    {
      "cell_type": "markdown",
      "metadata": {
        "id": "C7qa0I5oMI1o"
      },
      "source": [
        "# 럭키 스트레이트"
      ]
    },
    {
      "cell_type": "code",
      "metadata": {
        "colab": {
          "base_uri": "https://localhost:8080/"
        },
        "id": "v4WV4rVzPHdp",
        "outputId": "ad8fd88c-dfa8-480e-a07a-cf4e3924b2f9"
      },
      "source": [
        "n=input()"
      ],
      "execution_count": 2,
      "outputs": [
        {
          "name": "stdout",
          "output_type": "stream",
          "text": [
            "123402\n"
          ]
        }
      ]
    },
    {
      "cell_type": "code",
      "metadata": {
        "colab": {
          "base_uri": "https://localhost:8080/",
          "height": 35
        },
        "id": "Uzt_5KW9PLTW",
        "outputId": "b35965b0-3c45-4a47-c07e-3c244497fb0e"
      },
      "source": [
        "n[:3]"
      ],
      "execution_count": 6,
      "outputs": [
        {
          "output_type": "execute_result",
          "data": {
            "application/vnd.google.colaboratory.intrinsic+json": {
              "type": "string"
            },
            "text/plain": [
              "'123'"
            ]
          },
          "metadata": {},
          "execution_count": 6
        }
      ]
    },
    {
      "cell_type": "markdown",
      "metadata": {
        "id": "VTavKyb8THsE"
      },
      "source": [
        "성공"
      ]
    },
    {
      "cell_type": "code",
      "metadata": {
        "colab": {
          "base_uri": "https://localhost:8080/"
        },
        "id": "krrIzhzHOB6e",
        "outputId": "391b3684-b88e-4182-e679-04df0ef74060"
      },
      "source": [
        "n=input()\n",
        "count=0\n",
        "result=0\n",
        "\n",
        "for i in n:\n",
        "\n",
        "  count+=int(i)\n",
        "  result+=1\n",
        "\n",
        "  if result == len(n)/2:\n",
        "\n",
        "    count2=count\n",
        "    count=0\n",
        "    \n",
        "\n",
        "  elif result == len(n):\n",
        "\n",
        "    if count == count2:\n",
        "\n",
        "      print('LUCKY')\n",
        "\n",
        "    else:\n",
        "      print('READY')\n",
        "\n",
        "  else:\n",
        "\n",
        "    pass"
      ],
      "execution_count": 16,
      "outputs": [
        {
          "output_type": "stream",
          "name": "stdout",
          "text": [
            "7755\n",
            "READY\n"
          ]
        }
      ]
    },
    {
      "cell_type": "markdown",
      "metadata": {
        "id": "0Tcmo5y-O4Lo"
      },
      "source": [
        "# 문자열 재정렬"
      ]
    },
    {
      "cell_type": "markdown",
      "metadata": {
        "id": "v6fq_2BFWHpw"
      },
      "source": [
        "혼자못품"
      ]
    },
    {
      "cell_type": "code",
      "metadata": {
        "colab": {
          "base_uri": "https://localhost:8080/"
        },
        "id": "SGfbok0IUf-4",
        "outputId": "388e4611-bddc-46ce-f43b-ed0fc273858e"
      },
      "source": [
        "s = input()\n",
        "\n",
        "result=[]\n",
        "value=0\n",
        "\n",
        "for x in s:\n",
        "  if x.isalpha():\n",
        "\n",
        "    result.append(x)\n",
        "\n",
        "  else:\n",
        "\n",
        "    value+=int(x)\n",
        "\n",
        "# 알파벳도 정렬이 가능하구나..\n",
        "result.sort()\n",
        "\n",
        "\n",
        "if value!=0:\n",
        "  result.append(str(value))\n",
        "\n",
        "\n",
        "print(''.join(result))"
      ],
      "execution_count": 24,
      "outputs": [
        {
          "output_type": "stream",
          "name": "stdout",
          "text": [
            "K1KA5CB7\n",
            "ABCKK13\n"
          ]
        }
      ]
    },
    {
      "cell_type": "markdown",
      "metadata": {
        "id": "7PvoQvuFUktC"
      },
      "source": [
        "# 문자열 압축"
      ]
    },
    {
      "cell_type": "markdown",
      "metadata": {
        "id": "V64v_6D0WSpj"
      },
      "source": [
        "--"
      ]
    },
    {
      "cell_type": "markdown",
      "metadata": {
        "id": "J9mavf8fdQd2"
      },
      "source": [
        "# 특정 거리의 도시 찾기 (취약)"
      ]
    },
    {
      "cell_type": "code",
      "metadata": {
        "colab": {
          "base_uri": "https://localhost:8080/"
        },
        "id": "YF5ZfeEDdTPk",
        "outputId": "172408a7-05a0-4fdf-ba2d-4812f2e9b674"
      },
      "source": [
        "from collections import deque\n",
        "\n",
        "# 도시의 개수, 도로의 개수, 거리 정보, 출발 도시 번호\n",
        "\n",
        "n,m,k,x = map(int,input().split())\n",
        "\n",
        "graph = [[] for _ in range(n+1)]\n",
        "\n",
        "# 모든 도로 정보 입력받기\n",
        "\n",
        "for _ in range(m):\n",
        "  a,b = map(int,input().split())\n",
        "  graph[a].append(b)\n",
        "\n",
        "  # 모든 도시에 대한 최단 거리 초기화\n",
        "\n",
        "distance = [-1]*(n+1)\n",
        "distance[x] = 0 # 출발 도시까지의 거리는 0으로 설정\n",
        "\n",
        "# 너비 우선 탐색(BFS) 수행\n",
        "\n",
        "q = deque([x])\n",
        "\n",
        "while q:\n",
        "  now = q.popleft()\n",
        "  # 현재 도시에서 이동할 수 있는 모든 도시를 확인\n",
        "\n",
        "  for next_node in graph[now]:\n",
        "    # 아직 방문하지 않은 도시라면\n",
        "    if distance[next_node] == -1:\n",
        "\n",
        "      # 최단거리 갱신\n",
        "      distance[next_node] = distance[now]+1\n",
        "      q.append(next_node)\n",
        "\n",
        "\n",
        "# 최단 거리가 K인 모든 도시의 번호를 오름차순으로 출력\n",
        "\n",
        "check = False\n",
        "for i in range(1,n+1):\n",
        "  if distance[i] == k:\n",
        "    print(i)\n",
        "    check = True\n",
        "\n",
        "\n",
        "# 만약 최단 거리가 K인 도시가 없다면, -1 출력\n",
        "\n",
        "if check == False:\n",
        "  print(-1)"
      ],
      "execution_count": 2,
      "outputs": [
        {
          "output_type": "stream",
          "name": "stdout",
          "text": [
            "4 4 2 1\n",
            "1 2\n",
            "1 3\n",
            "2 3\n",
            "2 4\n",
            "4\n"
          ]
        }
      ]
    },
    {
      "cell_type": "code",
      "metadata": {
        "colab": {
          "base_uri": "https://localhost:8080/"
        },
        "id": "O4BYPda5dTTB",
        "outputId": "4978bc15-417e-41fc-a393-0061f472a88d"
      },
      "source": [
        "from collections import deque\n",
        "\n",
        "\n",
        "n,m,k,x = map(int,input().split())\n",
        "\n",
        "graph = [[] for _ in range(n+1)]\n",
        "\n",
        "\n",
        "for _ in range(m):\n",
        "  a,b=map(int,input().split())\n",
        "  graph[a].append(b)\n",
        "\n",
        "\n",
        "distance = [-1] * (n+1)\n",
        "\n",
        "distance[x] = 0\n",
        "\n",
        "q = deque([x])\n",
        "\n",
        "while q:\n",
        "\n",
        "  now=q.popleft()\n",
        "\n",
        "  for next_node in graph[now]:\n",
        "    if distance[next_node]==-1:\n",
        "      distance[next_node] = distance[now]+1\n",
        "      q.append(next_node)\n",
        "\n",
        "\n",
        "check = False\n",
        "\n",
        "for i in range(n+1):\n",
        "\n",
        "  if distance[i] == k:\n",
        "    print(i)\n",
        "    check = True\n",
        "\n",
        "\n",
        "if check == False:\n",
        "\n",
        "  print(-1)\n",
        "\n",
        "\n"
      ],
      "execution_count": 5,
      "outputs": [
        {
          "output_type": "stream",
          "name": "stdout",
          "text": [
            "4 4 2 1\n",
            "1 2\n",
            "1 3\n",
            "2 3\n",
            "2 4\n",
            "4\n"
          ]
        }
      ]
    },
    {
      "cell_type": "code",
      "metadata": {
        "id": "4L0Us22MdTVU"
      },
      "source": [
        ""
      ],
      "execution_count": 25,
      "outputs": []
    },
    {
      "cell_type": "code",
      "metadata": {
        "id": "BpwuOoIbdTXp"
      },
      "source": [
        ""
      ],
      "execution_count": 25,
      "outputs": []
    },
    {
      "cell_type": "code",
      "metadata": {
        "id": "1LV3eTjjdTZ6"
      },
      "source": [
        ""
      ],
      "execution_count": 25,
      "outputs": []
    },
    {
      "cell_type": "code",
      "metadata": {
        "id": "8EEYhfCzdTcx"
      },
      "source": [
        ""
      ],
      "execution_count": 25,
      "outputs": []
    },
    {
      "cell_type": "code",
      "metadata": {
        "id": "QZtWOPP8dTfH"
      },
      "source": [
        ""
      ],
      "execution_count": null,
      "outputs": []
    }
  ]
}