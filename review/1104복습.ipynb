{
 "cells": [
  {
   "cell_type": "code",
   "execution_count": 6,
   "id": "a683505a",
   "metadata": {
    "scrolled": true
   },
   "outputs": [
    {
     "name": "stdout",
     "output_type": "stream",
     "text": [
      "5 8 3\n",
      "2 4 5 4 6\n",
      "46\n"
     ]
    }
   ],
   "source": [
    "n,m,k = map(int,input().split())\n",
    "\n",
    "data =list(map(int,input().split()))\n",
    "\n",
    "data.sort()\n",
    "\n",
    "first=data[-1]\n",
    "second=data[-2]\n",
    "result=0\n",
    "\n",
    "while m!=0:\n",
    "    \n",
    "    for i in range(k):\n",
    "\n",
    "        result+=first\n",
    "        m-=1\n",
    "        \n",
    "    result+=second\n",
    "    m-=1\n",
    "    \n",
    "print(result)\n",
    "    \n",
    "    "
   ]
  },
  {
   "cell_type": "markdown",
   "id": "fe63a165",
   "metadata": {},
   "source": [
    "풀었다. 데이터를 리스트로 감싸지 않는 실수를 한다, 솔트부분때문에 리스트로 감싸야한다. data 넣을때 map을 써야한다. "
   ]
  },
  {
   "cell_type": "code",
   "execution_count": 8,
   "id": "479bfadc",
   "metadata": {
    "scrolled": true
   },
   "outputs": [
    {
     "name": "stdout",
     "output_type": "stream",
     "text": [
      "2 4\n",
      "7 3 1 8\n",
      "3 3 3 4\n",
      "3\n"
     ]
    }
   ],
   "source": [
    "n,m = map(int,input().split())\n",
    "result=0\n",
    "\n",
    "\n",
    "for _ in range(n):\n",
    "    data=map(int,input().split())\n",
    "    min_t=min(data)\n",
    "    result=max(result,min_t)\n",
    "    \n",
    "    \n",
    "print(result)\n",
    "    "
   ]
  },
  {
   "cell_type": "markdown",
   "id": "2e21935f",
   "metadata": {},
   "source": [
    "풀었다. 로직짜는데서 오래 걸렸다."
   ]
  },
  {
   "cell_type": "code",
   "execution_count": 16,
   "id": "f4a245e7",
   "metadata": {},
   "outputs": [
    {
     "data": {
      "text/plain": [
       "4"
      ]
     },
     "execution_count": 16,
     "metadata": {},
     "output_type": "execute_result"
    }
   ],
   "source": [
    "alpa = ['L','R','U','D']\n",
    "len(alpa)"
   ]
  },
  {
   "cell_type": "code",
   "execution_count": 21,
   "id": "b65b1f6e",
   "metadata": {},
   "outputs": [
    {
     "name": "stdout",
     "output_type": "stream",
     "text": [
      "5\n",
      "R R R U D D\n",
      "3 4\n"
     ]
    }
   ],
   "source": [
    "matrix = int(input())\n",
    "plans = list(input().split())\n",
    "\n",
    "alpa = ['L','R','U','D']\n",
    "dx = [0,0,-1,1]\n",
    "dy = [-1,1,0,0]\n",
    "x,y =1,1\n",
    "\n",
    "for plan in plans :\n",
    "    \n",
    "    for i in range(len(alpa)):  # 반복문 작성이 오래걸린다.\n",
    "        \n",
    "        if alpa[i]==plan:\n",
    "            \n",
    "            px=x+dx[i]\n",
    "            py=y+dy[i]\n",
    "            \n",
    "    if px<1 or py<1 or px>matrix or py>matrix:\n",
    "        continue\n",
    "        \n",
    "        \n",
    "    x,y=px,py # 밖에서 쓰면 안된다. 반복문 안에서 써야한다.\n",
    "\n",
    "print(x,y)\n",
    "        \n",
    "        \n",
    "        \n",
    "    \n",
    "    # 애먹었다."
   ]
  },
  {
   "cell_type": "code",
   "execution_count": 26,
   "id": "83f14dff",
   "metadata": {},
   "outputs": [
    {
     "name": "stdout",
     "output_type": "stream",
     "text": [
      "a1\n",
      "2\n"
     ]
    }
   ],
   "source": [
    "# 왕실의 나이트\n",
    "\n",
    "# 나이트가 이동 할 수 있는 경우의 수를 출력하는 프로그램을 작성하시오.\n",
    "# 입력예시 a1\n",
    "\n",
    "input_ = input()\n",
    "\n",
    "index_ = int(input_[1])\n",
    "col_ = int(ord(input_[0]))-int(ord('a'))+1\n",
    "\n",
    "# print(col_)\n",
    "\n",
    "move_ = [(2,1),(2,-1),(-2,1),(-2,-1),(1,2),(-1,2),(1,-2),(-1,-2)]\n",
    "\n",
    "\n",
    "result=0\n",
    "for move in move_:\n",
    "\n",
    "    dx=index_+move[0]\n",
    "    dy=col_+move[1]\n",
    "    \n",
    "    if dx<1 or dy<1 or dx>8 or dy>8:\n",
    "        \n",
    "        continue\n",
    "    \n",
    "    result+=1\n",
    "    \n",
    "print(result)\n",
    "\n",
    "# 8번라인에 int를 안씌워서 오래걸렸다. 나머지는 정답. 굿."
   ]
  }
 ],
 "metadata": {
  "hide_input": false,
  "kernelspec": {
   "display_name": "Python 3 (ipykernel)",
   "language": "python",
   "name": "python3"
  },
  "language_info": {
   "codemirror_mode": {
    "name": "ipython",
    "version": 3
   },
   "file_extension": ".py",
   "mimetype": "text/x-python",
   "name": "python",
   "nbconvert_exporter": "python",
   "pygments_lexer": "ipython3",
   "version": "3.8.11"
  },
  "toc": {
   "base_numbering": 1,
   "nav_menu": {},
   "number_sections": true,
   "sideBar": true,
   "skip_h1_title": false,
   "title_cell": "Table of Contents",
   "title_sidebar": "Contents",
   "toc_cell": false,
   "toc_position": {},
   "toc_section_display": true,
   "toc_window_display": false
  }
 },
 "nbformat": 4,
 "nbformat_minor": 5
}
