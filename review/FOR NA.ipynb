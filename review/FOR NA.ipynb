{
 "cells": [
  {
   "cell_type": "code",
   "execution_count": 8,
   "id": "54975509",
   "metadata": {
    "ExecuteTime": {
     "end_time": "2021-12-07T15:27:08.414958Z",
     "start_time": "2021-12-07T15:26:55.049769Z"
    }
   },
   "outputs": [
    {
     "name": "stdout",
     "output_type": "stream",
     "text": [
      "5 6\n",
      "101010\n",
      "111111\n",
      "000001\n",
      "111111\n",
      "111111\n",
      "10\n"
     ]
    }
   ],
   "source": [
    "# 미로 탈출 - 구현,bfs\n",
    "# 탐색은 그래프를 만든다.\n",
    "# bfs\n",
    "# 탐색은 함수를 만든다.\n",
    "\n",
    "from collections import deque\n",
    "\n",
    "n,m = map(int,input().split())\n",
    "\n",
    "graph=[]\n",
    "\n",
    "result=0\n",
    "\n",
    "for i in range(n):\n",
    "    \n",
    "    graph.append(list(map(int,input()))) # 맵 만으로 리스트에 어펜드 할 수 없다.\n",
    "    \n",
    "dx=[-1,1,0,0]\n",
    "dy=[0,0,1,-1]\n",
    "    \n",
    "    \n",
    "def bfs(x,y): # 주변 가장 가까운 노드부터 탐색 !\n",
    "    \n",
    "    # 데크를 안에서 만드는구나\n",
    "    \n",
    "    q = deque()\n",
    "    q.append((x,y)) # 넣고 돌릴 재료 넣기, ()에 넣어서 돌려야 popleft로 한꺼번에 딸려나온다.\n",
    "    \n",
    "    # 루프 실행 , 큐가 빌 때까지 반복\n",
    "    \n",
    "    while q:\n",
    "        \n",
    "        a,b=q.popleft() # q에서 popleft()로 원소 뽑아내기\n",
    "        \n",
    "        \n",
    "        for i in range(4): # 상하좌우 다 탐색해보자\n",
    "            \n",
    "            nx=a+dx[i]\n",
    "            ny=b+dy[i]\n",
    "            \n",
    "            \n",
    "            if nx<0 or nx>=n or ny<0 or ny>=m: # 요 부분 살짝 헷갈린다. 아래 주석 참고\n",
    "                \n",
    "                continue\n",
    "            \n",
    "            \n",
    "            if graph[nx][ny]==0:\n",
    "                \n",
    "                continue\n",
    "                \n",
    "            if graph[nx][ny]==1:\n",
    "                \n",
    "                graph[nx][ny]=graph[a][b]+1\n",
    "                \n",
    "                q.append((nx,ny))# 이 부분 빼먹었네\n",
    "                \n",
    "\n",
    "    return graph[n-1][m-1] # 행과 열은 n-1, m-1 까지 있다, 이 부분 매우 주의하자.\n",
    "                \n",
    "            \n",
    "            \n",
    "                \n",
    "                \n",
    "print(bfs(0,0))"
   ]
  },
  {
   "cell_type": "markdown",
   "id": "11e13870",
   "metadata": {},
   "source": [
    "# 위에서 아래로 - 정렬 \n",
    "178p"
   ]
  },
  {
   "cell_type": "code",
   "execution_count": 12,
   "id": "9a9334ed",
   "metadata": {
    "ExecuteTime": {
     "end_time": "2021-12-07T18:14:54.456076Z",
     "start_time": "2021-12-07T18:14:51.016218Z"
    }
   },
   "outputs": [
    {
     "name": "stdout",
     "output_type": "stream",
     "text": [
      "3\n",
      "15\n",
      "27\n",
      "12\n",
      "27\n",
      "15\n",
      "12\n"
     ]
    }
   ],
   "source": [
    "n=int(input())\n",
    "\n",
    "list_=[]\n",
    "\n",
    "for i in range(n):\n",
    "    list_.append(int(input()))\n",
    "    \n",
    "list_.sort(reverse=True)\n",
    "\n",
    "for x in list_:\n",
    "    print(x)"
   ]
  },
  {
   "cell_type": "markdown",
   "id": "5a591aa4",
   "metadata": {},
   "source": [
    "# 성적이 낮은 순서로 학생 출력하기 - 정렬\n",
    "180p"
   ]
  },
  {
   "cell_type": "code",
   "execution_count": 21,
   "id": "fdbd1683",
   "metadata": {
    "ExecuteTime": {
     "end_time": "2021-12-07T18:21:49.322396Z",
     "start_time": "2021-12-07T18:21:43.328191Z"
    }
   },
   "outputs": [
    {
     "name": "stdout",
     "output_type": "stream",
     "text": [
      "2\n",
      "홍길동 95\n",
      "이순신 77\n",
      "이순신 홍길동 "
     ]
    }
   ],
   "source": [
    "n = int(input())\n",
    "\n",
    "lst=[]\n",
    "\n",
    "for _ in range(n):\n",
    "    lst.append(input().split())\n",
    "    \n",
    "lst.sort(key= lambda x:x[1])\n",
    "\n",
    "for i in lst:\n",
    "    print(i[0], end=' ')"
   ]
  },
  {
   "cell_type": "markdown",
   "id": "727eb299",
   "metadata": {},
   "source": [
    "# 두 배열의 원소 교체 - 정렬\n",
    "\n",
    "182p"
   ]
  },
  {
   "cell_type": "markdown",
   "id": "4dfdfd04",
   "metadata": {},
   "source": [
    "내 답안"
   ]
  },
  {
   "cell_type": "code",
   "execution_count": 24,
   "id": "3aca68fb",
   "metadata": {
    "ExecuteTime": {
     "end_time": "2021-12-07T18:30:49.698093Z",
     "start_time": "2021-12-07T18:30:42.390701Z"
    }
   },
   "outputs": [
    {
     "name": "stdout",
     "output_type": "stream",
     "text": [
      "5 3\n",
      "1 2 5 4 3\n",
      "5 5 6 6 5\n"
     ]
    },
    {
     "data": {
      "text/plain": [
       "26"
      ]
     },
     "execution_count": 24,
     "metadata": {},
     "output_type": "execute_result"
    }
   ],
   "source": [
    "n,k = map(int,input().split())\n",
    "\n",
    "array_a = list(map(int,input().split()))\n",
    "array_b = list(map(int,input().split()))\n",
    "\n",
    "array_b.sort(reverse=True) # 내림차순\n",
    "array_a.sort()\n",
    "\n",
    "for _ in range(k): \n",
    "    array_a.pop(0)\n",
    "for i in range(k):\n",
    "    array_a.insert(0,array_b[i])\n",
    "    \n",
    "sum(array_a)"
   ]
  },
  {
   "cell_type": "markdown",
   "id": "66f84e91",
   "metadata": {},
   "source": [
    "책 답안"
   ]
  },
  {
   "cell_type": "code",
   "execution_count": 26,
   "id": "3e82f3d1",
   "metadata": {
    "ExecuteTime": {
     "end_time": "2021-12-07T18:35:50.417977Z",
     "start_time": "2021-12-07T18:35:43.377153Z"
    },
    "scrolled": true
   },
   "outputs": [
    {
     "name": "stdout",
     "output_type": "stream",
     "text": [
      "5 3\n",
      "1 2 5 4 3\n",
      "5 5 6 6 5\n",
      "26\n"
     ]
    }
   ],
   "source": [
    "n,k = map(int,input().split())\n",
    "\n",
    "array_a = list(map(int,input().split()))\n",
    "array_b = list(map(int,input().split()))\n",
    "\n",
    "array_b.sort(reverse=True) # 내림차순\n",
    "array_a.sort()\n",
    "\n",
    "for i in range(k):\n",
    "    \n",
    "    if array_a[i]<array_b[i]:\n",
    "        array_a[i],array_b[i]=array_b[i],array_a[i]\n",
    "    \n",
    "    else: # A의 원소가 B의 원소보다 크거나 같을 때, 반복문을 탈출\n",
    "        break\n",
    "        \n",
    "print(sum(array_a))"
   ]
  },
  {
   "cell_type": "markdown",
   "id": "c5a38543",
   "metadata": {},
   "source": [
    "### 상하좌우 - review2"
   ]
  },
  {
   "cell_type": "code",
   "execution_count": 29,
   "id": "5c3ffa99",
   "metadata": {
    "ExecuteTime": {
     "end_time": "2021-12-07T20:00:45.925113Z",
     "start_time": "2021-12-07T20:00:36.210059Z"
    }
   },
   "outputs": [
    {
     "name": "stdout",
     "output_type": "stream",
     "text": [
      "5\n",
      "R R R U D D\n",
      "3 4\n"
     ]
    }
   ],
   "source": [
    "n = int(input())\n",
    "\n",
    "plans = list(input().split())\n",
    "\n",
    "alph=['L','R','U','D'] # alph 박스는 필요하다. 자꾸 까먹네\n",
    "\n",
    "dx=[0,0,-1,1] # 이동에 필요한 좌표 박스들.\n",
    "dy=[-1,1,0,0]\n",
    "\n",
    "x,y=1,1\n",
    "\n",
    "for plan in plans:\n",
    "    \n",
    "    for i in range(len(alph)):\n",
    "    \n",
    "        if plan == alph[i]:\n",
    "\n",
    "            nx=x+dx[i]   # dx를 추가적으로 더하는 좌표값은 nx,ny로 표시한다.\n",
    "            ny=y+dy[i]\n",
    "\n",
    "            if 0<nx<=n and 0<ny<=n: # nx와 ny 의 조건이 맞으면. \n",
    "\n",
    "                x,y=nx,ny  # x,y에 대입. 이러면 반복될때 nx,ny 가 x,y에 값에 들어가서 계산\n",
    "\n",
    "            else:   # 다른 경우라면 continue로 빠져나가기\n",
    "                continue\n",
    "            \n",
    "\n",
    "print(x,y)\n",
    "    \n",
    "    "
   ]
  },
  {
   "cell_type": "markdown",
   "id": "baee0455",
   "metadata": {},
   "source": [
    "### 왕실의 나이트 - 구현 review2"
   ]
  },
  {
   "cell_type": "code",
   "execution_count": 40,
   "id": "310e2d54",
   "metadata": {
    "ExecuteTime": {
     "end_time": "2021-12-07T20:28:27.044671Z",
     "start_time": "2021-12-07T20:28:25.162853Z"
    }
   },
   "outputs": [
    {
     "name": "stdout",
     "output_type": "stream",
     "text": [
      "c2\n",
      "6\n"
     ]
    }
   ],
   "source": [
    "# 이동 할 수 있는 경우의 수를 출력하는 프로그램\n",
    "# 이번엔 내 방법말고, ord를 이용하여 보자.\n",
    "\n",
    "data = input()\n",
    "\n",
    "# 뭐가 x인지 y인지는 중요하지 않는듯, 값이 똑같다.\n",
    "y=int(data[1]) # int 값 취하는거 잊지말기\n",
    "x=int(ord(data[0]))-int(ord('a'))+1 # 이 부분 약간 헤매네. 이 자체가 공식.\n",
    "\n",
    "\n",
    "# dx=[-2,-1,1,2,2,1,-1,-2]\n",
    "# dy=[2,2,1,-1,-2,-2,-1,1] # 요 방식은 내방식이고 좋긴한데, 새로운 방식 시도\n",
    "\n",
    "steps=[(-2,1),(-1,2),(1,2),(2,1),(2,-1),(1,-2),(-1,-2),(-2,-1)]\n",
    "count=0\n",
    "\n",
    "for step in steps:\n",
    "    \n",
    "    nx=x+step[0]\n",
    "    ny=y+step[1]\n",
    "    \n",
    "    if 0<nx<=8 and 0<ny<=8:\n",
    "        \n",
    "        count+=1\n",
    "\n",
    "print(count)\n",
    "\n"
   ]
  },
  {
   "cell_type": "markdown",
   "id": "470f74e6",
   "metadata": {},
   "source": [
    "# DFS 요약"
   ]
  },
  {
   "cell_type": "markdown",
   "id": "39804073",
   "metadata": {},
   "source": [
    "💡 깊이 우선 탐색의 개념\n",
    "\n",
    "루트 노드(혹은 다른 임의의 노드)에서 시작해서 다음 분기(branch)로 넘어가기 전에\n",
    "\n",
    "해당 분기를 완벽하게 탐색하는 방식을 말합니다.\n",
    "\n",
    " \n",
    "\n",
    "예를 들어, 미로찾기를 할 때 최대한 한 방향으로 갈 수 있을 때까지 쭉 가다가\n",
    "\n",
    "더 이상 갈 수 없게 되면 다시 가장 가까운 갈림길로 돌아와서\n",
    "\n",
    "그 갈림길부터 다시 다른 방향으로 탐색을 진행하는 것이 깊이 우선 탐색 방식이라고 할 수 있습니다.\n",
    "\n",
    " \n",
    "\n",
    "1. 모든 노드를 방문하고자 하는 경우에 이 방법을 선택함\n",
    "\n",
    "2. 깊이 우선 탐색(DFS)이 너비 우선 탐색(BFS)보다 좀 더 간단함\n",
    "\n",
    "3. 검색 속도 자체는 너비 우선 탐색(BFS)에 비해서 느림\n",
    "\n",
    "\n",
    "\n",
    "출처: https://devuna.tistory.com/32 [튜나 개발일기]"
   ]
  },
  {
   "cell_type": "markdown",
   "id": "3bda4c43",
   "metadata": {},
   "source": [
    "# BFS 요약\n",
    "\n",
    "💡 너비 우선 탐색의 개념\n",
    "\n",
    "루트 노드(혹은 다른 임의의 노드)에서 시작해서 인접한 노드를 먼저 탐색하는 방법으로,\n",
    "\n",
    "시작 정점으로부터 가까운 정점을 먼저 방문하고 멀리 떨어져 있는 정점을 나중에 방문하는 순회 방법입니다.\n",
    "\n",
    " \n",
    "\n",
    "주로 두 노드 사이의 최단 경로를 찾고 싶을 때 이 방법을 선택합니다.\n",
    "\n",
    "ex) 지구 상에 존재하는 모든 친구 관계를 그래프로 표현한 후 Sam과 Eddie사이에 존재하는 경로를 찾는 경우\n",
    "\n",
    " \n",
    "\n",
    "* 깊이 우선 탐색의 경우 - 모든 친구 관계를 다 살펴봐야 할지도 모름\n",
    "\n",
    "* 너비 우선 탐색의 경우 - Sam과 가까운 관계부터 탐색\n",
    "\n",
    "\n",
    "\n",
    "출처: https://devuna.tistory.com/32 [튜나 개발일기]"
   ]
  },
  {
   "cell_type": "markdown",
   "id": "aec00dd6",
   "metadata": {},
   "source": [
    "### 음료수 얼려 먹기 - 탐색 review2"
   ]
  },
  {
   "cell_type": "code",
   "execution_count": 7,
   "id": "50c773e1",
   "metadata": {
    "ExecuteTime": {
     "end_time": "2021-12-07T21:02:50.228923Z",
     "start_time": "2021-12-07T21:02:38.165022Z"
    }
   },
   "outputs": [
    {
     "name": "stdout",
     "output_type": "stream",
     "text": [
      "4 5\n",
      "00110\n",
      "00011\n",
      "11111\n",
      "00000\n",
      "3\n"
     ]
    }
   ],
   "source": [
    "# 음료수 얼려 먹기 - 탐색 dfs\n",
    "\n",
    "# dfs.. 재귀.. 스택구조.. 선입후출\n",
    "# 왜 dfs일까?\n",
    "\n",
    "\n",
    "n,m = map(int,input().split())\n",
    "\n",
    "map_=[]\n",
    "\n",
    "for _ in range(n):\n",
    "        map_.append(list(map(int,input())))\n",
    "#     map_.append(list(map(int,input().split()))) # split을 넣으면 안된다..왜 안되지?\n",
    "\n",
    "# 이 문제는 출석부 X\n",
    "\n",
    "def dfs(x,y):\n",
    "    \n",
    "    \n",
    "    \n",
    "    if x<=-1 or x>=n or y<= -1 or y>=m:  # x가 n보다.. m이 아니다. 문제는 없겠지만 그대로 따라하자.\n",
    "                                        # 이 부분에서 헤맸다. 조건이 틀리면 out of range 오류가 뜬다. 여기서 값을 잘 걸러줘야 하는듯\n",
    "        \n",
    "        return False\n",
    "    # 왜 x가 0부터 시작하는 전제일까? 1일수는 없나 -> 반복문이 0부터 시작하니까 그런거 같다.\n",
    "    \n",
    "    \n",
    "    if map_[x][y]==0: # 구멍이 뚫려있다면\n",
    "        \n",
    "        map_[x][y]=1 # 구멍 막고,\n",
    "        \n",
    "        \n",
    "        dfs(x+1,y)\n",
    "        dfs(x-1,y)\n",
    "        dfs(x,y+1)\n",
    "        dfs(x,y-1)\n",
    "        \n",
    "        \n",
    "        return True\n",
    "    \n",
    "    \n",
    "#     return False # 위의 두 개의 경우가 아니라면 False 를 리턴해라\n",
    "    \n",
    "    return False\n",
    "    \n",
    "    \n",
    "    \n",
    "    \n",
    "count=0\n",
    "\n",
    "for i in range(n):\n",
    "    for j in range(m):\n",
    "        \n",
    "        if dfs(i,j)==True:\n",
    "            count+=1\n",
    "            \n",
    "print(count)\n",
    "    \n",
    "\n",
    "\n"
   ]
  },
  {
   "cell_type": "markdown",
   "id": "2a823d2c",
   "metadata": {},
   "source": [
    "# 미로 탈출 탐색 review2"
   ]
  },
  {
   "cell_type": "code",
   "execution_count": 6,
   "id": "9e99f3b5",
   "metadata": {
    "ExecuteTime": {
     "end_time": "2021-12-07T22:04:56.104646Z",
     "start_time": "2021-12-07T22:04:30.907489Z"
    }
   },
   "outputs": [
    {
     "name": "stdout",
     "output_type": "stream",
     "text": [
      "5 6\n",
      "101010\n",
      "111111\n",
      "000001\n",
      "111111\n",
      "111111\n",
      "10\n"
     ]
    }
   ],
   "source": [
    "from collections import deque\n",
    "\n",
    "\n",
    "n,m = map(int,input().split())\n",
    "\n",
    "graph=[]\n",
    "\n",
    "for _ in range(n):\n",
    "    graph.append(list(map(int,input())))\n",
    "    \n",
    "    \n",
    "dx=[1,-1,0,0]\n",
    "dy=[0,0,-1,1]\n",
    "\n",
    "# x,y=1,1 맨 처음 위치가 불필요하다. 1,1에서 시작된다는건 이 문제에서는 맨 왼쪽위 라고만 받아들이자 = (0,0)\n",
    "    \n",
    "def bfs(x,y):\n",
    "    \n",
    "    q=deque()\n",
    "    q.append((x,y))\n",
    "    \n",
    "    while q:\n",
    "        \n",
    "        x,y=q.popleft()\n",
    "        \n",
    "        for i in range(len(dx)):\n",
    "            \n",
    "            nx=x+dx[i]\n",
    "            ny=y+dy[i]\n",
    "\n",
    "\n",
    "            if nx<=-1 or ny<=-1 or nx>=n or ny>=m: # 값을 x,y 로 넣었었다. 주의하자.\n",
    "\n",
    "                continue\n",
    "\n",
    "#             if q[nx][ny]==0: # 아 여기서 graph에서 찾아야한다.\n",
    "            \n",
    "#             print(nx,ny)\n",
    "            if graph[nx][ny]==0:\n",
    "            \n",
    "                continue\n",
    "\n",
    "            if graph[nx][ny]==1:\n",
    "\n",
    "                graph[nx][ny]=graph[x][y]+1 # 여기도. q랑 graph 자리를 구분 필수다.q는 값을 기록하거나 바꿔야 하는 공간이 아니다.\n",
    "                q.append((nx,ny))\n",
    "                \n",
    "                \n",
    "    return graph[n-1][m-1] # 3*3 모양이여도 graph[n][m]이 아니라 graph[n-1][m-1] 이다. 시작이 1,1이 아니라 0,0에서 시작되기 때문\n",
    "\n",
    "                \n",
    "print(bfs(0,0)) "
   ]
  },
  {
   "cell_type": "code",
   "execution_count": 2,
   "id": "7b564863",
   "metadata": {
    "ExecuteTime": {
     "end_time": "2021-12-07T21:58:16.861450Z",
     "start_time": "2021-12-07T21:58:16.817819Z"
    }
   },
   "outputs": [
    {
     "data": {
      "text/plain": [
       "4"
      ]
     },
     "execution_count": 2,
     "metadata": {},
     "output_type": "execute_result"
    }
   ],
   "source": [
    "len(dx)"
   ]
  },
  {
   "cell_type": "code",
   "execution_count": null,
   "id": "41e01c3f",
   "metadata": {},
   "outputs": [],
   "source": []
  }
 ],
 "metadata": {
  "hide_input": false,
  "kernelspec": {
   "display_name": "Python 3 (ipykernel)",
   "language": "python",
   "name": "python3"
  },
  "language_info": {
   "codemirror_mode": {
    "name": "ipython",
    "version": 3
   },
   "file_extension": ".py",
   "mimetype": "text/x-python",
   "name": "python",
   "nbconvert_exporter": "python",
   "pygments_lexer": "ipython3",
   "version": "3.8.11"
  },
  "toc": {
   "base_numbering": 1,
   "nav_menu": {},
   "number_sections": true,
   "sideBar": true,
   "skip_h1_title": false,
   "title_cell": "Table of Contents",
   "title_sidebar": "Contents",
   "toc_cell": false,
   "toc_position": {},
   "toc_section_display": true,
   "toc_window_display": false
  }
 },
 "nbformat": 4,
 "nbformat_minor": 5
}
