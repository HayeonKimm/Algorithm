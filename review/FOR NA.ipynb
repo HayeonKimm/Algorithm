{
 "cells": [
  {
   "cell_type": "code",
   "execution_count": 8,
   "id": "54975509",
   "metadata": {
    "ExecuteTime": {
     "end_time": "2021-12-07T15:27:08.414958Z",
     "start_time": "2021-12-07T15:26:55.049769Z"
    }
   },
   "outputs": [
    {
     "name": "stdout",
     "output_type": "stream",
     "text": [
      "5 6\n",
      "101010\n",
      "111111\n",
      "000001\n",
      "111111\n",
      "111111\n",
      "10\n"
     ]
    }
   ],
   "source": [
    "# 미로 탈출 - 구현\n",
    "# 탐색은 그래프를 만든다.\n",
    "# bfs\n",
    "# 탐색은 함수를 만든다.\n",
    "\n",
    "from collections import deque\n",
    "\n",
    "n,m = map(int,input().split())\n",
    "\n",
    "graph=[]\n",
    "\n",
    "result=0\n",
    "\n",
    "for i in range(n):\n",
    "    \n",
    "    graph.append(list(map(int,input()))) # 맵 만으로 리스트에 어펜드 할 수 없다.\n",
    "    \n",
    "dx=[-1,1,0,0]\n",
    "dy=[0,0,1,-1]\n",
    "    \n",
    "    \n",
    "def bfs(x,y): # 주변 가장 가까운 노드부터 탐색 !\n",
    "    \n",
    "    # 데크를 안에서 만드는구나\n",
    "    \n",
    "    q = deque()\n",
    "    q.append((x,y)) # 넣고 돌릴 재료 넣기, ()에 넣어서 돌려야 popleft로 한꺼번에 딸려나온다.\n",
    "    \n",
    "    # 루프 실행 , 큐가 빌 때까지 반복\n",
    "    \n",
    "    while q:\n",
    "        \n",
    "        a,b=q.popleft() # q에서 popleft()로 원소 뽑아내기\n",
    "        \n",
    "        \n",
    "        for i in range(4): # 상하좌우 다 탐색해보자\n",
    "            \n",
    "            nx=a+dx[i]\n",
    "            ny=b+dy[i]\n",
    "            \n",
    "            \n",
    "            if nx<0 or nx>=n or ny<0 or ny>=m: # 요 부분 살짝 헷갈린다. 아래 주석 참고\n",
    "                \n",
    "                continue\n",
    "            \n",
    "            \n",
    "            if graph[nx][ny]==0:\n",
    "                \n",
    "                continue\n",
    "                \n",
    "            if graph[nx][ny]==1:\n",
    "                \n",
    "                graph[nx][ny]=graph[a][b]+1\n",
    "                \n",
    "                q.append((nx,ny))# 이 부분 빼먹었네\n",
    "                \n",
    "\n",
    "    return graph[n-1][m-1] # 행과 열은 n-1, m-1 까지 있다, 이 부분 매우 주의하자.\n",
    "                \n",
    "            \n",
    "            \n",
    "                \n",
    "                \n",
    "print(bfs(0,0))"
   ]
  },
  {
   "cell_type": "markdown",
   "id": "ef701346",
   "metadata": {},
   "source": [
    "# 위에서 아래로 - 정렬 \n",
    "178p"
   ]
  },
  {
   "cell_type": "code",
   "execution_count": 12,
   "id": "9a9334ed",
   "metadata": {
    "ExecuteTime": {
     "end_time": "2021-12-07T18:14:54.456076Z",
     "start_time": "2021-12-07T18:14:51.016218Z"
    }
   },
   "outputs": [
    {
     "name": "stdout",
     "output_type": "stream",
     "text": [
      "3\n",
      "15\n",
      "27\n",
      "12\n",
      "27\n",
      "15\n",
      "12\n"
     ]
    }
   ],
   "source": [
    "n=int(input())\n",
    "\n",
    "list_=[]\n",
    "\n",
    "for i in range(n):\n",
    "    list_.append(int(input()))\n",
    "    \n",
    "list_.sort(reverse=True)\n",
    "\n",
    "for x in list_:\n",
    "    print(x)"
   ]
  },
  {
   "cell_type": "markdown",
   "id": "bc0c1857",
   "metadata": {},
   "source": [
    "# 성적이 낮은 순서로 학생 출력하기 - 정렬\n",
    "180p"
   ]
  },
  {
   "cell_type": "code",
   "execution_count": 21,
   "id": "bd072dc3",
   "metadata": {
    "ExecuteTime": {
     "end_time": "2021-12-07T18:21:49.322396Z",
     "start_time": "2021-12-07T18:21:43.328191Z"
    }
   },
   "outputs": [
    {
     "name": "stdout",
     "output_type": "stream",
     "text": [
      "2\n",
      "홍길동 95\n",
      "이순신 77\n",
      "이순신 홍길동 "
     ]
    }
   ],
   "source": [
    "n = int(input())\n",
    "\n",
    "lst=[]\n",
    "\n",
    "for _ in range(n):\n",
    "    lst.append(input().split())\n",
    "    \n",
    "lst.sort(key= lambda x:x[1])\n",
    "\n",
    "for i in lst:\n",
    "    print(i[0], end=' ')"
   ]
  },
  {
   "cell_type": "markdown",
   "id": "12087e8d",
   "metadata": {},
   "source": [
    "# 두 배열의 원소 교체 - 정렬\n",
    "\n",
    "182p"
   ]
  },
  {
   "cell_type": "markdown",
   "id": "3d694d40",
   "metadata": {},
   "source": [
    "내 답안"
   ]
  },
  {
   "cell_type": "code",
   "execution_count": 24,
   "id": "922f9f81",
   "metadata": {
    "ExecuteTime": {
     "end_time": "2021-12-07T18:30:49.698093Z",
     "start_time": "2021-12-07T18:30:42.390701Z"
    }
   },
   "outputs": [
    {
     "name": "stdout",
     "output_type": "stream",
     "text": [
      "5 3\n",
      "1 2 5 4 3\n",
      "5 5 6 6 5\n"
     ]
    },
    {
     "data": {
      "text/plain": [
       "26"
      ]
     },
     "execution_count": 24,
     "metadata": {},
     "output_type": "execute_result"
    }
   ],
   "source": [
    "n,k = map(int,input().split())\n",
    "\n",
    "array_a = list(map(int,input().split()))\n",
    "array_b = list(map(int,input().split()))\n",
    "\n",
    "array_b.sort(reverse=True) # 내림차순\n",
    "array_a.sort()\n",
    "\n",
    "for _ in range(k): \n",
    "    array_a.pop(0)\n",
    "for i in range(k):\n",
    "    array_a.insert(0,array_b[i])\n",
    "    \n",
    "sum(array_a)"
   ]
  },
  {
   "cell_type": "markdown",
   "id": "7f0daed4",
   "metadata": {},
   "source": [
    "책 답안"
   ]
  },
  {
   "cell_type": "code",
   "execution_count": 26,
   "id": "e9580bd3",
   "metadata": {
    "ExecuteTime": {
     "end_time": "2021-12-07T18:35:50.417977Z",
     "start_time": "2021-12-07T18:35:43.377153Z"
    }
   },
   "outputs": [
    {
     "name": "stdout",
     "output_type": "stream",
     "text": [
      "5 3\n",
      "1 2 5 4 3\n",
      "5 5 6 6 5\n",
      "26\n"
     ]
    }
   ],
   "source": [
    "n,k = map(int,input().split())\n",
    "\n",
    "array_a = list(map(int,input().split()))\n",
    "array_b = list(map(int,input().split()))\n",
    "\n",
    "array_b.sort(reverse=True) # 내림차순\n",
    "array_a.sort()\n",
    "\n",
    "for i in range(k):\n",
    "    \n",
    "    if array_a[i]<array_b[i]:\n",
    "        array_a[i],array_b[i]=array_b[i],array_a[i]\n",
    "    \n",
    "    else: # A의 원소가 B의 원소보다 크거나 같을 때, 반복문을 탈출\n",
    "        break\n",
    "        \n",
    "print(sum(array_a))"
   ]
  }
 ],
 "metadata": {
  "hide_input": false,
  "kernelspec": {
   "display_name": "Python 3 (ipykernel)",
   "language": "python",
   "name": "python3"
  },
  "language_info": {
   "codemirror_mode": {
    "name": "ipython",
    "version": 3
   },
   "file_extension": ".py",
   "mimetype": "text/x-python",
   "name": "python",
   "nbconvert_exporter": "python",
   "pygments_lexer": "ipython3",
   "version": "3.8.11"
  },
  "toc": {
   "base_numbering": 1,
   "nav_menu": {},
   "number_sections": true,
   "sideBar": true,
   "skip_h1_title": false,
   "title_cell": "Table of Contents",
   "title_sidebar": "Contents",
   "toc_cell": false,
   "toc_position": {},
   "toc_section_display": true,
   "toc_window_display": false
  }
 },
 "nbformat": 4,
 "nbformat_minor": 5
}
