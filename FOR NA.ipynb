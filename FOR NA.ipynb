{
 "cells": [
  {
   "cell_type": "code",
   "execution_count": null,
   "id": "54975509",
   "metadata": {
    "ExecuteTime": {
     "end_time": "2021-12-07T15:27:08.414958Z",
     "start_time": "2021-12-07T15:26:55.049769Z"
    }
   },
   "outputs": [],
   "source": [
    "# 미로 탈출 - 구현,bfs\n",
    "# 탐색은 그래프를 만든다.\n",
    "# bfs\n",
    "# 탐색은 함수를 만든다.\n",
    "\n",
    "from collections import deque\n",
    "\n",
    "n,m = map(int,input().split())\n",
    "\n",
    "graph=[]\n",
    "\n",
    "result=0\n",
    "\n",
    "for i in range(n):\n",
    "    \n",
    "    graph.append(list(map(int,input()))) # 맵 만으로 리스트에 어펜드 할 수 없다.\n",
    "    \n",
    "dx=[-1,1,0,0]\n",
    "dy=[0,0,1,-1]\n",
    "    \n",
    "    \n",
    "def bfs(x,y): # 주변 가장 가까운 노드부터 탐색 !\n",
    "    \n",
    "    # 데크를 안에서 만드는구나\n",
    "    \n",
    "    q = deque()\n",
    "    q.append((x,y)) # 넣고 돌릴 재료 넣기, ()에 넣어서 돌려야 popleft로 한꺼번에 딸려나온다.\n",
    "    \n",
    "    # 루프 실행 , 큐가 빌 때까지 반복\n",
    "    \n",
    "    while q:\n",
    "        \n",
    "        a,b=q.popleft() # q에서 popleft()로 원소 뽑아내기\n",
    "        \n",
    "        \n",
    "        for i in range(4): # 상하좌우 다 탐색해보자\n",
    "            \n",
    "            nx=a+dx[i]\n",
    "            ny=b+dy[i]\n",
    "            \n",
    "            \n",
    "            if nx<0 or nx>=n or ny<0 or ny>=m: # 요 부분 살짝 헷갈린다. 아래 주석 참고\n",
    "                \n",
    "                continue\n",
    "            \n",
    "            \n",
    "            if graph[nx][ny]==0:\n",
    "                \n",
    "                continue\n",
    "                \n",
    "            if graph[nx][ny]==1:\n",
    "                \n",
    "                graph[nx][ny]=graph[a][b]+1\n",
    "                \n",
    "                q.append((nx,ny))# 이 부분 빼먹었네\n",
    "                \n",
    "\n",
    "    return graph[n-1][m-1] # 행과 열은 n-1, m-1 까지 있다, 이 부분 매우 주의하자.\n",
    "                \n",
    "            \n",
    "            \n",
    "                \n",
    "                \n",
    "print(bfs(0,0))"
   ]
  },
  {
   "cell_type": "markdown",
   "id": "a6a12997",
   "metadata": {},
   "source": [
    "# 위에서 아래로 - 정렬 \n",
    "178p"
   ]
  },
  {
   "cell_type": "code",
   "execution_count": null,
   "id": "9a9334ed",
   "metadata": {
    "ExecuteTime": {
     "end_time": "2021-12-07T18:14:54.456076Z",
     "start_time": "2021-12-07T18:14:51.016218Z"
    }
   },
   "outputs": [],
   "source": [
    "n=int(input())\n",
    "\n",
    "list_=[]\n",
    "\n",
    "for i in range(n):\n",
    "    list_.append(int(input()))\n",
    "    \n",
    "list_.sort(reverse=True)\n",
    "\n",
    "for x in list_:\n",
    "    print(x)"
   ]
  },
  {
   "cell_type": "markdown",
   "id": "dcfc677b",
   "metadata": {},
   "source": [
    "# 성적이 낮은 순서로 학생 출력하기 - 정렬\n",
    "180p"
   ]
  },
  {
   "cell_type": "code",
   "execution_count": null,
   "id": "593eaace",
   "metadata": {
    "ExecuteTime": {
     "end_time": "2021-12-07T18:21:49.322396Z",
     "start_time": "2021-12-07T18:21:43.328191Z"
    }
   },
   "outputs": [],
   "source": [
    "n = int(input())\n",
    "\n",
    "lst=[]\n",
    "\n",
    "for _ in range(n):\n",
    "    lst.append(input().split())\n",
    "    \n",
    "lst.sort(key= lambda x:x[1])\n",
    "\n",
    "for i in lst:\n",
    "    print(i[0], end=' ')"
   ]
  },
  {
   "cell_type": "markdown",
   "id": "990b15f5",
   "metadata": {},
   "source": [
    "# 두 배열의 원소 교체 - 정렬\n",
    "\n",
    "182p"
   ]
  },
  {
   "cell_type": "markdown",
   "id": "ed98eea8",
   "metadata": {},
   "source": [
    "내 답안"
   ]
  },
  {
   "cell_type": "code",
   "execution_count": null,
   "id": "2f132faa",
   "metadata": {
    "ExecuteTime": {
     "end_time": "2021-12-07T18:30:49.698093Z",
     "start_time": "2021-12-07T18:30:42.390701Z"
    }
   },
   "outputs": [],
   "source": [
    "n,k = map(int,input().split())\n",
    "\n",
    "array_a = list(map(int,input().split()))\n",
    "array_b = list(map(int,input().split()))\n",
    "\n",
    "array_b.sort(reverse=True) # 내림차순\n",
    "array_a.sort()\n",
    "\n",
    "for _ in range(k): \n",
    "    array_a.pop(0)\n",
    "for i in range(k):\n",
    "    array_a.insert(0,array_b[i])\n",
    "    \n",
    "sum(array_a)"
   ]
  },
  {
   "cell_type": "markdown",
   "id": "9e72fec1",
   "metadata": {},
   "source": [
    "책 답안"
   ]
  },
  {
   "cell_type": "code",
   "execution_count": null,
   "id": "2e173f77",
   "metadata": {
    "ExecuteTime": {
     "end_time": "2021-12-07T18:35:50.417977Z",
     "start_time": "2021-12-07T18:35:43.377153Z"
    },
    "scrolled": true
   },
   "outputs": [],
   "source": [
    "n,k = map(int,input().split())\n",
    "\n",
    "array_a = list(map(int,input().split()))\n",
    "array_b = list(map(int,input().split()))\n",
    "\n",
    "array_b.sort(reverse=True) # 내림차순\n",
    "array_a.sort()\n",
    "\n",
    "for i in range(k):\n",
    "    \n",
    "    if array_a[i]<array_b[i]:\n",
    "        array_a[i],array_b[i]=array_b[i],array_a[i]\n",
    "    \n",
    "    else: # A의 원소가 B의 원소보다 크거나 같을 때, 반복문을 탈출\n",
    "        break\n",
    "        \n",
    "print(sum(array_a))"
   ]
  },
  {
   "cell_type": "markdown",
   "id": "db805373",
   "metadata": {},
   "source": [
    "### 상하좌우 - review2"
   ]
  },
  {
   "cell_type": "code",
   "execution_count": null,
   "id": "1e4d5a74",
   "metadata": {
    "ExecuteTime": {
     "end_time": "2021-12-07T20:00:45.925113Z",
     "start_time": "2021-12-07T20:00:36.210059Z"
    }
   },
   "outputs": [],
   "source": [
    "n = int(input())\n",
    "\n",
    "plans = list(input().split())\n",
    "\n",
    "alph=['L','R','U','D'] # alph 박스는 필요하다. 자꾸 까먹네\n",
    "\n",
    "dx=[0,0,-1,1] # 이동에 필요한 좌표 박스들.\n",
    "dy=[-1,1,0,0]\n",
    "\n",
    "x,y=1,1\n",
    "\n",
    "for plan in plans:\n",
    "    \n",
    "    for i in range(len(alph)):\n",
    "    \n",
    "        if plan == alph[i]:\n",
    "\n",
    "            nx=x+dx[i]   # dx를 추가적으로 더하는 좌표값은 nx,ny로 표시한다.\n",
    "            ny=y+dy[i]\n",
    "\n",
    "            if 0<nx<=n and 0<ny<=n: # nx와 ny 의 조건이 맞으면. \n",
    "\n",
    "                x,y=nx,ny  # x,y에 대입. 이러면 반복될때 nx,ny 가 x,y에 값에 들어가서 계산\n",
    "\n",
    "            else:   # 다른 경우라면 continue로 빠져나가기\n",
    "                continue\n",
    "            \n",
    "\n",
    "print(x,y)\n",
    "    \n",
    "    "
   ]
  },
  {
   "cell_type": "markdown",
   "id": "9685401c",
   "metadata": {},
   "source": [
    "### 왕실의 나이트 - 구현 review2"
   ]
  },
  {
   "cell_type": "code",
   "execution_count": null,
   "id": "fed4f0ae",
   "metadata": {
    "ExecuteTime": {
     "end_time": "2021-12-07T20:28:27.044671Z",
     "start_time": "2021-12-07T20:28:25.162853Z"
    }
   },
   "outputs": [],
   "source": [
    "# 이동 할 수 있는 경우의 수를 출력하는 프로그램\n",
    "# 이번엔 내 방법말고, ord를 이용하여 보자.\n",
    "\n",
    "data = input()\n",
    "\n",
    "# 뭐가 x인지 y인지는 중요하지 않는듯, 값이 똑같다.\n",
    "y=int(data[1]) # int 값 취하는거 잊지말기\n",
    "x=int(ord(data[0]))-int(ord('a'))+1 # 이 부분 약간 헤매네. 이 자체가 공식.\n",
    "\n",
    "\n",
    "# dx=[-2,-1,1,2,2,1,-1,-2]\n",
    "# dy=[2,2,1,-1,-2,-2,-1,1] # 요 방식은 내방식이고 좋긴한데, 새로운 방식 시도\n",
    "\n",
    "steps=[(-2,1),(-1,2),(1,2),(2,1),(2,-1),(1,-2),(-1,-2),(-2,-1)]\n",
    "count=0\n",
    "\n",
    "for step in steps:\n",
    "    \n",
    "    nx=x+step[0]\n",
    "    ny=y+step[1]\n",
    "    \n",
    "    if 0<nx<=8 and 0<ny<=8:\n",
    "        \n",
    "        count+=1\n",
    "\n",
    "print(count)\n",
    "\n"
   ]
  },
  {
   "cell_type": "markdown",
   "id": "7ec289c6",
   "metadata": {},
   "source": [
    "# DFS 요약"
   ]
  },
  {
   "cell_type": "markdown",
   "id": "c700e395",
   "metadata": {},
   "source": [
    "💡 깊이 우선 탐색의 개념\n",
    "\n",
    "루트 노드(혹은 다른 임의의 노드)에서 시작해서 다음 분기(branch)로 넘어가기 전에\n",
    "\n",
    "해당 분기를 완벽하게 탐색하는 방식을 말합니다.\n",
    "\n",
    " \n",
    "\n",
    "예를 들어, 미로찾기를 할 때 최대한 한 방향으로 갈 수 있을 때까지 쭉 가다가\n",
    "\n",
    "더 이상 갈 수 없게 되면 다시 가장 가까운 갈림길로 돌아와서\n",
    "\n",
    "그 갈림길부터 다시 다른 방향으로 탐색을 진행하는 것이 깊이 우선 탐색 방식이라고 할 수 있습니다.\n",
    "\n",
    " \n",
    "\n",
    "1.**모든 노드를 방문하고자 하는 경우에 이 방법을 선택함**     \n",
    "       \n",
    "2.깊이 우선 탐색(DFS)이 너비 우선 탐색(BFS)보다 좀 더 간단함       \n",
    "        \n",
    "3.검색 속도 자체는 너비 우선 탐색(BFS)에 비해서 느림   \n",
    "\n",
    "\n",
    "\n",
    "출처: https://devuna.tistory.com/32 [튜나 개발일기]"
   ]
  },
  {
   "cell_type": "markdown",
   "id": "c62f9557",
   "metadata": {},
   "source": [
    "# BFS 요약\n",
    "\n",
    "💡 너비 우선 탐색의 개념\n",
    "\n",
    "**루트 노드(혹은 다른 임의의 노드)에서 시작해서 인접한 노드를 먼저 탐색하는 방법으로,**\n",
    "\n",
    "**시작 정점으로부터 가까운 정점을 먼저 방문하고 멀리 떨어져 있는 정점을 나중에 방문하는 순회 방법입니다.**\n",
    "\n",
    " \n",
    "\n",
    "주로 두 노드 사이의 ***최단 경로***를 찾고 싶을 때 이 방법을 선택합니다.\n",
    "\n",
    "ex) 지구 상에 존재하는 모든 친구 관계를 그래프로 표현한 후 Sam과 Eddie사이에 존재하는 경로를 찾는 경우\n",
    "\n",
    " \n",
    "\n",
    "* 깊이 우선 탐색의 경우 - 모든 친구 관계를 다 살펴봐야 할지도 모름\n",
    "\n",
    "* 너비 우선 탐색의 경우 - Sam과 가까운 관계부터 탐색\n",
    "\n",
    "\n",
    "\n",
    "출처: https://devuna.tistory.com/32 [튜나 개발일기]"
   ]
  },
  {
   "cell_type": "markdown",
   "id": "5fa419a0",
   "metadata": {},
   "source": [
    "### 음료수 얼려 먹기 - 탐색 review2"
   ]
  },
  {
   "cell_type": "code",
   "execution_count": null,
   "id": "73816fef",
   "metadata": {
    "ExecuteTime": {
     "end_time": "2021-12-07T21:02:50.228923Z",
     "start_time": "2021-12-07T21:02:38.165022Z"
    }
   },
   "outputs": [],
   "source": [
    "# 음료수 얼려 먹기 - 탐색 dfs\n",
    "\n",
    "# dfs.. 재귀.. 스택구조.. 선입후출\n",
    "# 왜 dfs일까?\n",
    "\n",
    "\n",
    "n,m = map(int,input().split())\n",
    "\n",
    "map_=[]\n",
    "\n",
    "for _ in range(n):\n",
    "        map_.append(list(map(int,input())))\n",
    "#     map_.append(list(map(int,input().split()))) # split을 넣으면 안된다..왜 안되지?\n",
    "\n",
    "# 이 문제는 출석부 X\n",
    "\n",
    "def dfs(x,y):\n",
    "    \n",
    "    \n",
    "    \n",
    "    if x<=-1 or x>=n or y<= -1 or y>=m:  # x가 n보다.. m이 아니다. 문제는 없겠지만 그대로 따라하자.\n",
    "                                        # 이 부분에서 헤맸다. 조건이 틀리면 out of range 오류가 뜬다. 여기서 값을 잘 걸러줘야 하는듯\n",
    "        \n",
    "        return False\n",
    "    # 왜 x가 0부터 시작하는 전제일까? 1일수는 없나 -> 반복문이 0부터 시작하니까 그런거 같다.\n",
    "    \n",
    "    \n",
    "    if map_[x][y]==0: # 구멍이 뚫려있다면\n",
    "        \n",
    "        map_[x][y]=1 # 구멍 막고,\n",
    "        \n",
    "        \n",
    "        dfs(x+1,y)\n",
    "        dfs(x-1,y)\n",
    "        dfs(x,y+1)\n",
    "        dfs(x,y-1)\n",
    "        \n",
    "        \n",
    "        return True\n",
    "    \n",
    "    \n",
    "#     return False # 위의 두 개의 경우가 아니라면 False 를 리턴해라\n",
    "    \n",
    "    return False\n",
    "    \n",
    "    \n",
    "    \n",
    "    \n",
    "count=0\n",
    "\n",
    "for i in range(n):\n",
    "    for j in range(m):\n",
    "        \n",
    "        if dfs(i,j)==True:\n",
    "            count+=1\n",
    "            \n",
    "print(count)\n",
    "    \n",
    "\n",
    "\n"
   ]
  },
  {
   "cell_type": "markdown",
   "id": "6651c446",
   "metadata": {},
   "source": [
    "# 미로 탈출 탐색 review2"
   ]
  },
  {
   "cell_type": "code",
   "execution_count": null,
   "id": "77b38942",
   "metadata": {
    "ExecuteTime": {
     "end_time": "2021-12-07T22:04:56.104646Z",
     "start_time": "2021-12-07T22:04:30.907489Z"
    }
   },
   "outputs": [],
   "source": [
    "from collections import deque\n",
    "\n",
    "\n",
    "n,m = map(int,input().split())\n",
    "\n",
    "graph=[]\n",
    "\n",
    "for _ in range(n):\n",
    "    graph.append(list(map(int,input())))\n",
    "    \n",
    "    \n",
    "dx=[1,-1,0,0]\n",
    "dy=[0,0,-1,1]\n",
    "\n",
    "# x,y=1,1 맨 처음 위치가 불필요하다. 1,1에서 시작된다는건 이 문제에서는 맨 왼쪽위 라고만 받아들이자 = (0,0)\n",
    "    \n",
    "def bfs(x,y):\n",
    "    \n",
    "    q=deque()\n",
    "    q.append((x,y))\n",
    "    \n",
    "    while q:\n",
    "        \n",
    "        x,y=q.popleft()\n",
    "        \n",
    "        for i in range(len(dx)):\n",
    "            \n",
    "            nx=x+dx[i]\n",
    "            ny=y+dy[i]\n",
    "\n",
    "\n",
    "            if nx<=-1 or ny<=-1 or nx>=n or ny>=m: # 값을 x,y 로 넣었었다. 주의하자.\n",
    "\n",
    "                continue\n",
    "\n",
    "#             if q[nx][ny]==0: # 아 여기서 graph에서 찾아야한다.\n",
    "            \n",
    "#             print(nx,ny)\n",
    "            if graph[nx][ny]==0:\n",
    "            \n",
    "                continue\n",
    "\n",
    "            if graph[nx][ny]==1:\n",
    "\n",
    "                graph[nx][ny]=graph[x][y]+1 # 여기도. q랑 graph 자리를 구분 필수다.q는 값을 기록하거나 바꿔야 하는 공간이 아니다.\n",
    "                q.append((nx,ny))\n",
    "                \n",
    "                \n",
    "    return graph[n-1][m-1] # 3*3 모양이여도 graph[n][m]이 아니라 graph[n-1][m-1] 이다. 시작이 1,1이 아니라 0,0에서 시작되기 때문\n",
    "\n",
    "                \n",
    "print(bfs(0,0)) "
   ]
  },
  {
   "cell_type": "code",
   "execution_count": null,
   "id": "ba7d12bc",
   "metadata": {
    "ExecuteTime": {
     "end_time": "2021-12-07T21:58:16.861450Z",
     "start_time": "2021-12-07T21:58:16.817819Z"
    }
   },
   "outputs": [],
   "source": [
    "len(dx)"
   ]
  },
  {
   "cell_type": "code",
   "execution_count": null,
   "id": "8c567822",
   "metadata": {
    "ExecuteTime": {
     "end_time": "2021-12-08T10:49:12.511737Z",
     "start_time": "2021-12-08T10:49:12.491767Z"
    }
   },
   "outputs": [],
   "source": [
    "print('Hello Python, Good To see You again')"
   ]
  },
  {
   "cell_type": "code",
   "execution_count": null,
   "id": "2111b0cc",
   "metadata": {
    "ExecuteTime": {
     "end_time": "2021-12-08T11:44:22.180833Z",
     "start_time": "2021-12-08T11:44:14.345265Z"
    }
   },
   "outputs": [],
   "source": [
    "# Depth - review3 (모든 노드를 탐색해야 하는 경우)\n",
    "\n",
    "n,m = map(int,input().split())\n",
    "\n",
    "graph=[]\n",
    "\n",
    "for i in range(n):\n",
    "    graph.append(list(map(int,input())))\n",
    "\n",
    "# 구멍이 뚫려있는건 0, 아니면 1\n",
    "\n",
    "# 모두 탐색한다.\n",
    "\n",
    "def dfs(x,y):\n",
    "    \n",
    "    \n",
    "    if x<0 or x>=n or y<0 or y>=m: # 이 부분 or로 나눠서 쓰기. a<x<b 이런 식으로 쓰지 않기\n",
    "        \n",
    "        return False\n",
    "    \n",
    "    if graph[x][y]==1:\n",
    "        \n",
    "        return False\n",
    "        \n",
    "    if graph[x][y]==0:\n",
    "        \n",
    "        graph[x][y]=1\n",
    "        \n",
    "        dfs(x-1,y)\n",
    "        dfs(x+1,y)\n",
    "        dfs(x,y-1)\n",
    "        dfs(x,y+1)\n",
    "    \n",
    "        return True\n",
    "    \n",
    "    return False\n",
    "\n",
    "result=0\n",
    "\n",
    "for i in range(n):\n",
    "    for j in range(m):\n",
    "        \n",
    "        if dfs(i,j)== True:\n",
    "            \n",
    "            result+=1\n",
    "            \n",
    "print(result)"
   ]
  },
  {
   "cell_type": "code",
   "execution_count": null,
   "id": "984c0c88",
   "metadata": {
    "ExecuteTime": {
     "end_time": "2021-12-08T12:20:45.781330Z",
     "start_time": "2021-12-08T12:20:28.698502Z"
    }
   },
   "outputs": [],
   "source": [
    "# 미로 탈출 - review 3\n",
    "\n",
    "# 최소 칸의 개수. -> 최단 거리 -> BFS ! \n",
    "\n",
    "from collections import deque\n",
    "\n",
    "n,m = map(int,input().split())\n",
    "\n",
    "graph=[]\n",
    "\n",
    "\n",
    "for _ in range(n):\n",
    "    \n",
    "    graph.append(list(map(int,input())))\n",
    "\n",
    "dx=[1,-1,0,0]\n",
    "dy=[0,0,-1,1]\n",
    "    \n",
    "    \n",
    "def bfs(x,y):\n",
    "    \n",
    "    q = deque() # 안에서 선언해야 함수안에서 쓸 수 있다.\n",
    "    q.append((x,y)) #  이 부분 까먹었다. 그리고 ()안에다 넣고 추가한다.\n",
    "    while q:\n",
    "        \n",
    "        x,y=q.popleft()\n",
    "#         graph[x][y]=1   # 이 부분은 필요없다. 아래 함수에서 알아서 해결된다. 시작은 늘 1이다. 값에서 1로 주어짐.\n",
    "        \n",
    "        for i in range(4):\n",
    "            nx=x+dx[i]\n",
    "            ny=y+dy[i]\n",
    "            \n",
    "            if nx<0 or nx>=n or ny<0 or ny>=m:\n",
    "                \n",
    "                continue\n",
    "                \n",
    "            if graph[nx][ny]==0:\n",
    "                \n",
    "                continue\n",
    "                \n",
    "            if graph[nx][ny]==1:\n",
    "                \n",
    "                graph[nx][ny]=graph[x][y]+1\n",
    "                \n",
    "                q.append((nx,ny)) # 여기서도 괄호안에 넣고 추가한다.\n",
    "                \n",
    "                \n",
    "    return graph[n-1][m-1]\n",
    "#     return print(graph[x][y])\n",
    "        \n",
    "\n",
    "        \n",
    "        \n",
    "print(bfs(0,0)) # 함수로 쓸 때는 괄호에다 넣고 추가하지 않는다. 함수 안에서 작업해주기 때문!\n",
    "                # 여기선 0,0 이 문제에서 말하는 1,1이다.\n",
    "    "
   ]
  },
  {
   "cell_type": "markdown",
   "id": "586c6d31",
   "metadata": {},
   "source": [
    "##### "
   ]
  },
  {
   "cell_type": "code",
   "execution_count": null,
   "id": "a70c45ea",
   "metadata": {
    "ExecuteTime": {
     "end_time": "2021-12-08T12:27:16.410049Z",
     "start_time": "2021-12-08T12:27:05.158589Z"
    }
   },
   "outputs": [],
   "source": [
    "n,m = map(int,input().split())\n",
    "\n",
    "\n",
    "gg=[]\n",
    "for _ in range(n): \n",
    "    \n",
    "    gg.append(list(map(int,input())))\n",
    "    \n",
    "dx=[1,-1,0,0]\n",
    "dy=[0,0,-1,1]\n",
    "    \n",
    "    \n",
    "def bfs(x,y):\n",
    "    \n",
    "    q=deque()\n",
    "    q.append((x,y))\n",
    "    \n",
    "    while q:\n",
    "        \n",
    "        x,y=q.popleft()\n",
    "        \n",
    "        \n",
    "        for i in range(4):\n",
    "            nx=x+dx[i]\n",
    "            ny=y+dy[i]\n",
    "            \n",
    "            if nx<0 or nx>=n or ny<0 or ny>=m:\n",
    "                \n",
    "                continue\n",
    "                \n",
    "            if gg[nx][ny]==0:\n",
    "                \n",
    "                continue\n",
    "                \n",
    "            if gg[nx][ny]==1:\n",
    "                \n",
    "                gg[nx][ny]=gg[x][y]+1\n",
    "                q.append((nx,ny))\n",
    "                \n",
    "    return gg[n-1][m-1]\n",
    "\n",
    "\n",
    "print(bfs(0,0))"
   ]
  },
  {
   "cell_type": "markdown",
   "id": "93fefa34",
   "metadata": {},
   "source": [
    "# 게임 개발"
   ]
  },
  {
   "cell_type": "code",
   "execution_count": null,
   "id": "6ffade8b",
   "metadata": {},
   "outputs": [],
   "source": [
    "n,m = map(int,input().split())\n",
    "a,b,direction = map(int,input().split())\n",
    "maps=[]\n",
    "for _ in range(n): # 1은 바다\n",
    "    maps.append(list(map(int,input().split())))\n",
    "    \n",
    "    \n",
    "dx=[0,1,0,-1]\n",
    "dy=[1,0,-1,0] # 북, 동 , 남 , 서 순서대로\n",
    "    \n",
    "\n",
    "def turn_left():\n",
    "    \n",
    "    global directions\n",
    "    direction-=1\n",
    "    if direction == -1:\n",
    "        direction ==3\n",
    "\n",
    "turn_time=0\n",
    "count=1 # 현재 위치부터 1로 방문한걸로 치고 시작\n",
    "\n",
    "d = [[0]*m for i in range(n)]\n",
    "d[a][b]=1\n",
    "\n",
    "\n",
    "while True:\n",
    "    \n",
    "    \n",
    "    turn_left()\n",
    "    \n",
    "    nx=x+dx[direction]\n",
    "    ny=x+dy[direction]\n",
    "    \n",
    "    if nx<0 or nx>=m or ny<0 or ny>=n:\n",
    "        \n",
    "        continue # 여기서 헷갈리네\n",
    "        \n",
    "    if maps[nx][ny]==1: # 바다라면\n",
    "        \n",
    "        turn_time+=1\n",
    "        continue\n",
    "        \n",
    "    if maps[nx][ny]==0: # 육지이고,\n",
    "        \n",
    "        if d[nx][ny]==0: # 방문하지 않았다면.\n",
    "        \n",
    "            maps[nx][ny]=1 # 바다로 만들고\n",
    "            d[nx][ny]=1 # 방문처리\n",
    "            count+=1\n",
    "----\n",
    "\n",
    "# 다시 시도 -- >"
   ]
  },
  {
   "cell_type": "code",
   "execution_count": null,
   "id": "89cdb669",
   "metadata": {
    "ExecuteTime": {
     "end_time": "2021-12-08T13:13:00.891180Z",
     "start_time": "2021-12-08T13:12:49.092299Z"
    }
   },
   "outputs": [],
   "source": [
    "n,m = map(int,input().split()) # 두 개의 값을 입력\n",
    " \n",
    "x,y,direction = map(int,input().split()) # 현재 좌표 x,y,direction (방향)을 입력받는다.\n",
    "\n",
    "array=[]\n",
    "\n",
    "for i in range(n):\n",
    "    array.append(list(map(int,input().split()))) # 맵을 array 리스트에 할당하고\n",
    "    \n",
    "    \n",
    "    \n",
    "def turn_left(): # 왼쪽으로 도는 함수를 만들어준다.\n",
    "    \n",
    "    global direction # global은 함수에서 바깥 변수를 가져다 쓸 때 사용한다. 값도 같이 변한다.\n",
    "    \n",
    "    direction -=1\n",
    "    if direction == -1:\n",
    "        direction =3\n",
    "        \n",
    "        \n",
    "dx=[0,1,0,-0]  # 이게 중요한데, direction 박스를 따로 만들지 않고, direction 값을 인덱스로 쓰면서 북동남서 값을 가져온다.\n",
    "dy=[1,0,-1,0]\n",
    "\n",
    "count=1 # count값이 1에서 시작한다는 것에 주의. but 0로 써도 코테에서 1만 올리면된다\n",
    "turn_time=0 # turn_time은 키포인트, 4가 되었을 때, 모든방향으로 갈 수 없는걸 알게해주는 도구\n",
    "\n",
    "d= [[0]*m for _ in range(n)] # 출석부. 내가 방문했는지 알려준다.\n",
    "\n",
    "while True:\n",
    "    \n",
    "    turn_left() # 왼쪽으로 돌고\n",
    "     \n",
    "    nx= x+dx[direction] # 왼쪽으로 돌았을때 방향에 맞는 dx,dy 값을 인덱스로 가져온다.\n",
    "    ny= y+dy[direction]\n",
    "    \n",
    "    \n",
    "    if array[nx][ny]==0 and d[nx][ny]==0: # 이렇게 묶는게 젤 간편하다. 코드라인도 짧아진다.\n",
    "        \n",
    "        d[nx][ny]=1\n",
    "        x,y=nx,ny\n",
    "        count+=1\n",
    "        \n",
    "        #turn_time=0 # 책에서는 여기도 turn_time=0을 썼네. 난 안썼었다.\n",
    "        \n",
    "        continue\n",
    "        \n",
    "    else:\n",
    "        \n",
    "        turn_time+=1 # 위 경우가 아닌 모든 경우에 turn_time 을 1씩 올리기\n",
    "        \n",
    "    if turn_time>=4: # turn_time 이 4가 되었을 때\n",
    "        \n",
    "        nx=x-dx[direction] # nx에서 dx를 빼서 한칸 뒤로 간다.\n",
    "        ny=y-dy[direction] \n",
    "        \n",
    "        if array[nx][ny]==1: # 만약 뒤가 바다면 그냥 종료.\n",
    "            break\n",
    "            \n",
    "        else:\n",
    "            x,y=nx,ny   # 바다가 아니라면 x,y에 할당하고 처음으로 돌아간다.\n",
    "            turn_time=0 # turn_time 초기화\n",
    "            \n",
    "print(count)\n",
    "        \n",
    "# 혼자 풀기 성공"
   ]
  },
  {
   "cell_type": "markdown",
   "id": "29b9bff8",
   "metadata": {},
   "source": [
    "# 백준 7562 나이트의 이동 실버2"
   ]
  },
  {
   "cell_type": "code",
   "execution_count": null,
   "id": "9c3a9baf",
   "metadata": {},
   "outputs": [],
   "source": [
    "# 출력\n",
    "# 각 테스트 케이스마다 나이트가 최소 몇 번만에 이동할 수 있는지 출력한다."
   ]
  },
  {
   "cell_type": "code",
   "execution_count": null,
   "id": "c9d983ee",
   "metadata": {
    "ExecuteTime": {
     "end_time": "2021-12-08T14:21:25.422294Z",
     "start_time": "2021-12-08T14:20:57.909685Z"
    }
   },
   "outputs": [],
   "source": [
    "from collections import deque\n",
    "\n",
    "n=int(input())\n",
    "\n",
    "\n",
    "dx = [-1, -2, -2, -1, 1, 2, 2, 1]\n",
    "dy = [2, 1, -1, -2, -2, -1, 1, 2]\n",
    "\n",
    "for _ in range(n):\n",
    "    \n",
    "    \n",
    "    l=int(input())\n",
    "    x,y = map(int,input().split())\n",
    "    x2,y2 = map(int,input().split())\n",
    "    \n",
    "    \n",
    "    array=[[0]*l for i in range(l)] # 아 이게 안에서 정의되는구나\n",
    "\n",
    "#   print(bfs(x,y))\n",
    "\n",
    "    \n",
    "    \n",
    "# def bfs(x,y):\n",
    "    \n",
    "    q=deque()\n",
    "    q.append((x,y))\n",
    "    array[x][y]=1\n",
    "    \n",
    "    while q:\n",
    "        \n",
    "        x,y=q.popleft()\n",
    "        \n",
    "        if x==x2 and y==y2:\n",
    "            break\n",
    "        \n",
    "\n",
    "        for i in range(8):\n",
    "\n",
    "            nx=x+dx[i]\n",
    "            ny=y+dy[i]\n",
    "\n",
    "            if nx<0 or nx>=l or ny<0 or ny>=l: # 여기선 아닌 부분이 편한듯\n",
    "# 거르는 부분을 서술하자\n",
    "                continue # 건너뛰고, 다음 반복문 부분으로 이동\n",
    "\n",
    "            if array[nx][ny]==0:\n",
    "\n",
    "                array[nx][ny]=array[x][y]+1\n",
    "                q.append((nx,ny))\n",
    "\n",
    "    print(array[x2][y2]-1)\n",
    "\n",
    "        \n",
    "            \n",
    "    \n",
    "    \n",
    "    \n",
    "    \n",
    "    "
   ]
  },
  {
   "cell_type": "markdown",
   "id": "f5cde143",
   "metadata": {},
   "source": [
    "다른사람 답안"
   ]
  },
  {
   "cell_type": "code",
   "execution_count": null,
   "id": "ede3ccc4",
   "metadata": {
    "ExecuteTime": {
     "end_time": "2021-12-08T14:18:48.924462Z",
     "start_time": "2021-12-08T14:18:33.735142Z"
    },
    "scrolled": true
   },
   "outputs": [],
   "source": [
    "from  collections import deque\n",
    "# import sys\n",
    "# input = sys.stdin.readline\n",
    " \n",
    "dx = [-1, -2, -2, -1, 1, 2, 2, 1]\n",
    "dy = [2, 1, -1, -2, -2, -1, 1, 2]\n",
    " \n",
    " \n",
    "t = int(input())\n",
    " \n",
    "for i in range(t):\n",
    "    n = int(input())\n",
    "    cx, cy = map(int, input().split()) \n",
    "    fx, fy = map(int, input().split())\n",
    " \n",
    "    graph = [([0] * n) for i in range(n)]\n",
    " \n",
    "    queue = deque()\n",
    "    queue.append((cx, cy))\n",
    "    graph[cx][cy] = 1\n",
    " \n",
    "    while queue:\n",
    "        x, y = queue.popleft()\n",
    "        if x == fx and y == fy:\n",
    "            break\n",
    "        for i in range(8):\n",
    "            nx = x + dx[i]\n",
    "            ny = y + dy[i]\n",
    "            if nx < 0 or nx >= n or ny < 0 or ny >= n:\n",
    "                continue\n",
    "            if graph[nx][ny] == 0:\n",
    "                graph[nx][ny] = graph[x][y] + 1\n",
    "                queue.append((nx, ny))\n",
    " \n",
    "    print(graph[fx][fy]-1)"
   ]
  },
  {
   "cell_type": "code",
   "execution_count": null,
   "id": "b414b581",
   "metadata": {},
   "outputs": [],
   "source": []
  },
  {
   "cell_type": "code",
   "execution_count": null,
   "id": "2f554a6a",
   "metadata": {},
   "outputs": [],
   "source": []
  },
  {
   "cell_type": "code",
   "execution_count": null,
   "id": "7dbdf678",
   "metadata": {},
   "outputs": [],
   "source": []
  },
  {
   "cell_type": "code",
   "execution_count": null,
   "id": "989f9cf2",
   "metadata": {},
   "outputs": [],
   "source": []
  },
  {
   "cell_type": "code",
   "execution_count": null,
   "id": "639a62c0",
   "metadata": {},
   "outputs": [],
   "source": []
  },
  {
   "cell_type": "code",
   "execution_count": null,
   "id": "73640c4d",
   "metadata": {},
   "outputs": [],
   "source": []
  },
  {
   "cell_type": "code",
   "execution_count": null,
   "id": "e3d2584e",
   "metadata": {},
   "outputs": [],
   "source": []
  },
  {
   "cell_type": "code",
   "execution_count": null,
   "id": "1380332c",
   "metadata": {},
   "outputs": [],
   "source": []
  },
  {
   "cell_type": "code",
   "execution_count": null,
   "id": "7bb7e25f",
   "metadata": {},
   "outputs": [],
   "source": []
  },
  {
   "cell_type": "code",
   "execution_count": null,
   "id": "8a32f0ce",
   "metadata": {},
   "outputs": [],
   "source": []
  },
  {
   "cell_type": "code",
   "execution_count": null,
   "id": "e8b95c43",
   "metadata": {},
   "outputs": [],
   "source": []
  },
  {
   "cell_type": "code",
   "execution_count": null,
   "id": "925507fd",
   "metadata": {},
   "outputs": [],
   "source": []
  },
  {
   "cell_type": "code",
   "execution_count": null,
   "id": "7d95ca5a",
   "metadata": {},
   "outputs": [],
   "source": []
  },
  {
   "cell_type": "code",
   "execution_count": null,
   "id": "28780c72",
   "metadata": {},
   "outputs": [],
   "source": []
  },
  {
   "cell_type": "code",
   "execution_count": null,
   "id": "d35e2969",
   "metadata": {},
   "outputs": [],
   "source": []
  },
  {
   "cell_type": "code",
   "execution_count": null,
   "id": "485142ab",
   "metadata": {},
   "outputs": [],
   "source": []
  },
  {
   "cell_type": "code",
   "execution_count": null,
   "id": "ea2fb87b",
   "metadata": {},
   "outputs": [],
   "source": []
  },
  {
   "cell_type": "code",
   "execution_count": null,
   "id": "cb405e38",
   "metadata": {
    "ExecuteTime": {
     "end_time": "2021-12-08T16:56:18.020958Z",
     "start_time": "2021-12-08T16:56:06.501495Z"
    }
   },
   "outputs": [],
   "source": [
    "# 나이트의 이동-review3\n",
    "\n",
    "from collections import deque\n",
    "\n",
    "n = int(input())\n",
    "\n",
    "dx = [-1, -2, -2, -1, 1, 2, 2, 1]\n",
    "dy = [2, 1, -1, -2, -2, -1, 1, 2]\n",
    "\n",
    "\n",
    "for _ in range(n):\n",
    "    \n",
    "    l = int(input())\n",
    "    x,y = map(int,input().split()) # 현 위치\n",
    "    a,b = map(int,input().split())\n",
    "    \n",
    "    graph = [[0]*l for _ in range(l)]\n",
    "    graph[x][y]=1 # 이 부분은 암기\n",
    "    \n",
    "    \n",
    "    q=deque()\n",
    "    q.append((x,y))\n",
    "    \n",
    "    while q:\n",
    "        \n",
    "        x,y=q.popleft()\n",
    "        \n",
    "        if x==a and y==b:\n",
    "            break\n",
    "        \n",
    "        for i in range(8):\n",
    "            \n",
    "            nx=x+dx[i]\n",
    "            ny=y+dy[i]\n",
    "            \n",
    "            if nx>=l or ny>=l or nx<0 or ny<0:\n",
    "                continue\n",
    "                \n",
    "            if graph[nx][ny]==0:\n",
    "                \n",
    "                graph[nx][ny]=graph[x][y]+1\n",
    "                q.append((nx,ny))\n",
    "                \n",
    "    print(graph[a][b]-1)\n",
    "    "
   ]
  },
  {
   "cell_type": "code",
   "execution_count": null,
   "id": "b4f59339",
   "metadata": {
    "ExecuteTime": {
     "end_time": "2021-12-08T17:19:17.490065Z",
     "start_time": "2021-12-08T17:19:06.466594Z"
    }
   },
   "outputs": [],
   "source": [
    "# 미로탈출 review -3 \n",
    "\n",
    "from collections import deque\n",
    "\n",
    "n,m = map(int,input().split())\n",
    "\n",
    "graph=[]\n",
    "\n",
    "for _ in range(n):\n",
    "    graph.append(list(map(int,input())))\n",
    "    \n",
    "dx=[1,-1,0,0]\n",
    "dy=[0,0,1,-1] #  값을 뒤바꿔도 똑같네!\n",
    "\n",
    "\n",
    "\n",
    "def bfs(x,y):\n",
    "    \n",
    "    q=deque()\n",
    "    q.append((x,y))\n",
    "    \n",
    "    \n",
    "    while q:\n",
    "        \n",
    "        x,y=q.popleft()\n",
    "        \n",
    "        for i in range(4):\n",
    "            \n",
    "            nx=x+dx[i]\n",
    "            ny=y+dy[i]\n",
    "            \n",
    "            if nx<0 or ny<0 or nx>=n or ny>=m:\n",
    "                \n",
    "                continue\n",
    "                \n",
    "            if graph[nx][ny]==0:\n",
    "                continue\n",
    "                \n",
    "            if graph[nx][ny]==1:\n",
    "                \n",
    "                graph[nx][ny]=graph[x][y]+1\n",
    "                q.append((nx,ny))\n",
    "    \n",
    "    return graph[n-1][m-1]\n",
    "\n",
    "\n",
    "bfs(0,0)\n",
    "    "
   ]
  },
  {
   "cell_type": "markdown",
   "id": "efc41e05",
   "metadata": {},
   "source": [
    "bfs의 구조. 가장 빠른길, 최단경로"
   ]
  },
  {
   "cell_type": "code",
   "execution_count": null,
   "id": "246737c1",
   "metadata": {},
   "outputs": [],
   "source": [
    "def bfs(x,y):\n",
    "    q=deque()\n",
    "    q.append((x,y))\n",
    "    \n",
    "    while q:\n",
    "        \n",
    "        x,y=q.popleft()\n",
    "        \n",
    "        for i in range(8):\n",
    "        \n",
    "        nx=dx[i]+x\n",
    "        ny=dy[i]+y\n",
    "        \n",
    "        \n",
    "        if nx>0 or ny>0:\n",
    "            continue\n",
    "            \n",
    "        if graph[x][y]==0:\n",
    "            \n",
    "            continue\n",
    "            \n",
    "        \n",
    "        if graph[x][yb]==1:\n",
    "            \n",
    "            graph[nx][ny]=graph[x][y]+1\n",
    "            q.append((nx,ny))\n",
    "        "
   ]
  },
  {
   "cell_type": "markdown",
   "id": "4796ac3f",
   "metadata": {},
   "source": [
    "dfs의 구조, 모두 탐색, 모든 노드를 방문하고자 하는 경우"
   ]
  },
  {
   "cell_type": "code",
   "execution_count": null,
   "id": "9babb71b",
   "metadata": {},
   "outputs": [],
   "source": [
    "def dfs(x,y,visited):\n",
    "    \n",
    "    visited[v]=True\n",
    "    \n",
    "    for i in graph[v]\n",
    "        for j in i:\n",
    "            \n",
    "            if not visited[i]:\n",
    "                \n",
    "                dfs(graph,i,visited)\n",
    "                \n",
    "                "
   ]
  },
  {
   "cell_type": "code",
   "execution_count": null,
   "id": "90f8169a",
   "metadata": {},
   "outputs": [],
   "source": []
  },
  {
   "cell_type": "markdown",
   "id": "b20b3e57",
   "metadata": {},
   "source": [
    "# 게임 개발 - review2"
   ]
  },
  {
   "cell_type": "code",
   "execution_count": null,
   "id": "512212d0",
   "metadata": {
    "ExecuteTime": {
     "end_time": "2021-12-08T17:47:08.610452Z",
     "start_time": "2021-12-08T17:46:54.760610Z"
    }
   },
   "outputs": [],
   "source": [
    "n,m = map(int,input().split())\n",
    "x,y,direction = map(int,input().split())\n",
    "\n",
    "graph=[]\n",
    "\n",
    "for _ in range(n):\n",
    "    \n",
    "    graph.append(list(map(int,input().split())))\n",
    "    \n",
    "dx=[0,1,0,-1]\n",
    "dy=[1,0,-1,0]\n",
    "\n",
    "def turn_left():\n",
    "    \n",
    "    global direction\n",
    "    direction-=1\n",
    "    if direction==-1:\n",
    "        direction =3 \n",
    "\n",
    "# 가본 칸이거나? 라는 조건에서 출석부를 떠올린다.\n",
    "\n",
    "d=[[0]*m for _ in range(n)]\n",
    "d[x][y]=1\n",
    "turn_time=0\n",
    "count=1 # count가 1로 시작하는가~\n",
    "\n",
    "while True:\n",
    "    \n",
    "    turn_left()\n",
    "    \n",
    "#     for i in range(4): # 실수다 이거 아니다.\n",
    "\n",
    "    nx=x+dx[direction]\n",
    "    ny=y+dy[direction]\n",
    "        \n",
    "        \n",
    "    if nx<0 or ny<0 or nx>=n or ny>=m:\n",
    "        continue\n",
    "\n",
    "    if graph[nx][ny]==0 and d[nx][ny]==0:\n",
    "\n",
    "        graph[nx][ny]=1\n",
    "        x,y=nx,ny\n",
    "        count+=1\n",
    "        turn_time=0 # 이동했으면 초기화시켜야함\n",
    "\n",
    "    else:\n",
    "        turn_time+=1\n",
    "\n",
    "    if turn_time==4:\n",
    "\n",
    "        nx=x-dx[direction]\n",
    "        ny=y-dy[direction]\n",
    "        \n",
    "        if graph[nx][ny]==1:\n",
    "            break\n",
    "        else:\n",
    "            x,y=nx,ny\n",
    "            \n",
    "            \n",
    "print(count)"
   ]
  },
  {
   "cell_type": "code",
   "execution_count": null,
   "id": "99361f61",
   "metadata": {
    "ExecuteTime": {
     "end_time": "2021-12-08T18:00:04.291829Z",
     "start_time": "2021-12-08T17:59:55.022969Z"
    }
   },
   "outputs": [],
   "source": [
    "n,m = map(int,input().split())\n",
    "\n",
    "x,y,direction = map(int,input().split())\n",
    "graph=[]\n",
    "for _ in range(n):\n",
    "    graph.append(list(map(int,input().split())))\n",
    "    \n",
    "visited=[[0]*m for _ in range(n)]\n",
    "visited[x][y]=1\n",
    "\n",
    "turn_time=0\n",
    "# count+=1\n",
    "\n",
    "def turn_left():\n",
    "    \n",
    "    global direction\n",
    "    direction-=1\n",
    "    if direction ==-1:\n",
    "        direction=3\n",
    "\n",
    "dx=[0,1,0,-1]    \n",
    "dy=[1,0,-1,0]\n",
    "\n",
    "count=1\n",
    "\n",
    "while True:\n",
    "    \n",
    "    turn_left()\n",
    "    \n",
    "    nx=x+dx[direction]\n",
    "    ny=y+dy[direction]\n",
    "    \n",
    "    \n",
    "    if nx<0 or ny<0 or nx>=n or ny>=m:\n",
    "        \n",
    "        continue\n",
    "        \n",
    "    \n",
    "    if graph[nx][ny]==0 and visited[nx][ny]==0:\n",
    "        \n",
    "        graph[nx][ny]=1\n",
    "        turn_time=0\n",
    "        count+=1\n",
    "        x,y=nx,ny\n",
    "        \n",
    "        \n",
    "    else:    \n",
    "        \n",
    "        turn_time+=1\n",
    "        \n",
    "        \n",
    "    if turn_time==4:\n",
    "        \n",
    "        nx=x-dx[direction]\n",
    "        ny=y-dy[direction]\n",
    "        \n",
    "        \n",
    "        if graph[nx][ny]==0:\n",
    "            \n",
    "            x,y=nx,ny\n",
    "            \n",
    "        else:\n",
    "            turn_time=0\n",
    "            break\n",
    "            \n",
    "print(count)\n",
    "        \n",
    "    \n",
    "    \n",
    "    "
   ]
  },
  {
   "cell_type": "code",
   "execution_count": null,
   "id": "3fffedd8",
   "metadata": {
    "ExecuteTime": {
     "end_time": "2021-12-08T19:00:32.830089Z",
     "start_time": "2021-12-08T19:00:32.809142Z"
    }
   },
   "outputs": [],
   "source": [
    "numbers=[1, 1, 1, 1, 1]\n",
    "target=3"
   ]
  },
  {
   "cell_type": "code",
   "execution_count": null,
   "id": "f895b89c",
   "metadata": {
    "ExecuteTime": {
     "end_time": "2021-12-08T19:00:33.108382Z",
     "start_time": "2021-12-08T19:00:33.095416Z"
    }
   },
   "outputs": [],
   "source": [
    "def solution(numbers, target):\n",
    "    \n",
    "    n=len(numbers)\n",
    "    \n",
    "    answer=0\n",
    "    \n",
    "    def dfs(idx,result):\n",
    "        if idx==n:\n",
    "            if result == target:\n",
    "                nonlocal answer\n",
    "                answer+=1\n",
    "            return\n",
    "        else:\n",
    "            \n",
    "            dfs(idx+1, result+numbers[idx])\n",
    "            dfs(idx+1, result-numbers[idx])\n",
    "    \n",
    "    \n",
    "    dfs(0,0)\n",
    "    \n",
    "    return answer\n",
    "\n",
    "\n"
   ]
  },
  {
   "cell_type": "code",
   "execution_count": null,
   "id": "ca0a6b1e",
   "metadata": {
    "ExecuteTime": {
     "end_time": "2021-12-08T19:01:31.224758Z",
     "start_time": "2021-12-08T19:01:31.189849Z"
    }
   },
   "outputs": [],
   "source": [
    "solution(numbers,target)"
   ]
  },
  {
   "cell_type": "code",
   "execution_count": null,
   "id": "818821ab",
   "metadata": {
    "ExecuteTime": {
     "end_time": "2021-12-08T21:16:21.231734Z",
     "start_time": "2021-12-08T21:16:08.723502Z"
    }
   },
   "outputs": [],
   "source": [
    "# 음료수 얼려먹기 review2\n",
    "#dfs\n",
    "\n",
    "# 실패버전..\n",
    "\n",
    "n,m=map(int,input().split())\n",
    "\n",
    "graph=[]\n",
    "for _ in range(n):\n",
    "    graph.append(list(map(int,input())))\n",
    "    \n",
    "dx=[1,-1,0,0]    \n",
    "dy=[0,0,1,-1]\n",
    "\n",
    "\n",
    "def dfs(x,y):\n",
    "    \n",
    "#     graph[x][y]=1 , 위치가 여기가 아니다 . 위치값이 1일수도 있다. 아래로 내려가야함.\n",
    "    \n",
    "    for i in range(4):   # 이 문제에서는 필요 없는 부분이였다.\n",
    "        \n",
    "        nx=dx[i]+x\n",
    "        ny=dy[i]+y\n",
    "        \n",
    "        if nx<0 or ny<0 or nx>=n or ny>=m:\n",
    "            \n",
    "            return False\n",
    "            \n",
    "        if graph[nx][ny]==0:   # x,y값부터 먼저 0인지 확인하고 재귀함수를 돌려야함.\n",
    "            \n",
    "            graph[nx][ny]\n",
    "            \n",
    "            \n",
    "            dfs(x,y+1)\n",
    "            dfs(x,y-1)\n",
    "            dfs(x-1,y)\n",
    "            dfs(x+1,y)\n",
    "            \n",
    "            return True\n",
    "        \n",
    "        \n",
    "    return False\n",
    "    \n",
    "    \n",
    "for i in range(n):\n",
    "    \n",
    "    for j in range(m):\n",
    "        \n",
    "        if dfs(i,j)==True:\n",
    "            count+=1\n",
    "\n",
    "            \n",
    "print(count)\n",
    "        \n",
    "        \n",
    "        \n",
    "    \n",
    "    \n"
   ]
  },
  {
   "cell_type": "code",
   "execution_count": null,
   "id": "1de8c746",
   "metadata": {
    "ExecuteTime": {
     "end_time": "2021-12-08T21:27:32.930186Z",
     "start_time": "2021-12-08T21:27:17.838349Z"
    }
   },
   "outputs": [],
   "source": [
    "n,m = map(int,input().split())\n",
    "\n",
    "\n",
    "graph=[]\n",
    "for _ in range(n):\n",
    "    \n",
    "    graph.append(list(map(int,input())))\n",
    "    \n",
    "\n",
    "def dfs(x,y):\n",
    "    \n",
    "    if x<0 or y<0 or x>=n or y>=m:\n",
    "        \n",
    "        return False\n",
    "    \n",
    "    if graph[x][y]==0:\n",
    "        \n",
    "        graph[x][y]=1\n",
    "        \n",
    "        \n",
    "        dfs(x,y+1)\n",
    "        dfs(x,y-1)\n",
    "        dfs(x-1,y)\n",
    "        dfs(x+1,y)\n",
    "        \n",
    "        return True\n",
    "    \n",
    "    \n",
    "    return False\n",
    "\n",
    "\n",
    "result=0\n",
    "\n",
    "for i in range(n):\n",
    "    for j in range(m):\n",
    "        \n",
    "        if dfs(i,j)==True:\n",
    "            result+=1\n",
    "            \n",
    "print(result)"
   ]
  },
  {
   "cell_type": "code",
   "execution_count": null,
   "id": "ff35aacf",
   "metadata": {
    "ExecuteTime": {
     "end_time": "2021-12-08T21:29:13.664129Z",
     "start_time": "2021-12-08T21:29:04.231766Z"
    }
   },
   "outputs": [],
   "source": [
    "n,m = map(int,input().split())\n",
    "\n",
    "\n",
    "graph=[]\n",
    "\n",
    "for i in range(n):\n",
    "    \n",
    "    graph.append(list(map(int,input())))\n",
    "    \n",
    "    \n",
    "def dfs(x,y):\n",
    "    \n",
    "    if x<0 or y<0 or x>=n or y>=m:\n",
    "        return False\n",
    "    \n",
    "    if graph[x][y]==0:\n",
    "        \n",
    "        graph[x][y]=1\n",
    "        \n",
    "        dfs(x,y+1)\n",
    "        dfs(x,y-1)\n",
    "        dfs(x-1,y)\n",
    "        dfs(x+1,y)\n",
    "        \n",
    "        return True\n",
    "    \n",
    "    return False\n",
    "\n",
    "result=0\n",
    "for i in range(n):\n",
    "    for j in range(m):\n",
    "        \n",
    "        if dfs(i,j)==True:\n",
    "            result+=1\n",
    "            \n",
    "print(result)"
   ]
  },
  {
   "cell_type": "code",
   "execution_count": null,
   "id": "bb628192",
   "metadata": {},
   "outputs": [],
   "source": [
    "if answer[0]=='.' and len(answer)>1: # len(answer) 부분을 안넣어주면 에러가 발생한다. (out of range)\n",
    "\n",
    "    answer=answer[1:]\n",
    "\n",
    "if answer[-1]=='.' :\n",
    "    answer=answer[:-1]\n"
   ]
  },
  {
   "cell_type": "code",
   "execution_count": null,
   "id": "166a3cb9",
   "metadata": {
    "ExecuteTime": {
     "end_time": "2021-12-09T08:13:37.817950Z",
     "start_time": "2021-12-09T08:13:37.800992Z"
    }
   },
   "outputs": [],
   "source": [
    "answer=['.']"
   ]
  },
  {
   "cell_type": "code",
   "execution_count": null,
   "id": "2fa85a18",
   "metadata": {
    "ExecuteTime": {
     "end_time": "2021-12-09T08:12:35.515899Z",
     "start_time": "2021-12-09T08:12:35.497949Z"
    }
   },
   "outputs": [],
   "source": [
    "answer=['.']\n",
    "\n",
    "if answer[0]=='.':\n",
    "    answer=answer[1:]"
   ]
  },
  {
   "cell_type": "code",
   "execution_count": null,
   "id": "ddad91e2",
   "metadata": {
    "ExecuteTime": {
     "end_time": "2021-12-09T08:13:51.426248Z",
     "start_time": "2021-12-09T08:13:51.405259Z"
    }
   },
   "outputs": [],
   "source": [
    "if answer[-1]=='.' :\n",
    "    answer=answer[:-1]\n",
    "    \n",
    "answer"
   ]
  },
  {
   "cell_type": "code",
   "execution_count": null,
   "id": "12a918c0",
   "metadata": {
    "ExecuteTime": {
     "end_time": "2021-12-09T08:31:24.998311Z",
     "start_time": "2021-12-09T08:31:24.975378Z"
    }
   },
   "outputs": [],
   "source": [
    "array=[1, 5, 2, 6, 3, 7, 4]\n",
    "commands=[[2, 5, 3], [4, 4, 1], [1, 7, 3]]"
   ]
  },
  {
   "cell_type": "code",
   "execution_count": null,
   "id": "55747b7e",
   "metadata": {
    "ExecuteTime": {
     "end_time": "2021-12-09T08:48:40.809333Z",
     "start_time": "2021-12-09T08:48:40.786660Z"
    }
   },
   "outputs": [],
   "source": [
    "def solution(array, commands):\n",
    "    \n",
    "    \n",
    "    # answer = []\n",
    "    \n",
    "    list_=[]\n",
    "    for com in commands:\n",
    "        \n",
    "        if len(array)<com[1]:\n",
    "            \n",
    "            array=array[com[0]-1:]\n",
    "        \n",
    "        else:\n",
    "            \n",
    "            array=array[com[0]-1:com[1]]\n",
    "        \n",
    "        \n",
    "        print('{}<--array 값입니다.'.format(array))\n",
    "        array.sort()\n",
    "        print('sort한 array 값 ->>',array)\n",
    "        list_.append(array[com[2]-1])\n",
    "        print('{}<--list_ 값입니다.'.format(list_))\n",
    "        \n",
    "        \n",
    "    return list_"
   ]
  },
  {
   "cell_type": "code",
   "execution_count": null,
   "id": "aa0ecae1",
   "metadata": {
    "ExecuteTime": {
     "end_time": "2021-12-09T08:48:41.124867Z",
     "start_time": "2021-12-09T08:48:41.106877Z"
    }
   },
   "outputs": [],
   "source": [
    "solution(array,commands)"
   ]
  },
  {
   "cell_type": "markdown",
   "id": "5ef487db",
   "metadata": {},
   "source": [
    "# 정말 좋은 예제다 자주 반복하자"
   ]
  },
  {
   "cell_type": "markdown",
   "id": "e6a887b8",
   "metadata": {},
   "source": [
    "### 프로그래머스 K번째 수 "
   ]
  },
  {
   "cell_type": "code",
   "execution_count": null,
   "id": "12e2b9dc",
   "metadata": {
    "ExecuteTime": {
     "end_time": "2021-12-09T08:52:53.223847Z",
     "start_time": "2021-12-09T08:52:53.208888Z"
    }
   },
   "outputs": [],
   "source": [
    "def solution(array,commands):\n",
    "    answer=[]\n",
    "    \n",
    "    for command in commands:\n",
    "        i,j,k = command[0], command[1], command[2]\n",
    "        slice = array[i-1:j]\n",
    "        slice.sort()\n",
    "        answer.append(slice[k-1])\n",
    "        \n",
    "    return answer"
   ]
  },
  {
   "cell_type": "code",
   "execution_count": null,
   "id": "78830feb",
   "metadata": {
    "ExecuteTime": {
     "end_time": "2021-12-09T08:53:10.717641Z",
     "start_time": "2021-12-09T08:53:10.702644Z"
    }
   },
   "outputs": [],
   "source": [
    "solution(array,commands)"
   ]
  },
  {
   "cell_type": "markdown",
   "id": "058fe6e0",
   "metadata": {},
   "source": [
    "# 발견점 :인덱싱값이 초과해도 전체값을 불러온다"
   ]
  },
  {
   "cell_type": "code",
   "execution_count": null,
   "id": "70ecddcd",
   "metadata": {
    "ExecuteTime": {
     "end_time": "2021-12-09T08:54:42.789723Z",
     "start_time": "2021-12-09T08:54:42.771775Z"
    }
   },
   "outputs": [],
   "source": [
    "list_=[1,5,2,6,3,7,4]\n",
    "print(list_[0:8])\n",
    "# 인덱싱값이 초과해도 전체값을 불러온다"
   ]
  },
  {
   "cell_type": "code",
   "execution_count": null,
   "id": "6a7258bf",
   "metadata": {
    "ExecuteTime": {
     "end_time": "2021-12-09T09:46:34.578325Z",
     "start_time": "2021-12-09T09:46:20.662941Z"
    }
   },
   "outputs": [],
   "source": [
    "## 게임개발 review4\n",
    "# 시뮬레이션 문제\n",
    "n,m=map(int,input().split())\n",
    "\n",
    "x,y,direction = map(int,input().split())\n",
    "\n",
    "maps=[]\n",
    "\n",
    "for _ in range(n):\n",
    "    maps.append(list(map(int,input().split())))\n",
    "    \n",
    "    \n",
    "# 맵의 외곽은 항상 바다로 되어있따.\n",
    "\n",
    "visited=[[0]*m for _ in range(n)]\n",
    "dy=[0,1,0,-1] # 좌표값이 잘못됐다.  # 세로 크기가 n이기 때문에 dx<->dy\n",
    "dx=[-1,0,1,0] # 위로 올라가면 -1\n",
    "\n",
    "def turn_left():\n",
    "    \n",
    "    global direction\n",
    "    direction-=1\n",
    "    \n",
    "    if direction == -1:\n",
    "        direction =3 \n",
    "        \n",
    "count=1\n",
    "visited[x][y]=1\n",
    "turn_time=0\n",
    "        \n",
    "        \n",
    "while True:\n",
    "    \n",
    "    turn_left()\n",
    "    \n",
    "    nx=dx[direction]+x\n",
    "    ny=dy[direction]+y\n",
    "    \n",
    "    \n",
    "    if nx<0 or ny<0 or nx>=m or ny>=n: # 이 문제에서는 써도안써도 상관없는 부분인듯.\n",
    "        \n",
    "        continue\n",
    "        \n",
    "    \n",
    "    if maps[nx][ny]==0 and visited[nx][ny]==0:\n",
    "        \n",
    "        maps[nx][ny]=1 # 도착표시. visited 둘중 하나만해도 된다.\n",
    "        count+=1\n",
    "        turn_time=0\n",
    "        x,y=nx,ny # 할당이 중요하다. 다음값으로 넘겨줘야한다.\n",
    "        continue\n",
    "        \n",
    "        \n",
    "    else:\n",
    "        \n",
    "        turn_time+=1\n",
    "#         continue쓰면 안된다. 아래 과정도 검토해야한다. \n",
    "        \n",
    "    \n",
    "    if turn_time==4:\n",
    "        \n",
    "        nx=x-dx[direction]\n",
    "        ny=y-dy[direction]\n",
    "        \n",
    "        if maps[nx][ny]==0:\n",
    "            \n",
    "            x,y =nx,ny\n",
    "#             turn_time=0\n",
    "            \n",
    "        else:    \n",
    "    \n",
    "#             turn_time=0\n",
    "            break\n",
    "    \n",
    "        turn_time=0 # 안에다 두번다 쓸 필요없이 한꺼번에 처리\n",
    "    \n",
    "        \n",
    "    \n",
    "    \n",
    "    \n",
    "\n",
    "\n",
    "\n",
    "\n",
    "\n",
    "\n",
    "print(count)\n",
    "\n"
   ]
  },
  {
   "cell_type": "code",
   "execution_count": null,
   "id": "65a2886a",
   "metadata": {
    "ExecuteTime": {
     "end_time": "2021-12-09T09:56:37.115052Z",
     "start_time": "2021-12-09T09:56:22.674814Z"
    }
   },
   "outputs": [],
   "source": [
    "n,m = map(int,input().split())\n",
    "\n",
    "x,y,direction = map(int,input().split())\n",
    "graph=[]\n",
    "for _ in range(n):\n",
    "    graph.append(list(map(int,input().split())))\n",
    "    \n",
    "visited=[[0]*m for _ in range(n)]\n",
    "\n",
    "visited[x][y]=1\n",
    "\n",
    "count=1\n",
    "turn_time=0\n",
    "\n",
    "\n",
    "def turn_left():\n",
    "    \n",
    "    global direction\n",
    "    direction-=1\n",
    "    \n",
    "    if direction == -1:\n",
    "        direction=3 \n",
    "\n",
    "dx=[-1,0,1,0]\n",
    "dy=[0,1,0,-1]\n",
    "\n",
    "        \n",
    "        \n",
    "\n",
    "while True:\n",
    "    \n",
    "    \n",
    "    turn_left()\n",
    "    \n",
    "    nx=x+dx[direction]\n",
    "    ny=y+dy[direction]\n",
    "    \n",
    "    \n",
    "    \n",
    "    if graph[nx][ny]==0 and visited[nx][ny]==0:\n",
    "        \n",
    "        graph[nx][ny]=1\n",
    "        count+=1\n",
    "        turn_time=0\n",
    "        \n",
    "        x,y=nx,ny\n",
    "        \n",
    "        continue\n",
    "        \n",
    "    else:\n",
    "        \n",
    "        turn_time+=1\n",
    "        \n",
    "    if turn_time ==4:\n",
    "        nx=x-dx[direction]\n",
    "        ny=y-dy[direction]\n",
    "        \n",
    "        if graph[nx][ny]==0:\n",
    "            \n",
    "            x,y=nx,ny\n",
    "            continue\n",
    "            \n",
    "        else:\n",
    "            \n",
    "            break\n",
    "            \n",
    "            \n",
    "        turn_time=0\n",
    "            \n",
    "\n",
    "\n",
    "\n",
    "\n",
    "print(count)\n",
    "\n"
   ]
  },
  {
   "cell_type": "code",
   "execution_count": null,
   "id": "cfa4ac51",
   "metadata": {
    "ExecuteTime": {
     "end_time": "2021-12-09T10:11:14.665696Z",
     "start_time": "2021-12-09T10:11:04.600079Z"
    }
   },
   "outputs": [],
   "source": [
    "# 음료수 얼려먹기 review 4\n",
    "# dfs, 모든 노드 탐색\n",
    "\n",
    "n,m = map(int,input().split())\n",
    "graph=[]\n",
    "for i in range(n):\n",
    "    graph.append(list(map(int,input())))\n",
    "    \n",
    "\n",
    "def dfs(x,y):\n",
    "    \n",
    "    \n",
    "    if x<0 or y<0 or x>=n or y>=m: # 범위탐색이 여기선 중요하네\n",
    "        return False\n",
    "    \n",
    "    if graph[x][y]==0:\n",
    "        \n",
    "        graph[x][y]=1\n",
    "        \n",
    "        dfs(x+1,y)\n",
    "        dfs(x-1,y)\n",
    "        dfs(x,y+1)\n",
    "        dfs(x,y-1)\n",
    "        \n",
    "        return True\n",
    "        \n",
    "    else:\n",
    "        \n",
    "        return False\n",
    "        \n",
    "        \n",
    "count=0\n",
    "        \n",
    "for i in range(n):\n",
    "    for j in range(m):\n",
    "        \n",
    "        if dfs(i,j)==True:\n",
    "            count+=1\n",
    "print(count)"
   ]
  },
  {
   "cell_type": "code",
   "execution_count": null,
   "id": "1d813d1e",
   "metadata": {
    "ExecuteTime": {
     "end_time": "2021-12-09T10:15:56.404427Z",
     "start_time": "2021-12-09T10:15:35.267509Z"
    }
   },
   "outputs": [],
   "source": [
    "n,m= map(int,input().split())\n",
    "graph=[]\n",
    "for _ in range(n):\n",
    "    graph.append(list(map(int,input())))\n",
    "    \n",
    "    \n",
    "def dfs(x,y):\n",
    "    \n",
    "    if x<0 or y<0 or x>=n or y>=m:\n",
    "        \n",
    "        return False # 아 리턴하는 동시에 종료구나\n",
    "    \n",
    "    \n",
    "    if graph[x][y]==0:\n",
    "        \n",
    "        graph[x][y]=1\n",
    "        \n",
    "        dfs(x,y+1)\n",
    "        dfs(x,y-1)\n",
    "        dfs(x+1,y)\n",
    "        dfs(x-1,y)\n",
    "        \n",
    "        return True\n",
    "    \n",
    "    \n",
    "    \n",
    "    return False\n",
    "\n",
    "\n",
    "count=0\n",
    "\n",
    "for i in range(n):\n",
    "    for j in range(m):\n",
    "        \n",
    "        if dfs(i,j)==True:\n",
    "            count+=1\n",
    "            \n",
    "print(count)\n",
    "    \n",
    "    "
   ]
  },
  {
   "cell_type": "markdown",
   "id": "f6cfc12f",
   "metadata": {},
   "source": [
    "## 백준 나이트의 이동 review2"
   ]
  },
  {
   "cell_type": "markdown",
   "id": "27c27a01",
   "metadata": {},
   "source": [
    "나이트는 몇 번 움직이면 이 칸으로 이동할 수 있을까?"
   ]
  },
  {
   "cell_type": "code",
   "execution_count": 20,
   "id": "5f8549ea",
   "metadata": {
    "ExecuteTime": {
     "end_time": "2021-12-09T10:59:02.484239Z",
     "start_time": "2021-12-09T10:58:13.827007Z"
    }
   },
   "outputs": [
    {
     "name": "stdout",
     "output_type": "stream",
     "text": [
      "3\n",
      "8\n",
      "0 0\n",
      "7 0\n",
      "5\n",
      "100\n",
      "0 0\n",
      "30 50\n",
      "28\n",
      "10\n",
      "1 1\n",
      "1 1\n",
      "0\n"
     ]
    }
   ],
   "source": [
    "# from collections import deque\n",
    "\n",
    "n=int(input())\n",
    "\n",
    "dx=[-2,-1,1,2,2,1,-1,-2]\n",
    "dy=[1,2,2,1,-1,-2,-2,-1]\n",
    "\n",
    "\n",
    "# dx = [-1, -2, -2, -1, 1, 2, 2, 1]\n",
    "# dy = [2, 1, -1, -2, -2, -1, 1, 2]\n",
    "\n",
    "for _ in range(n):\n",
    "    \n",
    "    l=int(input())\n",
    "    x,y = map(int,input().split())\n",
    "    a,b = map(int,input().split())\n",
    "    \n",
    "    # bfs\n",
    "    \n",
    "    graph=[[0]*l for _ in range(l)]\n",
    "    \n",
    "    q=deque()\n",
    "    q.append((x,y))\n",
    "    \n",
    "\n",
    "#     graph[x][y]=1\n",
    "    \n",
    "    while q:\n",
    "        x,y=q.popleft()\n",
    "        \n",
    "        if x==a and x==b:\n",
    "\n",
    "#             print(graph[x][y]+1)\n",
    "            break\n",
    "        \n",
    "        for i in range(8):\n",
    "            \n",
    "            nx=x+dx[i]\n",
    "            ny=y+dy[i]\n",
    "            \n",
    "                \n",
    "#             if x==nx and x==ny:  # 여기가 아니다.\n",
    "                \n",
    "#                 print(graph[x][y]+1)\n",
    "#                 break\n",
    "                \n",
    "                \n",
    "            if nx<0 or ny<0 or nx>=l or ny>=l:\n",
    "                \n",
    "                continue\n",
    "                \n",
    "            if graph[nx][ny]==0:\n",
    "                graph[nx][ny]=graph[x][y]+1\n",
    "                q.append((nx,ny))\n",
    "    print(graph[a][b])\n",
    "            "
   ]
  },
  {
   "cell_type": "code",
   "execution_count": null,
   "id": "a8253452",
   "metadata": {},
   "outputs": [],
   "source": [
    "# 전에 썼던 내답안"
   ]
  },
  {
   "cell_type": "code",
   "execution_count": null,
   "id": "608dc35e",
   "metadata": {},
   "outputs": [],
   "source": [
    "# 나이트의 이동-review3\n",
    "\n",
    "from collections import deque\n",
    "\n",
    "n = int(input())\n",
    "\n",
    "dx = [-1, -2, -2, -1, 1, 2, 2, 1]\n",
    "dy = [2, 1, -1, -2, -2, -1, 1, 2]\n",
    "\n",
    "\n",
    "for _ in range(n):\n",
    "    \n",
    "    l = int(input())\n",
    "    x,y = map(int,input().split()) # 현 위치\n",
    "    a,b = map(int,input().split())\n",
    "    \n",
    "    graph = [[0]*l for _ in range(l)]\n",
    "    graph[x][y]=1 # 이 부분은 암기\n",
    "    \n",
    "    \n",
    "    q=deque()\n",
    "    q.append((x,y))\n",
    "    \n",
    "    while q:\n",
    "        \n",
    "        x,y=q.popleft()\n",
    "        \n",
    "        if x==a and y==b:\n",
    "            break\n",
    "        \n",
    "        for i in range(8):\n",
    "            \n",
    "            nx=x+dx[i]\n",
    "            ny=y+dy[i]\n",
    "            \n",
    "            if nx>=l or ny>=l or nx<0 or ny<0:\n",
    "                continue\n",
    "                \n",
    "            if graph[nx][ny]==0:\n",
    "                \n",
    "                graph[nx][ny]=graph[x][y]+1\n",
    "                q.append((nx,ny))\n",
    "                \n",
    "    print(graph[a][b]-1)\n",
    "    "
   ]
  },
  {
   "cell_type": "code",
   "execution_count": 12,
   "id": "3790489c",
   "metadata": {
    "ExecuteTime": {
     "end_time": "2021-12-09T10:47:40.306282Z",
     "start_time": "2021-12-09T10:47:40.285287Z"
    }
   },
   "outputs": [
    {
     "name": "stdout",
     "output_type": "stream",
     "text": [
      "2\n"
     ]
    }
   ],
   "source": [
    "print(graph[x][y]+1)"
   ]
  },
  {
   "cell_type": "markdown",
   "id": "c2be8b50",
   "metadata": {},
   "source": [
    "# 미로 탈출"
   ]
  },
  {
   "cell_type": "code",
   "execution_count": 22,
   "id": "53dfb1e9",
   "metadata": {
    "ExecuteTime": {
     "end_time": "2021-12-09T12:21:30.118969Z",
     "start_time": "2021-12-09T12:21:19.091523Z"
    }
   },
   "outputs": [
    {
     "name": "stdout",
     "output_type": "stream",
     "text": [
      "5 6\n",
      "101010\n",
      "111111\n",
      "000001\n",
      "111111\n",
      "111111\n",
      "10\n"
     ]
    }
   ],
   "source": [
    "from collections import deque\n",
    "\n",
    "n,m = map(int,input().split())\n",
    "\n",
    "graph=[]\n",
    "\n",
    "for i in range(n):\n",
    "    graph.append(list(map(int,input())))\n",
    "    \n",
    "# bfs\n",
    "\n",
    "dx=[0,1,0,-1]\n",
    "dy=[-1,0,1,0]\n",
    "\n",
    "def bfs(x,y):\n",
    "    \n",
    "    q=deque()\n",
    "    q.append((x,y))\n",
    "    \n",
    "    while q:\n",
    "        \n",
    "        x,y=q.popleft()\n",
    "        \n",
    "        for i in range(4):\n",
    "            \n",
    "            nx=x+dx[i]\n",
    "            ny=y+dy[i]\n",
    "            \n",
    "            if nx<0 or ny<0 or nx>=n or ny>=m:\n",
    "                continue\n",
    "                \n",
    "            if graph[nx][ny]==1:\n",
    "                \n",
    "                graph[nx][ny]=graph[x][y]+1\n",
    "                q.append((nx,ny))\n",
    "                \n",
    "                \n",
    "            else:\n",
    "                continue\n",
    "\n",
    "    return graph[n-1][m-1]\n",
    "\n",
    "print(bfs(0,0))\n",
    "\n",
    "\n",
    "\n",
    "# 스스로 클리어\n",
    "        \n",
    "        \n",
    "        \n",
    "    "
   ]
  },
  {
   "cell_type": "markdown",
   "id": "ec06e523",
   "metadata": {},
   "source": [
    "## 신규아이디 추천 -정렬 Lv1"
   ]
  },
  {
   "cell_type": "code",
   "execution_count": null,
   "id": "fb166259",
   "metadata": {},
   "outputs": [],
   "source": [
    "def solution(new_id):\n",
    "    \n",
    "    answer = ''\n",
    "\n",
    "    new_id=new_id.lower()\n",
    "    \n",
    "    for word in new_id:\n",
    "        \n",
    "        if word.isalnum() or word in '-_.':\n",
    "            \n",
    "            answer+=word\n",
    "            \n",
    "    while '..' in answer:\n",
    "        answer=answer.replace('..','.')\n",
    "        \n",
    "    if answer[0]=='.':\n",
    "        if len(answer)>1:\n",
    "            answer=answer[1:]\n",
    "    \n",
    "    if answer[-1]=='.':\n",
    "        answer=answer[:-1]\n",
    "    \n",
    "    if answer=='':\n",
    "        answer+='a'\n",
    "        \n",
    "    if len(answer)>=16:\n",
    "        answer=answer[:15]\n",
    "        \n",
    "        if answer[-1]=='.':\n",
    "            answer=answer[:-1]\n",
    "            \n",
    "            \n",
    "    if len(answer)<=2:\n",
    "        \n",
    "        while len(answer)<3:\n",
    "            answer+=answer[-1]\n",
    "    \n",
    "    \n",
    "    \n",
    "    \n",
    "    return answer"
   ]
  },
  {
   "cell_type": "code",
   "execution_count": 28,
   "id": "ac19761a",
   "metadata": {
    "ExecuteTime": {
     "end_time": "2021-12-09T13:04:48.022507Z",
     "start_time": "2021-12-09T13:04:39.195011Z"
    },
    "scrolled": true
   },
   "outputs": [
    {
     "name": "stdout",
     "output_type": "stream",
     "text": [
      "3\n",
      "8\n",
      "0 0\n",
      "7 0\n",
      "5\n",
      "100\n",
      "0 0\n",
      "30 50\n",
      "28\n",
      "10\n",
      "1 1\n",
      "1 1\n",
      "0\n"
     ]
    }
   ],
   "source": [
    "# 나이트의 이동 - review..5\n",
    "\n",
    "n=int(input())\n",
    "\n",
    "\n",
    "dx=[-2,-1,1,2,-2,1,-1,-2]\n",
    "dy=[1,2,2,1,-1,-2,-2,-1]\n",
    "\n",
    "for i in range(n):\n",
    "    \n",
    "    l=int(input())\n",
    "    x,y=map(int,input().split())\n",
    "    a,b=map(int,input().split())\n",
    "    \n",
    "    q=deque()\n",
    "    q.append((x,y))\n",
    "    \n",
    "    graph=[[0]*l for _ in range(l)]\n",
    "\n",
    "    \n",
    "    graph[x][y]=1    \n",
    "    while q:\n",
    "        \n",
    "        x,y=q.popleft()\n",
    "\n",
    "        if x==a and y==b:\n",
    "\n",
    "            break\n",
    "\n",
    "        for i in range(8):\n",
    "\n",
    "            nx=x+dx[i]\n",
    "            ny=y+dy[i]\n",
    "\n",
    "            if nx<0 or ny<0 or nx>=l or ny>=l:\n",
    "\n",
    "                continue\n",
    "\n",
    "            if graph[nx][ny]==0:\n",
    "\n",
    "                graph[nx][ny]=graph[x][y]+1\n",
    "\n",
    "                q.append((nx,ny))\n",
    "\n",
    "\n",
    "            continue\n",
    "\n",
    "\n",
    "\n",
    "    print(graph[a][b]-1)\n",
    "        # bfs\n",
    "\n"
   ]
  },
  {
   "cell_type": "code",
   "execution_count": 30,
   "id": "8ada9710",
   "metadata": {
    "ExecuteTime": {
     "end_time": "2021-12-09T13:16:05.122199Z",
     "start_time": "2021-12-09T13:15:58.633310Z"
    }
   },
   "outputs": [
    {
     "name": "stdout",
     "output_type": "stream",
     "text": [
      "4 5\n",
      "00110\n",
      "00011\n",
      "11111\n",
      "00000\n",
      "3\n"
     ]
    }
   ],
   "source": [
    "# 음료수 얼려먹기 review 5\n",
    "\n",
    "\n",
    "n,m = map(int,input().split())\n",
    "graph=[]\n",
    "for _ in range(n):\n",
    "    graph.append(list(map(int,input()))) # split은 단지 값 구분. 0,1정도의 한자리 숫자면 split 무필요인듯하다\n",
    "\n",
    "    \n",
    "# depth first s.. \n",
    "\n",
    "\n",
    "def dfs(x,y):\n",
    "    \n",
    "    if x<0 or y<0 or x>=n or y>=m:\n",
    "        \n",
    "        return False\n",
    "        \n",
    "    if graph[x][y]==0: \n",
    "        \n",
    "        graph[x][y]=1\n",
    "        \n",
    "        dfs(x,y+1)\n",
    "        dfs(x,y-1)\n",
    "        dfs(x-1,y)\n",
    "        dfs(x+1,y)\n",
    "        \n",
    "        return True\n",
    "    \n",
    "    \n",
    "    return False\n",
    "\n",
    "\n",
    "result=0\n",
    "\n",
    "for i in range(n):\n",
    "    for j in range(m):\n",
    "        \n",
    "        if dfs(i,j)==True:\n",
    "            result+=1\n",
    "            \n",
    "print(result)\n",
    "            \n",
    "\n",
    "# 너무 암기식으로 풀진 말자. "
   ]
  },
  {
   "cell_type": "markdown",
   "id": "6647312e",
   "metadata": {},
   "source": [
    "## graph 형태"
   ]
  },
  {
   "cell_type": "code",
   "execution_count": 31,
   "id": "c89ae872",
   "metadata": {
    "ExecuteTime": {
     "end_time": "2021-12-09T13:16:47.873612Z",
     "start_time": "2021-12-09T13:16:47.853605Z"
    }
   },
   "outputs": [
    {
     "data": {
      "text/plain": [
       "[[1, 1, 1, 1, 1], [1, 1, 1, 1, 1], [1, 1, 1, 1, 1], [1, 1, 1, 1, 1]]"
      ]
     },
     "execution_count": 31,
     "metadata": {},
     "output_type": "execute_result"
    }
   ],
   "source": [
    "graph"
   ]
  },
  {
   "cell_type": "markdown",
   "id": "4ab78346",
   "metadata": {},
   "source": [
    "##  dfs 보완"
   ]
  },
  {
   "cell_type": "markdown",
   "id": "0cd88a52",
   "metadata": {},
   "source": [
    "dfs는 재귀함수를 주로 쓰며, 모든 노드를 탐색할 때 쓴다.   \n",
    "정해진 형태는 주로 재귀함수로 값을 재탐색한다는 것"
   ]
  },
  {
   "cell_type": "code",
   "execution_count": 51,
   "id": "005a4178",
   "metadata": {
    "ExecuteTime": {
     "end_time": "2021-12-09T13:33:20.222644Z",
     "start_time": "2021-12-09T13:33:20.194492Z"
    }
   },
   "outputs": [
    {
     "name": "stdout",
     "output_type": "stream",
     "text": [
      "2\n",
      "3\n",
      "8\n"
     ]
    }
   ],
   "source": [
    "# 대표예제\n",
    "# dfs 메서드 정의\n",
    "def dfs(graph,v,visited):\n",
    "    # 현재 노드를 방문처리\n",
    "    visited[v]=1\n",
    "#     print(v, end=' ')\n",
    "    \n",
    "    # 현재 노드와 연결된 다른 노드를 재귀적으로 방문\n",
    "#     print(graph[v])\n",
    "    for i in graph[v]:\n",
    "        print(i)\n",
    "        if visited[i]==0:\n",
    "            \n",
    "            dfs(graph,i,visited)\n",
    "\n",
    "            \n",
    "            \n",
    "visited=[[0] for _ in range(9)] # 9는 graph 원소 개수  \n",
    "            \n",
    "graph=[\n",
    "    [],\n",
    "    [2,3,8],\n",
    "    [1,7],\n",
    "    [1,4,5],\n",
    "    [3,5],\n",
    "    [3,4],\n",
    "    [7],\n",
    "    [2,6,8],\n",
    "    [1,7]\n",
    "]\n",
    "\n",
    "\n",
    "# dfs 시작. \n",
    "# 함수 바깥에서 돌린다 .\n",
    "\n",
    "dfs(graph,1,visited)\n",
    "# 1부터 시작하는 이유는 graph[0]은 값이 없다.\n"
   ]
  },
  {
   "cell_type": "code",
   "execution_count": 44,
   "id": "240a3057",
   "metadata": {
    "ExecuteTime": {
     "end_time": "2021-12-09T13:29:38.224527Z",
     "start_time": "2021-12-09T13:29:38.204582Z"
    }
   },
   "outputs": [
    {
     "data": {
      "text/plain": [
       "[0]"
      ]
     },
     "execution_count": 44,
     "metadata": {},
     "output_type": "execute_result"
    }
   ],
   "source": [
    "visited[3]"
   ]
  },
  {
   "cell_type": "code",
   "execution_count": 50,
   "id": "6365703b",
   "metadata": {
    "ExecuteTime": {
     "end_time": "2021-12-09T13:32:04.636448Z",
     "start_time": "2021-12-09T13:32:04.619492Z"
    }
   },
   "outputs": [
    {
     "data": {
      "text/plain": [
       "[0]"
      ]
     },
     "execution_count": 50,
     "metadata": {},
     "output_type": "execute_result"
    }
   ],
   "source": [
    "visited[2]"
   ]
  },
  {
   "cell_type": "code",
   "execution_count": 80,
   "id": "ddea5b08",
   "metadata": {
    "ExecuteTime": {
     "end_time": "2021-12-09T13:39:48.419004Z",
     "start_time": "2021-12-09T13:39:48.395074Z"
    }
   },
   "outputs": [
    {
     "data": {
      "text/plain": [
       "1"
      ]
     },
     "execution_count": 80,
     "metadata": {},
     "output_type": "execute_result"
    }
   ],
   "source": [
    "visited[1]"
   ]
  },
  {
   "cell_type": "code",
   "execution_count": 84,
   "id": "dc38b4e3",
   "metadata": {
    "ExecuteTime": {
     "end_time": "2021-12-09T13:40:34.844886Z",
     "start_time": "2021-12-09T13:40:34.802529Z"
    }
   },
   "outputs": [
    {
     "name": "stdout",
     "output_type": "stream",
     "text": [
      "1 2 7 6 8 3 4 5 "
     ]
    }
   ],
   "source": [
    "def dfs(graph, v, visited):\n",
    "    \n",
    "    visited[v]=1\n",
    "    \n",
    "    print(v,end=' ')\n",
    "    \n",
    "    for i in graph[v]:\n",
    "        if visited[i]==[0]:\n",
    "            dfs(graph,i,visited)\n",
    "            \n",
    "            \n",
    "            \n",
    "graph=[\n",
    "    [],\n",
    "    [2,3,8],\n",
    "    [1,7],\n",
    "    [1,4,5],\n",
    "    [3,5],\n",
    "    [3,4],\n",
    "    [7],\n",
    "    [2,6,8],\n",
    "    [1,7]\n",
    "]\n",
    "\n",
    "\n",
    "# visited=[0]*9\n",
    "visited=[[0] for _ in range(9)]\n",
    "\n",
    "\n",
    "\n",
    "dfs(graph,1,visited)\n",
    "            \n",
    "\n"
   ]
  },
  {
   "cell_type": "code",
   "execution_count": null,
   "id": "d27d9935",
   "metadata": {},
   "outputs": [],
   "source": []
  },
  {
   "cell_type": "code",
   "execution_count": 70,
   "id": "67cae9a6",
   "metadata": {
    "ExecuteTime": {
     "end_time": "2021-12-09T13:38:49.881243Z",
     "start_time": "2021-12-09T13:38:49.867147Z"
    }
   },
   "outputs": [
    {
     "data": {
      "text/plain": [
       "[[0], [0], [0], [0], [0], [0], [0], [0], [0]]"
      ]
     },
     "execution_count": 70,
     "metadata": {},
     "output_type": "execute_result"
    }
   ],
   "source": [
    "# 이 부분 때문에 재귀가 안돌아갔다.  visited3 처럼 하면 안되고 , 0으로 식 변형하려면 visited2처럼 해야한다\n",
    "\n",
    "visited3=[[0] for _ in range(9)]\n",
    "visited3"
   ]
  },
  {
   "cell_type": "code",
   "execution_count": 71,
   "id": "3e1783ae",
   "metadata": {
    "ExecuteTime": {
     "end_time": "2021-12-09T13:38:51.958119Z",
     "start_time": "2021-12-09T13:38:51.949007Z"
    }
   },
   "outputs": [],
   "source": [
    "visited=[False]*9\n",
    "\n",
    "visited2=[0 for _ in range(9)]"
   ]
  },
  {
   "cell_type": "code",
   "execution_count": 83,
   "id": "bae810cd",
   "metadata": {
    "ExecuteTime": {
     "end_time": "2021-12-09T13:40:19.480602Z",
     "start_time": "2021-12-09T13:40:19.459716Z"
    }
   },
   "outputs": [
    {
     "data": {
      "text/plain": [
       "False"
      ]
     },
     "execution_count": 83,
     "metadata": {},
     "output_type": "execute_result"
    }
   ],
   "source": [
    "visited[2]==0"
   ]
  },
  {
   "cell_type": "code",
   "execution_count": 73,
   "id": "586247c8",
   "metadata": {
    "ExecuteTime": {
     "end_time": "2021-12-09T13:38:52.471051Z",
     "start_time": "2021-12-09T13:38:52.459932Z"
    }
   },
   "outputs": [
    {
     "data": {
      "text/plain": [
       "[0, 0, 0, 0, 0, 0, 0, 0, 0]"
      ]
     },
     "execution_count": 73,
     "metadata": {},
     "output_type": "execute_result"
    }
   ],
   "source": [
    "visited2"
   ]
  },
  {
   "cell_type": "code",
   "execution_count": 86,
   "id": "07492ea0",
   "metadata": {
    "ExecuteTime": {
     "end_time": "2021-12-09T13:56:26.093531Z",
     "start_time": "2021-12-09T13:56:14.451764Z"
    }
   },
   "outputs": [
    {
     "name": "stdout",
     "output_type": "stream",
     "text": [
      "4 4\n",
      "1 1 0\n",
      "1 1 1 1\n",
      "1 0 0 1\n",
      "1 1 0 1\n",
      "1 1 1 1\n",
      "3\n"
     ]
    }
   ],
   "source": [
    "# 게임 개발\n",
    "\n",
    "\n",
    "n,m = map(int,input().split())\n",
    "x,y,direction = map(int,input().split())\n",
    "graph=[]\n",
    "for i in range(n):\n",
    "    graph.append(list(map(int,input().split())))\n",
    "    \n",
    "visited=[[0]*m for _ in range(n)]\n",
    "\n",
    "turn_time=0\n",
    "count=1 # 처음부터 1로 시작\n",
    "\n",
    "def turn_left():\n",
    "    \n",
    "    global direction\n",
    "    direction-=1\n",
    "    if direction==-1:\n",
    "        direction=3\n",
    "\n",
    "#북,동,서,남,서\n",
    "dx=[0,1,0,-1]\n",
    "dy=[-1,0,1,0]\n",
    "\n",
    "while True:\n",
    "    \n",
    "    turn_left()\n",
    "    \n",
    "    nx=x+dx[direction]\n",
    "    ny=y+dy[direction]\n",
    "    \n",
    "    if nx<0 or ny<0 or nx>=n or ny>=m:\n",
    "        \n",
    "        continue\n",
    "        \n",
    "    if graph[nx][ny]==0 and visited[nx][ny]==0:\n",
    "        \n",
    "        graph[nx][ny]=1\n",
    "        x,y=nx,ny\n",
    "        count+=1\n",
    "        turn_time=0\n",
    "        continue\n",
    "        \n",
    "    else:\n",
    "        \n",
    "        turn_time+=1\n",
    "        \n",
    "    if turn_time==4:\n",
    "        \n",
    "        nx=x-dx[direction]\n",
    "        ny=y-dy[direction]\n",
    "        \n",
    "        if graph[nx][ny]==1:\n",
    "            break\n",
    "            \n",
    "        else:\n",
    "            x,y=nx,ny\n",
    "        \n",
    "        turn_time=0\n",
    "        \n",
    "print(count)\n",
    "    "
   ]
  },
  {
   "cell_type": "code",
   "execution_count": 8,
   "id": "8a916a44",
   "metadata": {
    "ExecuteTime": {
     "end_time": "2021-12-09T17:06:43.426129Z",
     "start_time": "2021-12-09T17:06:33.830871Z"
    }
   },
   "outputs": [
    {
     "name": "stdout",
     "output_type": "stream",
     "text": [
      "5 6\n",
      "101010\n",
      "111111\n",
      "000001\n",
      "111111\n",
      "111111\n",
      "10\n"
     ]
    }
   ],
   "source": [
    "# 미로 탈출 review\n",
    "\n",
    "n,m = map(int,input().split())\n",
    "\n",
    "graph=[]\n",
    "\n",
    "for i in range(n):\n",
    "    \n",
    "    graph.append(list(map(int,input())))\n",
    "    \n",
    "dx=[0,1,0,-1]\n",
    "dy=[1,0,-1,0]\n",
    "\n",
    "visited=[[0]*m for _ in range(n)]\n",
    "    \n",
    "from collections import deque\n",
    "\n",
    "\n",
    "def bfs(x,y):\n",
    "    \n",
    "    q=deque()\n",
    "    q.append((x,y))\n",
    "    \n",
    "    while q:\n",
    "        \n",
    "        x,y=q.popleft()\n",
    "        \n",
    "        \n",
    "        for i in range(4):\n",
    "            \n",
    "            nx=x+dx[i]\n",
    "            ny=y+dy[i]\n",
    "            \n",
    "            if nx<0 or ny<0 or nx>=n or ny>=m:\n",
    "                \n",
    "                continue\n",
    "                \n",
    "                \n",
    "            if graph[nx][ny]==1 and visited[nx][ny]==0: # visited는 필요없다 0을 1로 썼다. 문제 잘 읽기 !!!\n",
    "                \n",
    "                graph[nx][ny]=graph[x][y]+1\n",
    "                \n",
    "                q.append((nx,ny))\n",
    "                \n",
    "                \n",
    "                \n",
    "    return graph[n-1][m-1]\n",
    "                \n",
    "                \n",
    "        \n",
    "print(bfs(0,0))"
   ]
  },
  {
   "cell_type": "code",
   "execution_count": 12,
   "id": "ff964d02",
   "metadata": {
    "ExecuteTime": {
     "end_time": "2021-12-09T17:16:03.322094Z",
     "start_time": "2021-12-09T17:15:51.478948Z"
    }
   },
   "outputs": [
    {
     "name": "stdout",
     "output_type": "stream",
     "text": [
      "5 6\n",
      "101010\n",
      "111111\n",
      "000001\n",
      "111111\n",
      "111111\n",
      "10\n"
     ]
    }
   ],
   "source": [
    "##### 미로탈출 revival\n",
    "\n",
    "\n",
    "n,m = map(int,input().split())\n",
    "\n",
    "graph=[]\n",
    "\n",
    "for _ in range(n):\n",
    "    \n",
    "    graph.append(list(map(int,input())))\n",
    "    \n",
    "dx=[1,-1,0,0]\n",
    "dy=[0,0,1,-1]\n",
    "    \n",
    "\n",
    "def bfs(x,y):\n",
    "    \n",
    "    q=deque()\n",
    "    q.append((x,y))\n",
    "    \n",
    "    while q:\n",
    "        \n",
    "        x,y=q.popleft()\n",
    "        \n",
    "        \n",
    "        for i in range(4):\n",
    "            \n",
    "            nx=x+dx[i]\n",
    "            ny=y+dy[i]\n",
    "            \n",
    "            \n",
    "            if nx<0 or ny<0 or nx>=n or ny>=m:\n",
    "                \n",
    "                continue\n",
    "                \n",
    "            \n",
    "            if graph[nx][ny]==0:\n",
    "                continue\n",
    "                \n",
    "            if graph[nx][ny]==1: # else로 하니까 답이 안나왔다. if로 구체적으로 적자.\n",
    "                \n",
    "                graph[nx][ny]= graph[x][y]+1\n",
    "                q.append((nx,ny))\n",
    "                \n",
    "                \n",
    "    return graph[n-1][m-1]\n",
    "\n",
    "\n",
    "print(bfs(0,0))\n",
    "        \n",
    "        \n",
    "    "
   ]
  },
  {
   "cell_type": "code",
   "execution_count": 2,
   "id": "5be8f3b8",
   "metadata": {
    "ExecuteTime": {
     "end_time": "2021-12-10T09:44:17.312057Z",
     "start_time": "2021-12-10T09:44:17.283181Z"
    }
   },
   "outputs": [
    {
     "name": "stdout",
     "output_type": "stream",
     "text": [
      "1 2 7 6 8 3 4 5 "
     ]
    }
   ],
   "source": [
    "def dfs(graph,v,visited):\n",
    "    \n",
    "    visited[v]=1 # 출석부 등록\n",
    "    \n",
    "    print(v,end=' ')\n",
    "    \n",
    "    for i in graph[v]:\n",
    "        if visited[i]==0:\n",
    "            \n",
    "            dfs(graph,i,visited)\n",
    "            \n",
    "            \n",
    "graph=[\n",
    "    [],\n",
    "    [2,3,8],\n",
    "    [1,7],\n",
    "    [1,4,5],\n",
    "    [3,5],\n",
    "    [3,4],\n",
    "    [7],\n",
    "    [2,6,8],\n",
    "    [1,7]\n",
    "]\n",
    "\n",
    "\n",
    "# visited=[0]*9\n",
    "visited=[0 for _ in range(9)] # 출석부는 앞에 []포함 +1개\n",
    "\n",
    "\n",
    "\n",
    "dfs(graph,1,visited)\n",
    "            "
   ]
  },
  {
   "cell_type": "code",
   "execution_count": 1,
   "id": "0b5d5ea1",
   "metadata": {
    "ExecuteTime": {
     "end_time": "2021-12-10T09:42:16.161492Z",
     "start_time": "2021-12-10T09:42:16.124590Z"
    }
   },
   "outputs": [
    {
     "name": "stdout",
     "output_type": "stream",
     "text": [
      "1 2 7 6 8 3 4 5 "
     ]
    }
   ],
   "source": [
    "def dfs(graph,v,visited):\n",
    "    \n",
    "    visited[v]=1\n",
    "    \n",
    "    print(v,end=' ')\n",
    "    \n",
    "    for i in graph[v]:\n",
    "        if visited[i]==0:\n",
    "            \n",
    "            dfs(graph,i,visited)\n",
    "            \n",
    "            \n",
    "            \n",
    "graph=[\n",
    "    [],\n",
    "    [2,3,8],\n",
    "    [1,7],\n",
    "    [1,4,5],\n",
    "    [3,5],\n",
    "    [3,4],\n",
    "    [7],\n",
    "    [2,6,8],\n",
    "    [1,7]\n",
    "]\n",
    "\n",
    "\n",
    "# visited=[0]*9\n",
    "visited=[0 for _ in range(9)] # 출석부는 앞에 []포함 +1개\n",
    "\n",
    "\n",
    "\n",
    "dfs(graph,1,visited)\n",
    "            \n",
    "            "
   ]
  },
  {
   "cell_type": "code",
   "execution_count": null,
   "id": "185fdf3e",
   "metadata": {},
   "outputs": [],
   "source": []
  },
  {
   "cell_type": "code",
   "execution_count": null,
   "id": "5c408085",
   "metadata": {},
   "outputs": [],
   "source": []
  },
  {
   "cell_type": "code",
   "execution_count": null,
   "id": "2cafb562",
   "metadata": {},
   "outputs": [],
   "source": []
  },
  {
   "cell_type": "code",
   "execution_count": null,
   "id": "8870ce6d",
   "metadata": {},
   "outputs": [],
   "source": []
  },
  {
   "cell_type": "code",
   "execution_count": null,
   "id": "ff0303d8",
   "metadata": {},
   "outputs": [],
   "source": []
  },
  {
   "cell_type": "code",
   "execution_count": null,
   "id": "a2db6696",
   "metadata": {},
   "outputs": [],
   "source": [
    "def dfs(graph, v, visited):\n",
    "    \n",
    "    visited[v]=1\n",
    "    \n",
    "    print(v,end=' ')\n",
    "    \n",
    "    for i in graph[v]:\n",
    "        if visited[i]==[0]:\n",
    "            dfs(graph,i,visited)\n",
    "            \n",
    "            \n",
    "            \n",
    "graph=[\n",
    "    [],\n",
    "    [2,3,8],\n",
    "    [1,7],\n",
    "    [1,4,5],\n",
    "    [3,5],\n",
    "    [3,4],\n",
    "    [7],\n",
    "    [2,6,8],\n",
    "    [1,7]\n",
    "]\n",
    "\n",
    "\n",
    "# visited=[0]*9\n",
    "visited=[[0] for _ in range(9)]\n",
    "\n",
    "\n",
    "\n",
    "dfs(graph,1,visited)\n",
    "            \n",
    "\n"
   ]
  },
  {
   "cell_type": "code",
   "execution_count": null,
   "id": "346d2978",
   "metadata": {},
   "outputs": [],
   "source": [
    "numbers = list(map(str,numbers))\n",
    "numbers.sort(key=lambda x:x*3, reverse=True)\n",
    "\n",
    "answer=str(int(''.join(numbers)))\n",
    "\n",
    "\n",
    "return answer"
   ]
  },
  {
   "cell_type": "code",
   "execution_count": 2,
   "id": "f0fee236",
   "metadata": {
    "ExecuteTime": {
     "end_time": "2021-12-10T05:39:55.474681Z",
     "start_time": "2021-12-10T05:39:40.472558Z"
    }
   },
   "outputs": [
    {
     "name": "stdout",
     "output_type": "stream",
     "text": [
      "4 4\n",
      "1 1 0\n",
      "1 1 1 1\n",
      "1 0 0 1\n",
      "1 1 0 1\n",
      "1 1 1 1\n",
      "3\n"
     ]
    }
   ],
   "source": [
    "n,m = map(int,input().split())\n",
    "\n",
    "x,y,direction = map(int,input().split())\n",
    "\n",
    "graph=[]\n",
    "\n",
    "for _ in range(n):\n",
    "    \n",
    "    graph.append(list(map(int,input().split())))\n",
    "    \n",
    "    \n",
    "turn_time=0\n",
    "count=1\n",
    "\n",
    "d= [[0]*m for _ in range(n)]\n",
    "\n",
    "dx=[1,-1,0,0]\n",
    "dy=[0,0,1,-1]\n",
    "\n",
    "\n",
    "def left():\n",
    "    global direction\n",
    "    direction-=1\n",
    "    if direction==-1:\n",
    "        direction=3\n",
    "\n",
    "while True:\n",
    "    \n",
    "    left()\n",
    "    \n",
    "    nx=x+dx[direction]\n",
    "    ny=y+dy[direction]\n",
    "    \n",
    "    if nx<0 or ny<0 or nx>=n or ny>=m:\n",
    "        \n",
    "        continue\n",
    "        \n",
    "    if graph[nx][ny]==0 and d[nx][ny]==0:\n",
    "        \n",
    "        graph[nx][ny]=1\n",
    "        count+=1\n",
    "        turn_time=0\n",
    "        x,y=nx,ny\n",
    "        continue\n",
    "        \n",
    "    else:\n",
    "        turn_time+=1\n",
    "        \n",
    "    \n",
    "    if turn_time==4:\n",
    "        \n",
    "        nx=x-dx[direction]\n",
    "        ny=y-dy[direction] # 한칸 뒤로 이동\n",
    "        \n",
    "        if graph[nx][ny]==0:\n",
    "            \n",
    "            x,y=nx,ny\n",
    "            \n",
    "        else:\n",
    "            break\n",
    "            \n",
    "        turn_time=0\n",
    "            \n",
    "print(count) "
   ]
  },
  {
   "cell_type": "code",
   "execution_count": 3,
   "id": "f12aa73f",
   "metadata": {
    "ExecuteTime": {
     "end_time": "2021-12-10T05:50:44.259681Z",
     "start_time": "2021-12-10T05:50:32.160039Z"
    }
   },
   "outputs": [
    {
     "name": "stdout",
     "output_type": "stream",
     "text": [
      "4 5\n",
      "00110\n",
      "00011\n",
      "11111\n",
      "00000\n",
      "3\n"
     ]
    }
   ],
   "source": [
    "# 음료수 얼려먹기 \n",
    "\n",
    "n,m = map(int,input().split())\n",
    "\n",
    "graph=[]\n",
    "\n",
    "for _ in range(n):\n",
    "    graph.append(list(map(int,input())))\n",
    "    \n",
    "    \n",
    "def dfs(x,y):\n",
    "    \n",
    "    \n",
    "    if x<0 or y<0 or x>=n or y>=m:\n",
    "        return False\n",
    "    \n",
    "    if graph[x][y]==0:\n",
    "        \n",
    "        graph[x][y]=1\n",
    "        \n",
    "        dfs(x,y+1)\n",
    "        dfs(x,y-1)\n",
    "        dfs(x-1,y)\n",
    "        dfs(x+1,y)\n",
    "        \n",
    "        return True\n",
    "    \n",
    "    return False\n",
    "\n",
    "count=0\n",
    "for i in range(n):\n",
    "    for j in range(m):\n",
    "        \n",
    "        if dfs(i,j)==True:\n",
    "            count+=1\n",
    "\n",
    "            \n",
    "print(count)\n",
    "        \n",
    "        \n",
    "    \n",
    "    \n"
   ]
  },
  {
   "cell_type": "code",
   "execution_count": 5,
   "id": "a70135f5",
   "metadata": {
    "ExecuteTime": {
     "end_time": "2021-12-10T05:54:13.941761Z",
     "start_time": "2021-12-10T05:54:04.881667Z"
    }
   },
   "outputs": [
    {
     "name": "stdout",
     "output_type": "stream",
     "text": [
      "4 5\n",
      "00110\n",
      "00011\n",
      "11111\n",
      "00000\n",
      "3\n"
     ]
    }
   ],
   "source": [
    "w,z= map(int,input().split())\n",
    "graph=[]\n",
    "for _ in range(w):\n",
    "    graph.append(list(map(int,input())))\n",
    "    \n",
    "    \n",
    "def dfs(x,y):\n",
    "    \n",
    "    if x<0 or y<0 or x>=w or y>=z:\n",
    "        \n",
    "        return False\n",
    "    \n",
    "    if graph[x][y]==0:\n",
    "        \n",
    "        graph[x][y]=1\n",
    "        \n",
    "        dfs(x,y+1)\n",
    "        dfs(x,y-1)\n",
    "        dfs(x+1,y)\n",
    "        dfs(x-1,y)\n",
    "        \n",
    "        return True\n",
    "    \n",
    "    else:\n",
    "        return False\n",
    "    \n",
    "count=0\n",
    "for i in range(w):\n",
    "    for j in range(z):\n",
    "        \n",
    "        if dfs(i,j)==True:\n",
    "            count+=1\n",
    "            \n",
    "print(count)"
   ]
  },
  {
   "cell_type": "code",
   "execution_count": 12,
   "id": "daa4cbed",
   "metadata": {
    "ExecuteTime": {
     "end_time": "2021-12-10T06:09:19.237385Z",
     "start_time": "2021-12-10T06:09:04.723180Z"
    }
   },
   "outputs": [
    {
     "name": "stdout",
     "output_type": "stream",
     "text": [
      "5 6\n",
      "101010\n",
      "111111\n",
      "000001\n",
      "111111\n",
      "111111\n",
      "10\n"
     ]
    }
   ],
   "source": [
    "# 미로탈출\n",
    "from collections import deque\n",
    "\n",
    "n, m = map(int,input().split())\n",
    "\n",
    "graph=[]\n",
    "\n",
    "for _ in range(n):\n",
    "    graph.append(list(map(int,input())))\n",
    "    \n",
    "dx=[1,-1,0,0]\n",
    "dy=[0,0,1,-1]\n",
    "\n",
    "def bfs(x,y):\n",
    "    \n",
    "    q=deque()\n",
    "    q.append((x,y))\n",
    "    \n",
    "    while q:\n",
    "        x,y=q.popleft()\n",
    "        \n",
    "        for i in range(4):\n",
    "            nx=x+dx[i]\n",
    "            ny=y+dy[i]\n",
    "            \n",
    "            if nx<0 or ny<0 or nx>=n or ny>=m:\n",
    "                \n",
    "                continue\n",
    "                \n",
    "            if graph[nx][ny]==1:\n",
    "                \n",
    "                graph[nx][ny]=graph[x][y]+1\n",
    "                q.append((nx,ny))\n",
    "                \n",
    "#             if graph[nx][ny]==0:\n",
    "#                 continue\n",
    "                \n",
    "    return graph[n-1][m-1]\n",
    "\n",
    "\n",
    "print(bfs(0,0))"
   ]
  },
  {
   "cell_type": "code",
   "execution_count": 17,
   "id": "1451bfac",
   "metadata": {
    "ExecuteTime": {
     "end_time": "2021-12-10T06:42:18.389556Z",
     "start_time": "2021-12-10T06:42:08.893665Z"
    },
    "scrolled": true
   },
   "outputs": [
    {
     "name": "stdout",
     "output_type": "stream",
     "text": [
      "3\n",
      "8\n",
      "0 0\n",
      "7 0\n",
      "5\n",
      "100\n",
      "0 0\n",
      "30 50\n",
      "28\n",
      "10\n",
      "1 1\n",
      "1 1\n",
      "0\n"
     ]
    }
   ],
   "source": [
    "# 나이트 이동 review\n",
    "# bfs\n",
    "from collections import deque\n",
    "\n",
    "n = int(input())\n",
    "\n",
    "dx=[-2,-1,1,2,2,1,-1,2]\n",
    "dy=[1,2,2,1,-1,-2,-2,-1]\n",
    "\n",
    "\n",
    "\n",
    "\n",
    "for _ in range(n):\n",
    "    l=int(input())\n",
    "    x,y = map(int,input().split())\n",
    "    a,b = map(int,input().split())\n",
    "    \n",
    "    \n",
    "    visited=[[0]*l for _ in range(l)]\n",
    "    \n",
    "    \n",
    "    q=deque()\n",
    "    q.append((x,y))\n",
    "    \n",
    "    while q:\n",
    "        \n",
    "        x,y=q.popleft()\n",
    "        \n",
    "        if x==a and y==b:\n",
    "            break\n",
    "            \n",
    "        for i in range(8):\n",
    "            \n",
    "            nx=x+dx[i]\n",
    "            ny=y+dy[i]\n",
    "            \n",
    "            \n",
    "            if nx<0 or ny<0 or nx>=l or ny>=l:\n",
    "                \n",
    "                continue\n",
    "                \n",
    "            if visited[nx][ny]==0:\n",
    "                    \n",
    "                visited[nx][ny]= visited[x][y]+1\n",
    "                q.append((nx,ny))\n",
    "                \n",
    "                \n",
    "    print(visited[a][b])\n",
    "            \n",
    "# 혼자 클리어"
   ]
  },
  {
   "cell_type": "code",
   "execution_count": 19,
   "id": "a0f360ee",
   "metadata": {
    "ExecuteTime": {
     "end_time": "2021-12-10T06:48:19.233049Z",
     "start_time": "2021-12-10T06:48:08.098346Z"
    }
   },
   "outputs": [
    {
     "name": "stdout",
     "output_type": "stream",
     "text": [
      "3\n",
      "8\n",
      "0 0\n",
      "7 0\n",
      "5\n",
      "100\n",
      "0 0\n",
      "30 50\n",
      "28\n",
      "10\n",
      "1 1\n",
      "1 1\n",
      "0\n"
     ]
    }
   ],
   "source": [
    "n = int(input())\n",
    "\n",
    "\n",
    "\n",
    "\n",
    "dx=[-2,-1,1,2,2,1,-1,2]\n",
    "dy=[1,2,2,1,-1,-2,-2,-1]\n",
    "\n",
    "\n",
    "for _ in range(n):\n",
    "    l=int(input())\n",
    "    x,y = map(int,input().split())\n",
    "    a,b = map(int,input().split())\n",
    "    \n",
    "    graph=[[0]*l for _ in range(l)]\n",
    "    \n",
    "    q=deque()\n",
    "    q.append((x,y))\n",
    "    \n",
    "    while q:\n",
    "        \n",
    "        x,y=q.popleft()\n",
    "        \n",
    "        if x==a and y==b:\n",
    "            break\n",
    "\n",
    "        for i in range(8):\n",
    "\n",
    "            nx=x+dx[i]\n",
    "            ny=y+dy[i]\n",
    "            \n",
    "            if nx<0 or ny<0 or nx>=l or ny>=l:\n",
    "                \n",
    "                continue\n",
    "                \n",
    "            if graph[nx][ny]==0:\n",
    "                \n",
    "                graph[nx][ny]=graph[x][y]+1\n",
    "                q.append((nx,ny))\n",
    "                \n",
    "                \n",
    "    print(graph[a][b])\n",
    "\n",
    "    \n"
   ]
  },
  {
   "cell_type": "code",
   "execution_count": 21,
   "id": "b35a49ce",
   "metadata": {
    "ExecuteTime": {
     "end_time": "2021-12-10T08:22:50.230604Z",
     "start_time": "2021-12-10T08:22:35.768998Z"
    }
   },
   "outputs": [
    {
     "name": "stdout",
     "output_type": "stream",
     "text": [
      "4 4\n",
      "1 1 0\n",
      "1 1 1 1\n",
      "1 0 0 1\n",
      "1 1 0 1\n",
      "1 1 1 1\n",
      "3\n"
     ]
    }
   ],
   "source": [
    "n,m = map(int,input().split())\n",
    "\n",
    "x,y,direction = map(int,input().split())\n",
    "graph=[]\n",
    "d=[[0]*m for _ in range(n)]\n",
    "for _ in range(n):\n",
    "    graph.append(list(map(int,input().split())))\n",
    "    \n",
    "dx=[0,1,0,-1]\n",
    "dy=[-1,0,1,0]\n",
    "\n",
    "\n",
    "def turn_left():\n",
    "    global direction\n",
    "    direction-=1\n",
    "    if direction==-1:\n",
    "        direction=3\n",
    "        \n",
    "count=1 # 카운트 1에서 시작한다.\n",
    "turn_time=0\n",
    "        \n",
    "while True:\n",
    "    \n",
    "    turn_left()\n",
    "\n",
    "\n",
    "    nx=x+dx[direction]\n",
    "    ny=y+dy[direction]\n",
    "\n",
    "    if nx<0 or ny<0 or nx>=n or ny>=m:\n",
    "        continue\n",
    "\n",
    "    if graph[nx][ny]==0 and d[nx][ny]==0:\n",
    "\n",
    "        graph[nx][ny]=1\n",
    "        x,y=nx,ny\n",
    "        count+=1\n",
    "        turn_time=0\n",
    "        continue\n",
    "\n",
    "    else:\n",
    "        turn_time+=1\n",
    "\n",
    "    if turn_time==4:\n",
    "\n",
    "        nx=x-dx[direction]\n",
    "        ny=y-dy[direction]\n",
    "\n",
    "        if graph[nx][ny]==0:\n",
    "            x,y=nx,ny\n",
    "        else:\n",
    "            break\n",
    "        turn_time=0\n",
    "            \n",
    "print(count)"
   ]
  },
  {
   "cell_type": "code",
   "execution_count": 24,
   "id": "d195ca2d",
   "metadata": {
    "ExecuteTime": {
     "end_time": "2021-12-10T08:37:08.036823Z",
     "start_time": "2021-12-10T08:36:53.005962Z"
    }
   },
   "outputs": [
    {
     "name": "stdout",
     "output_type": "stream",
     "text": [
      "4 5\n",
      "00110\n",
      "00011\n",
      "11111\n",
      "00000\n",
      "3\n"
     ]
    }
   ],
   "source": [
    "n,m = map(int,input().split())\n",
    "\n",
    "graph=[]\n",
    "\n",
    "for _ in range(n):\n",
    "    graph.append(list(map(int,input())))\n",
    "    \n",
    "\n",
    "def dfs(x,y):\n",
    "    \n",
    "    \n",
    "#     while True: # 필요없었다.\n",
    "    \n",
    "    if x<0 or y<0 or x>=n or y>=m:\n",
    "\n",
    "        return False\n",
    "\n",
    "    if graph[x][y]==0:\n",
    "\n",
    "        graph[x][y]=1\n",
    "\n",
    "        dfs(x,y+1)\n",
    "        dfs(x,y-1)\n",
    "        dfs(x+1,y)\n",
    "        dfs(x-1,y)\n",
    "\n",
    "        return True\n",
    "\n",
    "    return False\n",
    "    \n",
    "count=0\n",
    "for i in range(n):\n",
    "    for j in range(m):\n",
    "        \n",
    "        if dfs(i,j)==True:\n",
    "            count+=1\n",
    "            \n",
    "\n",
    "            \n",
    "dfs(0,0)\n",
    "print(count)"
   ]
  },
  {
   "cell_type": "code",
   "execution_count": null,
   "id": "a68eed46",
   "metadata": {},
   "outputs": [],
   "source": []
  }
 ],
 "metadata": {
  "hide_input": false,
  "kernelspec": {
   "display_name": "Python 3 (ipykernel)",
   "language": "python",
   "name": "python3"
  },
  "language_info": {
   "codemirror_mode": {
    "name": "ipython",
    "version": 3
   },
   "file_extension": ".py",
   "mimetype": "text/x-python",
   "name": "python",
   "nbconvert_exporter": "python",
   "pygments_lexer": "ipython3",
   "version": "3.8.11"
  },
  "toc": {
   "base_numbering": 1,
   "nav_menu": {},
   "number_sections": true,
   "sideBar": true,
   "skip_h1_title": false,
   "title_cell": "Table of Contents",
   "title_sidebar": "Contents",
   "toc_cell": false,
   "toc_position": {},
   "toc_section_display": true,
   "toc_window_display": false
  }
 },
 "nbformat": 4,
 "nbformat_minor": 5
}
