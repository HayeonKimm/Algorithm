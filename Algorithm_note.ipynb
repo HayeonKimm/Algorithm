{
 "cells": [
  {
   "cell_type": "markdown",
   "id": "7b608418",
   "metadata": {},
   "source": [
    "# Algorithm_note"
   ]
  },
  {
   "cell_type": "markdown",
   "id": "543f9904",
   "metadata": {},
   "source": [
    "동전거슬러주기 문제"
   ]
  },
  {
   "cell_type": "code",
   "execution_count": 2,
   "id": "28b15e10",
   "metadata": {},
   "outputs": [
    {
     "name": "stdout",
     "output_type": "stream",
     "text": [
      "지금의 n값은 {260}입니다.\n",
      "지금의 n값은 {60}입니다.\n",
      "지금의 n값은 {10}입니다.\n",
      "지금의 n값은 {0}입니다.\n",
      "6\n"
     ]
    }
   ],
   "source": [
    "n = 1260\n",
    "count=0\n",
    "\n",
    "coin_types=[500,100,50,10]\n",
    "\n",
    "for x in coin_types:\n",
    "    \n",
    "    count+=n//x\n",
    "    n%=x\n",
    "    print('지금의 n값은 {%d}입니다.'%n)\n",
    "    \n",
    "print(count)"
   ]
  },
  {
   "cell_type": "markdown",
   "id": "4eace0bd",
   "metadata": {},
   "source": [
    "위 코드를 보면 화폐의 종류만큼 반복 수행해야 한다. 따라서 화폐의 종류가 K개라고 할 떄 위 소스 코드의 시간 복잡도는 O(K)이다.\n",
    "    \n",
    "참고로 시간 복잡도에서 거슬러 주어야 할 돈 N은 찾아볼 수 없는 것을 알 수 있다.\n",
    "\n",
    "즉, 이 알고리즘의 시간 복잡도는 동전의 총 종류에만 영향을 받고, 거슬러 줘야 하는 금액의 크기와는 무관하다"
   ]
  },
  {
   "cell_type": "markdown",
   "id": "af7a4b5f",
   "metadata": {},
   "source": [
    "## 큰 수의 법칙 (그리디)"
   ]
  },
  {
   "cell_type": "code",
   "execution_count": 5,
   "id": "c0cf51ee",
   "metadata": {},
   "outputs": [
    {
     "name": "stdout",
     "output_type": "stream",
     "text": [
      "5 8 3\n",
      "2 4 5 4 6\n",
      "46\n"
     ]
    }
   ],
   "source": [
    "# 큰 수의 법칙\n",
    "\n",
    "n, m, k = map(int,input().split())\n",
    "# n은 배열수, m은 총 더하기 길이, k는 한 숫자가 연속가능한 수 \n",
    "\n",
    "data = list(map(int, input().split()))\n",
    "\n",
    "data.sort()\n",
    "\n",
    "first = data[-1]\n",
    "second = data[-2]\n",
    "\n",
    "result=0 # 최종 값 저장하기 위해서\n",
    "\n",
    "while True:\n",
    "    \n",
    "    for x in range(k): # 가장 큰 숫자 k번 더하기\n",
    "\n",
    "        if m==0:\n",
    "            break\n",
    "\n",
    "        result+=first\n",
    "        m-=1\n",
    "\n",
    "    if m==0:\n",
    "\n",
    "        break\n",
    "\n",
    "    result+=second  # 두 번째 숫자 한번 더하기\n",
    "\n",
    "    m-=1\n",
    "\n",
    "print(result)"
   ]
  },
  {
   "cell_type": "markdown",
   "id": "754d02df",
   "metadata": {},
   "source": [
    "이 문제는 일단 입력값 중에서 가장 큰 수와 두 번째 큰 수만 저장하면 된다. 연속으로 더할 수 있는 횟수는 최대 K번이므로 가장 큰 수를 K번 더하고 두 번째로 큰 수를 한 번 더하는 연산을 반복하면 된다.'"
   ]
  },
  {
   "cell_type": "markdown",
   "id": "b1a2cf8d",
   "metadata": {},
   "source": [
    "but, 이 문제는 M이 10,100 이하이므로 이 방식으로도 문제를 해결할 수 있지만, M의 크기가 100억 이상처럼 커진다면 시간 초과 판정을 받을 것이다. 간단한 수학적 아이디어를 이용해 더 효율적으로 문제를 해결해보자.\n",
    "\n",
    "예를 들어 N이 5이고 입력값이 다음과 같이 주어졌다고 가정하자.이 문제를 풀려면 가장 먼저 반복되는 수열에 대해서 파악해야 한다.\n",
    "\n",
    "가장 큰 수와 두 번째로 큰 수가 더해질 떄는 특정한 수열 형태로 일정하게 반복해서 더해지는 특징이 있다. 위의 예시에서는 수열 {6,6,6,5}가 반복된다. 그렇다면 반복되는 수열의 길이는 어떻게 될까? \n",
    "\n",
    "바로 (K+1)로 위의 예시에서는 4가 된다. 따라서 M을 (K+1)로 나눈 몫이 수열이 반복되는 횟수가 된다. 다시 여기에 K를 곱해주면 가장 큰 수가 등장하는 횟수가 된다.\n",
    "\n",
    "이때 M이 (K+1)로 나누어떨어지지 않는 경우도 고려해야 한다. 그럴 때는 M을 (K+1)로 나눈 나머지만큼 가장 큰 수가 추가로 더해지므로 이를 고려해주어야 한다. 즉, '가장 큰 수가 더해지는 횟수'는 다음과 같다.\n",
    "\n",
    "int(M/(K+1)) * K+M%(K+1)\n",
    "결과적으로 위의 식을 이용하여 가장 큰 수가 더해지는 횟수를 구한 다음, 이를 이용해 두 번째로 큰 수가 더해지는 횟수까지 구할 수 있는 것이다. 이를 토대로 파이썬을 이용해 답안을 작성하면 다음과 같다."
   ]
  },
  {
   "cell_type": "code",
   "execution_count": 7,
   "id": "6ef355f3",
   "metadata": {},
   "outputs": [
    {
     "name": "stdout",
     "output_type": "stream",
     "text": [
      "5 8 3\n",
      "2 4 5 4 6\n",
      "46\n"
     ]
    }
   ],
   "source": [
    "n,m,k = map(int, input().split())\n",
    "\n",
    "data=list(map(int,input().split()))\n",
    "\n",
    "data.sort()\n",
    "\n",
    "first=data[-1]\n",
    "second=data[-2]\n",
    "\n",
    "# 가장 큰 수가 더해지는 횟수 계산\n",
    "count =int(m/(k+1))*k\n",
    "count+=m%(k+1)\n",
    "\n",
    "result=0\n",
    "result+=(count)*first\n",
    "result+=(m-count) * second\n",
    "\n",
    "print(result)"
   ]
  },
  {
   "cell_type": "markdown",
   "id": "ae400155",
   "metadata": {},
   "source": [
    "## 숫자 카드 게임(그리디)"
   ]
  },
  {
   "cell_type": "markdown",
   "id": "7396f2b5",
   "metadata": {},
   "source": [
    "아이디어 : 각 행마다 가장 작은 수를 찾은 뒤에 그 수 중에서 가장 큰 수를 찾는 게임"
   ]
  },
  {
   "cell_type": "code",
   "execution_count": 8,
   "id": "4858c17b",
   "metadata": {},
   "outputs": [
    {
     "name": "stdout",
     "output_type": "stream",
     "text": [
      "3 3\n",
      "3 1 2\n",
      "4 1 4\n",
      "2 2 2\n",
      "2\n"
     ]
    }
   ],
   "source": [
    "# 낮은 것 중에서 가장 높은 것.\n",
    "\n",
    "m,n = map(int,input().split())\n",
    "\n",
    "for i in range(m):\n",
    "    \n",
    "    data = map(int,input().split())\n",
    "    mini = min(data)\n",
    "    \n",
    "    result = max(result,mini)\n",
    "    \n",
    "print(result)"
   ]
  },
  {
   "cell_type": "markdown",
   "id": "1d18ce74",
   "metadata": {},
   "source": [
    "1이 될 때 까지"
   ]
  },
  {
   "cell_type": "markdown",
   "id": "b3cceabb",
   "metadata": {},
   "source": [
    "방법1\n",
    "1. N에서 1을 뺀다.\n",
    "2. N을 K로 나눈다."
   ]
  },
  {
   "cell_type": "code",
   "execution_count": 12,
   "id": "5c041360",
   "metadata": {},
   "outputs": [
    {
     "name": "stdout",
     "output_type": "stream",
     "text": [
      "27 3\n",
      "3\n"
     ]
    }
   ],
   "source": [
    "# 혼자 도전해본 풀이: 정답\n",
    "\n",
    "n,k = map(int,input().split())\n",
    "count=0\n",
    "\n",
    "while n!=1:\n",
    "    \n",
    "    if n%k==0:\n",
    "        \n",
    "        n=n/k\n",
    "        count+=1\n",
    "        \n",
    "    else:\n",
    "        \n",
    "        n=n-1\n",
    "        \n",
    "        count+=1\n",
    "        \n",
    "        \n",
    "\n",
    "print(count)"
   ]
  },
  {
   "cell_type": "code",
   "execution_count": 15,
   "id": "b5ce7208",
   "metadata": {},
   "outputs": [
    {
     "name": "stdout",
     "output_type": "stream",
     "text": [
      "25 5\n",
      "2\n"
     ]
    }
   ],
   "source": [
    "# 책에서 나온 답\n",
    "\n",
    "n, k = map(int,input().split())\n",
    "result =0\n",
    "\n",
    "# N이 K이상이라면 K로 계속 나누기\n",
    "\n",
    "while n>=k:\n",
    "    #N이 K로 나누어 떨어지지 않는다면 N에서 1씩 빼기\n",
    "    \n",
    "    while n%k!=0:\n",
    "        n-=1\n",
    "        result+=1\n",
    "        \n",
    "    # K로 나누기\n",
    "    n//=k\n",
    "    result+=1\n",
    "    \n",
    "#마지막으로 남는 수에 대하여 1씩 빼기\n",
    "\n",
    "while n>1:\n",
    "    n-=1\n",
    "    result +=1\n",
    "    \n",
    "print(result)"
   ]
  },
  {
   "cell_type": "markdown",
   "id": "fff3ff72",
   "metadata": {},
   "source": [
    "## 상하 좌우 문제 (구현,시뮬레이션)"
   ]
  },
  {
   "cell_type": "markdown",
   "id": "5b7a3086",
   "metadata": {},
   "source": [
    "명령에 따라서 차례대로 이동시킨다는 점에서 시뮬레이션 유형이다."
   ]
  },
  {
   "cell_type": "code",
   "execution_count": 20,
   "id": "94f4711b",
   "metadata": {},
   "outputs": [
    {
     "data": {
      "text/plain": [
       "(1, 5, 4)"
      ]
     },
     "execution_count": 20,
     "metadata": {},
     "output_type": "execute_result"
    }
   ],
   "source": [
    "1,2+3,4"
   ]
  },
  {
   "cell_type": "code",
   "execution_count": 28,
   "id": "f88c4a11",
   "metadata": {},
   "outputs": [
    {
     "name": "stdout",
     "output_type": "stream",
     "text": [
      "5\n",
      "r r r u d d\n",
      "(2, 4)\n"
     ]
    }
   ],
   "source": [
    "# 내가 해봤던 풀이, 모르겠다. 3,4가 나와야하는데 2,4가 나왔다.\n",
    "\n",
    "n = int(input())\n",
    "mov = list(map(str,input().split()))\n",
    "init_1=1\n",
    "init_2=1\n",
    "\n",
    "for i in mov:\n",
    "    \n",
    "    \n",
    "    \n",
    "    elif i == 'r':\n",
    "        init_2+=1\n",
    "    \n",
    "    elif i == 'l':\n",
    "        init_2-=1\n",
    "        \n",
    "    elif i == 'u':\n",
    "        init_1-=1\n",
    "    \n",
    "    else:\n",
    "        init_1+=1\n",
    "        \n",
    "print((init_1,init_2))"
   ]
  },
  {
   "cell_type": "code",
   "execution_count": 30,
   "id": "eda6fb55",
   "metadata": {},
   "outputs": [
    {
     "name": "stdout",
     "output_type": "stream",
     "text": [
      "5\n",
      "R R R U D D\n",
      "3 4\n"
     ]
    }
   ],
   "source": [
    "# 문제 해설\n",
    "\n",
    "n = int(input())\n",
    "x,y = 1,1\n",
    "plans = input().split()\n",
    "\n",
    "move_type=['L','R','U','D']\n",
    "\n",
    "dx = [0,0,-1,1]\n",
    "dy = [-1,1,0,0]\n",
    "\n",
    "\n",
    "for plan in plans:\n",
    "    \n",
    "    for i in range(len(move_type)):\n",
    "        \n",
    "        if plan == move_type[i]:\n",
    "            \n",
    "            nx = x+dx[i]\n",
    "            ny = y+dy[i]\n",
    "            \n",
    "            \n",
    "    if nx<1 or ny<1 or nx>n or ny>n:\n",
    "        \n",
    "        continue\n",
    "        \n",
    "        \n",
    "    x,y =nx,ny\n",
    "    \n",
    "    \n",
    "print(x,y)"
   ]
  },
  {
   "cell_type": "markdown",
   "id": "f4e1c012",
   "metadata": {},
   "source": [
    "## 시각(완전 탐색)\n",
    "\n",
    "완전 탐색 알고리즘은 가능한 경우의 수를 모두 검사해보는 탐색 방법이다.\n",
    "\n",
    "일반적으로 완전 탐색 알고리즘은 비효율적인 시간 복잡도를 가지고 있으므로 데잍터 개수가 큰 경우에 정상적으로 동작하지 않을 수 있다. 그래서 일반적으로 알고리즘 문제를 풀 떄는 확인(탐색 해야 할 전체 데이터의 개수가 100만개 이하일 때완전 탐색을 사용하면 적절하다."
   ]
  },
  {
   "cell_type": "code",
   "execution_count": 32,
   "id": "2e969c7b",
   "metadata": {},
   "outputs": [
    {
     "name": "stdout",
     "output_type": "stream",
     "text": [
      "5\n",
      "11475\n"
     ]
    }
   ],
   "source": [
    "n = int(input())\n",
    "count=0\n",
    "\n",
    "\n",
    "for i in range(n+1):\n",
    "    \n",
    "    for j in range(60):\n",
    "        \n",
    "        for k in range(60):\n",
    "            \n",
    "            if '3' in str(i)+str(j)+str(k): #문자열 자료형으로 변환하여 탐색\n",
    "                count+=1\n",
    "                \n",
    "print(count)"
   ]
  },
  {
   "cell_type": "markdown",
   "id": "bbd51daa",
   "metadata": {},
   "source": [
    "## 왕실의 나이트\n",
    "\n",
    "### 많이 취약하다. 복습 많이 하자."
   ]
  },
  {
   "cell_type": "code",
   "execution_count": 41,
   "id": "5e64dd59",
   "metadata": {},
   "outputs": [
    {
     "data": {
      "text/plain": [
       "1"
      ]
     },
     "execution_count": 41,
     "metadata": {},
     "output_type": "execute_result"
    }
   ],
   "source": [
    "int(ord('a'))-int(ord('a'))+1"
   ]
  },
  {
   "cell_type": "code",
   "execution_count": 42,
   "id": "b669f3b8",
   "metadata": {},
   "outputs": [
    {
     "name": "stdout",
     "output_type": "stream",
     "text": [
      "a1\n",
      "2\n"
     ]
    }
   ],
   "source": [
    "input_data = input()\n",
    "row =int(input_data[1])\n",
    "column = int(ord(input_data[0]))-int(ord('a'))+1\n",
    "\n",
    "steps =[(-2,-1),(-1,-2),(1,-2),(2,-1),(2,1),(1,2),(-1,2),(-2,1)]\n",
    "result=0\n",
    "\n",
    "for step in steps:\n",
    "    # 이동하고자 하는 위치 확인\n",
    "    next_row =row+step[0]\n",
    "    next_columns=column+step[1]\n",
    "    \n",
    "    # 해당 위치로 이동이 가능하다면 카운트 증가\n",
    "    \n",
    "    if next_row>=1 and next_row<=8 and next_columns>=1 and next_columns<=8:\n",
    "        result+=1\n",
    "    \n",
    "    \n",
    "print(result)\n",
    "    \n",
    "    \n",
    "# ord — ord(c)는 문자의 유니코드 값을 돌려주는 함수이다.\n"
   ]
  },
  {
   "cell_type": "markdown",
   "id": "b1a71c2b",
   "metadata": {},
   "source": [
    "### 게임 개발 (시뮬레이션)"
   ]
  },
  {
   "cell_type": "markdown",
   "id": "0adb344d",
   "metadata": {},
   "source": [
    "전형적인 시뮬레이션 문제이다. 삼성전자 공채 코딩 테스트에서 자주 출제되는 대표적인 유형이기도 하다.   \n",
    "\n",
    "별도의 알고리즘이 필요하기보다는 문제에서 요구하는 내용을 오류 없이 성실하게 구현만 한다면 풀 수 있다는게 특징.\n",
    "\n",
    "반복적 숙달이 필요하다.\n",
    "\n",
    "#### 테크닉 : 일반적으로 방향을 설정해서 이동하는 문제 유형에서는 dx,dy라는 별도의 리스트를 만들어 방향을 정하는 것이 효과적이다."
   ]
  },
  {
   "cell_type": "code",
   "execution_count": 12,
   "id": "d343b26f",
   "metadata": {},
   "outputs": [
    {
     "name": "stdout",
     "output_type": "stream",
     "text": [
      "4 4\n",
      "1 1 0\n"
     ]
    }
   ],
   "source": [
    "n,m = map(int, input().split())\n",
    "\n",
    "# 방문한 위치를 저장하기 위한 맵을 생성하여 0으로 초기화\n",
    "\n",
    "d=[[0] * m for _ in range(n)]   # _는? 그냥 반복을 위해 존재. 실제론 안쓰이기 때문에\n",
    "\n",
    "# 현재 캐릭터의 X좌표, Y좌표, 방향을 입력받기\n",
    "\n",
    "x,y ,direction = map(int, input().split())\n",
    "\n",
    "# 북쪽:0,동쪽:1,남쪽:2,서쪽:3\n",
    "\n",
    "d[x][y] =1 # 현재 좌표 방문 처리, 1로 저장해서 구분하는 듯 하다."
   ]
  },
  {
   "cell_type": "code",
   "execution_count": 13,
   "id": "754d2516",
   "metadata": {},
   "outputs": [
    {
     "data": {
      "text/plain": [
       "[[0, 0, 0, 0], [0, 1, 0, 0], [0, 0, 0, 0], [0, 0, 0, 0]]"
      ]
     },
     "execution_count": 13,
     "metadata": {},
     "output_type": "execute_result"
    }
   ],
   "source": [
    "d"
   ]
  },
  {
   "cell_type": "code",
   "execution_count": null,
   "id": "a7c2d270",
   "metadata": {},
   "outputs": [],
   "source": [
    "# n,m = map(int, input().split())\n",
    "\n",
    "# 방문한 위치를 저장하기 위한 맵을 생성하여 0으로 초기화. 이건 별개다.\n",
    "\n",
    "d=[[0] * m for _ in range(n)]   # _는? 그냥 반복을 위해 존재. 실제론 안쓰이기 때문에\n",
    "\n",
    "# 현재 캐릭터의 X좌표, Y좌표, 방향을 입력받기\n",
    "\n",
    "x,y ,direction = map(int, input().split())\n",
    "\n",
    "# 북쪽:0,동쪽:1,남쪽:2,서쪽:3\n",
    "\n",
    "d[x][y] =1 # 현재 좌표 방문 처리, 1로 저장해서 구분하는 듯 하다.\n",
    "\n",
    "# 전체 맵 정보를 입력받기\n",
    "\n",
    "array=[]\n",
    "for i in range(n):\n",
    "    array.append(list(map(int,input().split())))\n",
    "                 \n",
    "\n",
    "# 북 ,동 ,남 ,서 방향 정의\n",
    "dx = [-1,0,1,0]\n",
    "dy = [0,1,0,-1]\n",
    "\n",
    "\n",
    "# 왼쪽으로 회전. 이동이 아니라 딱 회전만이다.\n",
    "\n",
    "def turn_left():\n",
    "    global direction\n",
    "    direction -=1\n",
    "    if direction == -1: # 0에서 -1를 했을 경우\n",
    "        direction=3\n",
    "        \n",
    "\n",
    "# 시뮬레이션 시작        \n",
    "count = 1\n",
    "turn_time =0\n",
    "while True:\n",
    "    \n",
    "    # 왼쪽으로 회전.\n",
    "    turn_left()\n",
    "    \n",
    "    nx= x+dx[direction]\n",
    "    ny= y+dy[direction]\n",
    "    \n",
    "    #회전한 이후 정면에 가보지 않은 칸이 존재하는 경우 이동\n",
    "    \n",
    "    # 이건 다녀온 적이 있는지,  # 이건 바다인지 육지인지. 0이면 육지다.이동가능\n",
    "    if d[nx][ny]==0 and array[nx][ny]==0:\n",
    "        d[nx][ny]=1 # 다녀갔다는 값으로 저장\n",
    "        x=nx\n",
    "        y=ny\n",
    "        \n",
    "        count+=1\n",
    "        turn_time=0\n",
    "        continue\n",
    "        \n",
    "    else:\n",
    "        turn_time +=1\n",
    "    \n",
    "    # 네 방향 모두 갈 수 없는 경우\n",
    "    \n",
    "    if turn_time ==4:\n",
    "        nx= x-dx[direction]\n",
    "        ny= y-dy[direction]\n",
    "        \n",
    "        # 뒤로 갈 수 있다면 이동하기\n",
    "        \n",
    "        if array[nx][ny] ==0:\n",
    "            x=nx\n",
    "            y=ny\n",
    "        # 뒤가 바다로 막혀있는 경우\n",
    "        \n",
    "        else:\n",
    "            break\n",
    "            \n",
    "        turn_time=0 #초기화\n",
    "        \n",
    "        \n",
    "#정답 출력\n",
    "\n",
    "print(count)"
   ]
  },
  {
   "cell_type": "markdown",
   "id": "f6a3aa38",
   "metadata": {},
   "source": [
    "# 탐색\n",
    "\n",
    "'탐색'이란 많은 양의 데이터 중에서 원하는 데이터를 찾는 과정을 의미한다.\n",
    "\n",
    "프로그래밍에서는 그래프, 트리 등의 자료구조 안에서 탐색을 하는 문제를 자주 다룬다.\n",
    "\n",
    "대표적인 탐색 알고리즘으로 DFS, BFS를 꼽을 수 있다.\n",
    "\n",
    "# 자료구조\n",
    "\n",
    "'데이터를 표현하고 관리하고 처리하기 위한 구조'를 의미한다. 그중 스택과 큐는 자료구조의 기초 개념으로 다음의 두 핵심적인 함수로 구성된다.\n",
    "\n",
    "- 삽입 : 데이터를 삽입한다.\n",
    "- 삭제 : 데이터를 삭제한다."
   ]
  },
  {
   "cell_type": "markdown",
   "id": "7264f954",
   "metadata": {},
   "source": [
    "## 스택\n",
    "\n",
    "스택은 박스 쌓기에 비유할 수 있다\n",
    "\n",
    "흔히 박스는 아래에서부터 위로 차곡차곡 쌓는다.\n",
    "\n",
    "그리고 아래에 있는 박스를 치우기 위해서는 위에 있는 박스를 먼저 내려야한다.\n",
    "\n",
    "이러한 구조를 '선입후출 구조' 또는 '후입선출 구조'라고 한다."
   ]
  },
  {
   "cell_type": "code",
   "execution_count": 1,
   "id": "16e2d732",
   "metadata": {},
   "outputs": [
    {
     "name": "stdout",
     "output_type": "stream",
     "text": [
      "[5, 2, 3, 1]\n",
      "[1, 3, 2, 5]\n"
     ]
    }
   ],
   "source": [
    "# 예시\n",
    "\n",
    "stack =[]\n",
    "\n",
    "#삽입(5)-삽입(2)-삽입(3)-삽입(7)-삽입()-삽입(1)-삽입(4)-삭제()\n",
    "\n",
    "stack.append(5)\n",
    "stack.append(2)\n",
    "stack.append(3)\n",
    "stack.append(7)\n",
    "\n",
    "stack.pop()\n",
    "\n",
    "stack.append(1)\n",
    "stack.append(4)\n",
    "\n",
    "stack.pop()\n",
    "\n",
    "print(stack) # 최하단 원소부터 출력\n",
    "print(stack[::-1]) # 최상단 원소부터 출력\n"
   ]
  },
  {
   "cell_type": "markdown",
   "id": "41dfa218",
   "metadata": {},
   "source": [
    "## 큐\n",
    "\n",
    "큐는 대기 줄에 비유할 수 있다. 우리가 흔히 놀이공원에 입장하기 위해 줄을 설 때, 먼저 온 사람이\n",
    "\n",
    "먼저 들어가게 된다. 나중에 온 사람일수록 나중에 들어가기 때문에 흔히\n",
    "\n",
    "'공정한' 자료구조라고 비유된다. 이러한 구조를 '선입선출 구조'라고 한다."
   ]
  },
  {
   "cell_type": "markdown",
   "id": "8708a534",
   "metadata": {},
   "source": [
    "파이썬으로 큐를 구현할 떄는 collections 모듈에서 제공하는 'deque 자료구조'를 활용하자.\n",
    "\n",
    "deque는 스택과 큐의 장점을 모두 채택한 것인데 데이터를 넣고 빼는 속도가 리스트 자료형에 비해 효율적이며 queue 라이브러리를 이용하는 것보다 더 간단하다. 더불어 대부분의 코딩 테스트에서는 collecctions 모듈과 같은 기본 라이브러리 사용을 허용하므로 안심하고 사용해도 괜찮다."
   ]
  },
  {
   "cell_type": "code",
   "execution_count": 4,
   "id": "3966a350",
   "metadata": {},
   "outputs": [
    {
     "name": "stdout",
     "output_type": "stream",
     "text": [
      "deque([3, 7, 1, 4])\n",
      "deque([4, 1, 7, 3])\n"
     ]
    }
   ],
   "source": [
    "from collections import deque\n",
    "\n",
    "qu = deque()\n",
    "\n",
    "# 삽입5-삽입2-삽입3-삽입7-삭제-삽입1-삽입4-삭제\n",
    "\n",
    "qu.append(5)\n",
    "qu.append(2)\n",
    "qu.append(3)\n",
    "qu.append(7)\n",
    "\n",
    "qu.popleft()\n",
    "\n",
    "qu.append(1)\n",
    "qu.append(4)\n",
    "\n",
    "qu.popleft()\n",
    "\n",
    "print(qu) # 먼저 들어온 순서대로출력\n",
    "qu.reverse() \n",
    "print(qu) # 나중에 들어온 원소부터 출력"
   ]
  },
  {
   "cell_type": "markdown",
   "id": "6f160589",
   "metadata": {},
   "source": [
    "# 재귀 함수\n",
    "\n",
    "DFS와 BFS를 구현하려면 재귀 함수를 이해하고 있어야한다.\n",
    "\n",
    "#### 재귀 함수란 자기 자신을 다시 호출하는 함수를 의미한다.\n",
    "\n",
    "간단한 재귀 함수는 다음과 같다."
   ]
  },
  {
   "cell_type": "code",
   "execution_count": 6,
   "id": "10bc062d",
   "metadata": {},
   "outputs": [
    {
     "data": {
      "text/plain": [
       "<function __main__.recursive_function()>"
      ]
     },
     "execution_count": 6,
     "metadata": {},
     "output_type": "execute_result"
    }
   ],
   "source": [
    "def recursive_function():\n",
    "    \n",
    "    print('재귀 함수를 호출합니다.')\n",
    "    recursive_function()\n",
    "    \n",
    "recursive_function\n",
    "\n",
    "# 이 부분은 업데이트 된듯"
   ]
  },
  {
   "cell_type": "markdown",
   "id": "b205c0ee",
   "metadata": {},
   "source": [
    "재귀 함수를 문제 풀이에서 사용할 떄는 재귀 함수가 언제 끝날지, 종료 조건을 꼭 명시해야 한다.\n",
    "\n",
    "자칫 종료 조건을 명시하지 않으면 함수가 무한 호출될 수 있다.\n",
    "\n",
    "예를 들어 다음은 재귀 함수를 100번 호출하도록 작성한 코드이다.\n",
    "\n",
    "재귀 함수 초반에 등장하는 if문이 종료 조건 역할을 수행한다."
   ]
  },
  {
   "cell_type": "code",
   "execution_count": 1,
   "id": "ad6a0f79",
   "metadata": {
    "ExecuteTime": {
     "end_time": "2021-11-06T12:38:58.453081Z",
     "start_time": "2021-11-06T12:38:58.440088Z"
    }
   },
   "outputs": [],
   "source": [
    "def recur(i):\n",
    "    \n",
    "    if i==100:\n",
    "        return\n",
    "    print(i, '번째 재귀 함수에서', i+1, '번째 재귀 함수를 호출합니다.')\n",
    "    recur(i+1)\n",
    "    \n",
    "    print(i, '번째 재귀 함수를 종료합니다.')\n",
    "    \n",
    "recur(1)"
   ]
  },
  {
   "cell_type": "markdown",
   "id": "30007a30",
   "metadata": {},
   "source": [
    "컴퓨터 내부에서 재귀 함수의 수행은 스택 자료구조를 이용한다.\n",
    "가장 마지막에 호출한 함수가 먼저 수행을 끝내야 그 앞의 함수 호출이 종료되기 떄문.\n",
    "\n",
    "재귀 함수는 내부적으로 스택 자료구조와 동일하다는 것만 기억하자.\n",
    "스택 자료구조를 활용해야 하는 상당수 알고리즘은 재귀 함수를 이용해서 간편하게 구현 가능하다."
   ]
  },
  {
   "cell_type": "code",
   "execution_count": 11,
   "id": "998eb166",
   "metadata": {},
   "outputs": [
    {
     "name": "stdout",
     "output_type": "stream",
     "text": [
      "반복적으로 구현: 120\n",
      "재귀적으로 구현: 120\n"
     ]
    }
   ],
   "source": [
    "# 팩토리얼을 반복적으로 구현한 방식과 재귀적으로 구현한 두 방식 비교\n",
    "\n",
    "# 1. 반복 (팩토리얼로 예시)\n",
    "\n",
    "def fac_iter(n):\n",
    "    \n",
    "    result = 1\n",
    "    \n",
    "    # 1부터 n까지의 수를 차례대로 곱하기\n",
    "    \n",
    "    for i in range(1, n+1):\n",
    "        result*=i\n",
    "    return result\n",
    "\n",
    "# 2.재귀적으로 구현한 n!\n",
    "\n",
    "def fac_rec(n):\n",
    "    \n",
    "    if n<=1: # n이 1 이하인 경우 1을 반환\n",
    "        return 1\n",
    "    \n",
    "# n! = n*(n-1)! 를 그대로 코드로 작성하기\n",
    "\n",
    "    return n* fac_rec(n-1)\n",
    "\n",
    "print('반복적으로 구현:', fac_iter(5))\n",
    "print('재귀적으로 구현:', fac_rec(5))"
   ]
  },
  {
   "cell_type": "markdown",
   "id": "e68f797f",
   "metadata": {},
   "source": [
    "종료조건을 꼭 넣어줘야 한다.(if) 아니면 값을 반환하지 못한다.\n",
    "\n",
    "재귀 함수를 사용하여 얻는 장점은 \"간결함\"이다."
   ]
  },
  {
   "cell_type": "code",
   "execution_count": 24,
   "id": "9382cc61",
   "metadata": {},
   "outputs": [],
   "source": [
    "# 혼자 실습\n",
    "\n",
    "def algo(n):\n",
    "    \n",
    "    if n==1:\n",
    "        return 1\n",
    "    \n",
    "    return 1+algo(n-1)"
   ]
  },
  {
   "cell_type": "code",
   "execution_count": 25,
   "id": "5bd147b7",
   "metadata": {
    "scrolled": true
   },
   "outputs": [
    {
     "name": "stdout",
     "output_type": "stream",
     "text": [
      "print: 5\n"
     ]
    }
   ],
   "source": [
    "print('print:',algo(5))"
   ]
  },
  {
   "cell_type": "markdown",
   "id": "dcd206cd",
   "metadata": {},
   "source": [
    "# 탐색 알고리즘 DFS/BFS\n",
    "\n",
    "## DFS\n",
    "\n",
    "DFS는 Depth-First Search , 깊이 우선 탐색이라고도 부르며, 그래프에서 깊은 부분을\n",
    "우선적으로 탐색하는 알고리즘이다.\n",
    "\n",
    "DFS를 설명하기 전에 먼저 그래프의 기본 구조를 알아야 한다.\n",
    "\n",
    "그래프는 노드와 간선으로 표현되며 이때 노드를 정점이라고 말한다.\n",
    "그래프 탐색이란 하나의 노드를 시작으로 다수의 노드를 방문하는 것을 말한다.\n",
    "\n",
    "프로그래밍에서는 그래프는 크게 2가지 방식으로 표현한다. 코딩테스트에서는 이 두 방식 모두\n",
    "필요하니 두 개념에 대해 바르게 알고있도록 하자.\n",
    "\n",
    "- 인접 행렬 : 2차원 배열로 그래프의 연결 관계를 표현하는 방식\n",
    "- 인접 리스트 : 리스트로 그래프의 연결 관계를 표현하는 방식"
   ]
  },
  {
   "cell_type": "code",
   "execution_count": 26,
   "id": "1a6d2947",
   "metadata": {},
   "outputs": [
    {
     "name": "stdout",
     "output_type": "stream",
     "text": [
      "[[0, 7, 5], [7, 0, 999999999999], [5, 999999999999, 0]]\n"
     ]
    }
   ],
   "source": [
    "# 인접 행렬 방식 예제\n",
    "\n",
    "inf = 999999999999 # 무한의 비용 선언\n",
    "\n",
    "# 2차원 리스트를 이용해 인접 행렬 표현\n",
    "\n",
    "graph =[\n",
    "    [0,7,5], # 행으로 0,1,2 , 열로 0,1,2 \n",
    "    [7,0,inf], # 0과 0은 0 ,1 과 1은 1\n",
    "    [5,inf,0] # 연결되어 있으면 숫자로 표현\n",
    "    \n",
    "]\n",
    "\n",
    "print(graph)"
   ]
  },
  {
   "cell_type": "code",
   "execution_count": 28,
   "id": "9b3ba285",
   "metadata": {},
   "outputs": [
    {
     "name": "stdout",
     "output_type": "stream",
     "text": [
      "[[(1, 7), (2, 5)], [(0, 7)], [(0, 5)]]\n"
     ]
    }
   ],
   "source": [
    "# 인접 리스트 방식 예제\n",
    "\n",
    "# 행이 3개인 2차원 리스트로 인접 리스트 표현\n",
    "graph = [[] for _ in range(3)]\n",
    "\n",
    "# 노드 0에 연결된 노드 정보 저장(노드,거리)\n",
    "graph[0].append((1,7))\n",
    "graph[0].append((2,5))\n",
    "\n",
    "# 노드 1에 연결된 노드 정보 저장(노드,거리)\n",
    "graph[1].append((0,7))\n",
    "\n",
    "# 노드 2에 ..\n",
    "graph[2].append((0,5))\n",
    "\n",
    "print(graph)"
   ]
  },
  {
   "cell_type": "markdown",
   "id": "bf4d31e1",
   "metadata": {},
   "source": [
    "### DFS 동작 과정\n",
    "\n",
    "1. 탐색 시작 노드를 삽입하고, 방문 처리를 한다.\n",
    "2. 스택의 최상단 노드에 방문하지 않은 인접 노드가 있으면 그 인접 노드를 스택에 넣고 방문 처리를 한다. 방문하지 않은 인접 노드가 없으면 스택에서 최상단 노드를 꺼낸다.\n",
    "3. 2번의 과정을 더이상 수행할 수 없을 때까지 반복한다.\n",
    "\n",
    "스택이니까 뒤에 들어온게 가장 빨리 삭제된다, 최상노드는 가장 일찍 들어온 노드들"
   ]
  },
  {
   "cell_type": "code",
   "execution_count": 33,
   "id": "26509ac8",
   "metadata": {},
   "outputs": [
    {
     "name": "stdout",
     "output_type": "stream",
     "text": [
      "1 2 7 6 8 3 4 5 "
     ]
    }
   ],
   "source": [
    "# DFS 예제\n",
    "\n",
    "# DFS는 스택을 이용하는 함수이기 때문에 실제 구현은 재귀 함수를 이용했을 때 \n",
    "# 매우 간결하게 구현가능하다.\n",
    "\n",
    "def dfs(graph , v ,visited):\n",
    "    \n",
    "    # 현재 노드를 방문 처리\n",
    "    visited[v]=True\n",
    "    print(v, end=' ')\n",
    "    \n",
    "    # 현재 노드와 연결된 다른 노드를 재귀적으로 방문\n",
    "    for i in graph[v]:\n",
    "        if not visited[i]:\n",
    "            dfs(graph, i , visited)\n",
    "            \n",
    "# 각 노드가 연결된 정보를 리스트 자료형으로 표현(2차원 리스트)\n",
    "# 9개\n",
    "graph=[\n",
    "    [],\n",
    "    [2,3,8],\n",
    "    [1,7],\n",
    "    [1,4,5],\n",
    "    [3,5],\n",
    "    [3,4],\n",
    "    [7],\n",
    "    [2,6,8],\n",
    "    [1,7]\n",
    "    ]\n",
    "\n",
    "# 각 노드가 방문된 정보를 리스트 자료형으로 표현(1차원 리스트)\n",
    "visited=[False]*9\n",
    "\n",
    "# 정의된 DFS 함수 호출\n",
    "\n",
    "dfs(graph,1,visited)"
   ]
  },
  {
   "cell_type": "markdown",
   "id": "1b1f6dba",
   "metadata": {},
   "source": [
    "## BFS\n",
    "\n",
    "BFS(Breadth First Search) 알고리즘은 '너비 우선 탐색'이라는 의미를 가진다.\n",
    "\n",
    "**쉽게 말해 가까운 노드부터 탐색하는 알고리즘이다.**\n",
    "\n",
    "DFS는 최대한 멀리 있는 노드를 우선으로 탐색하는 방식으로 동작한다고 했는데,\n",
    "BFS는 그 반대다."
   ]
  },
  {
   "cell_type": "markdown",
   "id": "fbe29ffa",
   "metadata": {},
   "source": [
    "BFS는 선입선출 방식인 **큐 자료구조**를 이용하는 것이 정석이다. 인접한 노드를 반복적으로 큐에 넣도록 알고리즘을 작성하면 자연스럽게 먼저 들어온 것이 먼저 나가게\n",
    "되어, 가까운 노드부터 탐색을 진행하게 된다."
   ]
  },
  {
   "cell_type": "markdown",
   "id": "72bb73b7",
   "metadata": {},
   "source": [
    "### 알고리즘의 정확한 동작 방식\n",
    "\n",
    "1. 탐색 시작 노드를 큐에 삽입하고 방문 처리를 한다.\n",
    "2. 큐에서 노드를 꺼내 해당 노드의 인접 노드 중에서 방문하지 않은 노드를 모두\n",
    "큐에 삽입하고 방문 처리를 한다.\n",
    "3. 2번의 과정을 더 이상 수행할 수 없을 때까지 반복한다."
   ]
  },
  {
   "cell_type": "code",
   "execution_count": 2,
   "id": "d3ad264c",
   "metadata": {
    "ExecuteTime": {
     "end_time": "2021-11-07T07:37:45.476571Z",
     "start_time": "2021-11-07T07:37:45.456623Z"
    }
   },
   "outputs": [
    {
     "name": "stdout",
     "output_type": "stream",
     "text": [
      "1 2 3 8 7 4 5 6 "
     ]
    }
   ],
   "source": [
    "#BFS 예제\n",
    "\n",
    "from collections import deque\n",
    "\n",
    "def bfs(graph,start,visited): # 함수정의\n",
    "    \n",
    "    que = deque([start]) # 리스트 선언\n",
    "    \n",
    "    visited[start]=True # 방문처리\n",
    "    \n",
    "    while que: # que가 빌 때까지 반복, 값이 없으면 False이기 때문에 반복을 멈춘다.\n",
    "        #큐에서 하나의 원소를 뽑아 출력\n",
    "        v = que.popleft() # 왼쪽부터. 이것은 선입선출을 의미한다.\n",
    "        print(v, end=' ')\n",
    "        \n",
    "        #해당 원소와 연결된, 아직 방문하지 않은 원소들을 큐에 삽입\n",
    "        for i in graph[v]:\n",
    "            if not visited[i]:# 방문처리가 안되있다면,\n",
    "                que.append(i) # 큐에 i 삽입\n",
    "                visited[i]=True # 다녀간 표시, 방문처리\n",
    "                \n",
    "graph=[\n",
    "    [],\n",
    "    [2,3,8],\n",
    "    [1,7],\n",
    "    [1,4,5],\n",
    "    [3,5],\n",
    "    [3,4],\n",
    "    [7],\n",
    "    [2,6,8],\n",
    "    [1,7]\n",
    "    ]\n",
    "\n",
    "# 각 노드가 방문된 정보를 리스트 자료형으로 표현(1차원 리스트)\n",
    "visited=[False]*9                \n",
    "                \n",
    "bfs(graph,1,visited)"
   ]
  },
  {
   "cell_type": "markdown",
   "id": "19d950ba",
   "metadata": {},
   "source": [
    "## *TIP\n",
    "\n",
    "코딩 테스트 중 2차원 배열에서의 탐색 문제를 만나면 이렇게 그래프 형태로 바꿔서\n",
    "생각하면 풀이 방법을 쉽게 떠올릴 수 있다.\n",
    "\n",
    "코딩테스트에서 탐색 문제를 보면 그래프 형태로 표현한 다음 풀이법을 고민하자."
   ]
  },
  {
   "cell_type": "markdown",
   "id": "7a3acbfb",
   "metadata": {},
   "source": [
    "## (실전)음료수 얼려 먹기"
   ]
  },
  {
   "cell_type": "markdown",
   "id": "2e7115a4",
   "metadata": {},
   "source": [
    "# 탐색문제.\n",
    "## 그래프를 통해 해결하자. (DFS)"
   ]
  },
  {
   "cell_type": "markdown",
   "id": "f4c9c4b6",
   "metadata": {},
   "source": [
    "1. 특정한 지점의 주변 상,하,좌,우를 살펴본 뒤에 주변 지점 중에서 값이\n",
    "'0'이면서 아직 방문하지 않은 지점이 있다면 해당 지점을 방문한다.\n",
    "\n",
    "\n",
    "2. 방문한 지점에서 다시 상,하,좌,우를 살펴보면서 방문을 다시 진행하면,\n",
    "연결된 모든 지점을 방문할 수 있다.\n",
    "\n",
    "3. 1~2 번의 과정을 모든 노드에 반복하며 방문하지 않은 지점의 수를 센다."
   ]
  },
  {
   "cell_type": "markdown",
   "id": "71e6447f",
   "metadata": {},
   "source": [
    "## 0이면서 아직 방문하지 않은 지점을 세는게 중요하다"
   ]
  },
  {
   "cell_type": "code",
   "execution_count": null,
   "id": "c4f5621f",
   "metadata": {},
   "outputs": [],
   "source": [
    "#얼음을 얼릴 수 있는 지역의 수(묶음) 세기\n",
    "\n",
    "\n",
    "n,m = map(int,input().split())\n",
    "\n",
    "\n",
    "graph=[]\n",
    "\n",
    "for _ in range(a+1):\n",
    "    graph.append(list(map(int,input().split())))\n",
    "    \n",
    "def dfs(x,y):\n",
    "    # 주어진 범위를 벗어나는 경우에는 즉시 종료\n",
    "    if x<= -1 or x>=n or y<= -1 or y>= m:\n",
    "        return False\n",
    "    \n",
    "    # 현재 노드를 아직 방문하지 않았다면\n",
    "    if graph[x][y]==0:\n",
    "        #방문처리\n",
    "        graph[x][y]=1\n",
    "        \n",
    "        # 상 ,하 ,좌 ,우의 위치도 모두 재귀적으로 호출\n",
    "        \n",
    "        dfs(x-1,y)\n",
    "        dfs(x,y-1)\n",
    "        dfs(x+1,y)\n",
    "        dfs(x,y+1)\n",
    "        \n",
    "        return True\n",
    "    \n",
    "    return False\n",
    "\n",
    "\n",
    "#모든 노드(위치)에 대하여 음료수 채우기\n",
    "\n",
    "result=0\n",
    "for i in range(n):\n",
    "    for j in range(m):\n",
    "        \n",
    "        # 현재 위치에서 DFS 수행\n",
    "        \n",
    "        if dfs(i,j) == True:\n",
    "            result+=1\n",
    "            \n",
    "print(result)"
   ]
  },
  {
   "cell_type": "markdown",
   "id": "20dc78cb",
   "metadata": {},
   "source": [
    "### 아 한번 함수 돌리면 주변거까지 다 방문시키는구나!"
   ]
  },
  {
   "cell_type": "markdown",
   "id": "293fabb2",
   "metadata": {},
   "source": [
    "미로 탈출\n",
    "\n",
    "이 문제는 BFS를 이용했을 때 매우 효과적으로 해결가능. BFS는 시작 지점에서 가까운 노드르부터 차례대로 그래프의 모든 노드를 탐색하기 때문이다.\n",
    "\n",
    "그러므로 (1,1) 지점에서부터 BFS를 수행하여 모든 노드의 값을 거리 정보로 넣으면 된다."
   ]
  },
  {
   "cell_type": "code",
   "execution_count": 8,
   "id": "7bdbd416",
   "metadata": {
    "ExecuteTime": {
     "end_time": "2021-11-13T12:07:18.141261Z",
     "start_time": "2021-11-13T12:07:06.188380Z"
    }
   },
   "outputs": [
    {
     "name": "stdout",
     "output_type": "stream",
     "text": [
      "5 6\n",
      "101010\n",
      "111111\n",
      "000001\n",
      "111111\n",
      "111111\n",
      "10\n"
     ]
    }
   ],
   "source": [
    "from collections import deque\n",
    "\n",
    "n,m = map(int,input().split())\n",
    "\n",
    "graph=[]\n",
    "for i in range(n):\n",
    "    graph.append(list(map(int,input())))\n",
    "    \n",
    "    \n",
    "dx = [-1,1,0,0]\n",
    "dy = [0,0,-1,1]\n",
    "\n",
    "def bfs(x,y):\n",
    "    \n",
    "    que=deque()\n",
    "    que.append((x,y))\n",
    "    \n",
    "    while que:\n",
    "        \n",
    "        x,y = que.popleft()\n",
    "        \n",
    "        # 현재 위치에서 네 방향으로의 위치 확인\n",
    "        \n",
    "        for i in range(4):\n",
    "            nx = x+dx[i]\n",
    "            ny = y+dy[i]\n",
    "\n",
    "            if nx<0 or ny<0 or nx>=n or ny>=m:\n",
    "                continue\n",
    "\n",
    "            if graph[nx][ny]==0:\n",
    "                continue\n",
    "\n",
    "            # 해당 노드를 처음 방문하는 경우에만 최단 거리 기록\n",
    "\n",
    "            if graph[nx][ny]==1:\n",
    "                graph[nx][ny] = graph[x][y]+1\n",
    "                que.append((nx,ny))\n",
    "                \n",
    "                \n",
    "    # 가장 오른쪽 아래까지의 최단 거리 반환\n",
    "\n",
    "    return graph[n-1][m-1]\n",
    "\n",
    "print(bfs(0,0))"
   ]
  },
  {
   "cell_type": "markdown",
   "id": "c4e5782c",
   "metadata": {},
   "source": [
    "# 정렬 \n",
    "\n",
    "정렬(Sorting)이란 데이터를 특정한 기준에 따라서 순서대로 나열하는 것을 말한다. 정렬 알고리즘으로 데이터를 정렬하면 다음 장에서 배울 이진 탐색이 가능해진다.\n",
    "\n",
    "정렬 알고리즘은 이진 탐색의 전처리 과정이기도 하다."
   ]
  },
  {
   "cell_type": "markdown",
   "id": "6a357a4d",
   "metadata": {
    "ExecuteTime": {
     "end_time": "2021-11-13T12:29:42.931468Z",
     "start_time": "2021-11-13T12:29:42.914550Z"
    }
   },
   "source": [
    "## 선택정렬\n",
    "\n",
    "컴퓨터가 데이터를 정렬할 때 어떻게 할지 생각해보자. 데이터가 무작위로 여러 개 있을 때, 이 중에서 가장 작은 데이터를 선택해 맨 앞에 있는\n",
    "데이터와 바꾸고, 그다음 작은 데이터를 선택해 앞에서 두 번째 데이터와 바꾸는 과정을 반복하면 어떨까?\n",
    "\n",
    "이 방법은 가장 원시적인 방법으로 매번 `가장 작은 것을 선택` 한다는 의미에서 `선택 정렬 알고리즘`이라고 한다."
   ]
  },
  {
   "cell_type": "code",
   "execution_count": 12,
   "id": "d357a321",
   "metadata": {
    "ExecuteTime": {
     "end_time": "2021-11-13T12:41:47.464571Z",
     "start_time": "2021-11-13T12:41:47.448561Z"
    }
   },
   "outputs": [
    {
     "name": "stdout",
     "output_type": "stream",
     "text": [
      "[0, 1, 2, 3, 4, 5, 6, 7, 8, 9]\n"
     ]
    }
   ],
   "source": [
    "# 선택 정렬 소스코드\n",
    "\n",
    "# 비교해서 값이 앞에께 더 큰 값이면 비교한 값이랑 인덱스 체인지 (자리 바꿈)\n",
    "\n",
    "array=[7,5,9,0,3,1,6,2,4,8]\n",
    "\n",
    "for i in range(len(array)):\n",
    "    \n",
    "    min_index=i # 가장 작은 원소의 인덱스\n",
    "    \n",
    "    for j in range(i+1,len(array)):\n",
    "        \n",
    "        if array[min_index]>array[j]:\n",
    "            \n",
    "            min_index=j\n",
    "            \n",
    "    array[i],array[min_index] = array[min_index],array[i] # 스와프 코드\n",
    "            \n",
    "print(array)\n",
    "            "
   ]
  },
  {
   "cell_type": "markdown",
   "id": "2640d1a8",
   "metadata": {},
   "source": [
    "선택 정렬은 시간 복잡도에서 매우 비효율적이다. 다만 특정한 리스트에서 가장 작은 데이터를 찾는 일이 코딩 테스트에서 잦으므로 선택 정렬 소스코드 형태에 익숙해질 필요가 있다. 그러므로 선택 정렬 소스코드를 자주 작성할 것을 권함."
   ]
  },
  {
   "cell_type": "markdown",
   "id": "c861a0a6",
   "metadata": {},
   "source": [
    "## 삽입정렬\n",
    "\n",
    "`데이터를 하나씩 확인하며, 각 데이터를 적절한 위치에 삽입하면 어떨까?`\n",
    "\n",
    "직관적으로 이해하기 쉬운 알고리즘. 선택정렬에 비해 구현 난이도가 높은 편이지만, 실행 시간 측면에서 더 효율적이다.\n",
    "\n",
    "**필요할 때만 위치를 바꾸므로 `데이터가 거의 정렬 되어 있을 때 ` 훨씬 효율적이다.**\n",
    "\n",
    "삽입 정렬은 두 번째 데이터부터 시작한다. 왜냐하면 첫 번재 데이터는 그 자체로 정렬되어 있다고 판단하기 때문이다."
   ]
  },
  {
   "cell_type": "markdown",
   "id": "5f4b57a0",
   "metadata": {},
   "source": [
    "삽입 정렬의 재밌는 특징 : 정렬이 이루어진 원소는 항상 오름차순을 유지하고 있다는 점. 자신보다 작은 데이터를 만났다면 그냥 \n",
    "그자리에 삽입되면 된다."
   ]
  },
  {
   "cell_type": "code",
   "execution_count": 13,
   "id": "215af900",
   "metadata": {
    "ExecuteTime": {
     "end_time": "2021-11-13T12:58:07.834640Z",
     "start_time": "2021-11-13T12:58:07.815626Z"
    }
   },
   "outputs": [
    {
     "name": "stdout",
     "output_type": "stream",
     "text": [
      "[0, 1, 2, 3, 4, 5, 6, 7, 8, 9]\n"
     ]
    }
   ],
   "source": [
    "# 삽입 정렬 소스코드\n",
    "\n",
    "array = [7,5,9,0,3,1,6,2,4,8]\n",
    "\n",
    "for i in range(1, len(array)): # 맨앞은 정렫되어 있다고 생각해서 1부터 시작하는 듯. 넣으면 안되나?\n",
    "    \n",
    "    for j in range(i,0,-1):\n",
    "        if array[j]<array[j-1]:\n",
    "            array[j],array[j-1] = array[j-1],array[j]\n",
    "            \n",
    "            \n",
    "    \n",
    "print(array)"
   ]
  },
  {
   "cell_type": "markdown",
   "id": "c48c2ecd",
   "metadata": {},
   "source": [
    "## 퀵 정렬\n",
    "\n",
    "퀵 정렬은 정렬 알고리즘 중에 가장 많이 사용되는 알고리즘이다.\n",
    "\n",
    "`기준 데이터를 설정하고 그 기준보다 큰 데이터와 작은 데이터의 위치를 바꾸면 어떨까?`\n",
    "\n",
    "퀵 정렬은 기준을 설정한 다음 큰 수와 작은 수를 교환한 후 리스트를 반으로 나누는 방식으로 동작한다.\n",
    "\n",
    "\n",
    "퀵 정렬의 시간 복잡도는 'O'이다. 매우 빠른 편이다."
   ]
  },
  {
   "cell_type": "code",
   "execution_count": 16,
   "id": "38a82e9b",
   "metadata": {
    "ExecuteTime": {
     "end_time": "2021-11-13T13:25:09.622541Z",
     "start_time": "2021-11-13T13:25:09.606866Z"
    }
   },
   "outputs": [
    {
     "name": "stdout",
     "output_type": "stream",
     "text": [
      "[0, 1, 2, 3, 4, 5, 6, 7, 8, 9]\n"
     ]
    }
   ],
   "source": [
    "# 가장 직관적인 형태의 퀵 정렬 소스코드\n",
    "\n",
    "array=[5,7,9,0,3,1,6,2,4,8]\n",
    "\n",
    "# 함수로 하네\n",
    "def quick_sort(array, start, end):\n",
    "    if start >= end:\n",
    "        return\n",
    "    \n",
    "    pivot = start# 피벗은 첫 번째 원소\n",
    "    left = start+1\n",
    "    right = end\n",
    "    while left <= right:\n",
    "        # 피벗보다 큰 데이터를 찾을 때까지 반복\n",
    "        while left <= end and array[left] <= array[pivot]:\n",
    "            left+=1\n",
    "        while right > start and array[right]>= array[pivot]:\n",
    "            right-=1\n",
    "            \n",
    "        if left>right: # 엇갈렸다면 작은 데이터와 피벗을 교체\n",
    "            \n",
    "            array[right],array[pivot] = array[pivot],array[right]\n",
    "            \n",
    "        else:\n",
    "            array[left],array[right]=array[right],array[left]\n",
    "            \n",
    "    # 분할 이후 왼쪽 부분과 오른쪽 부분에서 각각 정렬 수행\n",
    "    quick_sort(array, start, right-1)\n",
    "    quick_sort(array, right+1, end)\n",
    "    \n",
    "quick_sort(array,0,len(array)-1)\n",
    "\n",
    "print(array)"
   ]
  },
  {
   "cell_type": "markdown",
   "id": "b0a2cd76",
   "metadata": {
    "ExecuteTime": {
     "end_time": "2021-11-15T13:24:56.890120Z",
     "start_time": "2021-11-15T13:24:56.879149Z"
    }
   },
   "source": [
    "## 계수 정렬\n",
    "\n",
    "계수 정렬 알고리즘은 특정한 조건이 부합할 때만 사용할 수 있지만 매우 빠른 정렬 알고리즘이다.\n",
    "계수 정렬은 `데이터의 크기 범위가 제한되어 정수 형태로 표현할 수 있을 때` 만 사용할 수 있다.\n",
    "\n",
    "데이터의 값이 무핞나 범위를 가질 수 있는 실수형 데이터가 주어지는 경우 계수 정렬은 사용하기 어렵다. 일반적으로 가장 큰 데이터와 가장 작은 데이터의 차이가 1,000,000을 넘지 않을 때 효과적으로 사용할 수 있다."
   ]
  },
  {
   "cell_type": "markdown",
   "id": "7e17f1e8",
   "metadata": {},
   "source": [
    "계수 정렬은 일반적으로 별도의 리스트를 선언하고 그 안에 정렬에 대한 정보를 담는다는 특징이 있다. 계수 정렬은 데이터의 크기가 제한되어 있을 때에 한해서 데이터의 개수가 매우 많더라도 빠르게 동작한다."
   ]
  },
  {
   "cell_type": "code",
   "execution_count": 4,
   "id": "e96a31fd",
   "metadata": {
    "ExecuteTime": {
     "end_time": "2021-11-15T13:46:18.759919Z",
     "start_time": "2021-11-15T13:46:18.717183Z"
    }
   },
   "outputs": [
    {
     "name": "stdout",
     "output_type": "stream",
     "text": [
      "0 0 1 1 2 2 3 4 5 5 6 7 8 9 9 "
     ]
    }
   ],
   "source": [
    "# 계수 정렬 소스코드\n",
    "\n",
    "array=[7,5,9,0,3,1,6,2,9,1,4,8,0,5,2]\n",
    "\n",
    "count=[0]*(max(array)+1) # 0으로 리스트 초기화\n",
    "\n",
    "\n",
    "\n",
    "for i in range(len(array)):\n",
    "    count[array[i]]+=1\n",
    "    \n",
    "    \n",
    "    \n",
    "for i in range(len(count)): # 리스트에 기록된 정렬 정보 확인\n",
    "    for j in range(count[i]):\n",
    "        print(i, end=' ')"
   ]
  },
  {
   "cell_type": "markdown",
   "id": "2d017f16",
   "metadata": {},
   "source": [
    "계수 정렬은 데이터의 크기가 한정되어 있고, 데이터의 크기가 많이 중복되어 있을수록 유리하며 항상 사용할 수는 없다.    \n",
    "동일한 값을 가지는 데이터가 여러 개일 때 적합하다"
   ]
  },
  {
   "cell_type": "markdown",
   "id": "8d8174c4",
   "metadata": {},
   "source": [
    "# 이진 탐색"
   ]
  },
  {
   "cell_type": "markdown",
   "id": "e234f246",
   "metadata": {},
   "source": [
    "## 순차탐색:\n",
    "\n",
    "리스트 안에 있는 특정한 데이터를 찾기 위해 앞에서부터 데이터를 하나씩 차례대로 확인하는 방법. 보통 정렬되지 않은 리스트에서 데이터\n",
    "를 찾아야 할 때 사용한다."
   ]
  },
  {
   "cell_type": "code",
   "execution_count": null,
   "id": "4ca6240e",
   "metadata": {},
   "outputs": [],
   "source": [
    "# 순차 탐색 소스코드\n",
    "\n",
    "def sequential_search(n, target, array):\n",
    "    \n",
    "    \n",
    "    # 각 원소를 하나씩 확인하며\n",
    "    for i in range(n):\n",
    "        \n",
    "        # 현재의 원소가 찾고자 하는 원소와 동일한 경우\n",
    "        if array[i] == target:\n",
    "            return i+1 # 현재의 위치 반환(인덱스는 0부터 시작하므로 1 더하기)\n",
    "        \n",
    "print('생성할 원소 개수를 입력한 다음 한 칸 띄고 찾을 문자열을 입력하세요.')\n",
    "\n",
    "input_data = input().split()\n",
    "n = int(input_data[0]) # 원소의 개수\n",
    "target = input_data[1] # 찾고자 하는 문자열\n",
    "\n",
    "print('앞서 적은 원소 개수만큼 문자열을 입력하세요. 구분은 띄어쓰기 한 칸으로 합니다.')\n",
    "array = input().split()\n",
    "\n",
    "# 순차 탐색 수행 결과 출력\n",
    "print(sequential_search(n, target,array))"
   ]
  },
  {
   "cell_type": "markdown",
   "id": "8d52f1f8",
   "metadata": {
    "ExecuteTime": {
     "end_time": "2021-11-15T14:29:23.502771Z",
     "start_time": "2021-11-15T14:29:23.480713Z"
    }
   },
   "source": [
    "## ** 중요-이진 탐색 : 반으로 쪼개면서 탐색하기\n",
    "\n",
    "이진 탐색은 배열 내부의 데이터가 정렬되어 있어야만 사용 할 수 있는 알고리즘이다.\n",
    "\n",
    "이진 탐색은 위치를 나타내는 변수 3개를 사용하는데 탐색하고자 하는 범위의 시작점, 끝점, 그리고 중간점이다.   \n",
    "찾으려는 데이터와 중간점 위치에 있는 데이터를 반복적으로 비교해서 원하는 데이터를 찾는 게 이진 탐색 과정이다."
   ]
  },
  {
   "cell_type": "code",
   "execution_count": null,
   "id": "195fa732",
   "metadata": {},
   "outputs": [],
   "source": [
    "# 이진 탐색 소스코드 (재귀함수)\n",
    "\n",
    "def binary_search(array, target, start, end):\n",
    "    \n",
    "    if start>end:\n",
    "        return None\n",
    "    \n",
    "    mid = (start + end)//2\n",
    "    # 찾은 경우 중간점 인덱스 반환\n",
    "    \n",
    "    if array[mid]==target:\n",
    "        return mid\n",
    "    \n",
    "    # 중간점의 값보다 찾고자 하는 값이 작은 경우 왼쪽 확인\n",
    "    elif array[mid] > target:\n",
    "        return binary_search(array, target, start, mid-1)\n",
    "    \n",
    "    else:\n",
    "        return binary_searchinary_search(array, target, mid+1, end)\n",
    "    \n",
    "# n(원소의 개수)과 target(찾고자 하는 문자열)을 입력받기\n",
    "\n",
    "n,target = list(map(int,input().split()))\n",
    "\n",
    "# 이진 탐색 수행 결과 출력\n",
    "\n",
    "result = binary_searchi(array, target,0,n-1)\n",
    "\n",
    "if result == None:\n",
    "    print('원소가 존재하지 않습니다.')\n",
    "    \n",
    "else:\n",
    "    print(result+1)"
   ]
  },
  {
   "cell_type": "markdown",
   "id": "87f28bfd",
   "metadata": {},
   "source": [
    "소스코드가 없는 상태에서 이진 탐색의 소스코드 구현은 상당히 어렵다. 이진탐색은 코딩테스트 단골로 나오는 문제이니,많이 복습하길 권장한다."
   ]
  },
  {
   "cell_type": "markdown",
   "id": "1f0b463e",
   "metadata": {},
   "source": [
    "# 다이나믹 프로그래밍\n",
    "\n",
    "다이나믹 프로그래밍이란 큰 문제를 작게 나누고, 같은 문제라면 한 번씩만 풀어 문제를 효율적으로 해결하는 알고리즘 기법이다."
   ]
  },
  {
   "cell_type": "code",
   "execution_count": null,
   "id": "78ab2413",
   "metadata": {},
   "outputs": [],
   "source": [
    "# 피보나치 수열 소스코드(재귀적)\n",
    "\n",
    "# 한 번 계산된 결과를 메모이제이션(Memoizaation)하기 위한 리스트 초기화\n",
    "d =[0]* 100\n",
    "\n",
    "# 피보나치 함수(Fibonacci Function)를 재귀함수로 구현(탑다운 다이나믹 프로그래밍)\n",
    "def fibo(x):\n",
    "    \n",
    "    # 종료 조건(1 혹은 2일 때 1을 반환)\n",
    "    if x == 1 or x == 2:\n",
    "        return 1 \n",
    "    \n",
    "    # 이미 계산한 적 있는 문제라면 그대로 반환\n",
    "    if d[x] !=0:\n",
    "        return d[x]\n",
    "    \n",
    "    # 아직 계산하지 않은 문제라면 점화식에 따라서 피보나치 결과 반환\n",
    "    d[x] = fibo(x-1)+fibo(x-2)\n",
    "    return d[x]\n",
    "\n",
    "print(fibo(99))"
   ]
  },
  {
   "cell_type": "markdown",
   "id": "547d58c0",
   "metadata": {},
   "source": [
    "재귀 함수를 이용하여 다이나믹 프로그래밍 소스코드를 작성하는 방법을 ,큰 문제를 해결하기 위해 작은 문제를 호출한다고 하여\n",
    "`탑다운 방식`이라고 말한다.\n",
    "\n",
    "반면에 단순히 반복문을 이용하여 소스코드를 작성한은 경우 작은 문제부터 차근차근 답을 도출한다고 하여 `보텀업 방식`이라고 한다."
   ]
  },
  {
   "cell_type": "markdown",
   "id": "eeb0c213",
   "metadata": {},
   "source": [
    "# 최단 경로\n",
    "\n",
    "특정 지점까지 가장 빠르게 도달하는 방법을 찾는 알고리즘"
   ]
  },
  {
   "cell_type": "markdown",
   "id": "bcd2d05b",
   "metadata": {
    "ExecuteTime": {
     "end_time": "2021-11-15T15:40:04.463990Z",
     "start_time": "2021-11-15T15:40:04.445038Z"
    }
   },
   "source": [
    "## 다익스트라 최단 경로 알고리즘\n",
    "\n",
    "다익스트라 최단 경로 알고리즘은 그래프에서 여러 개의 노드가 있을 때, 특정한 노드에서 출발하여 다른 노드로 가는 각각의 최단 경로   \n",
    "를 구해주는 알고리즘이다. 다익스트라 최단 경로 알고리즘은 `음의 간선`이 없을 때 정상적으로 동작한다.\n",
    "\n",
    "음의 간선이란 0보다 작은 값을 가지는 간선을 의미하는데, 현실 세계의 길(간선)은 음의 간선으로 표현되지 않으므로 GPS 소프트웨어의\n",
    "기본 알고리즘으로 채택되곤 한다."
   ]
  },
  {
   "cell_type": "markdown",
   "id": "4be4f83c",
   "metadata": {},
   "source": [
    "다익스트라 알고리즘은 최단 경로를 구하는 과정에서 `각 노드에 대한 현재까지의 최단 거리` 정보를 항상 1차원 리스트에 저장하며   \n",
    "리스트를 계속 갱신한다는 특징이 있다.** 매번 현재 처리하고 있는 노드를 기준으로 주변 간선을 확인한다."
   ]
  },
  {
   "cell_type": "markdown",
   "id": "19fb993e",
   "metadata": {},
   "source": [
    "다익스트라 알고리즘을 구현하는 방법 2가지\n",
    "1. 구현하기 쉽지만 느리게 동작하는 코드\n",
    "2. 구현하기에 조금 더 까다롭지만 빠르게 동작하는 코드"
   ]
  },
  {
   "cell_type": "code",
   "execution_count": null,
   "id": "95b3e3d8",
   "metadata": {},
   "outputs": [],
   "source": []
  },
  {
   "cell_type": "code",
   "execution_count": null,
   "id": "c07ac02c",
   "metadata": {},
   "outputs": [],
   "source": []
  },
  {
   "cell_type": "code",
   "execution_count": null,
   "id": "e52d4680",
   "metadata": {},
   "outputs": [],
   "source": []
  },
  {
   "cell_type": "code",
   "execution_count": null,
   "id": "46424f4b",
   "metadata": {},
   "outputs": [],
   "source": []
  }
 ],
 "metadata": {
  "hide_input": false,
  "kernelspec": {
   "display_name": "Python 3 (ipykernel)",
   "language": "python",
   "name": "python3"
  },
  "language_info": {
   "codemirror_mode": {
    "name": "ipython",
    "version": 3
   },
   "file_extension": ".py",
   "mimetype": "text/x-python",
   "name": "python",
   "nbconvert_exporter": "python",
   "pygments_lexer": "ipython3",
   "version": "3.8.11"
  },
  "toc": {
   "base_numbering": 1,
   "nav_menu": {},
   "number_sections": true,
   "sideBar": true,
   "skip_h1_title": false,
   "title_cell": "Table of Contents",
   "title_sidebar": "Contents",
   "toc_cell": false,
   "toc_position": {},
   "toc_section_display": true,
   "toc_window_display": false
  }
 },
 "nbformat": 4,
 "nbformat_minor": 5
}
