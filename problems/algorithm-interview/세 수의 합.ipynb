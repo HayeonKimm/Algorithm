{
 "cells": [
  {
   "cell_type": "markdown",
   "id": "56ff438f",
   "metadata": {},
   "source": [
    "세 수의 합 184p"
   ]
  },
  {
   "cell_type": "markdown",
   "id": "5eeda215",
   "metadata": {},
   "source": [
    "배열을 입력받아 합으로 0을 만들 수 있는 3개의 엘리먼트를 출력하라"
   ]
  },
  {
   "cell_type": "code",
   "execution_count": 2,
   "id": "bb9f7beb",
   "metadata": {
    "ExecuteTime": {
     "end_time": "2021-12-12T09:30:16.538009Z",
     "start_time": "2021-12-12T09:30:16.526096Z"
    }
   },
   "outputs": [],
   "source": [
    "nums= [-1,0,1,2,-1,-4]"
   ]
  },
  {
   "cell_type": "code",
   "execution_count": null,
   "id": "a389fcbe",
   "metadata": {},
   "outputs": [],
   "source": [
    "# 풀이 : 투 포인터로 합 계산\n",
    "    \n",
    "def threeSum(self, nums:int)->int:\n",
    "    \n",
    "    result=[]\n",
    "    nums.sort()\n",
    "    \n",
    "    for i in range(len(nums)-2):\n",
    "        \n",
    "        # 중복된 값 건너뛰기\n",
    "        \n",
    "        if i>0 and nums[i] == nums[i-1]:\n",
    "            continue\n",
    "            \n",
    "        # 간격을 좁혀가면서 sum 계산\n",
    "        \n",
    "        left, right = i+1, len(nums) -1 \n",
    "        \n",
    "        while left<right:\n",
    "            sum= nums[i]+nums[left]+nums[right]\n",
    "            \n",
    "            if sum<0:\n",
    "                left+=1\n",
    "                \n",
    "            elif sum>0:\n",
    "                right-=1\n",
    "            else:\n",
    "                \n",
    "                # sum =0인 경우이므로 정답 및 스킵 처리\n",
    "                \n",
    "            results.append([nums[i], nums[left], nums[right]])\n",
    "            \n",
    "            while left < right and nums[left] == nums[left+1]:\n",
    "                left+=1\n",
    "            while left < right and nums[right] == nums[right-1]:\n",
    "                right-=1\n",
    "                \n",
    "            left+=1\n",
    "            right-=1\n",
    "            \n",
    "        return results"
   ]
  }
 ],
 "metadata": {
  "hide_input": false,
  "kernelspec": {
   "display_name": "Python 3 (ipykernel)",
   "language": "python",
   "name": "python3"
  },
  "language_info": {
   "codemirror_mode": {
    "name": "ipython",
    "version": 3
   },
   "file_extension": ".py",
   "mimetype": "text/x-python",
   "name": "python",
   "nbconvert_exporter": "python",
   "pygments_lexer": "ipython3",
   "version": "3.8.11"
  },
  "toc": {
   "base_numbering": 1,
   "nav_menu": {},
   "number_sections": true,
   "sideBar": true,
   "skip_h1_title": false,
   "title_cell": "Table of Contents",
   "title_sidebar": "Contents",
   "toc_cell": false,
   "toc_position": {},
   "toc_section_display": true,
   "toc_window_display": false
  }
 },
 "nbformat": 4,
 "nbformat_minor": 5
}
