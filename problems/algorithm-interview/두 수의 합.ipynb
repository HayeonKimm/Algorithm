{
 "cells": [
  {
   "cell_type": "markdown",
   "id": "c2e97c13",
   "metadata": {},
   "source": [
    "두 수의 합 (1.Two Sum)\n",
    "\n",
    "덧셈하여 타겟을 만들 수 있는 배열의 두 숫자 인덱스를 리턴하라."
   ]
  },
  {
   "cell_type": "code",
   "execution_count": 2,
   "id": "b5aba0d2",
   "metadata": {
    "ExecuteTime": {
     "end_time": "2021-12-12T08:21:51.901145Z",
     "start_time": "2021-12-12T08:21:51.880069Z"
    }
   },
   "outputs": [],
   "source": [
    "nums = [2,7,11,15]\n",
    "target=9"
   ]
  },
  {
   "cell_type": "markdown",
   "id": "e84d1fd2",
   "metadata": {},
   "source": [
    "내 풀이"
   ]
  },
  {
   "cell_type": "code",
   "execution_count": 5,
   "id": "b560d490",
   "metadata": {
    "ExecuteTime": {
     "end_time": "2021-12-12T08:24:27.617547Z",
     "start_time": "2021-12-12T08:24:27.601589Z"
    }
   },
   "outputs": [
    {
     "name": "stdout",
     "output_type": "stream",
     "text": [
      "[0, 1]\n"
     ]
    }
   ],
   "source": [
    "for idx,num in enumerate(nums):\n",
    "    for idx2,num2 in enumerate(nums):\n",
    "        if num+num2==target:\n",
    "            if idx<idx2:\n",
    "                print([idx,idx2])"
   ]
  },
  {
   "cell_type": "markdown",
   "id": "a78aa1d0",
   "metadata": {},
   "source": [
    "책에서 나온 브루트포스 풀이법"
   ]
  },
  {
   "cell_type": "code",
   "execution_count": 16,
   "id": "6978f0da",
   "metadata": {
    "ExecuteTime": {
     "end_time": "2021-12-12T08:37:15.967699Z",
     "start_time": "2021-12-12T08:37:15.925290Z"
    }
   },
   "outputs": [
    {
     "data": {
      "text/plain": [
       "[0, 1]"
      ]
     },
     "execution_count": 16,
     "metadata": {},
     "output_type": "execute_result"
    }
   ],
   "source": [
    "def twosum(self, nums:int, target:int) -> int:\n",
    "    \n",
    "    for i in range(len(nums)):\n",
    "        for j in range(i+1, len(nums)): # 중복을 피하는 방법. 내 풀이에서는 if로 중복을 피했다.\n",
    "            if nums[i]+nums[j]==target:\n",
    "                return [i,j]\n",
    "            \n",
    "            \n",
    "twosum(twosum,nums,target)"
   ]
  },
  {
   "cell_type": "markdown",
   "id": "8201bcc9",
   "metadata": {},
   "source": [
    "지나치게 느리다. 시간복잡도 O(n^2) 5284밀리초"
   ]
  },
  {
   "cell_type": "markdown",
   "id": "54f84abb",
   "metadata": {},
   "source": [
    "개선된 풀이 - 조회 구조 개선"
   ]
  },
  {
   "cell_type": "code",
   "execution_count": 19,
   "id": "1721102e",
   "metadata": {
    "ExecuteTime": {
     "end_time": "2021-12-12T08:46:31.837358Z",
     "start_time": "2021-12-12T08:46:31.817868Z"
    }
   },
   "outputs": [],
   "source": [
    "def twoSum(self, nums: int , target:int) -> int:\n",
    "    \n",
    "    nums_map = {}\n",
    "    # 하나의 for 문으로 통합\n",
    "    \n",
    "    for i, num in enumerate(nums):\n",
    "        if target - num in nums_map:\n",
    "            return [nums_map[target-num],i]\n",
    "        nums_map[num]=i"
   ]
  },
  {
   "cell_type": "code",
   "execution_count": 20,
   "id": "ee0cdb79",
   "metadata": {
    "ExecuteTime": {
     "end_time": "2021-12-12T08:46:50.266902Z",
     "start_time": "2021-12-12T08:46:50.242928Z"
    }
   },
   "outputs": [
    {
     "data": {
      "text/plain": [
       "[0, 1]"
      ]
     },
     "execution_count": 20,
     "metadata": {},
     "output_type": "execute_result"
    }
   ],
   "source": [
    "twoSum(twoSum,nums,target)\n",
    "\n",
    "# 44밀리 O(1) 시간복잡도"
   ]
  },
  {
   "cell_type": "code",
   "execution_count": 21,
   "id": "686656c0",
   "metadata": {
    "ExecuteTime": {
     "end_time": "2021-12-12T09:11:37.452455Z",
     "start_time": "2021-12-12T09:11:37.440487Z"
    }
   },
   "outputs": [],
   "source": [
    "#이해하기 쉬운 풀이\n",
    "\n",
    "def two(self, nums:int, target:int)->int:\n",
    "    nums_map={}\n",
    "    \n",
    "    # 키와 값을 바꿔서 딕셔너리로 저장\n",
    "    \n",
    "    for i, num in enumerate(nums):\n",
    "        nums_map[num]=i\n",
    "        \n",
    "    # 타겟에서 첫 번째 수를 뺀 결과를 키로 조회\n",
    "    \n",
    "    for i, num in enumerate(nums):\n",
    "        if target - num in nums_map and i != nums_map[target-num]:\n",
    "            return [i, nums_map[target-num]]"
   ]
  },
  {
   "cell_type": "code",
   "execution_count": 29,
   "id": "e2ce8ea0",
   "metadata": {
    "ExecuteTime": {
     "end_time": "2021-12-12T09:13:05.376000Z",
     "start_time": "2021-12-12T09:13:05.366027Z"
    }
   },
   "outputs": [],
   "source": [
    "nums=[2,7,11,15]"
   ]
  },
  {
   "cell_type": "code",
   "execution_count": 30,
   "id": "5f9976b9",
   "metadata": {
    "ExecuteTime": {
     "end_time": "2021-12-12T09:13:05.597729Z",
     "start_time": "2021-12-12T09:13:05.584297Z"
    }
   },
   "outputs": [
    {
     "data": {
      "text/plain": [
       "[0, 1]"
      ]
     },
     "execution_count": 30,
     "metadata": {},
     "output_type": "execute_result"
    }
   ],
   "source": [
    "two(two,nums,target)"
   ]
  }
 ],
 "metadata": {
  "hide_input": false,
  "kernelspec": {
   "display_name": "Python 3 (ipykernel)",
   "language": "python",
   "name": "python3"
  },
  "language_info": {
   "codemirror_mode": {
    "name": "ipython",
    "version": 3
   },
   "file_extension": ".py",
   "mimetype": "text/x-python",
   "name": "python",
   "nbconvert_exporter": "python",
   "pygments_lexer": "ipython3",
   "version": "3.8.11"
  },
  "toc": {
   "base_numbering": 1,
   "nav_menu": {},
   "number_sections": true,
   "sideBar": true,
   "skip_h1_title": false,
   "title_cell": "Table of Contents",
   "title_sidebar": "Contents",
   "toc_cell": false,
   "toc_position": {},
   "toc_section_display": true,
   "toc_window_display": false
  }
 },
 "nbformat": 4,
 "nbformat_minor": 5
}
