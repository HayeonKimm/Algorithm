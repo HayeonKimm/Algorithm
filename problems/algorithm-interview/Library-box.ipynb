{
 "cells": [
  {
   "cell_type": "markdown",
   "id": "c2e97c13",
   "metadata": {},
   "source": [
    "### 두 수의 합 (1.Two Sum)\n",
    "\n",
    "덧셈하여 타겟을 만들 수 있는 배열의 두 숫자 인덱스를 리턴하라."
   ]
  },
  {
   "cell_type": "code",
   "execution_count": 2,
   "id": "b5aba0d2",
   "metadata": {
    "ExecuteTime": {
     "end_time": "2021-12-12T08:21:51.901145Z",
     "start_time": "2021-12-12T08:21:51.880069Z"
    }
   },
   "outputs": [],
   "source": [
    "nums = [2,7,11,15]\n",
    "target=9"
   ]
  },
  {
   "cell_type": "markdown",
   "id": "e84d1fd2",
   "metadata": {},
   "source": [
    "내 풀이"
   ]
  },
  {
   "cell_type": "code",
   "execution_count": 5,
   "id": "b560d490",
   "metadata": {
    "ExecuteTime": {
     "end_time": "2021-12-12T08:24:27.617547Z",
     "start_time": "2021-12-12T08:24:27.601589Z"
    }
   },
   "outputs": [
    {
     "name": "stdout",
     "output_type": "stream",
     "text": [
      "[0, 1]\n"
     ]
    }
   ],
   "source": [
    "for idx,num in enumerate(nums):\n",
    "    for idx2,num2 in enumerate(nums):\n",
    "        if num+num2==target:\n",
    "            if idx<idx2:\n",
    "                print([idx,idx2])"
   ]
  },
  {
   "cell_type": "markdown",
   "id": "a78aa1d0",
   "metadata": {},
   "source": [
    "책에서 나온 브루트포스 풀이법"
   ]
  },
  {
   "cell_type": "code",
   "execution_count": 16,
   "id": "6978f0da",
   "metadata": {
    "ExecuteTime": {
     "end_time": "2021-12-12T08:37:15.967699Z",
     "start_time": "2021-12-12T08:37:15.925290Z"
    }
   },
   "outputs": [
    {
     "data": {
      "text/plain": [
       "[0, 1]"
      ]
     },
     "execution_count": 16,
     "metadata": {},
     "output_type": "execute_result"
    }
   ],
   "source": [
    "def twosum(self, nums:int, target:int) -> int:\n",
    "    \n",
    "    for i in range(len(nums)):\n",
    "        for j in range(i+1, len(nums)): # 중복을 피하는 방법. 내 풀이에서는 if로 중복을 피했다.\n",
    "            if nums[i]+nums[j]==target:\n",
    "                return [i,j]\n",
    "            \n",
    "            \n",
    "twosum(twosum,nums,target)"
   ]
  },
  {
   "cell_type": "markdown",
   "id": "8201bcc9",
   "metadata": {},
   "source": [
    "지나치게 느리다. 시간복잡도 O(n^2) 5284밀리초"
   ]
  },
  {
   "cell_type": "markdown",
   "id": "54f84abb",
   "metadata": {},
   "source": [
    "개선된 풀이 - 조회 구조 개선"
   ]
  },
  {
   "cell_type": "code",
   "execution_count": 19,
   "id": "1721102e",
   "metadata": {
    "ExecuteTime": {
     "end_time": "2021-12-12T08:46:31.837358Z",
     "start_time": "2021-12-12T08:46:31.817868Z"
    }
   },
   "outputs": [],
   "source": [
    "def twoSum(self, nums: int , target:int) -> int:\n",
    "    \n",
    "    nums_map = {}\n",
    "    # 하나의 for 문으로 통합\n",
    "    \n",
    "    for i, num in enumerate(nums):\n",
    "        if target - num in nums_map:\n",
    "            return [nums_map[target-num],i]\n",
    "        nums_map[num]=i"
   ]
  },
  {
   "cell_type": "code",
   "execution_count": 20,
   "id": "ee0cdb79",
   "metadata": {
    "ExecuteTime": {
     "end_time": "2021-12-12T08:46:50.266902Z",
     "start_time": "2021-12-12T08:46:50.242928Z"
    }
   },
   "outputs": [
    {
     "data": {
      "text/plain": [
       "[0, 1]"
      ]
     },
     "execution_count": 20,
     "metadata": {},
     "output_type": "execute_result"
    }
   ],
   "source": [
    "twoSum(twoSum,nums,target)\n",
    "\n",
    "# 44밀리 O(1) 시간복잡도"
   ]
  },
  {
   "cell_type": "code",
   "execution_count": 21,
   "id": "686656c0",
   "metadata": {
    "ExecuteTime": {
     "end_time": "2021-12-12T09:11:37.452455Z",
     "start_time": "2021-12-12T09:11:37.440487Z"
    }
   },
   "outputs": [],
   "source": [
    "#이해하기 쉬운 풀이\n",
    "\n",
    "def two(self, nums:int, target:int)->int:\n",
    "    nums_map={}\n",
    "    \n",
    "    # 키와 값을 바꿔서 딕셔너리로 저장\n",
    "    \n",
    "    for i, num in enumerate(nums):\n",
    "        nums_map[num]=i\n",
    "        \n",
    "    # 타겟에서 첫 번째 수를 뺀 결과를 키로 조회\n",
    "    \n",
    "    for i, num in enumerate(nums):\n",
    "        if target - num in nums_map and i != nums_map[target-num]:\n",
    "            return [i, nums_map[target-num]]"
   ]
  },
  {
   "cell_type": "code",
   "execution_count": 29,
   "id": "e2ce8ea0",
   "metadata": {
    "ExecuteTime": {
     "end_time": "2021-12-12T09:13:05.376000Z",
     "start_time": "2021-12-12T09:13:05.366027Z"
    }
   },
   "outputs": [],
   "source": [
    "nums=[2,7,11,15]"
   ]
  },
  {
   "cell_type": "code",
   "execution_count": 30,
   "id": "5f9976b9",
   "metadata": {
    "ExecuteTime": {
     "end_time": "2021-12-12T09:13:05.597729Z",
     "start_time": "2021-12-12T09:13:05.584297Z"
    },
    "scrolled": true
   },
   "outputs": [
    {
     "data": {
      "text/plain": [
       "[0, 1]"
      ]
     },
     "execution_count": 30,
     "metadata": {},
     "output_type": "execute_result"
    }
   ],
   "source": [
    "two(two,nums,target)"
   ]
  },
  {
   "cell_type": "markdown",
   "id": "56ff438f",
   "metadata": {},
   "source": [
    "### 세 수의 합 184p"
   ]
  },
  {
   "cell_type": "markdown",
   "id": "5eeda215",
   "metadata": {},
   "source": [
    "배열을 입력받아 합으로 0을 만들 수 있는 3개의 엘리먼트를 출력하라"
   ]
  },
  {
   "cell_type": "code",
   "execution_count": 2,
   "id": "bb9f7beb",
   "metadata": {
    "ExecuteTime": {
     "end_time": "2021-12-12T09:30:16.538009Z",
     "start_time": "2021-12-12T09:30:16.526096Z"
    }
   },
   "outputs": [],
   "source": [
    "nums= [-1,0,1,2,-1,-4]"
   ]
  },
  {
   "cell_type": "code",
   "execution_count": null,
   "id": "a389fcbe",
   "metadata": {},
   "outputs": [],
   "source": [
    "# 풀이 : 투 포인터로 합 계산\n",
    "    \n",
    "def threeSum(self, nums:int)->int:\n",
    "    \n",
    "    result=[]\n",
    "    nums.sort()\n",
    "    \n",
    "    for i in range(len(nums)-2):\n",
    "        \n",
    "        # 중복된 값 건너뛰기\n",
    "        \n",
    "        if i>0 and nums[i] == nums[i-1]:\n",
    "            continue\n",
    "            \n",
    "        # 간격을 좁혀가면서 sum 계산\n",
    "        \n",
    "        left, right = i+1, len(nums) -1 \n",
    "        \n",
    "        while left<right:\n",
    "            sum= nums[i]+nums[left]+nums[right]\n",
    "            \n",
    "            if sum<0:\n",
    "                left+=1\n",
    "                \n",
    "            elif sum>0:\n",
    "                right-=1\n",
    "            else:\n",
    "                \n",
    "                # sum =0인 경우이므로 정답 및 스킵 처리\n",
    "                \n",
    "            results.append([nums[i], nums[left], nums[right]])\n",
    "            \n",
    "            while left < right and nums[left] == nums[left+1]:\n",
    "                left+=1\n",
    "            while left < right and nums[right] == nums[right-1]:\n",
    "                right-=1\n",
    "                \n",
    "            left+=1\n",
    "            right-=1\n",
    "            \n",
    "        return results"
   ]
  },
  {
   "cell_type": "markdown",
   "id": "87547746",
   "metadata": {},
   "source": [
    "### 유효한 팰린드롬 (138p)"
   ]
  },
  {
   "cell_type": "markdown",
   "id": "e3530d8a",
   "metadata": {},
   "source": [
    "주어진 문자열이 팰린드롬인지 확인하라. 대소문자를 구분하지 않으며, 영문자와 숫자만을 대상으로 한다."
   ]
  },
  {
   "cell_type": "markdown",
   "id": "a21f931a",
   "metadata": {},
   "source": [
    "input : \"A man, a plan, a canal: Panama\"   \n",
    "output : true"
   ]
  },
  {
   "cell_type": "code",
   "execution_count": 1,
   "id": "c77b7e72",
   "metadata": {
    "ExecuteTime": {
     "end_time": "2021-12-12T12:17:07.424595Z",
     "start_time": "2021-12-12T12:17:07.411629Z"
    }
   },
   "outputs": [],
   "source": [
    "s=\"A man, a plan, a canal: Panama\"  "
   ]
  },
  {
   "cell_type": "code",
   "execution_count": 2,
   "id": "037f016e",
   "metadata": {
    "ExecuteTime": {
     "end_time": "2021-12-12T12:17:13.631952Z",
     "start_time": "2021-12-12T12:17:13.610011Z"
    }
   },
   "outputs": [
    {
     "name": "stdout",
     "output_type": "stream",
     "text": [
      "['a', 'm', 'a', 'n', 'a', 'p', 'l', 'a', 'n', 'a', 'c', 'a', 'n', 'a', 'l', 'p', 'a', 'n', 'a', 'm', 'a']\n"
     ]
    }
   ],
   "source": [
    "# 풀이 1 리스트로 변환\n",
    "\n",
    "strs=[]\n",
    "for char in s:\n",
    "    if char.isalnum():\n",
    "        strs.append(char.lower())\n",
    "        \n",
    "print(strs)"
   ]
  },
  {
   "cell_type": "markdown",
   "id": "563e0e06",
   "metadata": {
    "ExecuteTime": {
     "end_time": "2021-12-12T12:17:49.559328Z",
     "start_time": "2021-12-12T12:17:49.544366Z"
    }
   },
   "source": [
    "이제 다음과 같이 팰린드롬 여부를 판별해보자."
   ]
  },
  {
   "cell_type": "code",
   "execution_count": 5,
   "id": "7bab064a",
   "metadata": {
    "ExecuteTime": {
     "end_time": "2021-12-12T12:20:17.735336Z",
     "start_time": "2021-12-12T12:20:17.714390Z"
    }
   },
   "outputs": [],
   "source": [
    "while len(strs)>1:\n",
    "    if strs.pop(0) != strs.pop():\n",
    "        return False\n",
    "    \n",
    "return True"
   ]
  },
  {
   "cell_type": "code",
   "execution_count": 9,
   "id": "663f92c3",
   "metadata": {
    "ExecuteTime": {
     "end_time": "2021-12-12T12:21:45.709677Z",
     "start_time": "2021-12-12T12:21:45.676779Z"
    }
   },
   "outputs": [
    {
     "data": {
      "text/plain": [
       "True"
      ]
     },
     "execution_count": 9,
     "metadata": {},
     "output_type": "execute_result"
    }
   ],
   "source": [
    "# 풀이 1 리스트로 변환 O(n^2)\n",
    "\n",
    "def isPaildrome(s: str)->bool:\n",
    "\n",
    "    strs=[]\n",
    "    for char in s:\n",
    "        if char.isalnum():\n",
    "            strs.append(char.lower())\n",
    "\n",
    "#     print(strs)\n",
    "\n",
    "    while len(strs)>1:\n",
    "        if strs.pop(0) != strs.pop():\n",
    "            return False\n",
    "\n",
    "    return True\n",
    "\n",
    "\n",
    "isPaildrome(s)"
   ]
  },
  {
   "cell_type": "markdown",
   "id": "9d5d01d9",
   "metadata": {},
   "source": [
    "데크 자료형을 이용한 최적화 O(n)"
   ]
  },
  {
   "cell_type": "code",
   "execution_count": 14,
   "id": "c1356889",
   "metadata": {
    "ExecuteTime": {
     "end_time": "2021-12-12T12:26:05.695369Z",
     "start_time": "2021-12-12T12:26:05.665918Z"
    }
   },
   "outputs": [
    {
     "data": {
      "text/plain": [
       "True"
      ]
     },
     "execution_count": 14,
     "metadata": {},
     "output_type": "execute_result"
    }
   ],
   "source": [
    "from collections import deque\n",
    "\n",
    "def isPaildrome2(s:str) -> bool:\n",
    "    \n",
    "    # 자료형 데크로 선언\n",
    "    strs: Deque = deque()\n",
    "        \n",
    "    for char in s:\n",
    "        if char.isalnum():\n",
    "            strs.append(char.lower())\n",
    "            \n",
    "    while len(strs)>1:\n",
    "        if strs.popleft()!=strs.pop():\n",
    "            return False\n",
    "            \n",
    "    return True\n",
    "\n",
    "\n",
    "isPaildrome2(s)"
   ]
  },
  {
   "cell_type": "code",
   "execution_count": null,
   "id": "7f5d3d36",
   "metadata": {},
   "outputs": [],
   "source": []
  }
 ],
 "metadata": {
  "hide_input": false,
  "kernelspec": {
   "display_name": "Python 3 (ipykernel)",
   "language": "python",
   "name": "python3"
  },
  "language_info": {
   "codemirror_mode": {
    "name": "ipython",
    "version": 3
   },
   "file_extension": ".py",
   "mimetype": "text/x-python",
   "name": "python",
   "nbconvert_exporter": "python",
   "pygments_lexer": "ipython3",
   "version": "3.8.11"
  },
  "toc": {
   "base_numbering": 1,
   "nav_menu": {},
   "number_sections": true,
   "sideBar": true,
   "skip_h1_title": false,
   "title_cell": "Table of Contents",
   "title_sidebar": "Contents",
   "toc_cell": false,
   "toc_position": {},
   "toc_section_display": true,
   "toc_window_display": false
  }
 },
 "nbformat": 4,
 "nbformat_minor": 5
}
