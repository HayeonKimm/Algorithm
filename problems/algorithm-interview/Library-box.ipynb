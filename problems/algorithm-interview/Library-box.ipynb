{
 "cells": [
  {
   "cell_type": "markdown",
   "id": "c2e97c13",
   "metadata": {},
   "source": [
    "### 두 수의 합 (1.Two Sum)\n",
    "\n",
    "덧셈하여 타겟을 만들 수 있는 배열의 두 숫자 인덱스를 리턴하라."
   ]
  },
  {
   "cell_type": "code",
   "execution_count": 2,
   "id": "b5aba0d2",
   "metadata": {
    "ExecuteTime": {
     "end_time": "2021-12-12T08:21:51.901145Z",
     "start_time": "2021-12-12T08:21:51.880069Z"
    }
   },
   "outputs": [],
   "source": [
    "nums = [2,7,11,15]\n",
    "target=9"
   ]
  },
  {
   "cell_type": "markdown",
   "id": "e84d1fd2",
   "metadata": {},
   "source": [
    "내 풀이"
   ]
  },
  {
   "cell_type": "code",
   "execution_count": 5,
   "id": "b560d490",
   "metadata": {
    "ExecuteTime": {
     "end_time": "2021-12-12T08:24:27.617547Z",
     "start_time": "2021-12-12T08:24:27.601589Z"
    }
   },
   "outputs": [
    {
     "name": "stdout",
     "output_type": "stream",
     "text": [
      "[0, 1]\n"
     ]
    }
   ],
   "source": [
    "for idx,num in enumerate(nums):\n",
    "    for idx2,num2 in enumerate(nums):\n",
    "        if num+num2==target:\n",
    "            if idx<idx2:\n",
    "                print([idx,idx2])"
   ]
  },
  {
   "cell_type": "markdown",
   "id": "a78aa1d0",
   "metadata": {},
   "source": [
    "책에서 나온 브루트포스 풀이법"
   ]
  },
  {
   "cell_type": "code",
   "execution_count": 16,
   "id": "6978f0da",
   "metadata": {
    "ExecuteTime": {
     "end_time": "2021-12-12T08:37:15.967699Z",
     "start_time": "2021-12-12T08:37:15.925290Z"
    }
   },
   "outputs": [
    {
     "data": {
      "text/plain": [
       "[0, 1]"
      ]
     },
     "execution_count": 16,
     "metadata": {},
     "output_type": "execute_result"
    }
   ],
   "source": [
    "def twosum(self, nums:int, target:int) -> int:\n",
    "    \n",
    "    for i in range(len(nums)):\n",
    "        for j in range(i+1, len(nums)): # 중복을 피하는 방법. 내 풀이에서는 if로 중복을 피했다.\n",
    "            if nums[i]+nums[j]==target:\n",
    "                return [i,j]\n",
    "            \n",
    "            \n",
    "twosum(twosum,nums,target)"
   ]
  },
  {
   "cell_type": "markdown",
   "id": "8201bcc9",
   "metadata": {},
   "source": [
    "지나치게 느리다. 시간복잡도 O(n^2) 5284밀리초"
   ]
  },
  {
   "cell_type": "markdown",
   "id": "54f84abb",
   "metadata": {},
   "source": [
    "개선된 풀이 - 조회 구조 개선"
   ]
  },
  {
   "cell_type": "code",
   "execution_count": 19,
   "id": "1721102e",
   "metadata": {
    "ExecuteTime": {
     "end_time": "2021-12-12T08:46:31.837358Z",
     "start_time": "2021-12-12T08:46:31.817868Z"
    }
   },
   "outputs": [],
   "source": [
    "def twoSum(self, nums: int , target:int) -> int:\n",
    "    \n",
    "    nums_map = {}\n",
    "    # 하나의 for 문으로 통합\n",
    "    \n",
    "    for i, num in enumerate(nums):\n",
    "        if target - num in nums_map:\n",
    "            return [nums_map[target-num],i]\n",
    "        nums_map[num]=i"
   ]
  },
  {
   "cell_type": "code",
   "execution_count": 20,
   "id": "ee0cdb79",
   "metadata": {
    "ExecuteTime": {
     "end_time": "2021-12-12T08:46:50.266902Z",
     "start_time": "2021-12-12T08:46:50.242928Z"
    }
   },
   "outputs": [
    {
     "data": {
      "text/plain": [
       "[0, 1]"
      ]
     },
     "execution_count": 20,
     "metadata": {},
     "output_type": "execute_result"
    }
   ],
   "source": [
    "twoSum(twoSum,nums,target)\n",
    "\n",
    "# 44밀리 O(1) 시간복잡도"
   ]
  },
  {
   "cell_type": "code",
   "execution_count": 21,
   "id": "686656c0",
   "metadata": {
    "ExecuteTime": {
     "end_time": "2021-12-12T09:11:37.452455Z",
     "start_time": "2021-12-12T09:11:37.440487Z"
    }
   },
   "outputs": [],
   "source": [
    "#이해하기 쉬운 풀이\n",
    "\n",
    "def two(self, nums:int, target:int)->int:\n",
    "    nums_map={}\n",
    "    \n",
    "    # 키와 값을 바꿔서 딕셔너리로 저장\n",
    "    \n",
    "    for i, num in enumerate(nums):\n",
    "        nums_map[num]=i\n",
    "        \n",
    "    # 타겟에서 첫 번째 수를 뺀 결과를 키로 조회\n",
    "    \n",
    "    for i, num in enumerate(nums):\n",
    "        if target - num in nums_map and i != nums_map[target-num]:\n",
    "            return [i, nums_map[target-num]]"
   ]
  },
  {
   "cell_type": "code",
   "execution_count": 29,
   "id": "e2ce8ea0",
   "metadata": {
    "ExecuteTime": {
     "end_time": "2021-12-12T09:13:05.376000Z",
     "start_time": "2021-12-12T09:13:05.366027Z"
    }
   },
   "outputs": [],
   "source": [
    "nums=[2,7,11,15]"
   ]
  },
  {
   "cell_type": "code",
   "execution_count": 30,
   "id": "5f9976b9",
   "metadata": {
    "ExecuteTime": {
     "end_time": "2021-12-12T09:13:05.597729Z",
     "start_time": "2021-12-12T09:13:05.584297Z"
    },
    "scrolled": true
   },
   "outputs": [
    {
     "data": {
      "text/plain": [
       "[0, 1]"
      ]
     },
     "execution_count": 30,
     "metadata": {},
     "output_type": "execute_result"
    }
   ],
   "source": [
    "two(two,nums,target)"
   ]
  },
  {
   "cell_type": "markdown",
   "id": "56ff438f",
   "metadata": {},
   "source": [
    "### 세 수의 합 184p"
   ]
  },
  {
   "cell_type": "markdown",
   "id": "5eeda215",
   "metadata": {},
   "source": [
    "배열을 입력받아 합으로 0을 만들 수 있는 3개의 엘리먼트를 출력하라"
   ]
  },
  {
   "cell_type": "code",
   "execution_count": 2,
   "id": "bb9f7beb",
   "metadata": {
    "ExecuteTime": {
     "end_time": "2021-12-12T09:30:16.538009Z",
     "start_time": "2021-12-12T09:30:16.526096Z"
    }
   },
   "outputs": [],
   "source": [
    "nums= [-1,0,1,2,-1,-4]"
   ]
  },
  {
   "cell_type": "code",
   "execution_count": null,
   "id": "a389fcbe",
   "metadata": {},
   "outputs": [],
   "source": [
    "# 풀이 : 투 포인터로 합 계산\n",
    "    \n",
    "def threeSum(self, nums:int)->int:\n",
    "    \n",
    "    result=[]\n",
    "    nums.sort()\n",
    "    \n",
    "    for i in range(len(nums)-2):\n",
    "        \n",
    "        # 중복된 값 건너뛰기\n",
    "        \n",
    "        if i>0 and nums[i] == nums[i-1]:\n",
    "            continue\n",
    "            \n",
    "        # 간격을 좁혀가면서 sum 계산\n",
    "        \n",
    "        left, right = i+1, len(nums) -1 \n",
    "        \n",
    "        while left<right:\n",
    "            sum= nums[i]+nums[left]+nums[right]\n",
    "            \n",
    "            if sum<0:\n",
    "                left+=1\n",
    "                \n",
    "            elif sum>0:\n",
    "                right-=1\n",
    "            else:\n",
    "                \n",
    "                # sum =0인 경우이므로 정답 및 스킵 처리\n",
    "                \n",
    "            results.append([nums[i], nums[left], nums[right]])\n",
    "            \n",
    "            while left < right and nums[left] == nums[left+1]:\n",
    "                left+=1\n",
    "            while left < right and nums[right] == nums[right-1]:\n",
    "                right-=1\n",
    "                \n",
    "            left+=1\n",
    "            right-=1\n",
    "            \n",
    "        return results"
   ]
  },
  {
   "cell_type": "markdown",
   "id": "87547746",
   "metadata": {},
   "source": [
    "### 유효한 팰린드롬 (138p)"
   ]
  },
  {
   "cell_type": "markdown",
   "id": "e3530d8a",
   "metadata": {},
   "source": [
    "주어진 문자열이 팰린드롬인지 확인하라. 대소문자를 구분하지 않으며, 영문자와 숫자만을 대상으로 한다."
   ]
  },
  {
   "cell_type": "markdown",
   "id": "a21f931a",
   "metadata": {},
   "source": [
    "input : \"A man, a plan, a canal: Panama\"   \n",
    "output : true"
   ]
  },
  {
   "cell_type": "code",
   "execution_count": 1,
   "id": "c77b7e72",
   "metadata": {
    "ExecuteTime": {
     "end_time": "2021-12-12T12:17:07.424595Z",
     "start_time": "2021-12-12T12:17:07.411629Z"
    }
   },
   "outputs": [],
   "source": [
    "s=\"A man, a plan, a canal: Panama\"  "
   ]
  },
  {
   "cell_type": "code",
   "execution_count": 2,
   "id": "037f016e",
   "metadata": {
    "ExecuteTime": {
     "end_time": "2021-12-12T12:17:13.631952Z",
     "start_time": "2021-12-12T12:17:13.610011Z"
    }
   },
   "outputs": [
    {
     "name": "stdout",
     "output_type": "stream",
     "text": [
      "['a', 'm', 'a', 'n', 'a', 'p', 'l', 'a', 'n', 'a', 'c', 'a', 'n', 'a', 'l', 'p', 'a', 'n', 'a', 'm', 'a']\n"
     ]
    }
   ],
   "source": [
    "# 풀이 1 리스트로 변환\n",
    "\n",
    "strs=[]\n",
    "for char in s:\n",
    "    if char.isalnum():\n",
    "        strs.append(char.lower())\n",
    "        \n",
    "print(strs)"
   ]
  },
  {
   "cell_type": "markdown",
   "id": "563e0e06",
   "metadata": {
    "ExecuteTime": {
     "end_time": "2021-12-12T12:17:49.559328Z",
     "start_time": "2021-12-12T12:17:49.544366Z"
    }
   },
   "source": [
    "이제 다음과 같이 팰린드롬 여부를 판별해보자."
   ]
  },
  {
   "cell_type": "code",
   "execution_count": 5,
   "id": "7bab064a",
   "metadata": {
    "ExecuteTime": {
     "end_time": "2021-12-12T12:20:17.735336Z",
     "start_time": "2021-12-12T12:20:17.714390Z"
    }
   },
   "outputs": [],
   "source": [
    "while len(strs)>1:\n",
    "    if strs.pop(0) != strs.pop():\n",
    "        return False\n",
    "    \n",
    "return True"
   ]
  },
  {
   "cell_type": "code",
   "execution_count": 9,
   "id": "663f92c3",
   "metadata": {
    "ExecuteTime": {
     "end_time": "2021-12-12T12:21:45.709677Z",
     "start_time": "2021-12-12T12:21:45.676779Z"
    }
   },
   "outputs": [
    {
     "data": {
      "text/plain": [
       "True"
      ]
     },
     "execution_count": 9,
     "metadata": {},
     "output_type": "execute_result"
    }
   ],
   "source": [
    "# 풀이 1 리스트로 변환 O(n^2)\n",
    "\n",
    "def isPaildrome(s: str)->bool:\n",
    "\n",
    "    strs=[]\n",
    "    for char in s:\n",
    "        if char.isalnum():\n",
    "            strs.append(char.lower())\n",
    "\n",
    "#     print(strs)\n",
    "\n",
    "    while len(strs)>1:\n",
    "        if strs.pop(0) != strs.pop():\n",
    "            return False\n",
    "\n",
    "    return True\n",
    "\n",
    "\n",
    "isPaildrome(s)"
   ]
  },
  {
   "cell_type": "markdown",
   "id": "9d5d01d9",
   "metadata": {},
   "source": [
    "데크 자료형을 이용한 최적화 O(n)"
   ]
  },
  {
   "cell_type": "code",
   "execution_count": 14,
   "id": "c1356889",
   "metadata": {
    "ExecuteTime": {
     "end_time": "2021-12-12T12:26:05.695369Z",
     "start_time": "2021-12-12T12:26:05.665918Z"
    }
   },
   "outputs": [
    {
     "data": {
      "text/plain": [
       "True"
      ]
     },
     "execution_count": 14,
     "metadata": {},
     "output_type": "execute_result"
    }
   ],
   "source": [
    "from collections import deque\n",
    "\n",
    "def isPaildrome2(s:str) -> bool:\n",
    "    \n",
    "    # 자료형 데크로 선언\n",
    "    strs: Deque = deque()\n",
    "        \n",
    "    for char in s:\n",
    "        if char.isalnum():\n",
    "            strs.append(char.lower())\n",
    "            \n",
    "    while len(strs)>1:\n",
    "        if strs.popleft()!=strs.pop():\n",
    "            return False\n",
    "            \n",
    "    return True\n",
    "\n",
    "\n",
    "isPaildrome2(s)"
   ]
  },
  {
   "cell_type": "markdown",
   "id": "194a6149",
   "metadata": {},
   "source": [
    "### 문자열 뒤집기"
   ]
  },
  {
   "cell_type": "markdown",
   "id": "9167290a",
   "metadata": {},
   "source": [
    "입력 : ['h','e','l','l','o']   \n",
    "출력 : ['o','l','l','e','h']"
   ]
  },
  {
   "cell_type": "code",
   "execution_count": 42,
   "id": "5e23ab46",
   "metadata": {
    "ExecuteTime": {
     "end_time": "2021-12-12T12:59:14.831030Z",
     "start_time": "2021-12-12T12:59:14.813595Z"
    }
   },
   "outputs": [],
   "source": [
    "s=['h','e','l','l','o']"
   ]
  },
  {
   "cell_type": "code",
   "execution_count": 51,
   "id": "1123b5df",
   "metadata": {
    "ExecuteTime": {
     "end_time": "2021-12-12T13:05:09.624340Z",
     "start_time": "2021-12-12T13:05:09.603433Z"
    }
   },
   "outputs": [
    {
     "data": {
      "text/plain": [
       "['o', 'l', 'l', 'e', 'h']"
      ]
     },
     "execution_count": 51,
     "metadata": {},
     "output_type": "execute_result"
    }
   ],
   "source": [
    "# 간단한 방식\n",
    "#s=s[::-1]\n",
    "\n",
    "# 투 포인터\n",
    "\n",
    "def reverseString(s:str)->str:\n",
    "    \n",
    "    left,right =0, len(s)-1\n",
    "    \n",
    "    while left<right:\n",
    "        \n",
    "        s[left], s[right] = s[right], s[left]\n",
    "        left+=1\n",
    "        right-=1\n",
    "        \n",
    "    return s\n",
    "        \n",
    "        \n",
    "reverseString(s)"
   ]
  },
  {
   "cell_type": "markdown",
   "id": "075c26a0",
   "metadata": {
    "ExecuteTime": {
     "end_time": "2021-12-12T12:59:06.578573Z",
     "start_time": "2021-12-12T12:59:06.555539Z"
    }
   },
   "source": [
    "### 로그파일 재정렬 \n",
    "148p"
   ]
  },
  {
   "cell_type": "markdown",
   "id": "fb03e5fa",
   "metadata": {
    "ExecuteTime": {
     "end_time": "2021-12-12T13:07:54.631707Z",
     "start_time": "2021-12-12T13:07:54.614214Z"
    }
   },
   "source": [
    "정렬기준\n",
    "\n",
    "1. 로그의 가장 앞 부분은 식별자다.\n",
    "2. 문자로 구성된 로그가 숫자 로그보다 앞에 온다.\n",
    "3. 식별자는 순서에 영향을 끼치지 않지만, 문자가 동일할 경우 식별자 순으로 한다.\n",
    "4. 숫자 로그는 입력 순서대로 한다."
   ]
  },
  {
   "cell_type": "code",
   "execution_count": 60,
   "id": "97932a88",
   "metadata": {
    "ExecuteTime": {
     "end_time": "2021-12-12T13:10:34.581195Z",
     "start_time": "2021-12-12T13:10:34.564176Z"
    }
   },
   "outputs": [],
   "source": [
    "logs = ['dig1 8 1 5 1','let1 art can','dig2 3 6','let2 own kit dig','let3 art zero']"
   ]
  },
  {
   "cell_type": "code",
   "execution_count": 61,
   "id": "7453327c",
   "metadata": {
    "ExecuteTime": {
     "end_time": "2021-12-12T13:17:01.792703Z",
     "start_time": "2021-12-12T13:17:01.773640Z"
    }
   },
   "outputs": [],
   "source": [
    "def reorderLogFiles(logs:str) -> str:\n",
    "    \n",
    "    letters, digits =[],[]\n",
    "    \n",
    "    for log in logs:\n",
    "        if log.split()[1].isdigit():\n",
    "            digits.append(log)\n",
    "            \n",
    "        else:\n",
    "            letters.append(log)\n",
    "            \n",
    "    # 2개의 키를 람다 표현식으로 정렬\n",
    "    \n",
    "    letters.sort(key=lambda x: (x.split()[1:],x.split()[0]))\n",
    "    return letters+digits"
   ]
  },
  {
   "cell_type": "code",
   "execution_count": 63,
   "id": "f11149f7",
   "metadata": {
    "ExecuteTime": {
     "end_time": "2021-12-12T13:17:57.035700Z",
     "start_time": "2021-12-12T13:17:57.020739Z"
    }
   },
   "outputs": [
    {
     "name": "stdout",
     "output_type": "stream",
     "text": [
      "let1 art canlet3 art zerolet2 own kit digdig1 8 1 5 1dig2 3 6"
     ]
    }
   ],
   "source": [
    "reorderLogFiles(logs)\n",
    "\n",
    "for i in reorderLogFiles(logs):\n",
    "    print(i,end='')"
   ]
  },
  {
   "cell_type": "markdown",
   "id": "de588c11",
   "metadata": {},
   "source": [
    "### 가장 흔한 단어\n",
    "\n",
    "819p"
   ]
  },
  {
   "cell_type": "markdown",
   "id": "89f419ba",
   "metadata": {},
   "source": [
    "금지된 단어를 제외한 가장 흔하게 등장하는 단어를 출력하라. 대소문자 구분을 하지 않으며, 구두점(마침표,쉼표 등) 또한 무시한다."
   ]
  },
  {
   "cell_type": "code",
   "execution_count": 64,
   "id": "7d85a0cc",
   "metadata": {
    "ExecuteTime": {
     "end_time": "2021-12-12T13:19:41.301980Z",
     "start_time": "2021-12-12T13:19:41.294001Z"
    }
   },
   "outputs": [],
   "source": [
    "#입력\n",
    "\n",
    "paragraph='Bob hit a ball, the hit BALL flew far after it was hit'\n",
    "banned = ['hit']"
   ]
  },
  {
   "cell_type": "code",
   "execution_count": 71,
   "id": "91ab136b",
   "metadata": {
    "ExecuteTime": {
     "end_time": "2021-12-12T14:50:01.106775Z",
     "start_time": "2021-12-12T14:50:01.074833Z"
    }
   },
   "outputs": [
    {
     "data": {
      "text/plain": [
       "'ball'"
      ]
     },
     "execution_count": 71,
     "metadata": {},
     "output_type": "execute_result"
    }
   ],
   "source": [
    "# 풀이\n",
    "#입력값에는 대소문자가 섞여 있으며, 쉼표 등 구두점이 존재한다.\n",
    "#따라서 데이터 클렌징(Data Cleansing)이라 부르는 입력값에 대한 전처리 작업이 필요하다.\n",
    "\n",
    "def words(s:str)->str:\n",
    "    import re\n",
    "    import collections\n",
    "\n",
    "    word = [word for word in re.sub(r'[^\\w]',' ',paragraph)  # 단어 문자가 아닌 모든 문자를 공백으로 치환\n",
    "            .lower().split()\n",
    "            if word not in banned]\n",
    "\n",
    "    counts = collections.Counter(word)\n",
    "\n",
    "    # 가장 흔하게 등장하는 단어의 첫 번째 인덱스 리턴\n",
    "\n",
    "    return (counts.most_common(1)[0][0])\n",
    "\n",
    "words(s)"
   ]
  },
  {
   "cell_type": "markdown",
   "id": "f6fac7e6",
   "metadata": {},
   "source": [
    "### 그룹 애너그램\n",
    "\n",
    "153p"
   ]
  },
  {
   "cell_type": "markdown",
   "id": "d71549e1",
   "metadata": {},
   "source": [
    "애너그램 푸는 법:   \n",
    "    1.정렬\n",
    "    2.비교"
   ]
  },
  {
   "cell_type": "code",
   "execution_count": 74,
   "id": "44989513",
   "metadata": {
    "ExecuteTime": {
     "end_time": "2021-12-12T14:59:44.500538Z",
     "start_time": "2021-12-12T14:59:44.482585Z"
    }
   },
   "outputs": [],
   "source": [
    "s=['eat','tea','tan','ate','nat','bat']\n",
    "\n",
    "from collections import defaultdict\n",
    "def groupana(strs:str)->str:\n",
    "    anagrams = defaultdict(list)\n",
    "    \n",
    "    for word in strs:\n",
    "        # 정렬하여 딕셔너리에 추가\n",
    "        anagrams[''.join(sorted(word))].append(word)\n",
    "        \n",
    "    return list(anagrams.values())"
   ]
  },
  {
   "cell_type": "code",
   "execution_count": 75,
   "id": "fe805a23",
   "metadata": {
    "ExecuteTime": {
     "end_time": "2021-12-12T14:59:44.902244Z",
     "start_time": "2021-12-12T14:59:44.881299Z"
    }
   },
   "outputs": [
    {
     "data": {
      "text/plain": [
       "[['eat', 'tea', 'ate'], ['tan', 'nat'], ['bat']]"
      ]
     },
     "execution_count": 75,
     "metadata": {},
     "output_type": "execute_result"
    }
   ],
   "source": [
    "groupana(s)"
   ]
  },
  {
   "cell_type": "markdown",
   "id": "7b48d711",
   "metadata": {},
   "source": [
    "### 가장 긴 팰린드롬 부분 문자열\n",
    "\n",
    "159p"
   ]
  },
  {
   "cell_type": "code",
   "execution_count": 3,
   "id": "3be00225",
   "metadata": {
    "ExecuteTime": {
     "end_time": "2021-12-13T19:14:47.510650Z",
     "start_time": "2021-12-13T19:14:47.491740Z"
    }
   },
   "outputs": [],
   "source": [
    "s='babad'\n",
    "s2='cbbd'"
   ]
  },
  {
   "cell_type": "code",
   "execution_count": 4,
   "id": "38de1dcd",
   "metadata": {
    "ExecuteTime": {
     "end_time": "2021-12-13T19:14:47.930730Z",
     "start_time": "2021-12-13T19:14:47.918682Z"
    }
   },
   "outputs": [],
   "source": [
    "def longstPalidrome(s:str)->str:\n",
    "    #팰린드롬 판별 및 투 포인터 확장\n",
    "    \n",
    "    def expand(left:int,right:int)->str:\n",
    "        while left >= 0 and right <len(s) and s[left] == s[right]:\n",
    "            left-=1\n",
    "            right+=1\n",
    "            \n",
    "        return s[left+1:right]\n",
    "    \n",
    "    \n",
    "    # 해당 사항이 없을 때 빠르게 리턴\n",
    "    \n",
    "    if len(s)<2 or s==s[::-1]:\n",
    "        return s\n",
    "    result=''\n",
    "    \n",
    "    \n",
    "    # 슬라이딩 윈도우 우측으로 이동\n",
    "    for i in range(len(s)-1):\n",
    "        \n",
    "        result=max(result,\n",
    "                  expand(i,i+1), # 짝수\n",
    "                  expand(i,i+2), # 홀수\n",
    "                  key=len)\n",
    "    return result"
   ]
  },
  {
   "cell_type": "code",
   "execution_count": 5,
   "id": "ff4dee37",
   "metadata": {
    "ExecuteTime": {
     "end_time": "2021-12-13T19:14:48.426404Z",
     "start_time": "2021-12-13T19:14:48.398474Z"
    }
   },
   "outputs": [
    {
     "data": {
      "text/plain": [
       "'bab'"
      ]
     },
     "execution_count": 5,
     "metadata": {},
     "output_type": "execute_result"
    }
   ],
   "source": [
    "longstPalidrome(s)"
   ]
  },
  {
   "cell_type": "markdown",
   "id": "6a8beb7b",
   "metadata": {},
   "source": [
    "### 배열 파티션 1\n",
    "n개의 페어를 이용한 min(a,b)의 합으로 만들 수 있는 가장 큰 수를 출력하라.\n",
    "190p"
   ]
  },
  {
   "cell_type": "markdown",
   "id": "76994fc9",
   "metadata": {},
   "source": [
    "풀이 : 앞에서부터 오름차순으로 정렬하고 인접 요소 페어를 만들면 곧 만들 수 있는 최대 합이 된다."
   ]
  },
  {
   "cell_type": "code",
   "execution_count": 82,
   "id": "869f7d56",
   "metadata": {
    "ExecuteTime": {
     "end_time": "2021-12-12T15:21:43.084812Z",
     "start_time": "2021-12-12T15:21:43.071823Z"
    }
   },
   "outputs": [],
   "source": [
    "s= [1,4,3,2]\n",
    "# output 4"
   ]
  },
  {
   "cell_type": "code",
   "execution_count": 87,
   "id": "65578d54",
   "metadata": {
    "ExecuteTime": {
     "end_time": "2021-12-12T15:41:57.036798Z",
     "start_time": "2021-12-12T15:41:57.014849Z"
    }
   },
   "outputs": [],
   "source": [
    "# 코드\n",
    "\n",
    "def arrayPairSum(nums:int)->int:\n",
    "    \n",
    "    sum=0\n",
    "    pair=[]\n",
    "    nums.sort() # 오름차순 정렬\n",
    "    \n",
    "    for n in nums:\n",
    "        \n",
    "        pair.append(n)\n",
    "        if len(pair)==2:\n",
    "            sum+=min(pair)\n",
    "            pair=[] # 다음 턴을 위해 초기화\n",
    "            \n",
    "    return sum\n",
    "\n",
    "\n",
    "#--------------\n",
    "\n",
    "# 풀이 2 : 짝수 번째 값 계산 , 정렬하면 짝수값은 늘 작다\n",
    "\n",
    "\n",
    "def arrayPairSum2(nums:int)->int:\n",
    "    \n",
    "    sum=0\n",
    "    nums.sort()\n",
    "    \n",
    "    for i,n in enumerate(nums):\n",
    "        \n",
    "        # 짝수 번째 값의 합 계산\n",
    "        \n",
    "        if i%2==0:\n",
    "            sum+=n\n",
    "            \n",
    "    return sum\n",
    "\n",
    "# 파이썬 다운 방식\n",
    "\n",
    "def arrayPairSum3(nums:int)->int:\n",
    "    \n",
    "    sum=0\n",
    "    \n",
    "    return sum(sorted(nums)[::2])\n",
    "    "
   ]
  },
  {
   "cell_type": "code",
   "execution_count": 89,
   "id": "496c0cdf",
   "metadata": {
    "ExecuteTime": {
     "end_time": "2021-12-12T15:42:31.909780Z",
     "start_time": "2021-12-12T15:42:31.904791Z"
    }
   },
   "outputs": [
    {
     "data": {
      "text/plain": [
       "4"
      ]
     },
     "execution_count": 89,
     "metadata": {},
     "output_type": "execute_result"
    }
   ],
   "source": [
    "arrayPairSum2(s)"
   ]
  },
  {
   "cell_type": "markdown",
   "id": "e2907c7d",
   "metadata": {},
   "source": [
    "### 자신을 제외한 배열의 곱 \n",
    "193p"
   ]
  },
  {
   "cell_type": "code",
   "execution_count": 90,
   "id": "137b39c0",
   "metadata": {
    "ExecuteTime": {
     "end_time": "2021-12-12T15:43:17.672198Z",
     "start_time": "2021-12-12T15:43:17.652252Z"
    }
   },
   "outputs": [],
   "source": [
    "#"
   ]
  },
  {
   "cell_type": "markdown",
   "id": "59cbab29",
   "metadata": {},
   "source": [
    "### 팰린드롬 연결 리스트\n",
    "연결 리스트가 팰린드롬 구조인지 판별하라.\n",
    "201p\n",
    "\n",
    "1. 해결방법: 리스트(데크)로 변환"
   ]
  },
  {
   "cell_type": "code",
   "execution_count": 129,
   "id": "dbd5b102",
   "metadata": {
    "ExecuteTime": {
     "end_time": "2021-12-12T16:01:01.360524Z",
     "start_time": "2021-12-12T16:01:01.340576Z"
    }
   },
   "outputs": [],
   "source": [
    "s= '1->2'"
   ]
  },
  {
   "cell_type": "code",
   "execution_count": 135,
   "id": "6b3b9c44",
   "metadata": {
    "ExecuteTime": {
     "end_time": "2021-12-12T16:02:25.416947Z",
     "start_time": "2021-12-12T16:02:25.389015Z"
    }
   },
   "outputs": [],
   "source": [
    "# 데크 버전\n",
    "import collections\n",
    "\n",
    "def isPalindrome(head)->bool:\n",
    "    # 데크 자료형 선언\n",
    "    q = collections.deque()\n",
    "    \n",
    "    if not head:\n",
    "        return True\n",
    "    \n",
    "    node = head\n",
    "    while node is not None: # 노드가 비어있지 않다면 반복해서 노드를 데크에 추가\n",
    "        q.append(node)\n",
    "        q.node.next\n",
    "        \n",
    "    while len(q)>1:\n",
    "        if q.popleft() != q.pop():\n",
    "            return False\n",
    "        \n",
    "    return True"
   ]
  },
  {
   "cell_type": "markdown",
   "id": "2212c296",
   "metadata": {},
   "source": [
    "### 유효한 괄호\n",
    "245p"
   ]
  },
  {
   "cell_type": "code",
   "execution_count": 137,
   "id": "67e5e5c3",
   "metadata": {
    "ExecuteTime": {
     "end_time": "2021-12-12T17:32:30.903629Z",
     "start_time": "2021-12-12T17:32:30.890438Z"
    }
   },
   "outputs": [],
   "source": [
    "s=['(',')','[',']','{','}']"
   ]
  },
  {
   "cell_type": "code",
   "execution_count": 139,
   "id": "bc155f3d",
   "metadata": {
    "ExecuteTime": {
     "end_time": "2021-12-12T17:32:47.676753Z",
     "start_time": "2021-12-12T17:32:47.648821Z"
    }
   },
   "outputs": [],
   "source": [
    "def isValid(self, s:str)->bool:\n",
    "    stack=[]\n",
    "    table={')':'(',\n",
    "           '}':'{',\n",
    "           ']':'[',\n",
    "    }\n",
    "    \n",
    "    # 스택 이용 예외 처리 및 일치 여부 판별\n",
    "    for char in s:\n",
    "        if char not in table:\n",
    "            stack.append(char)\n",
    "        elif not stack or table[char] != stack.pop():\n",
    "            return False\n",
    "        \n",
    "    return len(stack)==0"
   ]
  },
  {
   "cell_type": "code",
   "execution_count": 142,
   "id": "584ff391",
   "metadata": {
    "ExecuteTime": {
     "end_time": "2021-12-12T17:33:01.350915Z",
     "start_time": "2021-12-12T17:33:01.328972Z"
    }
   },
   "outputs": [
    {
     "data": {
      "text/plain": [
       "True"
      ]
     },
     "execution_count": 142,
     "metadata": {},
     "output_type": "execute_result"
    }
   ],
   "source": [
    "isValid(isValid,s)"
   ]
  },
  {
   "cell_type": "markdown",
   "id": "12d47e36",
   "metadata": {},
   "source": [
    "### 중복 문자 제거\n",
    "중복된 문자를 제외하고 사전식 순서로 나열하라.\n",
    "247p"
   ]
  },
  {
   "cell_type": "code",
   "execution_count": 143,
   "id": "5ccd7a7d",
   "metadata": {
    "ExecuteTime": {
     "end_time": "2021-12-12T17:33:57.116843Z",
     "start_time": "2021-12-12T17:33:57.106815Z"
    }
   },
   "outputs": [],
   "source": [
    "s = 'bcabc'\n",
    "# output='abc'"
   ]
  },
  {
   "cell_type": "markdown",
   "id": "27402611",
   "metadata": {},
   "source": [
    "내 풀이"
   ]
  },
  {
   "cell_type": "code",
   "execution_count": 154,
   "id": "f06b345b",
   "metadata": {
    "ExecuteTime": {
     "end_time": "2021-12-12T17:37:24.579961Z",
     "start_time": "2021-12-12T17:37:24.560011Z"
    }
   },
   "outputs": [
    {
     "name": "stdout",
     "output_type": "stream",
     "text": [
      "abc\n"
     ]
    }
   ],
   "source": [
    "s=set(s)\n",
    "s=sorted(s)\n",
    "\n",
    "re=''\n",
    "for i in s:\n",
    "    re+=i\n",
    "    \n",
    "print(re)\n",
    "\n",
    "# 데크를 이용한 부분은 아직 다소 난해"
   ]
  },
  {
   "cell_type": "markdown",
   "id": "b59716ac",
   "metadata": {},
   "source": [
    "### 일일 온도 \n",
    "매일의 화씨 온도 리스트 T를 입력받아서, 더 따뜻한 날씨를 위해서는 며칠을 더 기다려야 하는지 출력하라\n",
    "252p"
   ]
  },
  {
   "cell_type": "markdown",
   "id": "85141201",
   "metadata": {},
   "source": [
    "현재의 인덱스를 계속 스택에 쌓아두다가, 이전보다 상승하는 지점에서 현재 온도와 스택에 쌓아둔 인덱스 지점의 온도 차이를 비교해서, 더 높다면 다음과 같이 스택의 값을 팝으로 꺼내고 현재 인덱스와 스택에 쌓아둔 인덱스의 차이를 정답으로 처리한다."
   ]
  },
  {
   "cell_type": "code",
   "execution_count": 155,
   "id": "856ad9e4",
   "metadata": {
    "ExecuteTime": {
     "end_time": "2021-12-12T17:44:15.465808Z",
     "start_time": "2021-12-12T17:44:15.460702Z"
    }
   },
   "outputs": [],
   "source": [
    "T=[73,74,75,71,69,72,76,73]"
   ]
  },
  {
   "cell_type": "code",
   "execution_count": 156,
   "id": "13db955a",
   "metadata": {
    "ExecuteTime": {
     "end_time": "2021-12-12T17:51:42.834227Z",
     "start_time": "2021-12-12T17:51:42.817267Z"
    }
   },
   "outputs": [],
   "source": [
    "# 코드\n",
    "\n",
    "def dailyTemperatures(self, T:int)-> int:\n",
    "    answer= [0]*len(T)\n",
    "    stack=[]\n",
    "    \n",
    "    for i, cur in enumerate(T):\n",
    "        #현재 온도가 스택 값보다 높다면 정답 처리\n",
    "        while stack and cur>T[stack[-1]]: # 뒤로 추가하니까 -1 \n",
    "            last=stack.pop()\n",
    "            answer[last]=i-last\n",
    "        stack.append(i)\n",
    "        \n",
    "    return answer"
   ]
  },
  {
   "cell_type": "code",
   "execution_count": 158,
   "id": "4f41a036",
   "metadata": {
    "ExecuteTime": {
     "end_time": "2021-12-12T17:51:56.369121Z",
     "start_time": "2021-12-12T17:51:56.341629Z"
    }
   },
   "outputs": [
    {
     "data": {
      "text/plain": [
       "[1, 1, 4, 2, 1, 1, 0, 0]"
      ]
     },
     "execution_count": 158,
     "metadata": {},
     "output_type": "execute_result"
    }
   ],
   "source": [
    "dailyTemperatures(dailyTemperatures,T)"
   ]
  },
  {
   "cell_type": "markdown",
   "id": "f478413e",
   "metadata": {},
   "source": [
    "### 보석과 돌\n",
    "J는 보석이며, S는 갖고 있는 돌이다. S에는 보석이 몇 개나 있을까? 대소문자는 구분한다.   \n",
    "이 문제는 갖고 있는 돌 S의 각각의 개수를 모두 헤아린 다음, J의 각 요소를 키로 하는 각 개수를 합산하면 풀이할 수 있다.\n",
    "298p "
   ]
  },
  {
   "cell_type": "code",
   "execution_count": 159,
   "id": "a8c966eb",
   "metadata": {
    "ExecuteTime": {
     "end_time": "2021-12-12T18:07:31.710694Z",
     "start_time": "2021-12-12T18:07:31.700565Z"
    }
   },
   "outputs": [],
   "source": [
    "J='aA'\n",
    "S='aAAbbbb'"
   ]
  },
  {
   "cell_type": "code",
   "execution_count": 160,
   "id": "e46c9659",
   "metadata": {
    "ExecuteTime": {
     "end_time": "2021-12-12T18:14:05.427244Z",
     "start_time": "2021-12-12T18:14:05.412117Z"
    }
   },
   "outputs": [],
   "source": [
    "def numJewels(self,J:str,S:str)->int:\n",
    "    \n",
    "\n",
    "    freqs={}\n",
    "\n",
    "    for char in S:\n",
    "        if char not in freqs:\n",
    "            freqs[char]=1\n",
    "        else:\n",
    "            freqs[char]+=1\n",
    "\n",
    "    count=0\n",
    "    for char in J:\n",
    "        if char in freqs:\n",
    "            count+= freqs[char]\n",
    "\n",
    "    return count\n",
    "\n",
    "#-----------------\n",
    "\n",
    "# 코드 줄이기\n",
    "\n",
    "\n",
    "def numJewels2(self,J,S):\n",
    "    \n",
    "    freqs=collections.defaultdict(int) # defaultdict = 존재하지 않는 키에 대해 디폴트를 리턴\n",
    "    count=0\n",
    "    \n",
    "    for char in S:\n",
    "        freqs[char]+=1\n",
    "        \n",
    "    for char in J:\n",
    "        count+= freqs[char]\n",
    "        \n",
    "    return count\n",
    "\n",
    "\n",
    "#-----------------\n",
    "# count 버전\n",
    "\n",
    "def numJewels3(self,J,S):\n",
    "    \n",
    "    freqs=collections.Counter(S)\n",
    "    count=0\n",
    "    \n",
    "    for char in J:\n",
    "        count+=freqs[char]\n",
    "        \n",
    "    return count\n",
    "\n",
    "\n",
    "#-------------------\n",
    "# 파이썬 다운 방식\n",
    "\n",
    "def numJewels4(self,J,S):\n",
    "    \n",
    "    return sum(s in J for s in S)"
   ]
  },
  {
   "cell_type": "code",
   "execution_count": 161,
   "id": "706893fd",
   "metadata": {
    "ExecuteTime": {
     "end_time": "2021-12-12T18:14:18.305542Z",
     "start_time": "2021-12-12T18:14:18.290815Z"
    }
   },
   "outputs": [
    {
     "data": {
      "text/plain": [
       "3"
      ]
     },
     "execution_count": 161,
     "metadata": {},
     "output_type": "execute_result"
    }
   ],
   "source": [
    "numJewels(numJewels,J,S)"
   ]
  },
  {
   "cell_type": "markdown",
   "id": "37a21fb7",
   "metadata": {},
   "source": [
    "### 중복 문자 없는 가장 긴 부분 문자열\n",
    "중복 문자가 없는 갖아 긴 부분 문자열의 길이를 리턴하라\n",
    "303p"
   ]
  },
  {
   "cell_type": "code",
   "execution_count": 162,
   "id": "464c0bc3",
   "metadata": {
    "ExecuteTime": {
     "end_time": "2021-12-12T18:20:29.332352Z",
     "start_time": "2021-12-12T18:20:29.323380Z"
    }
   },
   "outputs": [],
   "source": [
    "s= 'abcabcbb'\n",
    "# 출력 3"
   ]
  },
  {
   "cell_type": "code",
   "execution_count": 163,
   "id": "e9314dc2",
   "metadata": {
    "ExecuteTime": {
     "end_time": "2021-12-12T18:47:59.069261Z",
     "start_time": "2021-12-12T18:47:59.044292Z"
    }
   },
   "outputs": [],
   "source": [
    "# 슬라이딩 윈도우와 투 포인터로 사이즈 조절\n",
    "\n",
    "def length(self,s:str)->int:\n",
    "    used={}\n",
    "    max_length=start=0\n",
    "    for index, char in enumerate(s):\n",
    "        \n",
    "        # 이미 등장했던 문자라면 'start' 위치 갱신 \n",
    "        if char in used and start<=used[char] :  # 이 부분 이해 어렵다. -> 이해성공\n",
    "            start = used[char]+1\n",
    "        else: # 최대 부분 문자열 길이 갱신\n",
    "            max_length = max(max_length, index - start+1)\n",
    "            \n",
    "            \n",
    "        # 현재 문자의 위치 삽입\n",
    "        used[char] = index\n",
    "        \n",
    "    return max_length"
   ]
  },
  {
   "cell_type": "code",
   "execution_count": 165,
   "id": "81f170ec",
   "metadata": {
    "ExecuteTime": {
     "end_time": "2021-12-12T18:48:12.731035Z",
     "start_time": "2021-12-12T18:48:12.712085Z"
    }
   },
   "outputs": [
    {
     "data": {
      "text/plain": [
       "3"
      ]
     },
     "execution_count": 165,
     "metadata": {},
     "output_type": "execute_result"
    }
   ],
   "source": [
    "length(length,s)"
   ]
  },
  {
   "cell_type": "markdown",
   "id": "f8768b91",
   "metadata": {},
   "source": [
    "### 상위 K 빈도 요소\n",
    "상위 k번 이상 등장하는 요소를 추출하라.\n",
    "307p"
   ]
  },
  {
   "cell_type": "code",
   "execution_count": 167,
   "id": "23aa40cb",
   "metadata": {
    "ExecuteTime": {
     "end_time": "2021-12-12T18:55:46.072596Z",
     "start_time": "2021-12-12T18:55:46.058633Z"
    }
   },
   "outputs": [],
   "source": [
    "nums = [1,1,1,2,2,3]\n",
    "k=2\n",
    "\n",
    "# 출력 [1,2]"
   ]
  },
  {
   "cell_type": "markdown",
   "id": "056a8c57",
   "metadata": {},
   "source": [
    "내 풀이"
   ]
  },
  {
   "cell_type": "code",
   "execution_count": 175,
   "id": "e23ca780",
   "metadata": {
    "ExecuteTime": {
     "end_time": "2021-12-12T19:00:25.669723Z",
     "start_time": "2021-12-12T19:00:25.652768Z"
    }
   },
   "outputs": [
    {
     "name": "stdout",
     "output_type": "stream",
     "text": [
      "[1, 2]\n"
     ]
    }
   ],
   "source": [
    "freq=collections.defaultdict(int)\n",
    "\n",
    "for i in nums:\n",
    "    freq[i]+=1\n",
    "list_=[]\n",
    "for j in freq:\n",
    "    if freq[j]>=k:\n",
    "        list_.append(j)\n",
    "print(list_)"
   ]
  },
  {
   "cell_type": "markdown",
   "id": "5ca988a7",
   "metadata": {},
   "source": [
    "Counter를 이용한 음수 순  , 우선순위 큐(heaq)"
   ]
  },
  {
   "cell_type": "markdown",
   "id": "13881335",
   "metadata": {},
   "source": [
    "요소의 값을 키로 하는 해시 테이블을 만들고 여기에 빈도 수를 저장한 다음,    \n",
    "우선순위 큐를 이용해 상위 k번만큼 추출하면 k번 이상 등장하는 요소를 손쉽게 추출 할 수 있다."
   ]
  },
  {
   "cell_type": "code",
   "execution_count": 183,
   "id": "3fe2a67e",
   "metadata": {
    "ExecuteTime": {
     "end_time": "2021-12-12T19:15:05.189947Z",
     "start_time": "2021-12-12T19:15:05.169001Z"
    }
   },
   "outputs": [],
   "source": [
    "import heapq\n",
    "\n",
    "\n",
    "def top(self,nums:int,k:int)->int:\n",
    "    \n",
    "    freqs = collections.Counter(nums)\n",
    "    freqs_heap=[]\n",
    "    \n",
    "    for f in freqs:\n",
    "        heapq.heappush(freqs_heap,(-freqs[f],f))\n",
    "        \n",
    "        \n",
    "    topk=list()\n",
    "    \n",
    "    for _ in range(k):\n",
    "        topk.append(heapq.heappop(freqs_heap)[1])\n",
    "        \n",
    "    return topk\n",
    "\n",
    "\n",
    "# 파이썬다운 방식\n",
    "def top2(self,nums:int,k:int)->int:\n",
    "    \n",
    "    return list(zip(*collections.Counter(nums).most_common(k)))[0]"
   ]
  },
  {
   "cell_type": "code",
   "execution_count": 184,
   "id": "0384bce1",
   "metadata": {
    "ExecuteTime": {
     "end_time": "2021-12-12T19:15:05.392624Z",
     "start_time": "2021-12-12T19:15:05.379552Z"
    }
   },
   "outputs": [
    {
     "data": {
      "text/plain": [
       "[1, 2]"
      ]
     },
     "execution_count": 184,
     "metadata": {},
     "output_type": "execute_result"
    }
   ],
   "source": [
    "top(top,nums,k)"
   ]
  },
  {
   "cell_type": "markdown",
   "id": "e1f743a7",
   "metadata": {},
   "source": [
    "### 구간 병합 (정렬)\n",
    "겹치는 구간을 병합하라\n",
    "497p"
   ]
  },
  {
   "cell_type": "code",
   "execution_count": 1,
   "id": "164459f2",
   "metadata": {
    "ExecuteTime": {
     "end_time": "2021-12-13T10:30:40.400555Z",
     "start_time": "2021-12-13T10:30:40.380608Z"
    }
   },
   "outputs": [],
   "source": [
    "s = [[1,3],[2,6],[8,10],[15,18]]"
   ]
  },
  {
   "cell_type": "markdown",
   "id": "a22b629f",
   "metadata": {},
   "source": [
    "람다를 이용하면 첫 번째 값을 키로 이용하라는 지시를 할 수 있다. 두 번째 값을 사용할 경우에는 당연히 x[1]로 지정.\n",
    "\n",
    "그렇게 했을 때 현재 아이템의 시작이 이전 아이템의 끝과 겹치게 되면 최댓값을 기준으로 병합하는 형태로 계속 반복해 나간다."
   ]
  },
  {
   "cell_type": "code",
   "execution_count": 2,
   "id": "4dd0ff19",
   "metadata": {
    "ExecuteTime": {
     "end_time": "2021-12-13T10:39:54.444289Z",
     "start_time": "2021-12-13T10:39:54.437309Z"
    }
   },
   "outputs": [],
   "source": [
    "def merge(self,intervals:int)->int:\n",
    "    merged=[]\n",
    "    for i in sorted(intervals,key=lambda x: x[0]):\n",
    "        if merged and i[0] <= merged[-1][1]:\n",
    "            merged[-1][1]=max(merged[-1][1],i[1])\n",
    "        else:\n",
    "            merged+=i,\n",
    "    return merged"
   ]
  },
  {
   "cell_type": "code",
   "execution_count": 3,
   "id": "f511e6d7",
   "metadata": {
    "ExecuteTime": {
     "end_time": "2021-12-13T10:40:02.839572Z",
     "start_time": "2021-12-13T10:40:02.826607Z"
    }
   },
   "outputs": [
    {
     "data": {
      "text/plain": [
       "[[1, 6], [8, 10], [15, 18]]"
      ]
     },
     "execution_count": 3,
     "metadata": {},
     "output_type": "execute_result"
    }
   ],
   "source": [
    "merge(merge,s)"
   ]
  },
  {
   "cell_type": "markdown",
   "id": "3baff132",
   "metadata": {},
   "source": [
    "### 가장 큰 수\n",
    "항목들을 조합하여 만들 수 있는 가장 큰 수를 출력하라.\n",
    "504p"
   ]
  },
  {
   "cell_type": "markdown",
   "id": "27f37b03",
   "metadata": {},
   "source": [
    "내 풀이"
   ]
  },
  {
   "cell_type": "code",
   "execution_count": 16,
   "id": "c0c29b0f",
   "metadata": {
    "ExecuteTime": {
     "end_time": "2021-12-13T10:47:02.601903Z",
     "start_time": "2021-12-13T10:47:02.592894Z"
    }
   },
   "outputs": [],
   "source": [
    "s=[10,2]\n",
    "s2=[3,30,34,5,9]\n",
    "\n",
    "def sort_hi(self,s:int)->str:\n",
    "    \n",
    "    s.sort()\n",
    "    s=str(s)\n",
    "\n",
    "    si=''\n",
    "\n",
    "    for i in s:\n",
    "        if i.isdigit():\n",
    "                si+=i\n",
    "\n",
    "    return si"
   ]
  },
  {
   "cell_type": "code",
   "execution_count": 18,
   "id": "90c8d2a0",
   "metadata": {
    "ExecuteTime": {
     "end_time": "2021-12-13T10:47:36.748938Z",
     "start_time": "2021-12-13T10:47:36.739962Z"
    }
   },
   "outputs": [
    {
     "data": {
      "text/plain": [
       "'210'"
      ]
     },
     "execution_count": 18,
     "metadata": {},
     "output_type": "execute_result"
    }
   ],
   "source": [
    "sort_hi(sort_hi,s)"
   ]
  },
  {
   "cell_type": "code",
   "execution_count": 17,
   "id": "5159c6fa",
   "metadata": {
    "ExecuteTime": {
     "end_time": "2021-12-13T10:47:06.276134Z",
     "start_time": "2021-12-13T10:47:06.266081Z"
    }
   },
   "outputs": [
    {
     "data": {
      "text/plain": [
       "'3593034'"
      ]
     },
     "execution_count": 17,
     "metadata": {},
     "output_type": "execute_result"
    }
   ],
   "source": [
    "sort_hi(sort_hi,s2) # 이건 실패."
   ]
  },
  {
   "cell_type": "code",
   "execution_count": 19,
   "id": "acf039df",
   "metadata": {
    "ExecuteTime": {
     "end_time": "2021-12-13T10:56:07.813217Z",
     "start_time": "2021-12-13T10:56:07.800252Z"
    }
   },
   "outputs": [],
   "source": [
    "# 삽입 정렬\n",
    "# 9는 30보다 맨 앞자리 수가 더 크므로 9가 더 앞에 와야 한다. 쉽게 비교하려면 930이 큰지 309가 큰지 비교하는 문제.\n",
    "\n",
    "def to_swap(n1:int, n2:int)->bool:\n",
    "    return str(n1)+str(n2)<str(n2)+str(n1)\n",
    "\n",
    "def largestNumber(self, nums:int)->str:\n",
    "    i=1\n",
    "    while i<len(nums):\n",
    "        j=i\n",
    "        while j>0 and self.to_swap(nums[j-1],nums[j]):\n",
    "            nums[j],nums[j-1] = nums[j-1],nums[j]\n",
    "            j-=1\n",
    "        i+=1\n",
    "    return str(int(''.join(map(str,nums))))"
   ]
  },
  {
   "cell_type": "markdown",
   "id": "255089a2",
   "metadata": {},
   "source": [
    "### 색 정렬\n",
    "빨간색을 0, 흰색을 1, 파란색을 2라 할 때 순서대로 인접하는 제자리 행렬을 수행하라.\n",
    "508p"
   ]
  },
  {
   "cell_type": "code",
   "execution_count": 24,
   "id": "df41baaf",
   "metadata": {
    "ExecuteTime": {
     "end_time": "2021-12-13T11:48:53.800117Z",
     "start_time": "2021-12-13T11:48:53.788200Z"
    }
   },
   "outputs": [],
   "source": [
    "nums=[2,0,2,1,1,0]"
   ]
  },
  {
   "cell_type": "code",
   "execution_count": 27,
   "id": "4db24ae0",
   "metadata": {
    "ExecuteTime": {
     "end_time": "2021-12-13T11:49:37.144230Z",
     "start_time": "2021-12-13T11:49:37.123269Z"
    }
   },
   "outputs": [],
   "source": [
    "def sortColor(self,nums:int)->int:\n",
    "    \n",
    "    red,white,blue=0,0,len(nums)\n",
    "    \n",
    "    while white < blue:\n",
    "        if nums[white]<1:\n",
    "            nums[red], nums[white] = nums[white], nums[red]\n",
    "            white+=1\n",
    "            red+=1\n",
    "            \n",
    "        elif nums[white]>1:\n",
    "            blue-=1\n",
    "            nums[white], nums[blue] = nums[blue], nums[white]\n",
    "        else:\n",
    "            white+=1\n",
    "            \n",
    "    return nums"
   ]
  },
  {
   "cell_type": "code",
   "execution_count": 28,
   "id": "adbcad39",
   "metadata": {
    "ExecuteTime": {
     "end_time": "2021-12-13T11:49:37.393296Z",
     "start_time": "2021-12-13T11:49:37.380885Z"
    }
   },
   "outputs": [
    {
     "data": {
      "text/plain": [
       "[0, 0, 1, 1, 2, 2]"
      ]
     },
     "execution_count": 28,
     "metadata": {},
     "output_type": "execute_result"
    }
   ],
   "source": [
    "sortColor(sortColor,nums)"
   ]
  },
  {
   "cell_type": "markdown",
   "id": "9cefc6f2",
   "metadata": {},
   "source": [
    "### 원점에 K번째로 가까운 점\n",
    "\n",
    "511p"
   ]
  },
  {
   "cell_type": "markdown",
   "id": "adee8955",
   "metadata": {
    "ExecuteTime": {
     "end_time": "2021-12-13T11:50:29.043028Z",
     "start_time": "2021-12-13T11:50:29.025880Z"
    }
   },
   "source": [
    "평면상에 points 목록이 있을 때, 원점(0,0)에서 K번 가까운 점 목록을 순서대로 출력하라.   \n",
    "평면상 두 점의 거리는 유클리드 거리로 한다."
   ]
  },
  {
   "cell_type": "code",
   "execution_count": 31,
   "id": "1c7a35ea",
   "metadata": {
    "ExecuteTime": {
     "end_time": "2021-12-13T11:51:51.746030Z",
     "start_time": "2021-12-13T11:51:51.728563Z"
    }
   },
   "outputs": [],
   "source": [
    "points=[[1,3],[-2,2]]\n",
    "K=1"
   ]
  },
  {
   "cell_type": "code",
   "execution_count": 36,
   "id": "86d3061a",
   "metadata": {
    "ExecuteTime": {
     "end_time": "2021-12-13T12:06:44.681692Z",
     "start_time": "2021-12-13T12:06:44.659621Z"
    }
   },
   "outputs": [],
   "source": [
    "import heapq\n",
    "\n",
    "def closet(self,points:int, k:int)->int:\n",
    "    \n",
    "    heap=[]\n",
    "    for (x,y) in points:\n",
    "        dist=x**2+y*2\n",
    "        heapq.heappush(heap, (dist,x,y))\n",
    "        \n",
    "    result=[]\n",
    "    for _ in range(K):\n",
    "        (dist,x,y)=heapq.heappop(heap)\n",
    "        result.append((x,y))\n",
    "    return result"
   ]
  },
  {
   "cell_type": "code",
   "execution_count": 37,
   "id": "bb032e5f",
   "metadata": {
    "ExecuteTime": {
     "end_time": "2021-12-13T12:06:45.179455Z",
     "start_time": "2021-12-13T12:06:45.159505Z"
    }
   },
   "outputs": [
    {
     "data": {
      "text/plain": [
       "[(1, 3)]"
      ]
     },
     "execution_count": 37,
     "metadata": {},
     "output_type": "execute_result"
    }
   ],
   "source": [
    "closet(closet,points,K)"
   ]
  },
  {
   "cell_type": "markdown",
   "id": "7324c2da",
   "metadata": {},
   "source": [
    "### 이진 검색\n",
    "정렬된 nums를 입력받아 이진 검색으로 target에 해당하는 인덱스를 찾아라.   \n",
    "518p"
   ]
  },
  {
   "cell_type": "code",
   "execution_count": 38,
   "id": "9fc851d5",
   "metadata": {
    "ExecuteTime": {
     "end_time": "2021-12-13T13:34:49.837536Z",
     "start_time": "2021-12-13T13:34:49.819584Z"
    }
   },
   "outputs": [],
   "source": [
    "nums = [-1,0,3,5,9,12]\n",
    "target=9\n",
    "# output = 4"
   ]
  },
  {
   "cell_type": "code",
   "execution_count": 39,
   "id": "03aee9f0",
   "metadata": {
    "ExecuteTime": {
     "end_time": "2021-12-13T13:39:28.191147Z",
     "start_time": "2021-12-13T13:39:28.168208Z"
    }
   },
   "outputs": [],
   "source": [
    "# 재귀 풀이 , 실행시간 316초\n",
    "\n",
    "def search(self,nums:int, target:int)->int:\n",
    "    def binary_search(left,right):\n",
    "        if left<=right:\n",
    "            mid = (left+right)//2\n",
    "            \n",
    "            if nums[mid]<target: # 타깃값이 중앙값보다 크다면\n",
    "                return binary_search(mid+1,right) # mid에서 1을 더한 값으로 리턴\n",
    "            elif nums[mid]>target:\n",
    "                return binary_search(left,mid-1)\n",
    "            else:\n",
    "                return mid\n",
    "            \n",
    "        else:\n",
    "            return -1\n",
    "        \n",
    "    return binary_search(0, len(nums)-1)"
   ]
  },
  {
   "cell_type": "code",
   "execution_count": 40,
   "id": "57e24f58",
   "metadata": {
    "ExecuteTime": {
     "end_time": "2021-12-13T13:39:39.897568Z",
     "start_time": "2021-12-13T13:39:39.881570Z"
    }
   },
   "outputs": [
    {
     "data": {
      "text/plain": [
       "4"
      ]
     },
     "execution_count": 40,
     "metadata": {},
     "output_type": "execute_result"
    }
   ],
   "source": [
    "search(search,nums,target)"
   ]
  },
  {
   "cell_type": "code",
   "execution_count": 42,
   "id": "ffe2fc59",
   "metadata": {
    "ExecuteTime": {
     "end_time": "2021-12-13T13:42:06.090179Z",
     "start_time": "2021-12-13T13:42:06.065246Z"
    }
   },
   "outputs": [
    {
     "data": {
      "text/plain": [
       "4"
      ]
     },
     "execution_count": 42,
     "metadata": {},
     "output_type": "execute_result"
    }
   ],
   "source": [
    "# 이진 검색 모듈 사용\n",
    "# 이진 검색  알고리즘을 지원하는 bisect 모듈이 있다.\n",
    "\n",
    "import bisect\n",
    "\n",
    "def search2(self,nums:int,target:int)->int:\n",
    "    \n",
    "    index=bisect.bisect_left(nums,target)\n",
    "    \n",
    "    if index<len(nums) and nums[index]==target:\n",
    "        return index\n",
    "    else:\n",
    "        return -1\n",
    "    \n",
    "search2(search2,nums,target)"
   ]
  },
  {
   "cell_type": "code",
   "execution_count": 44,
   "id": "01a1b7da",
   "metadata": {
    "ExecuteTime": {
     "end_time": "2021-12-13T13:44:33.829540Z",
     "start_time": "2021-12-13T13:44:33.799620Z"
    }
   },
   "outputs": [
    {
     "data": {
      "text/plain": [
       "4"
      ]
     },
     "execution_count": 44,
     "metadata": {},
     "output_type": "execute_result"
    }
   ],
   "source": [
    "# 이진 검색을 사용하지 않는 index 풀이\n",
    "# 해당 인덱스를 찾아내는 index()메소드가 있다.\n",
    "\n",
    "def search3(self, nums:int, target:int)->int:\n",
    "    \n",
    "    try:\n",
    "        return nums.index(target)\n",
    "    \n",
    "    except ValueError:\n",
    "        return -1\n",
    "    \n",
    "search(search3,nums,target)"
   ]
  },
  {
   "cell_type": "markdown",
   "id": "25611e6d",
   "metadata": {
    "ExecuteTime": {
     "end_time": "2021-12-13T13:45:13.938958Z",
     "start_time": "2021-12-13T13:45:13.913071Z"
    }
   },
   "source": [
    "### 회전 정렬된 배열 검색\n",
    "특징 피벗을 기준으로 회전하여 정렬된 배열에서 target 값의 인덱스를 출력하라.   \n",
    "525p"
   ]
  },
  {
   "cell_type": "code",
   "execution_count": 46,
   "id": "4c467145",
   "metadata": {
    "ExecuteTime": {
     "end_time": "2021-12-13T13:45:45.532641Z",
     "start_time": "2021-12-13T13:45:45.513331Z"
    }
   },
   "outputs": [],
   "source": [
    "nums=[4,5,6,7,0,1,2]\n",
    "target=1"
   ]
  },
  {
   "cell_type": "code",
   "execution_count": 47,
   "id": "08bf4742",
   "metadata": {
    "ExecuteTime": {
     "end_time": "2021-12-13T13:46:12.633027Z",
     "start_time": "2021-12-13T13:46:12.613089Z"
    }
   },
   "outputs": [
    {
     "data": {
      "text/plain": [
       "5"
      ]
     },
     "execution_count": 47,
     "metadata": {},
     "output_type": "execute_result"
    }
   ],
   "source": [
    "nums.index(1)"
   ]
  },
  {
   "cell_type": "code",
   "execution_count": null,
   "id": "239998d0",
   "metadata": {},
   "outputs": [],
   "source": [
    "def search(nums:int, target:int)->int:\n",
    "    \n",
    "    # 예외 처리\n",
    "    \n",
    "    if not nums:\n",
    "        return -1\n",
    "    \n",
    "    # 최솟값을 찾아 피벗 설정\n",
    "    left, right =0, len(nums)-1\n",
    "    while left<right:\n",
    "        mid=left+(right-left)//2\n",
    "        \n",
    "        if nums[mid]>nums[right]:\n",
    "            left=mid+1\n",
    "        else:\n",
    "            right=mid\n",
    "            \n",
    "    pivot=left\n",
    "    \n",
    "    # 이 문제는 나중에 . . . "
   ]
  },
  {
   "cell_type": "markdown",
   "id": "5ad278d5",
   "metadata": {
    "ExecuteTime": {
     "end_time": "2021-12-13T13:51:30.918049Z",
     "start_time": "2021-12-13T13:51:30.904084Z"
    }
   },
   "source": [
    "### 두 배열의 교집합\n",
    "두 배열의 교집합을 구하라.   \n",
    "529p"
   ]
  },
  {
   "cell_type": "code",
   "execution_count": 60,
   "id": "264db201",
   "metadata": {
    "ExecuteTime": {
     "end_time": "2021-12-13T13:54:14.951330Z",
     "start_time": "2021-12-13T13:54:14.938328Z"
    }
   },
   "outputs": [],
   "source": [
    "nums1=[1,2,2,1]\n",
    "nums2=[2,2]"
   ]
  },
  {
   "cell_type": "markdown",
   "id": "9c24ab49",
   "metadata": {},
   "source": [
    "내 풀이"
   ]
  },
  {
   "cell_type": "code",
   "execution_count": 56,
   "id": "8880d568",
   "metadata": {
    "ExecuteTime": {
     "end_time": "2021-12-13T13:53:28.419718Z",
     "start_time": "2021-12-13T13:53:28.410741Z"
    }
   },
   "outputs": [
    {
     "data": {
      "text/plain": [
       "[2, 2]"
      ]
     },
     "execution_count": 56,
     "metadata": {},
     "output_type": "execute_result"
    }
   ],
   "source": [
    "list_=[]\n",
    "for nums1 in nums1:\n",
    "    if nums1 in nums2:\n",
    "        list_.append(nums1)\n",
    "\n",
    "list_=list(set(list_))\n",
    "print(list_)"
   ]
  },
  {
   "cell_type": "code",
   "execution_count": 61,
   "id": "9bbbafe9",
   "metadata": {
    "ExecuteTime": {
     "end_time": "2021-12-13T13:54:49.970196Z",
     "start_time": "2021-12-13T13:54:49.956227Z"
    }
   },
   "outputs": [
    {
     "name": "stdout",
     "output_type": "stream",
     "text": [
      "[9, 4]\n"
     ]
    }
   ],
   "source": [
    "nums1=[4,9,5]\n",
    "nums2=[9,4,9,8,4]\n",
    "\n",
    "list_=[]\n",
    "for nums1 in nums1:\n",
    "    if nums1 in nums2:\n",
    "        list_.append(nums1)\n",
    "\n",
    "list_=list(set(list_))\n",
    "print(list_)"
   ]
  },
  {
   "cell_type": "code",
   "execution_count": 65,
   "id": "704901ca",
   "metadata": {
    "ExecuteTime": {
     "end_time": "2021-12-13T13:56:28.641149Z",
     "start_time": "2021-12-13T13:56:28.627978Z"
    }
   },
   "outputs": [],
   "source": [
    "nums1=[4,9,5]\n",
    "nums2=[9,4,9,8,4]"
   ]
  },
  {
   "cell_type": "code",
   "execution_count": 66,
   "id": "facb37c5",
   "metadata": {
    "ExecuteTime": {
     "end_time": "2021-12-13T13:56:28.876414Z",
     "start_time": "2021-12-13T13:56:28.866399Z"
    }
   },
   "outputs": [
    {
     "name": "stdout",
     "output_type": "stream",
     "text": [
      "{9, 4}\n"
     ]
    }
   ],
   "source": [
    "# 브루트 포스로 계산\n",
    "\n",
    "result=set()\n",
    "for n1 in nums1:\n",
    "    for n2 in nums2:\n",
    "        if n1==n2:\n",
    "            result.add(n1)\n",
    "print(result)"
   ]
  },
  {
   "cell_type": "code",
   "execution_count": 71,
   "id": "97fcc1dc",
   "metadata": {
    "ExecuteTime": {
     "end_time": "2021-12-13T14:00:46.973268Z",
     "start_time": "2021-12-13T14:00:46.945305Z"
    }
   },
   "outputs": [],
   "source": [
    "# 이진 검색으로 일치 여부 판별\n",
    "\n",
    "def inter(nums1,nums2)->int:\n",
    "    result=set()\n",
    "    nums2.sort()\n",
    "    \n",
    "    for n1 in nums1:\n",
    "        # 이진 검색으로 일치 여부 판별\n",
    "        i2=bisect.bisect_left(nums2,n1)\n",
    "        if len(nums2)>0 and len(nums2)>i2 and n1==nums2[i2]:\n",
    "            result.add(n1)\n",
    "            \n",
    "    return result"
   ]
  },
  {
   "cell_type": "code",
   "execution_count": 72,
   "id": "c821b609",
   "metadata": {
    "ExecuteTime": {
     "end_time": "2021-12-13T14:00:47.344070Z",
     "start_time": "2021-12-13T14:00:47.333009Z"
    }
   },
   "outputs": [
    {
     "data": {
      "text/plain": [
       "{4, 9}"
      ]
     },
     "execution_count": 72,
     "metadata": {},
     "output_type": "execute_result"
    }
   ],
   "source": [
    "inter(nums1,nums2)"
   ]
  },
  {
   "cell_type": "markdown",
   "id": "a996460d",
   "metadata": {},
   "source": [
    "### 두 수의 합 2\n",
    "\n",
    "정렬된 배열을 받아 덧셈하여 타겟을 만들 수 있는 배열의 두 숫자 인덱스를 리턴하라.   \n",
    "532p"
   ]
  },
  {
   "cell_type": "code",
   "execution_count": 73,
   "id": "d91879f2",
   "metadata": {
    "ExecuteTime": {
     "end_time": "2021-12-13T14:06:49.961594Z",
     "start_time": "2021-12-13T14:06:49.946634Z"
    }
   },
   "outputs": [],
   "source": [
    "numbers=[2,7,11,15]\n",
    "target=9"
   ]
  },
  {
   "cell_type": "code",
   "execution_count": null,
   "id": "5a7d8150",
   "metadata": {},
   "outputs": [],
   "source": [
    "# 투 포인트로 해결\n",
    "\n",
    "def two(self,numbers,target):\n",
    "    left,right =0, len(numbers)-1\n",
    "    while not left == right:\n",
    "        if numbers[left]+numbers[right]<target:\n",
    "            left+=1\n",
    "        elif numbers[left]+numbers[right]>target:\n",
    "            right-=1\n",
    "            \n",
    "        else:\n",
    "            return left+1, right+1 "
   ]
  },
  {
   "cell_type": "markdown",
   "id": "3420ad07",
   "metadata": {},
   "source": [
    "### 2D 행렬 검색 2\n",
    "mxn 행렬에서 값을 찾아내는 효율적인 알고리즘을 구현하라. 행렬은 왼쪽에서 오른쪽, 위에서 아래 오름차순으로 정렬되어 있다.   \n",
    "537p"
   ]
  },
  {
   "cell_type": "markdown",
   "id": "0c7e8e40",
   "metadata": {},
   "source": [
    "첫 행의 맨 뒤에서 탐색"
   ]
  },
  {
   "cell_type": "code",
   "execution_count": 75,
   "id": "33a59033",
   "metadata": {
    "ExecuteTime": {
     "end_time": "2021-12-13T14:35:37.091663Z",
     "start_time": "2021-12-13T14:35:37.061747Z"
    }
   },
   "outputs": [],
   "source": [
    "def searchMatrix(self,matrix,target):\n",
    "    \n",
    "    # 예외 처리\n",
    "    \n",
    "    if not matrix:\n",
    "        return False\n",
    "    \n",
    "    # 첫 행의 맨 뒤\n",
    "    \n",
    "    row = 0\n",
    "    col = len(matrix[0]-1)\n",
    "    \n",
    "    while row <= len(matrix)-1 and col>=0:\n",
    "        if target==matrix[row][col]:\n",
    "            return True\n",
    "\n",
    "        # 타겟이 작으면 왼쪽으로 이동\n",
    "\n",
    "        elif target<matrix[row][col]:\n",
    "            col-=1\n",
    "        # 타겟이 크면 아래로 이동\n",
    "        elif target>matrix[row][col]:\n",
    "            row+=1\n",
    "            \n",
    "    return False"
   ]
  },
  {
   "cell_type": "markdown",
   "id": "64edac13",
   "metadata": {},
   "source": [
    "파이썬 다운 방식"
   ]
  },
  {
   "cell_type": "code",
   "execution_count": 76,
   "id": "14a3c825",
   "metadata": {
    "ExecuteTime": {
     "end_time": "2021-12-13T14:36:50.449669Z",
     "start_time": "2021-12-13T14:36:50.439713Z"
    }
   },
   "outputs": [],
   "source": [
    "def searchMatrix(self, matrix, target):\n",
    "    return any(target in row for row in matrix)"
   ]
  },
  {
   "cell_type": "markdown",
   "id": "00a8f1d6",
   "metadata": {},
   "source": [
    "## 비트 조작 (skip)"
   ]
  },
  {
   "cell_type": "markdown",
   "id": "4f365173",
   "metadata": {},
   "source": [
    "## 슬라이딩 윈도우\n",
    "\n",
    "슬라이딩 윈도우란 고정 사이즈의 윈도우가 이동하면서 윈도우 내에 있는 데이터를 이용해 문제를 풀이하는 알고리즘을 말한다.   \n",
    "\n",
    "주로 정렬된 배열을 대상으로 하는 `투 포인터`와 달리 슬라이딩 윈도우는 정렬 여부에 관계 없이 활용된다는 차이가 있다."
   ]
  },
  {
   "cell_type": "markdown",
   "id": "cfcb271c",
   "metadata": {
    "ExecuteTime": {
     "end_time": "2021-12-13T14:42:05.597985Z",
     "start_time": "2021-12-13T14:42:05.578953Z"
    }
   },
   "source": [
    "### 최대 슬라이딩 윈도우\n",
    "배열 nums가 주어졌을 때 k크기의 슬라이딩 윈도우를 오른쪽 끝까지 이동하면서 최대 슬라이딩 윈도우를 구하라.   \n",
    "571p"
   ]
  },
  {
   "cell_type": "code",
   "execution_count": 78,
   "id": "d9b0426f",
   "metadata": {
    "ExecuteTime": {
     "end_time": "2021-12-13T14:42:40.407737Z",
     "start_time": "2021-12-13T14:42:40.392346Z"
    }
   },
   "outputs": [],
   "source": [
    "nums=[1,3,-1,-3,5,3,6,7]\n",
    "k=3"
   ]
  },
  {
   "cell_type": "code",
   "execution_count": 81,
   "id": "738c2dec",
   "metadata": {
    "ExecuteTime": {
     "end_time": "2021-12-13T14:47:17.908283Z",
     "start_time": "2021-12-13T14:47:17.882722Z"
    }
   },
   "outputs": [
    {
     "data": {
      "text/plain": [
       "[3, 3, 5, 5, 6, 7]"
      ]
     },
     "execution_count": 81,
     "metadata": {},
     "output_type": "execute_result"
    }
   ],
   "source": [
    "# 브루트 포스로 계산\n",
    "\n",
    "def maxSliding(self,nums,k):\n",
    "    \n",
    "    if not nums:\n",
    "        return nums\n",
    "\n",
    "    r=[]\n",
    "    for i in range(len(nums)-k+1):\n",
    "        r.append(max(nums[i:i+k]))\n",
    "        \n",
    "        \n",
    "    return r\n",
    "\n",
    "maxSliding(maxSliding,nums,k)"
   ]
  },
  {
   "cell_type": "code",
   "execution_count": 82,
   "id": "612f4148",
   "metadata": {
    "ExecuteTime": {
     "end_time": "2021-12-13T15:37:14.763623Z",
     "start_time": "2021-12-13T15:37:14.740474Z"
    }
   },
   "outputs": [],
   "source": [
    "# 큐를 이용한 최적화\n",
    "\n",
    "from collections import deque\n",
    "\n",
    "def maxSlider(nums,k):\n",
    "    result=[]\n",
    "    window=deque()\n",
    "    current_max = float('-inf')\n",
    "    for i,v in enumerate(nums):\n",
    "        window.append(v)\n",
    "        if i<k-1:\n",
    "            continue\n",
    "            \n",
    "    # 새로 추가된 값이 기존 최댓값보다 큰 경우 교체\n",
    "    \n",
    "    if current_max == float('-inf'):\n",
    "        current_max = max(window)\n",
    "        \n",
    "    elif v>current_max:\n",
    "        current_max=v\n",
    "        \n",
    "    results.append(current_max)\n",
    "    \n",
    "    # 최댓값이 윈도우에서 빠지면 초기화\n",
    "    \n",
    "    if current_max == window.popleft():\n",
    "        current_max = float('-inf')\n",
    "        \n",
    "    return results\n",
    "\n",
    "# 좀 어렵다"
   ]
  },
  {
   "cell_type": "markdown",
   "id": "eed87a67",
   "metadata": {
    "ExecuteTime": {
     "end_time": "2021-12-13T15:37:49.144509Z",
     "start_time": "2021-12-13T15:37:49.125227Z"
    }
   },
   "source": [
    "### 부분 문자열이 포함된 최소 윈도우\n",
    "문자열 S와 T를 입력받아 O(n)에 T의 모든 문자가 포함된 S의 최소 윈도우를 찾아라.   \n",
    "575p"
   ]
  },
  {
   "cell_type": "code",
   "execution_count": 84,
   "id": "cdffad5c",
   "metadata": {
    "ExecuteTime": {
     "end_time": "2021-12-13T16:00:27.344210Z",
     "start_time": "2021-12-13T16:00:27.319203Z"
    }
   },
   "outputs": [],
   "source": [
    "# 투 포인터, 슬라이딩 윈도우로 최적화\n",
    "import collections\n",
    "\n",
    "def minWindow(s,t):\n",
    "    \n",
    "    need = collections.Counter(t)\n",
    "    missing=len(t)\n",
    "    left=start=end=0\n",
    "    \n",
    "    # 오른쪽 포인터 이동\n",
    "    \n",
    "    for right, char in enumerate(s,1):\n",
    "        missing-=need[char]>0\n",
    "        need[char]-=1\n",
    "        \n",
    "        # 필요 문자가 0이면 왼쪽 포인터 이동 판단\n",
    "        if missing == 0:\n",
    "            while left < right and need[s[left]]<0:\n",
    "                need[s[left]]+=1\n",
    "                left+=1\n",
    "                \n",
    "            if not end or right-left<= end-start:\n",
    "                start, end = left, right\n",
    "                need[s[left]]+=1\n",
    "                missing+=1\n",
    "                left+=1\n",
    "                \n",
    "            return s[start:end]\n",
    "        \n",
    "# 이 부분도 어렵다."
   ]
  },
  {
   "cell_type": "markdown",
   "id": "aea97cec",
   "metadata": {},
   "source": [
    "### 가장 긴 반복문 대체\n",
    "\n",
    "대문자로 구성된 문자열 s가 주어졌을 때 k번만큼의 변경으로 만들 수 있는, 연속으로 반복된 문자열의 가장 긴 길이를 출력하라.\n",
    "   \n",
    "581p"
   ]
  },
  {
   "cell_type": "code",
   "execution_count": 87,
   "id": "b16fbc57",
   "metadata": {
    "ExecuteTime": {
     "end_time": "2021-12-13T16:17:06.627539Z",
     "start_time": "2021-12-13T16:17:06.611286Z"
    }
   },
   "outputs": [],
   "source": [
    "s='AAABBC'\n",
    "k=2"
   ]
  },
  {
   "cell_type": "code",
   "execution_count": 88,
   "id": "a371c39f",
   "metadata": {
    "ExecuteTime": {
     "end_time": "2021-12-13T16:17:06.906980Z",
     "start_time": "2021-12-13T16:17:06.889552Z"
    }
   },
   "outputs": [],
   "source": [
    "def character(self,s,k):\n",
    "    left=right=0\n",
    "    counts=collections.Counter()\n",
    "    for right in range(1, len(s)+1):\n",
    "        counts[s[right-1]]+=1\n",
    "        # 가장 흔하게 등장하는 문자 탐색\n",
    "        max_char_n = counts.most_common(1)[0][1]\n",
    "        \n",
    "        # k 초과시 왼쪽 포인터 이동\n",
    "        if right - left - max_char_n>k: # k 연산 횟수를 넘어선다면,\n",
    "            counts[s[left]]-=1\n",
    "            left+=1\n",
    "    \n",
    "    return right-left"
   ]
  },
  {
   "cell_type": "code",
   "execution_count": 89,
   "id": "859bdd26",
   "metadata": {
    "ExecuteTime": {
     "end_time": "2021-12-13T16:17:07.234423Z",
     "start_time": "2021-12-13T16:17:07.215131Z"
    }
   },
   "outputs": [
    {
     "data": {
      "text/plain": [
       "5"
      ]
     },
     "execution_count": 89,
     "metadata": {},
     "output_type": "execute_result"
    }
   ],
   "source": [
    "character(character,s,k)"
   ]
  },
  {
   "cell_type": "markdown",
   "id": "8080acc8",
   "metadata": {},
   "source": [
    "### 주식을 사고팔기 가장 좋은 시점 2\n",
    "여러 번의 거래로 낼 수 있는 최대 이익을 산출하라.\n",
    "590p"
   ]
  },
  {
   "cell_type": "code",
   "execution_count": 4,
   "id": "1293cecb",
   "metadata": {
    "ExecuteTime": {
     "end_time": "2021-12-14T09:05:38.885179Z",
     "start_time": "2021-12-14T09:05:38.876734Z"
    }
   },
   "outputs": [],
   "source": [
    "prices=[7,1,5,3,6,4]\n",
    "\n",
    "#output = 7"
   ]
  },
  {
   "cell_type": "code",
   "execution_count": 9,
   "id": "60a33620",
   "metadata": {
    "ExecuteTime": {
     "end_time": "2021-12-14T09:07:35.463648Z",
     "start_time": "2021-12-14T09:07:35.438729Z"
    }
   },
   "outputs": [],
   "source": [
    "# 그리디 알고리즘\n",
    "\n",
    "def maxProfit(prices):\n",
    "    result=0\n",
    "    \n",
    "    # 값이 오르는 경우 매번 그리디 계산\n",
    "    \n",
    "    for i in range(len(prices)-1):\n",
    "        if prices[i+1]>prices[i]:\n",
    "            result+=prices[i+1]-prices[i]\n",
    "            \n",
    "    return result\n",
    "\n",
    "# maxProfit(prices)\n",
    "\n",
    "# 파이썬 다운 방식\n",
    "\n",
    "def max2(prices):\n",
    "    \n",
    "    return sum(max(prices[i+1]-prices[i],0) for i in range(len(prices)-1))"
   ]
  },
  {
   "cell_type": "markdown",
   "id": "9e05e02a",
   "metadata": {},
   "source": [
    "# 키에 따른 대기열 재구성\n",
    "\n",
    "여러 명의 사람들이 줄을 서 있다.   \n",
    "각각의 사람은 (h,k)의 두 정수 쌍을 갖는데, h는 그 사람의 키, k는 앞에 줄 서 있는 사람들 중 자신의 키 이상인 사람들의 수를 뜻한다.   \n",
    "이 값이 올바르도록 줄을 재정렬하는 알고리즘을 작성하라."
   ]
  },
  {
   "cell_type": "code",
   "execution_count": 10,
   "id": "a7badc4d",
   "metadata": {
    "ExecuteTime": {
     "end_time": "2021-12-14T09:09:39.902337Z",
     "start_time": "2021-12-14T09:09:39.881361Z"
    }
   },
   "outputs": [],
   "source": [
    "person = [[7,0],[4,4],[7,1],[5,0],[6,1],[5,2]]"
   ]
  },
  {
   "cell_type": "code",
   "execution_count": 23,
   "id": "eae31c93",
   "metadata": {
    "ExecuteTime": {
     "end_time": "2021-12-14T09:37:19.456897Z",
     "start_time": "2021-12-14T09:37:19.437947Z"
    }
   },
   "outputs": [],
   "source": [
    "# 우선순위 큐 사용\n",
    "\n",
    "import heapq\n",
    "\n",
    "def recon(self,person):\n",
    "    \n",
    "    heap=[]\n",
    "    \n",
    "    for person in person:\n",
    "        heapq.heappush(heap, (-person[0], person[1])) # 파이썬은 최소 힙만 지원하기 때문에 첫 번째 값을 음수로 변경\n",
    "        \n",
    "    result=[]\n",
    "    \n",
    "    # 키 역순, 인덱스 추출\n",
    "    \n",
    "    while heap: # 힙이 존재하는 한.\n",
    "        person = heapq.heappop(heap)\n",
    "        result.insert(person[1],[-person[0],person[1]])\n",
    "        \n",
    "    return result\n",
    "    "
   ]
  },
  {
   "cell_type": "code",
   "execution_count": 24,
   "id": "eb645f78",
   "metadata": {
    "ExecuteTime": {
     "end_time": "2021-12-14T09:37:20.396979Z",
     "start_time": "2021-12-14T09:37:20.369662Z"
    }
   },
   "outputs": [
    {
     "data": {
      "text/plain": [
       "[[5, 0], [7, 0], [5, 2], [6, 1], [4, 4], [7, 1]]"
      ]
     },
     "execution_count": 24,
     "metadata": {},
     "output_type": "execute_result"
    }
   ],
   "source": [
    "recon(recon,person)"
   ]
  },
  {
   "cell_type": "markdown",
   "id": "f6d267c1",
   "metadata": {},
   "source": [
    "# 테스크 스케줄러\n",
    "\n",
    "A에서 Z로 표현된 태스크가 있다. 각 간격마다 CPU는 한 번의 태스크만 실행할 수 있고, n번의 간격 내에는 동일한 태스크를 실행할 수 없다.   \n",
    "더 이상 태스크를 실행할 수 없는 경우 아이들(idle)의 상태가 된다. 모든 태스크를 실행하기 위한 최소 간격을 출력하라."
   ]
  },
  {
   "cell_type": "code",
   "execution_count": 25,
   "id": "49b0895d",
   "metadata": {
    "ExecuteTime": {
     "end_time": "2021-12-14T09:39:40.860063Z",
     "start_time": "2021-12-14T09:39:40.843875Z"
    }
   },
   "outputs": [],
   "source": [
    "tasks = ['A','A','A','B','B','B']\n",
    "n=2"
   ]
  },
  {
   "cell_type": "code",
   "execution_count": 33,
   "id": "1ef6ac44",
   "metadata": {
    "ExecuteTime": {
     "end_time": "2021-12-14T10:12:22.754401Z",
     "start_time": "2021-12-14T10:12:22.730464Z"
    }
   },
   "outputs": [],
   "source": [
    "# 우선순위 큐 이용\n",
    "\n",
    "from collections import Counter\n",
    "\n",
    "def least(self, tasks):\n",
    "    counter =  collections.Counter(tasks)\n",
    "    result = 0\n",
    "    \n",
    "    \n",
    "    while True:\n",
    "        sub_count=0\n",
    "        \n",
    "        # 개수 순 추출\n",
    "        \n",
    "        for task, _ in counter.most_common(n+1):\n",
    "            sub_count+=1\n",
    "            result+=1\n",
    "            \n",
    "            counter.subtract(task)\n",
    "            # 0 이하인 아이템을 목록에서 완전히 제거\n",
    "            counter+= collections.Counter()\n",
    "            \n",
    "        if not counter:\n",
    "            break\n",
    "            \n",
    "        result+=n -sub_count+1\n",
    "        \n",
    "    return result"
   ]
  },
  {
   "cell_type": "code",
   "execution_count": 34,
   "id": "e0f0f9cd",
   "metadata": {
    "ExecuteTime": {
     "end_time": "2021-12-14T10:12:23.130551Z",
     "start_time": "2021-12-14T10:12:23.112594Z"
    }
   },
   "outputs": [
    {
     "data": {
      "text/plain": [
       "8"
      ]
     },
     "execution_count": 34,
     "metadata": {},
     "output_type": "execute_result"
    }
   ],
   "source": [
    "least(least,tasks)"
   ]
  },
  {
   "cell_type": "markdown",
   "id": "9dacdb4e",
   "metadata": {},
   "source": [
    "### 주유소 \n",
    "원형으로 경로가 연결된 주유소 목록이 있다. 각 주유소는 gas[i] 만큼의 기름을 갖고 있으며, 다음 주유소로 이동하는데 cost[i]가 필요하다.   \n",
    "기름이 부족하면 이동할 수 없다고 할 때 모든 주유소를 방문할 수 있는 출발점의 인덱스를 출력하라.\n",
    "\n",
    "출발점이 존재하지 않을 경우 -1을 리턴하며, 출발점은 유일하다.   \n",
    "599p"
   ]
  },
  {
   "cell_type": "code",
   "execution_count": null,
   "id": "5453277b",
   "metadata": {},
   "outputs": [],
   "source": [
    "def canComplete(self,gas,cost):\n",
    "    \n",
    "    # 모든 주유소 방문 가능 여부 판별\n",
    "    if sum(gas)<sum(cost):\n",
    "        return -1\n",
    "    \n",
    "    start, fuel = 0 , 0\n",
    "    for i in range(len(gas)):\n",
    "        # 출발점이 안 되는 지점 판별\n",
    "        if gas[i]+fuel < cost[i]:"
   ]
  },
  {
   "cell_type": "markdown",
   "id": "095f497d",
   "metadata": {},
   "source": [
    "## 분할 정복\n",
    "분할 정복은 다중 분기 재귀를 기반으로 하는 알고리즘 디자인 패러다임을 말한다."
   ]
  },
  {
   "cell_type": "markdown",
   "id": "5d5a1704",
   "metadata": {},
   "source": [
    "과반수를 차지하는 (절반을 초과하는) 엘리먼트를 출력하라."
   ]
  },
  {
   "cell_type": "code",
   "execution_count": 60,
   "id": "c7a7ba25",
   "metadata": {
    "ExecuteTime": {
     "end_time": "2021-12-14T11:52:40.356557Z",
     "start_time": "2021-12-14T11:52:40.348578Z"
    }
   },
   "outputs": [],
   "source": [
    "s=[3,2,3]"
   ]
  },
  {
   "cell_type": "code",
   "execution_count": 65,
   "id": "31930786",
   "metadata": {
    "ExecuteTime": {
     "end_time": "2021-12-14T11:53:59.128177Z",
     "start_time": "2021-12-14T11:53:59.113216Z"
    }
   },
   "outputs": [
    {
     "data": {
      "text/plain": [
       "3"
      ]
     },
     "execution_count": 65,
     "metadata": {},
     "output_type": "execute_result"
    }
   ],
   "source": [
    "# 브루트 포스로 과반수 비교\n",
    "def majority(nums):\n",
    "    for num in nums:\n",
    "        if nums.count(num)>len(nums)//2:\n",
    "            return num\n",
    "\n",
    "majority(s)\n",
    "\n",
    "# 타임아웃이다."
   ]
  },
  {
   "cell_type": "code",
   "execution_count": 66,
   "id": "8cf356be",
   "metadata": {
    "ExecuteTime": {
     "end_time": "2021-12-14T12:02:23.482649Z",
     "start_time": "2021-12-14T12:02:23.468688Z"
    }
   },
   "outputs": [],
   "source": [
    "# 다이나믹 프로그래밍\n",
    "\n",
    "def major2(nums):\n",
    "    counts=collections.defaultdict(int)\n",
    "    for num in nums:\n",
    "        if counts[num]==0:\n",
    "            counts[num]=nums.count(num)\n",
    "            \n",
    "        if counts[num]>len(nums)//2:\n",
    "            return num"
   ]
  },
  {
   "cell_type": "code",
   "execution_count": 67,
   "id": "5e106612",
   "metadata": {
    "ExecuteTime": {
     "end_time": "2021-12-14T12:03:21.753585Z",
     "start_time": "2021-12-14T12:03:21.729655Z"
    }
   },
   "outputs": [],
   "source": [
    "# 파이썬다운 방식\n",
    "\n",
    "def major3(nums):\n",
    "    return sorted(nums)[len(nums)//2]"
   ]
  },
  {
   "cell_type": "markdown",
   "id": "01a2ab05",
   "metadata": {
    "ExecuteTime": {
     "end_time": "2021-12-14T12:18:05.041341Z",
     "start_time": "2021-12-14T12:18:05.018388Z"
    }
   },
   "source": [
    "## 다이나믹 프로그래밍 알고리즘\n",
    "문제를 각각의 작은 문제로 나누어 해결한 결과를 저장해뒀다가 나중에 큰 문제의 결과와 합하여 풀이하는 알고리즘이다."
   ]
  },
  {
   "cell_type": "markdown",
   "id": "379c8d20",
   "metadata": {},
   "source": [
    "### 피보나치 수\n",
    "피보나치 수를 구하라    \n",
    "627p"
   ]
  },
  {
   "cell_type": "code",
   "execution_count": 81,
   "id": "fadaa441",
   "metadata": {
    "ExecuteTime": {
     "end_time": "2021-12-14T12:21:36.622839Z",
     "start_time": "2021-12-14T12:21:36.605878Z"
    }
   },
   "outputs": [],
   "source": [
    "N=5"
   ]
  },
  {
   "cell_type": "code",
   "execution_count": 86,
   "id": "fa657b7a",
   "metadata": {
    "ExecuteTime": {
     "end_time": "2021-12-14T12:23:04.492881Z",
     "start_time": "2021-12-14T12:23:04.470938Z"
    }
   },
   "outputs": [],
   "source": [
    "# 재귀 구조 브루트 포스\n",
    "\n",
    "def fib(self, N):\n",
    "    \n",
    "    if N <= 1:\n",
    "        return N\n",
    "    \n",
    "    return self.fib(N-1)+self.fib(N-2)"
   ]
  },
  {
   "cell_type": "code",
   "execution_count": 91,
   "id": "8c4684f4",
   "metadata": {
    "ExecuteTime": {
     "end_time": "2021-12-14T12:31:22.428414Z",
     "start_time": "2021-12-14T12:31:22.402493Z"
    }
   },
   "outputs": [],
   "source": [
    "# 메모이제이션 풀이\n",
    "\n",
    "from collections import defaultdict\n",
    "\n",
    "class Solution:\n",
    "    \n",
    "    dp = collections.defaultdict(int)\n",
    "    \n",
    "    def fib(self, N):\n",
    "        if N<=1:\n",
    "            return N\n",
    "        \n",
    "        if self.dp[N]:\n",
    "            return self.dp[N]\n",
    "        self.dp[N] = self.fib(N-1) + self.fib(N-2)\n",
    "        return self.dp[N]"
   ]
  },
  {
   "cell_type": "code",
   "execution_count": 93,
   "id": "54419949",
   "metadata": {
    "ExecuteTime": {
     "end_time": "2021-12-14T12:33:56.368510Z",
     "start_time": "2021-12-14T12:33:56.361442Z"
    }
   },
   "outputs": [],
   "source": [
    "### 최대 서브 배열\n",
    "\n",
    "#합이 최대가 되는 연속 서브 배열을 찾아 합을 리턴하라.\n",
    "#636p\n",
    "\n",
    "s=[-2,1,-3,4,-1,2,1,-5,4]"
   ]
  },
  {
   "cell_type": "code",
   "execution_count": 94,
   "id": "ae270e1d",
   "metadata": {
    "ExecuteTime": {
     "end_time": "2021-12-14T12:42:20.464201Z",
     "start_time": "2021-12-14T12:42:20.443260Z"
    }
   },
   "outputs": [],
   "source": [
    "def maxSub(self, nums):\n",
    "    \n",
    "    for i in range(1,len(nums)):\n",
    "        nums[i]+=nums[i-1] if nums[i-1] >0 else 0\n",
    "    return max(nums)"
   ]
  },
  {
   "cell_type": "code",
   "execution_count": 96,
   "id": "2d9d5053",
   "metadata": {
    "ExecuteTime": {
     "end_time": "2021-12-14T12:42:31.631583Z",
     "start_time": "2021-12-14T12:42:31.608644Z"
    }
   },
   "outputs": [
    {
     "data": {
      "text/plain": [
       "6"
      ]
     },
     "execution_count": 96,
     "metadata": {},
     "output_type": "execute_result"
    }
   ],
   "source": [
    "maxSub(maxSub,s)"
   ]
  },
  {
   "cell_type": "markdown",
   "id": "fe3f6c84",
   "metadata": {},
   "source": [
    "### 계단 오르기\n",
    "\n",
    "당신은 계단을 오르고 있다. 정상에 도달하기 위해 n 계단을 올라야 한다.   \n",
    "매번 각각 1계단 또는 2계단씩 오를 수 있다면 정상에 도달하기 위한 방법은 몇가지 경로가 되는지 계산하라."
   ]
  },
  {
   "cell_type": "code",
   "execution_count": 97,
   "id": "fcb32d37",
   "metadata": {
    "ExecuteTime": {
     "end_time": "2021-12-14T12:46:11.574020Z",
     "start_time": "2021-12-14T12:46:11.548089Z"
    }
   },
   "outputs": [],
   "source": [
    "n=3\n",
    "\n",
    "# 재귀 구조 브루트 포스\n",
    "\n",
    "def Stairs(self,n):\n",
    "    \n",
    "    if n==1:\n",
    "        return 1\n",
    "    \n",
    "    if n==2:\n",
    "        return 2\n",
    "    \n",
    "    return self.Stairs(n-1)+self.Stairs(n-2)"
   ]
  },
  {
   "cell_type": "code",
   "execution_count": 98,
   "id": "48dfd395",
   "metadata": {
    "ExecuteTime": {
     "end_time": "2021-12-14T12:47:37.257088Z",
     "start_time": "2021-12-14T12:47:37.237142Z"
    }
   },
   "outputs": [],
   "source": [
    "# 메모이제이션\n",
    "\n",
    "class Solution:\n",
    "    \n",
    "    dp = collections.defaultdict(int)\n",
    "    \n",
    "    def Stairs(self,n):\n",
    "        if n<=2:\n",
    "            return n\n",
    "        \n",
    "        \n",
    "        if self.dp[n]:\n",
    "            return self.dp[n]\n",
    "        self.dp[n] = self.Stairs(n-1)+self.Stairs(n-2)\n",
    "        return self.dp[n]"
   ]
  }
 ],
 "metadata": {
  "hide_input": false,
  "kernelspec": {
   "display_name": "Python 3 (ipykernel)",
   "language": "python",
   "name": "python3"
  },
  "language_info": {
   "codemirror_mode": {
    "name": "ipython",
    "version": 3
   },
   "file_extension": ".py",
   "mimetype": "text/x-python",
   "name": "python",
   "nbconvert_exporter": "python",
   "pygments_lexer": "ipython3",
   "version": "3.8.11"
  },
  "toc": {
   "base_numbering": 1,
   "nav_menu": {},
   "number_sections": true,
   "sideBar": true,
   "skip_h1_title": false,
   "title_cell": "Table of Contents",
   "title_sidebar": "Contents",
   "toc_cell": false,
   "toc_position": {},
   "toc_section_display": true,
   "toc_window_display": false
  }
 },
 "nbformat": 4,
 "nbformat_minor": 5
}
