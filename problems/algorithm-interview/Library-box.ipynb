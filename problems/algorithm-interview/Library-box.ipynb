{
 "cells": [
  {
   "cell_type": "markdown",
   "id": "c2e97c13",
   "metadata": {},
   "source": [
    "### 두 수의 합 (1.Two Sum)\n",
    "\n",
    "덧셈하여 타겟을 만들 수 있는 배열의 두 숫자 인덱스를 리턴하라."
   ]
  },
  {
   "cell_type": "code",
   "execution_count": 2,
   "id": "b5aba0d2",
   "metadata": {
    "ExecuteTime": {
     "end_time": "2021-12-12T08:21:51.901145Z",
     "start_time": "2021-12-12T08:21:51.880069Z"
    }
   },
   "outputs": [],
   "source": [
    "nums = [2,7,11,15]\n",
    "target=9"
   ]
  },
  {
   "cell_type": "markdown",
   "id": "e84d1fd2",
   "metadata": {},
   "source": [
    "내 풀이"
   ]
  },
  {
   "cell_type": "code",
   "execution_count": 5,
   "id": "b560d490",
   "metadata": {
    "ExecuteTime": {
     "end_time": "2021-12-12T08:24:27.617547Z",
     "start_time": "2021-12-12T08:24:27.601589Z"
    }
   },
   "outputs": [
    {
     "name": "stdout",
     "output_type": "stream",
     "text": [
      "[0, 1]\n"
     ]
    }
   ],
   "source": [
    "for idx,num in enumerate(nums):\n",
    "    for idx2,num2 in enumerate(nums):\n",
    "        if num+num2==target:\n",
    "            if idx<idx2:\n",
    "                print([idx,idx2])"
   ]
  },
  {
   "cell_type": "markdown",
   "id": "a78aa1d0",
   "metadata": {},
   "source": [
    "책에서 나온 브루트포스 풀이법"
   ]
  },
  {
   "cell_type": "code",
   "execution_count": 16,
   "id": "6978f0da",
   "metadata": {
    "ExecuteTime": {
     "end_time": "2021-12-12T08:37:15.967699Z",
     "start_time": "2021-12-12T08:37:15.925290Z"
    }
   },
   "outputs": [
    {
     "data": {
      "text/plain": [
       "[0, 1]"
      ]
     },
     "execution_count": 16,
     "metadata": {},
     "output_type": "execute_result"
    }
   ],
   "source": [
    "def twosum(self, nums:int, target:int) -> int:\n",
    "    \n",
    "    for i in range(len(nums)):\n",
    "        for j in range(i+1, len(nums)): # 중복을 피하는 방법. 내 풀이에서는 if로 중복을 피했다.\n",
    "            if nums[i]+nums[j]==target:\n",
    "                return [i,j]\n",
    "            \n",
    "            \n",
    "twosum(twosum,nums,target)"
   ]
  },
  {
   "cell_type": "markdown",
   "id": "8201bcc9",
   "metadata": {},
   "source": [
    "지나치게 느리다. 시간복잡도 O(n^2) 5284밀리초"
   ]
  },
  {
   "cell_type": "markdown",
   "id": "54f84abb",
   "metadata": {},
   "source": [
    "개선된 풀이 - 조회 구조 개선"
   ]
  },
  {
   "cell_type": "code",
   "execution_count": 19,
   "id": "1721102e",
   "metadata": {
    "ExecuteTime": {
     "end_time": "2021-12-12T08:46:31.837358Z",
     "start_time": "2021-12-12T08:46:31.817868Z"
    }
   },
   "outputs": [],
   "source": [
    "def twoSum(self, nums: int , target:int) -> int:\n",
    "    \n",
    "    nums_map = {}\n",
    "    # 하나의 for 문으로 통합\n",
    "    \n",
    "    for i, num in enumerate(nums):\n",
    "        if target - num in nums_map:\n",
    "            return [nums_map[target-num],i]\n",
    "        nums_map[num]=i"
   ]
  },
  {
   "cell_type": "code",
   "execution_count": 20,
   "id": "ee0cdb79",
   "metadata": {
    "ExecuteTime": {
     "end_time": "2021-12-12T08:46:50.266902Z",
     "start_time": "2021-12-12T08:46:50.242928Z"
    }
   },
   "outputs": [
    {
     "data": {
      "text/plain": [
       "[0, 1]"
      ]
     },
     "execution_count": 20,
     "metadata": {},
     "output_type": "execute_result"
    }
   ],
   "source": [
    "twoSum(twoSum,nums,target)\n",
    "\n",
    "# 44밀리 O(1) 시간복잡도"
   ]
  },
  {
   "cell_type": "code",
   "execution_count": 21,
   "id": "686656c0",
   "metadata": {
    "ExecuteTime": {
     "end_time": "2021-12-12T09:11:37.452455Z",
     "start_time": "2021-12-12T09:11:37.440487Z"
    }
   },
   "outputs": [],
   "source": [
    "#이해하기 쉬운 풀이\n",
    "\n",
    "def two(self, nums:int, target:int)->int:\n",
    "    nums_map={}\n",
    "    \n",
    "    # 키와 값을 바꿔서 딕셔너리로 저장\n",
    "    \n",
    "    for i, num in enumerate(nums):\n",
    "        nums_map[num]=i\n",
    "        \n",
    "    # 타겟에서 첫 번째 수를 뺀 결과를 키로 조회\n",
    "    \n",
    "    for i, num in enumerate(nums):\n",
    "        if target - num in nums_map and i != nums_map[target-num]:\n",
    "            return [i, nums_map[target-num]]"
   ]
  },
  {
   "cell_type": "code",
   "execution_count": 29,
   "id": "e2ce8ea0",
   "metadata": {
    "ExecuteTime": {
     "end_time": "2021-12-12T09:13:05.376000Z",
     "start_time": "2021-12-12T09:13:05.366027Z"
    }
   },
   "outputs": [],
   "source": [
    "nums=[2,7,11,15]"
   ]
  },
  {
   "cell_type": "code",
   "execution_count": 30,
   "id": "5f9976b9",
   "metadata": {
    "ExecuteTime": {
     "end_time": "2021-12-12T09:13:05.597729Z",
     "start_time": "2021-12-12T09:13:05.584297Z"
    },
    "scrolled": true
   },
   "outputs": [
    {
     "data": {
      "text/plain": [
       "[0, 1]"
      ]
     },
     "execution_count": 30,
     "metadata": {},
     "output_type": "execute_result"
    }
   ],
   "source": [
    "two(two,nums,target)"
   ]
  },
  {
   "cell_type": "markdown",
   "id": "56ff438f",
   "metadata": {},
   "source": [
    "### 세 수의 합 184p"
   ]
  },
  {
   "cell_type": "markdown",
   "id": "5eeda215",
   "metadata": {},
   "source": [
    "배열을 입력받아 합으로 0을 만들 수 있는 3개의 엘리먼트를 출력하라"
   ]
  },
  {
   "cell_type": "code",
   "execution_count": 2,
   "id": "bb9f7beb",
   "metadata": {
    "ExecuteTime": {
     "end_time": "2021-12-12T09:30:16.538009Z",
     "start_time": "2021-12-12T09:30:16.526096Z"
    }
   },
   "outputs": [],
   "source": [
    "nums= [-1,0,1,2,-1,-4]"
   ]
  },
  {
   "cell_type": "code",
   "execution_count": null,
   "id": "a389fcbe",
   "metadata": {},
   "outputs": [],
   "source": [
    "# 풀이 : 투 포인터로 합 계산\n",
    "    \n",
    "def threeSum(self, nums:int)->int:\n",
    "    \n",
    "    result=[]\n",
    "    nums.sort()\n",
    "    \n",
    "    for i in range(len(nums)-2):\n",
    "        \n",
    "        # 중복된 값 건너뛰기\n",
    "        \n",
    "        if i>0 and nums[i] == nums[i-1]:\n",
    "            continue\n",
    "            \n",
    "        # 간격을 좁혀가면서 sum 계산\n",
    "        \n",
    "        left, right = i+1, len(nums) -1 \n",
    "        \n",
    "        while left<right:\n",
    "            sum= nums[i]+nums[left]+nums[right]\n",
    "            \n",
    "            if sum<0:\n",
    "                left+=1\n",
    "                \n",
    "            elif sum>0:\n",
    "                right-=1\n",
    "            else:\n",
    "                \n",
    "                # sum =0인 경우이므로 정답 및 스킵 처리\n",
    "                \n",
    "            results.append([nums[i], nums[left], nums[right]])\n",
    "            \n",
    "            while left < right and nums[left] == nums[left+1]:\n",
    "                left+=1\n",
    "            while left < right and nums[right] == nums[right-1]:\n",
    "                right-=1\n",
    "                \n",
    "            left+=1\n",
    "            right-=1\n",
    "            \n",
    "        return results"
   ]
  },
  {
   "cell_type": "markdown",
   "id": "87547746",
   "metadata": {},
   "source": [
    "### 유효한 팰린드롬 (138p)"
   ]
  },
  {
   "cell_type": "markdown",
   "id": "e3530d8a",
   "metadata": {},
   "source": [
    "주어진 문자열이 팰린드롬인지 확인하라. 대소문자를 구분하지 않으며, 영문자와 숫자만을 대상으로 한다."
   ]
  },
  {
   "cell_type": "markdown",
   "id": "a21f931a",
   "metadata": {},
   "source": [
    "input : \"A man, a plan, a canal: Panama\"   \n",
    "output : true"
   ]
  },
  {
   "cell_type": "code",
   "execution_count": 1,
   "id": "c77b7e72",
   "metadata": {
    "ExecuteTime": {
     "end_time": "2021-12-12T12:17:07.424595Z",
     "start_time": "2021-12-12T12:17:07.411629Z"
    }
   },
   "outputs": [],
   "source": [
    "s=\"A man, a plan, a canal: Panama\"  "
   ]
  },
  {
   "cell_type": "code",
   "execution_count": 2,
   "id": "037f016e",
   "metadata": {
    "ExecuteTime": {
     "end_time": "2021-12-12T12:17:13.631952Z",
     "start_time": "2021-12-12T12:17:13.610011Z"
    }
   },
   "outputs": [
    {
     "name": "stdout",
     "output_type": "stream",
     "text": [
      "['a', 'm', 'a', 'n', 'a', 'p', 'l', 'a', 'n', 'a', 'c', 'a', 'n', 'a', 'l', 'p', 'a', 'n', 'a', 'm', 'a']\n"
     ]
    }
   ],
   "source": [
    "# 풀이 1 리스트로 변환\n",
    "\n",
    "strs=[]\n",
    "for char in s:\n",
    "    if char.isalnum():\n",
    "        strs.append(char.lower())\n",
    "        \n",
    "print(strs)"
   ]
  },
  {
   "cell_type": "markdown",
   "id": "563e0e06",
   "metadata": {
    "ExecuteTime": {
     "end_time": "2021-12-12T12:17:49.559328Z",
     "start_time": "2021-12-12T12:17:49.544366Z"
    }
   },
   "source": [
    "이제 다음과 같이 팰린드롬 여부를 판별해보자."
   ]
  },
  {
   "cell_type": "code",
   "execution_count": 5,
   "id": "7bab064a",
   "metadata": {
    "ExecuteTime": {
     "end_time": "2021-12-12T12:20:17.735336Z",
     "start_time": "2021-12-12T12:20:17.714390Z"
    }
   },
   "outputs": [],
   "source": [
    "while len(strs)>1:\n",
    "    if strs.pop(0) != strs.pop():\n",
    "        return False\n",
    "    \n",
    "return True"
   ]
  },
  {
   "cell_type": "code",
   "execution_count": 9,
   "id": "663f92c3",
   "metadata": {
    "ExecuteTime": {
     "end_time": "2021-12-12T12:21:45.709677Z",
     "start_time": "2021-12-12T12:21:45.676779Z"
    }
   },
   "outputs": [
    {
     "data": {
      "text/plain": [
       "True"
      ]
     },
     "execution_count": 9,
     "metadata": {},
     "output_type": "execute_result"
    }
   ],
   "source": [
    "# 풀이 1 리스트로 변환 O(n^2)\n",
    "\n",
    "def isPaildrome(s: str)->bool:\n",
    "\n",
    "    strs=[]\n",
    "    for char in s:\n",
    "        if char.isalnum():\n",
    "            strs.append(char.lower())\n",
    "\n",
    "#     print(strs)\n",
    "\n",
    "    while len(strs)>1:\n",
    "        if strs.pop(0) != strs.pop():\n",
    "            return False\n",
    "\n",
    "    return True\n",
    "\n",
    "\n",
    "isPaildrome(s)"
   ]
  },
  {
   "cell_type": "markdown",
   "id": "9d5d01d9",
   "metadata": {},
   "source": [
    "데크 자료형을 이용한 최적화 O(n)"
   ]
  },
  {
   "cell_type": "code",
   "execution_count": 14,
   "id": "c1356889",
   "metadata": {
    "ExecuteTime": {
     "end_time": "2021-12-12T12:26:05.695369Z",
     "start_time": "2021-12-12T12:26:05.665918Z"
    }
   },
   "outputs": [
    {
     "data": {
      "text/plain": [
       "True"
      ]
     },
     "execution_count": 14,
     "metadata": {},
     "output_type": "execute_result"
    }
   ],
   "source": [
    "from collections import deque\n",
    "\n",
    "def isPaildrome2(s:str) -> bool:\n",
    "    \n",
    "    # 자료형 데크로 선언\n",
    "    strs: Deque = deque()\n",
    "        \n",
    "    for char in s:\n",
    "        if char.isalnum():\n",
    "            strs.append(char.lower())\n",
    "            \n",
    "    while len(strs)>1:\n",
    "        if strs.popleft()!=strs.pop():\n",
    "            return False\n",
    "            \n",
    "    return True\n",
    "\n",
    "\n",
    "isPaildrome2(s)"
   ]
  },
  {
   "cell_type": "markdown",
   "id": "194a6149",
   "metadata": {},
   "source": [
    "### 문자열 뒤집기"
   ]
  },
  {
   "cell_type": "markdown",
   "id": "9167290a",
   "metadata": {},
   "source": [
    "입력 : ['h','e','l','l','o']   \n",
    "출력 : ['o','l','l','e','h']"
   ]
  },
  {
   "cell_type": "code",
   "execution_count": 42,
   "id": "5e23ab46",
   "metadata": {
    "ExecuteTime": {
     "end_time": "2021-12-12T12:59:14.831030Z",
     "start_time": "2021-12-12T12:59:14.813595Z"
    }
   },
   "outputs": [],
   "source": [
    "s=['h','e','l','l','o']"
   ]
  },
  {
   "cell_type": "code",
   "execution_count": 51,
   "id": "1123b5df",
   "metadata": {
    "ExecuteTime": {
     "end_time": "2021-12-12T13:05:09.624340Z",
     "start_time": "2021-12-12T13:05:09.603433Z"
    }
   },
   "outputs": [
    {
     "data": {
      "text/plain": [
       "['o', 'l', 'l', 'e', 'h']"
      ]
     },
     "execution_count": 51,
     "metadata": {},
     "output_type": "execute_result"
    }
   ],
   "source": [
    "# 간단한 방식\n",
    "#s=s[::-1]\n",
    "\n",
    "# 투 포인터\n",
    "\n",
    "def reverseString(s:str)->str:\n",
    "    \n",
    "    left,right =0, len(s)-1\n",
    "    \n",
    "    while left<right:\n",
    "        \n",
    "        s[left], s[right] = s[right], s[left]\n",
    "        left+=1\n",
    "        right-=1\n",
    "        \n",
    "    return s\n",
    "        \n",
    "        \n",
    "reverseString(s)"
   ]
  },
  {
   "cell_type": "markdown",
   "id": "075c26a0",
   "metadata": {
    "ExecuteTime": {
     "end_time": "2021-12-12T12:59:06.578573Z",
     "start_time": "2021-12-12T12:59:06.555539Z"
    }
   },
   "source": [
    "### 로그파일 재정렬 \n",
    "148p"
   ]
  },
  {
   "cell_type": "markdown",
   "id": "fb03e5fa",
   "metadata": {
    "ExecuteTime": {
     "end_time": "2021-12-12T13:07:54.631707Z",
     "start_time": "2021-12-12T13:07:54.614214Z"
    }
   },
   "source": [
    "정렬기준\n",
    "\n",
    "1. 로그의 가장 앞 부분은 식별자다.\n",
    "2. 문자로 구성된 로그가 숫자 로그보다 앞에 온다.\n",
    "3. 식별자는 순서에 영향을 끼치지 않지만, 문자가 동일할 경우 식별자 순으로 한다.\n",
    "4. 숫자 로그는 입력 순서대로 한다."
   ]
  },
  {
   "cell_type": "code",
   "execution_count": 60,
   "id": "97932a88",
   "metadata": {
    "ExecuteTime": {
     "end_time": "2021-12-12T13:10:34.581195Z",
     "start_time": "2021-12-12T13:10:34.564176Z"
    }
   },
   "outputs": [],
   "source": [
    "logs = ['dig1 8 1 5 1','let1 art can','dig2 3 6','let2 own kit dig','let3 art zero']"
   ]
  },
  {
   "cell_type": "code",
   "execution_count": 61,
   "id": "7453327c",
   "metadata": {
    "ExecuteTime": {
     "end_time": "2021-12-12T13:17:01.792703Z",
     "start_time": "2021-12-12T13:17:01.773640Z"
    }
   },
   "outputs": [],
   "source": [
    "def reorderLogFiles(logs:str) -> str:\n",
    "    \n",
    "    letters, digits =[],[]\n",
    "    \n",
    "    for log in logs:\n",
    "        if log.split()[1].isdigit():\n",
    "            digits.append(log)\n",
    "            \n",
    "        else:\n",
    "            letters.append(log)\n",
    "            \n",
    "    # 2개의 키를 람다 표현식으로 정렬\n",
    "    \n",
    "    letters.sort(key=lambda x: (x.split()[1:],x.split()[0]))\n",
    "    return letters+digits"
   ]
  },
  {
   "cell_type": "code",
   "execution_count": 63,
   "id": "f11149f7",
   "metadata": {
    "ExecuteTime": {
     "end_time": "2021-12-12T13:17:57.035700Z",
     "start_time": "2021-12-12T13:17:57.020739Z"
    }
   },
   "outputs": [
    {
     "name": "stdout",
     "output_type": "stream",
     "text": [
      "let1 art canlet3 art zerolet2 own kit digdig1 8 1 5 1dig2 3 6"
     ]
    }
   ],
   "source": [
    "reorderLogFiles(logs)\n",
    "\n",
    "for i in reorderLogFiles(logs):\n",
    "    print(i,end='')"
   ]
  },
  {
   "cell_type": "markdown",
   "id": "de588c11",
   "metadata": {},
   "source": [
    "### 가장 흔한 단어\n",
    "\n",
    "819p"
   ]
  },
  {
   "cell_type": "markdown",
   "id": "89f419ba",
   "metadata": {},
   "source": [
    "금지된 단어를 제외한 가장 흔하게 등장하는 단어를 출력하라. 대소문자 구분을 하지 않으며, 구두점(마침표,쉼표 등) 또한 무시한다."
   ]
  },
  {
   "cell_type": "code",
   "execution_count": 64,
   "id": "7d85a0cc",
   "metadata": {
    "ExecuteTime": {
     "end_time": "2021-12-12T13:19:41.301980Z",
     "start_time": "2021-12-12T13:19:41.294001Z"
    }
   },
   "outputs": [],
   "source": [
    "#입력\n",
    "\n",
    "paragraph='Bob hit a ball, the hit BALL flew far after it was hit'\n",
    "banned = ['hit']"
   ]
  },
  {
   "cell_type": "code",
   "execution_count": 71,
   "id": "91ab136b",
   "metadata": {
    "ExecuteTime": {
     "end_time": "2021-12-12T14:50:01.106775Z",
     "start_time": "2021-12-12T14:50:01.074833Z"
    }
   },
   "outputs": [
    {
     "data": {
      "text/plain": [
       "'ball'"
      ]
     },
     "execution_count": 71,
     "metadata": {},
     "output_type": "execute_result"
    }
   ],
   "source": [
    "# 풀이\n",
    "#입력값에는 대소문자가 섞여 있으며, 쉼표 등 구두점이 존재한다.\n",
    "#따라서 데이터 클렌징(Data Cleansing)이라 부르는 입력값에 대한 전처리 작업이 필요하다.\n",
    "\n",
    "def words(s:str)->str:\n",
    "    import re\n",
    "    import collections\n",
    "\n",
    "    word = [word for word in re.sub(r'[^\\w]',' ',paragraph)  # 단어 문자가 아닌 모든 문자를 공백으로 치환\n",
    "            .lower().split()\n",
    "            if word not in banned]\n",
    "\n",
    "    counts = collections.Counter(word)\n",
    "\n",
    "    # 가장 흔하게 등장하는 단어의 첫 번째 인덱스 리턴\n",
    "\n",
    "    return (counts.most_common(1)[0][0])\n",
    "\n",
    "words(s)"
   ]
  },
  {
   "cell_type": "markdown",
   "id": "f6fac7e6",
   "metadata": {},
   "source": [
    "### 그룹 애너그램\n",
    "\n",
    "153p"
   ]
  },
  {
   "cell_type": "markdown",
   "id": "d71549e1",
   "metadata": {},
   "source": [
    "애너그램 푸는 법:   \n",
    "    1.정렬\n",
    "    2.비교"
   ]
  },
  {
   "cell_type": "code",
   "execution_count": 74,
   "id": "44989513",
   "metadata": {
    "ExecuteTime": {
     "end_time": "2021-12-12T14:59:44.500538Z",
     "start_time": "2021-12-12T14:59:44.482585Z"
    }
   },
   "outputs": [],
   "source": [
    "s=['eat','tea','tan','ate','nat','bat']\n",
    "\n",
    "from collections import defaultdict\n",
    "def groupana(strs:str)->str:\n",
    "    anagrams = defaultdict(list)\n",
    "    \n",
    "    for word in strs:\n",
    "        # 정렬하여 딕셔너리에 추가\n",
    "        anagrams[''.join(sorted(word))].append(word)\n",
    "        \n",
    "    return list(anagrams.values())"
   ]
  },
  {
   "cell_type": "code",
   "execution_count": 75,
   "id": "fe805a23",
   "metadata": {
    "ExecuteTime": {
     "end_time": "2021-12-12T14:59:44.902244Z",
     "start_time": "2021-12-12T14:59:44.881299Z"
    }
   },
   "outputs": [
    {
     "data": {
      "text/plain": [
       "[['eat', 'tea', 'ate'], ['tan', 'nat'], ['bat']]"
      ]
     },
     "execution_count": 75,
     "metadata": {},
     "output_type": "execute_result"
    }
   ],
   "source": [
    "groupana(s)"
   ]
  },
  {
   "cell_type": "markdown",
   "id": "7b48d711",
   "metadata": {},
   "source": [
    "### 가장 긴 팰린드롬 부분 문자열\n",
    "\n",
    "159p"
   ]
  },
  {
   "cell_type": "code",
   "execution_count": 77,
   "id": "3be00225",
   "metadata": {
    "ExecuteTime": {
     "end_time": "2021-12-12T15:03:19.187754Z",
     "start_time": "2021-12-12T15:03:19.177780Z"
    }
   },
   "outputs": [],
   "source": [
    "s='babad'\n",
    "s2='cbbd'"
   ]
  },
  {
   "cell_type": "code",
   "execution_count": 80,
   "id": "38de1dcd",
   "metadata": {
    "ExecuteTime": {
     "end_time": "2021-12-12T15:19:05.370935Z",
     "start_time": "2021-12-12T15:19:05.346887Z"
    }
   },
   "outputs": [],
   "source": [
    "def longstPalidrome(s:str)->str:\n",
    "    #팰린드롬 판별 및 투 포인터 확장\n",
    "    \n",
    "    def expand(left:int,right:int)->str:\n",
    "        while left >= 0 and right <len(s) and s[left] == s[right]:\n",
    "            left-=1\n",
    "            right+=1\n",
    "            \n",
    "        return s[left+1:right]\n",
    "    \n",
    "    \n",
    "    # 해당 사항이 없을 때 빠르게 리턴\n",
    "    \n",
    "    if len(s)<2 or s==s[::-1]:\n",
    "        return s\n",
    "    result=''\n",
    "    \n",
    "    \n",
    "    # 슬라이딩 윈도우 우측으로 이동\n",
    "    for i in range(len(s)-1):\n",
    "        \n",
    "        result=max(result,\n",
    "                  expand(i,i+1), # 짝수\n",
    "                  expand(i,i+2), # 홀수\n",
    "                  key=len)\n",
    "    return result"
   ]
  },
  {
   "cell_type": "code",
   "execution_count": 81,
   "id": "ff4dee37",
   "metadata": {
    "ExecuteTime": {
     "end_time": "2021-12-12T15:19:06.058334Z",
     "start_time": "2021-12-12T15:19:06.044260Z"
    }
   },
   "outputs": [
    {
     "data": {
      "text/plain": [
       "'bab'"
      ]
     },
     "execution_count": 81,
     "metadata": {},
     "output_type": "execute_result"
    }
   ],
   "source": [
    "longstPalidrome(s)"
   ]
  },
  {
   "cell_type": "markdown",
   "id": "6a8beb7b",
   "metadata": {},
   "source": [
    "### 배열 파티션 1\n",
    "n개의 페어를 이용한 min(a,b)의 합으로 만들 수 있는 가장 큰 수를 출력하라.\n",
    "190p"
   ]
  },
  {
   "cell_type": "markdown",
   "id": "76994fc9",
   "metadata": {},
   "source": [
    "풀이 : 앞에서부터 오름차순으로 정렬하고 인접 요소 페어를 만들면 곧 만들 수 있는 최대 합이 된다."
   ]
  },
  {
   "cell_type": "code",
   "execution_count": 82,
   "id": "869f7d56",
   "metadata": {
    "ExecuteTime": {
     "end_time": "2021-12-12T15:21:43.084812Z",
     "start_time": "2021-12-12T15:21:43.071823Z"
    }
   },
   "outputs": [],
   "source": [
    "s= [1,4,3,2]\n",
    "# output 4"
   ]
  },
  {
   "cell_type": "code",
   "execution_count": 87,
   "id": "65578d54",
   "metadata": {
    "ExecuteTime": {
     "end_time": "2021-12-12T15:41:57.036798Z",
     "start_time": "2021-12-12T15:41:57.014849Z"
    }
   },
   "outputs": [],
   "source": [
    "# 코드\n",
    "\n",
    "def arrayPairSum(nums:int)->int:\n",
    "    \n",
    "    sum=0\n",
    "    pair=[]\n",
    "    nums.sort() # 오름차순 정렬\n",
    "    \n",
    "    for n in nums:\n",
    "        \n",
    "        pair.append(n)\n",
    "        if len(pair)==2:\n",
    "            sum+=min(pair)\n",
    "            pair=[] # 다음 턴을 위해 초기화\n",
    "            \n",
    "    return sum\n",
    "\n",
    "\n",
    "#--------------\n",
    "\n",
    "# 풀이 2 : 짝수 번째 값 계산 , 정렬하면 짝수값은 늘 작다\n",
    "\n",
    "\n",
    "def arrayPairSum2(nums:int)->int:\n",
    "    \n",
    "    sum=0\n",
    "    nums.sort()\n",
    "    \n",
    "    for i,n in enumerate(nums):\n",
    "        \n",
    "        # 짝수 번째 값의 합 계산\n",
    "        \n",
    "        if i%2==0:\n",
    "            sum+=n\n",
    "            \n",
    "    return sum\n",
    "\n",
    "# 파이썬 다운 방식\n",
    "\n",
    "def arrayPairSum3(nums:int)->int:\n",
    "    \n",
    "    sum=0\n",
    "    \n",
    "    return sum(sorted(nums)[::2])\n",
    "    "
   ]
  },
  {
   "cell_type": "code",
   "execution_count": 89,
   "id": "496c0cdf",
   "metadata": {
    "ExecuteTime": {
     "end_time": "2021-12-12T15:42:31.909780Z",
     "start_time": "2021-12-12T15:42:31.904791Z"
    }
   },
   "outputs": [
    {
     "data": {
      "text/plain": [
       "4"
      ]
     },
     "execution_count": 89,
     "metadata": {},
     "output_type": "execute_result"
    }
   ],
   "source": [
    "arrayPairSum2(s)"
   ]
  },
  {
   "cell_type": "markdown",
   "id": "e2907c7d",
   "metadata": {},
   "source": [
    "### 자신을 제외한 배열의 곱 \n",
    "193p"
   ]
  },
  {
   "cell_type": "code",
   "execution_count": 90,
   "id": "137b39c0",
   "metadata": {
    "ExecuteTime": {
     "end_time": "2021-12-12T15:43:17.672198Z",
     "start_time": "2021-12-12T15:43:17.652252Z"
    }
   },
   "outputs": [],
   "source": [
    "#"
   ]
  },
  {
   "cell_type": "markdown",
   "id": "59cbab29",
   "metadata": {},
   "source": [
    "### 팰린드롬 연결 리스트\n",
    "연결 리스트가 팰린드롬 구조인지 판별하라.\n",
    "201p\n",
    "\n",
    "1. 해결방법: 리스트(데크)로 변환"
   ]
  },
  {
   "cell_type": "code",
   "execution_count": 129,
   "id": "dbd5b102",
   "metadata": {
    "ExecuteTime": {
     "end_time": "2021-12-12T16:01:01.360524Z",
     "start_time": "2021-12-12T16:01:01.340576Z"
    }
   },
   "outputs": [],
   "source": [
    "s= '1->2'"
   ]
  },
  {
   "cell_type": "code",
   "execution_count": 135,
   "id": "6b3b9c44",
   "metadata": {
    "ExecuteTime": {
     "end_time": "2021-12-12T16:02:25.416947Z",
     "start_time": "2021-12-12T16:02:25.389015Z"
    }
   },
   "outputs": [],
   "source": [
    "# 데크 버전\n",
    "import collections\n",
    "\n",
    "def isPalindrome(head)->bool:\n",
    "    # 데크 자료형 선언\n",
    "    q = collections.deque()\n",
    "    \n",
    "    if not head:\n",
    "        return True\n",
    "    \n",
    "    node = head\n",
    "    while node is not None: # 노드가 비어있지 않다면 반복해서 노드를 데크에 추가\n",
    "        q.append(node)\n",
    "        q.node.next\n",
    "        \n",
    "    while len(q)>1:\n",
    "        if q.popleft() != q.pop():\n",
    "            return False\n",
    "        \n",
    "    return True"
   ]
  },
  {
   "cell_type": "markdown",
   "id": "2212c296",
   "metadata": {},
   "source": [
    "### 유효한 괄호\n",
    "245p"
   ]
  },
  {
   "cell_type": "code",
   "execution_count": 137,
   "id": "67e5e5c3",
   "metadata": {
    "ExecuteTime": {
     "end_time": "2021-12-12T17:32:30.903629Z",
     "start_time": "2021-12-12T17:32:30.890438Z"
    }
   },
   "outputs": [],
   "source": [
    "s=['(',')','[',']','{','}']"
   ]
  },
  {
   "cell_type": "code",
   "execution_count": 139,
   "id": "bc155f3d",
   "metadata": {
    "ExecuteTime": {
     "end_time": "2021-12-12T17:32:47.676753Z",
     "start_time": "2021-12-12T17:32:47.648821Z"
    }
   },
   "outputs": [],
   "source": [
    "def isValid(self, s:str)->bool:\n",
    "    stack=[]\n",
    "    table={')':'(',\n",
    "           '}':'{',\n",
    "           ']':'[',\n",
    "    }\n",
    "    \n",
    "    # 스택 이용 예외 처리 및 일치 여부 판별\n",
    "    for char in s:\n",
    "        if char not in table:\n",
    "            stack.append(char)\n",
    "        elif not stack or table[char] != stack.pop():\n",
    "            return False\n",
    "        \n",
    "    return len(stack)==0"
   ]
  },
  {
   "cell_type": "code",
   "execution_count": 142,
   "id": "584ff391",
   "metadata": {
    "ExecuteTime": {
     "end_time": "2021-12-12T17:33:01.350915Z",
     "start_time": "2021-12-12T17:33:01.328972Z"
    }
   },
   "outputs": [
    {
     "data": {
      "text/plain": [
       "True"
      ]
     },
     "execution_count": 142,
     "metadata": {},
     "output_type": "execute_result"
    }
   ],
   "source": [
    "isValid(isValid,s)"
   ]
  },
  {
   "cell_type": "markdown",
   "id": "12d47e36",
   "metadata": {},
   "source": [
    "### 중복 문자 제거\n",
    "중복된 문자를 제외하고 사전식 순서로 나열하라.\n",
    "247p"
   ]
  },
  {
   "cell_type": "code",
   "execution_count": 143,
   "id": "5ccd7a7d",
   "metadata": {
    "ExecuteTime": {
     "end_time": "2021-12-12T17:33:57.116843Z",
     "start_time": "2021-12-12T17:33:57.106815Z"
    }
   },
   "outputs": [],
   "source": [
    "s = 'bcabc'\n",
    "# output='abc'"
   ]
  },
  {
   "cell_type": "markdown",
   "id": "27402611",
   "metadata": {},
   "source": [
    "내 풀이"
   ]
  },
  {
   "cell_type": "code",
   "execution_count": 154,
   "id": "f06b345b",
   "metadata": {
    "ExecuteTime": {
     "end_time": "2021-12-12T17:37:24.579961Z",
     "start_time": "2021-12-12T17:37:24.560011Z"
    }
   },
   "outputs": [
    {
     "name": "stdout",
     "output_type": "stream",
     "text": [
      "abc\n"
     ]
    }
   ],
   "source": [
    "s=set(s)\n",
    "s=sorted(s)\n",
    "\n",
    "re=''\n",
    "for i in s:\n",
    "    re+=i\n",
    "    \n",
    "print(re)\n",
    "\n",
    "# 데크를 이용한 부분은 아직 다소 난해"
   ]
  },
  {
   "cell_type": "markdown",
   "id": "b59716ac",
   "metadata": {},
   "source": [
    "### 일일 온도 \n",
    "매일의 화씨 온도 리스트 T를 입력받아서, 더 따뜻한 날씨를 위해서는 며칠을 더 기다려야 하는지 출력하라\n",
    "252p"
   ]
  },
  {
   "cell_type": "markdown",
   "id": "85141201",
   "metadata": {},
   "source": [
    "현재의 인덱스를 계속 스택에 쌓아두다가, 이전보다 상승하는 지점에서 현재 온도와 스택에 쌓아둔 인덱스 지점의 온도 차이를 비교해서, 더 높다면 다음과 같이 스택의 값을 팝으로 꺼내고 현재 인덱스와 스택에 쌓아둔 인덱스의 차이를 정답으로 처리한다."
   ]
  },
  {
   "cell_type": "code",
   "execution_count": 155,
   "id": "856ad9e4",
   "metadata": {
    "ExecuteTime": {
     "end_time": "2021-12-12T17:44:15.465808Z",
     "start_time": "2021-12-12T17:44:15.460702Z"
    }
   },
   "outputs": [],
   "source": [
    "T=[73,74,75,71,69,72,76,73]"
   ]
  },
  {
   "cell_type": "code",
   "execution_count": 156,
   "id": "13db955a",
   "metadata": {
    "ExecuteTime": {
     "end_time": "2021-12-12T17:51:42.834227Z",
     "start_time": "2021-12-12T17:51:42.817267Z"
    }
   },
   "outputs": [],
   "source": [
    "# 코드\n",
    "\n",
    "def dailyTemperatures(self, T:int)-> int:\n",
    "    answer= [0]*len(T)\n",
    "    stack=[]\n",
    "    \n",
    "    for i, cur in enumerate(T):\n",
    "        #현재 온도가 스택 값보다 높다면 정답 처리\n",
    "        while stack and cur>T[stack[-1]]: # 뒤로 추가하니까 -1 \n",
    "            last=stack.pop()\n",
    "            answer[last]=i-last\n",
    "        stack.append(i)\n",
    "        \n",
    "    return answer"
   ]
  },
  {
   "cell_type": "code",
   "execution_count": 158,
   "id": "4f41a036",
   "metadata": {
    "ExecuteTime": {
     "end_time": "2021-12-12T17:51:56.369121Z",
     "start_time": "2021-12-12T17:51:56.341629Z"
    }
   },
   "outputs": [
    {
     "data": {
      "text/plain": [
       "[1, 1, 4, 2, 1, 1, 0, 0]"
      ]
     },
     "execution_count": 158,
     "metadata": {},
     "output_type": "execute_result"
    }
   ],
   "source": [
    "dailyTemperatures(dailyTemperatures,T)"
   ]
  },
  {
   "cell_type": "markdown",
   "id": "f478413e",
   "metadata": {},
   "source": [
    "### 보석과 돌\n",
    "J는 보석이며, S는 갖고 있는 돌이다. S에는 보석이 몇 개나 있을까? 대소문자는 구분한다.   \n",
    "이 문제는 갖고 있는 돌 S의 각각의 개수를 모두 헤아린 다음, J의 각 요소를 키로 하는 각 개수를 합산하면 풀이할 수 있다.\n",
    "298p "
   ]
  },
  {
   "cell_type": "code",
   "execution_count": 159,
   "id": "a8c966eb",
   "metadata": {
    "ExecuteTime": {
     "end_time": "2021-12-12T18:07:31.710694Z",
     "start_time": "2021-12-12T18:07:31.700565Z"
    }
   },
   "outputs": [],
   "source": [
    "J='aA'\n",
    "S='aAAbbbb'"
   ]
  },
  {
   "cell_type": "code",
   "execution_count": 160,
   "id": "e46c9659",
   "metadata": {
    "ExecuteTime": {
     "end_time": "2021-12-12T18:14:05.427244Z",
     "start_time": "2021-12-12T18:14:05.412117Z"
    }
   },
   "outputs": [],
   "source": [
    "def numJewels(self,J:str,S:str)->int:\n",
    "    \n",
    "\n",
    "    freqs={}\n",
    "\n",
    "    for char in S:\n",
    "        if char not in freqs:\n",
    "            freqs[char]=1\n",
    "        else:\n",
    "            freqs[char]+=1\n",
    "\n",
    "    count=0\n",
    "    for char in J:\n",
    "        if char in freqs:\n",
    "            count+= freqs[char]\n",
    "\n",
    "    return count\n",
    "\n",
    "#-----------------\n",
    "\n",
    "# 코드 줄이기\n",
    "\n",
    "\n",
    "def numJewels2(self,J,S):\n",
    "    \n",
    "    freqs=collections.defaultdict(int) # defaultdict = 존재하지 않는 키에 대해 디폴트를 리턴\n",
    "    count=0\n",
    "    \n",
    "    for char in S:\n",
    "        freqs[char]+=1\n",
    "        \n",
    "    for char in J:\n",
    "        count+= freqs[char]\n",
    "        \n",
    "    return count\n",
    "\n",
    "\n",
    "#-----------------\n",
    "# count 버전\n",
    "\n",
    "def numJewels3(self,J,S):\n",
    "    \n",
    "    freqs=collections.Counter(S)\n",
    "    count=0\n",
    "    \n",
    "    for char in J:\n",
    "        count+=freqs[char]\n",
    "        \n",
    "    return count\n",
    "\n",
    "\n",
    "#-------------------\n",
    "# 파이썬 다운 방식\n",
    "\n",
    "def numJewels4(self,J,S):\n",
    "    \n",
    "    return sum(s in J for s in S)"
   ]
  },
  {
   "cell_type": "code",
   "execution_count": 161,
   "id": "706893fd",
   "metadata": {
    "ExecuteTime": {
     "end_time": "2021-12-12T18:14:18.305542Z",
     "start_time": "2021-12-12T18:14:18.290815Z"
    }
   },
   "outputs": [
    {
     "data": {
      "text/plain": [
       "3"
      ]
     },
     "execution_count": 161,
     "metadata": {},
     "output_type": "execute_result"
    }
   ],
   "source": [
    "numJewels(numJewels,J,S)"
   ]
  },
  {
   "cell_type": "markdown",
   "id": "37a21fb7",
   "metadata": {},
   "source": [
    "### 중복 문자 없는 가장 긴 부분 문자열\n",
    "중복 문자가 없는 갖아 긴 부분 문자열의 길이를 리턴하라\n",
    "303p"
   ]
  },
  {
   "cell_type": "code",
   "execution_count": 162,
   "id": "464c0bc3",
   "metadata": {
    "ExecuteTime": {
     "end_time": "2021-12-12T18:20:29.332352Z",
     "start_time": "2021-12-12T18:20:29.323380Z"
    }
   },
   "outputs": [],
   "source": [
    "s= 'abcabcbb'\n",
    "# 출력 3"
   ]
  },
  {
   "cell_type": "code",
   "execution_count": 163,
   "id": "e9314dc2",
   "metadata": {
    "ExecuteTime": {
     "end_time": "2021-12-12T18:47:59.069261Z",
     "start_time": "2021-12-12T18:47:59.044292Z"
    }
   },
   "outputs": [],
   "source": [
    "# 슬라이딩 윈도우와 투 포인터로 사이즈 조절\n",
    "\n",
    "def length(self,s:str)->int:\n",
    "    used={}\n",
    "    max_length=start=0\n",
    "    for index, char in enumerate(s):\n",
    "        \n",
    "        # 이미 등장했던 문자라면 'start' 위치 갱신 \n",
    "        if char in used and start<=used[char] :  # 이 부분 이해 어렵다. -> 이해성공\n",
    "            start = used[char]+1\n",
    "        else: # 최대 부분 문자열 길이 갱신\n",
    "            max_length = max(max_length, index - start+1)\n",
    "            \n",
    "            \n",
    "        # 현재 문자의 위치 삽입\n",
    "        used[char] = index\n",
    "        \n",
    "    return max_length"
   ]
  },
  {
   "cell_type": "code",
   "execution_count": 165,
   "id": "81f170ec",
   "metadata": {
    "ExecuteTime": {
     "end_time": "2021-12-12T18:48:12.731035Z",
     "start_time": "2021-12-12T18:48:12.712085Z"
    }
   },
   "outputs": [
    {
     "data": {
      "text/plain": [
       "3"
      ]
     },
     "execution_count": 165,
     "metadata": {},
     "output_type": "execute_result"
    }
   ],
   "source": [
    "length(length,s)"
   ]
  },
  {
   "cell_type": "markdown",
   "id": "f8768b91",
   "metadata": {},
   "source": [
    "### 상위 K 빈도 요소\n",
    "상위 k번 이상 등장하는 요소를 추출하라.\n",
    "307p"
   ]
  },
  {
   "cell_type": "code",
   "execution_count": 167,
   "id": "23aa40cb",
   "metadata": {
    "ExecuteTime": {
     "end_time": "2021-12-12T18:55:46.072596Z",
     "start_time": "2021-12-12T18:55:46.058633Z"
    }
   },
   "outputs": [],
   "source": [
    "nums = [1,1,1,2,2,3]\n",
    "k=2\n",
    "\n",
    "# 출력 [1,2]"
   ]
  },
  {
   "cell_type": "markdown",
   "id": "056a8c57",
   "metadata": {},
   "source": [
    "내 풀이"
   ]
  },
  {
   "cell_type": "code",
   "execution_count": 175,
   "id": "e23ca780",
   "metadata": {
    "ExecuteTime": {
     "end_time": "2021-12-12T19:00:25.669723Z",
     "start_time": "2021-12-12T19:00:25.652768Z"
    }
   },
   "outputs": [
    {
     "name": "stdout",
     "output_type": "stream",
     "text": [
      "[1, 2]\n"
     ]
    }
   ],
   "source": [
    "freq=collections.defaultdict(int)\n",
    "\n",
    "for i in nums:\n",
    "    freq[i]+=1\n",
    "list_=[]\n",
    "for j in freq:\n",
    "    if freq[j]>=k:\n",
    "        list_.append(j)\n",
    "print(list_)"
   ]
  },
  {
   "cell_type": "markdown",
   "id": "5ca988a7",
   "metadata": {},
   "source": [
    "Counter를 이용한 음수 순  , 우선순위 큐(heaq)"
   ]
  },
  {
   "cell_type": "markdown",
   "id": "13881335",
   "metadata": {},
   "source": [
    "요소의 값을 키로 하는 해시 테이블을 만들고 여기에 빈도 수를 저장한 다음,    \n",
    "우선순위 큐를 이용해 상위 k번만큼 추출하면 k번 이상 등장하는 요소를 손쉽게 추출 할 수 있다."
   ]
  },
  {
   "cell_type": "code",
   "execution_count": 183,
   "id": "3fe2a67e",
   "metadata": {
    "ExecuteTime": {
     "end_time": "2021-12-12T19:15:05.189947Z",
     "start_time": "2021-12-12T19:15:05.169001Z"
    }
   },
   "outputs": [],
   "source": [
    "import heapq\n",
    "\n",
    "\n",
    "def top(self,nums:int,k:int)->int:\n",
    "    \n",
    "    freqs = collections.Counter(nums)\n",
    "    freqs_heap=[]\n",
    "    \n",
    "    for f in freqs:\n",
    "        heapq.heappush(freqs_heap,(-freqs[f],f))\n",
    "        \n",
    "        \n",
    "    topk=list()\n",
    "    \n",
    "    for _ in range(k):\n",
    "        topk.append(heapq.heappop(freqs_heap)[1])\n",
    "        \n",
    "    return topk\n",
    "\n",
    "\n",
    "# 파이썬다운 방식\n",
    "def top2(self,nums:int,k:int)->int:\n",
    "    \n",
    "    return list(zip(*collections.Counter(nums).most_common(k)))[0]"
   ]
  },
  {
   "cell_type": "code",
   "execution_count": 184,
   "id": "0384bce1",
   "metadata": {
    "ExecuteTime": {
     "end_time": "2021-12-12T19:15:05.392624Z",
     "start_time": "2021-12-12T19:15:05.379552Z"
    }
   },
   "outputs": [
    {
     "data": {
      "text/plain": [
       "[1, 2]"
      ]
     },
     "execution_count": 184,
     "metadata": {},
     "output_type": "execute_result"
    }
   ],
   "source": [
    "top(top,nums,k)"
   ]
  },
  {
   "cell_type": "code",
   "execution_count": null,
   "id": "d87d4ed4",
   "metadata": {},
   "outputs": [],
   "source": []
  }
 ],
 "metadata": {
  "hide_input": false,
  "kernelspec": {
   "display_name": "Python 3 (ipykernel)",
   "language": "python",
   "name": "python3"
  },
  "language_info": {
   "codemirror_mode": {
    "name": "ipython",
    "version": 3
   },
   "file_extension": ".py",
   "mimetype": "text/x-python",
   "name": "python",
   "nbconvert_exporter": "python",
   "pygments_lexer": "ipython3",
   "version": "3.8.11"
  },
  "toc": {
   "base_numbering": 1,
   "nav_menu": {},
   "number_sections": true,
   "sideBar": true,
   "skip_h1_title": false,
   "title_cell": "Table of Contents",
   "title_sidebar": "Contents",
   "toc_cell": false,
   "toc_position": {},
   "toc_section_display": true,
   "toc_window_display": false
  }
 },
 "nbformat": 4,
 "nbformat_minor": 5
}
