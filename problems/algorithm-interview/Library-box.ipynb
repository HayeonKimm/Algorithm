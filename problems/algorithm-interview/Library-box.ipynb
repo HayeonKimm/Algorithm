{
 "cells": [
  {
   "cell_type": "markdown",
   "id": "c2e97c13",
   "metadata": {},
   "source": [
    "### 두 수의 합 (1.Two Sum)\n",
    "\n",
    "덧셈하여 타겟을 만들 수 있는 배열의 두 숫자 인덱스를 리턴하라."
   ]
  },
  {
   "cell_type": "code",
   "execution_count": 2,
   "id": "b5aba0d2",
   "metadata": {
    "ExecuteTime": {
     "end_time": "2021-12-12T08:21:51.901145Z",
     "start_time": "2021-12-12T08:21:51.880069Z"
    }
   },
   "outputs": [],
   "source": [
    "nums = [2,7,11,15]\n",
    "target=9"
   ]
  },
  {
   "cell_type": "markdown",
   "id": "e84d1fd2",
   "metadata": {},
   "source": [
    "내 풀이"
   ]
  },
  {
   "cell_type": "code",
   "execution_count": 5,
   "id": "b560d490",
   "metadata": {
    "ExecuteTime": {
     "end_time": "2021-12-12T08:24:27.617547Z",
     "start_time": "2021-12-12T08:24:27.601589Z"
    }
   },
   "outputs": [
    {
     "name": "stdout",
     "output_type": "stream",
     "text": [
      "[0, 1]\n"
     ]
    }
   ],
   "source": [
    "for idx,num in enumerate(nums):\n",
    "    for idx2,num2 in enumerate(nums):\n",
    "        if num+num2==target:\n",
    "            if idx<idx2:\n",
    "                print([idx,idx2])"
   ]
  },
  {
   "cell_type": "markdown",
   "id": "a78aa1d0",
   "metadata": {},
   "source": [
    "책에서 나온 브루트포스 풀이법"
   ]
  },
  {
   "cell_type": "code",
   "execution_count": 16,
   "id": "6978f0da",
   "metadata": {
    "ExecuteTime": {
     "end_time": "2021-12-12T08:37:15.967699Z",
     "start_time": "2021-12-12T08:37:15.925290Z"
    }
   },
   "outputs": [
    {
     "data": {
      "text/plain": [
       "[0, 1]"
      ]
     },
     "execution_count": 16,
     "metadata": {},
     "output_type": "execute_result"
    }
   ],
   "source": [
    "def twosum(self, nums:int, target:int) -> int:\n",
    "    \n",
    "    for i in range(len(nums)):\n",
    "        for j in range(i+1, len(nums)): # 중복을 피하는 방법. 내 풀이에서는 if로 중복을 피했다.\n",
    "            if nums[i]+nums[j]==target:\n",
    "                return [i,j]\n",
    "            \n",
    "            \n",
    "twosum(twosum,nums,target)"
   ]
  },
  {
   "cell_type": "markdown",
   "id": "8201bcc9",
   "metadata": {},
   "source": [
    "지나치게 느리다. 시간복잡도 O(n^2) 5284밀리초"
   ]
  },
  {
   "cell_type": "markdown",
   "id": "54f84abb",
   "metadata": {},
   "source": [
    "개선된 풀이 - 조회 구조 개선"
   ]
  },
  {
   "cell_type": "code",
   "execution_count": 19,
   "id": "1721102e",
   "metadata": {
    "ExecuteTime": {
     "end_time": "2021-12-12T08:46:31.837358Z",
     "start_time": "2021-12-12T08:46:31.817868Z"
    }
   },
   "outputs": [],
   "source": [
    "def twoSum(self, nums: int , target:int) -> int:\n",
    "    \n",
    "    nums_map = {}\n",
    "    # 하나의 for 문으로 통합\n",
    "    \n",
    "    for i, num in enumerate(nums):\n",
    "        if target - num in nums_map:\n",
    "            return [nums_map[target-num],i]\n",
    "        nums_map[num]=i"
   ]
  },
  {
   "cell_type": "code",
   "execution_count": 20,
   "id": "ee0cdb79",
   "metadata": {
    "ExecuteTime": {
     "end_time": "2021-12-12T08:46:50.266902Z",
     "start_time": "2021-12-12T08:46:50.242928Z"
    }
   },
   "outputs": [
    {
     "data": {
      "text/plain": [
       "[0, 1]"
      ]
     },
     "execution_count": 20,
     "metadata": {},
     "output_type": "execute_result"
    }
   ],
   "source": [
    "twoSum(twoSum,nums,target)\n",
    "\n",
    "# 44밀리 O(1) 시간복잡도"
   ]
  },
  {
   "cell_type": "code",
   "execution_count": 21,
   "id": "686656c0",
   "metadata": {
    "ExecuteTime": {
     "end_time": "2021-12-12T09:11:37.452455Z",
     "start_time": "2021-12-12T09:11:37.440487Z"
    }
   },
   "outputs": [],
   "source": [
    "#이해하기 쉬운 풀이\n",
    "\n",
    "def two(self, nums:int, target:int)->int:\n",
    "    nums_map={}\n",
    "    \n",
    "    # 키와 값을 바꿔서 딕셔너리로 저장\n",
    "    \n",
    "    for i, num in enumerate(nums):\n",
    "        nums_map[num]=i\n",
    "        \n",
    "    # 타겟에서 첫 번째 수를 뺀 결과를 키로 조회\n",
    "    \n",
    "    for i, num in enumerate(nums):\n",
    "        if target - num in nums_map and i != nums_map[target-num]:\n",
    "            return [i, nums_map[target-num]]"
   ]
  },
  {
   "cell_type": "code",
   "execution_count": 29,
   "id": "e2ce8ea0",
   "metadata": {
    "ExecuteTime": {
     "end_time": "2021-12-12T09:13:05.376000Z",
     "start_time": "2021-12-12T09:13:05.366027Z"
    }
   },
   "outputs": [],
   "source": [
    "nums=[2,7,11,15]"
   ]
  },
  {
   "cell_type": "code",
   "execution_count": 30,
   "id": "5f9976b9",
   "metadata": {
    "ExecuteTime": {
     "end_time": "2021-12-12T09:13:05.597729Z",
     "start_time": "2021-12-12T09:13:05.584297Z"
    },
    "scrolled": true
   },
   "outputs": [
    {
     "data": {
      "text/plain": [
       "[0, 1]"
      ]
     },
     "execution_count": 30,
     "metadata": {},
     "output_type": "execute_result"
    }
   ],
   "source": [
    "two(two,nums,target)"
   ]
  },
  {
   "cell_type": "markdown",
   "id": "56ff438f",
   "metadata": {},
   "source": [
    "### 세 수의 합 184p"
   ]
  },
  {
   "cell_type": "markdown",
   "id": "5eeda215",
   "metadata": {},
   "source": [
    "배열을 입력받아 합으로 0을 만들 수 있는 3개의 엘리먼트를 출력하라"
   ]
  },
  {
   "cell_type": "code",
   "execution_count": 2,
   "id": "bb9f7beb",
   "metadata": {
    "ExecuteTime": {
     "end_time": "2021-12-12T09:30:16.538009Z",
     "start_time": "2021-12-12T09:30:16.526096Z"
    }
   },
   "outputs": [],
   "source": [
    "nums= [-1,0,1,2,-1,-4]"
   ]
  },
  {
   "cell_type": "code",
   "execution_count": null,
   "id": "a389fcbe",
   "metadata": {},
   "outputs": [],
   "source": [
    "# 풀이 : 투 포인터로 합 계산\n",
    "    \n",
    "def threeSum(self, nums:int)->int:\n",
    "    \n",
    "    result=[]\n",
    "    nums.sort()\n",
    "    \n",
    "    for i in range(len(nums)-2):\n",
    "        \n",
    "        # 중복된 값 건너뛰기\n",
    "        \n",
    "        if i>0 and nums[i] == nums[i-1]:\n",
    "            continue\n",
    "            \n",
    "        # 간격을 좁혀가면서 sum 계산\n",
    "        \n",
    "        left, right = i+1, len(nums) -1 \n",
    "        \n",
    "        while left<right:\n",
    "            sum= nums[i]+nums[left]+nums[right]\n",
    "            \n",
    "            if sum<0:\n",
    "                left+=1\n",
    "                \n",
    "            elif sum>0:\n",
    "                right-=1\n",
    "            else:\n",
    "                \n",
    "                # sum =0인 경우이므로 정답 및 스킵 처리\n",
    "                \n",
    "            results.append([nums[i], nums[left], nums[right]])\n",
    "            \n",
    "            while left < right and nums[left] == nums[left+1]:\n",
    "                left+=1\n",
    "            while left < right and nums[right] == nums[right-1]:\n",
    "                right-=1\n",
    "                \n",
    "            left+=1\n",
    "            right-=1\n",
    "            \n",
    "        return results"
   ]
  },
  {
   "cell_type": "markdown",
   "id": "87547746",
   "metadata": {},
   "source": [
    "### 유효한 팰린드롬 (138p)"
   ]
  },
  {
   "cell_type": "markdown",
   "id": "e3530d8a",
   "metadata": {},
   "source": [
    "주어진 문자열이 팰린드롬인지 확인하라. 대소문자를 구분하지 않으며, 영문자와 숫자만을 대상으로 한다."
   ]
  },
  {
   "cell_type": "markdown",
   "id": "a21f931a",
   "metadata": {},
   "source": [
    "input : \"A man, a plan, a canal: Panama\"   \n",
    "output : true"
   ]
  },
  {
   "cell_type": "code",
   "execution_count": 1,
   "id": "c77b7e72",
   "metadata": {
    "ExecuteTime": {
     "end_time": "2021-12-12T12:17:07.424595Z",
     "start_time": "2021-12-12T12:17:07.411629Z"
    }
   },
   "outputs": [],
   "source": [
    "s=\"A man, a plan, a canal: Panama\"  "
   ]
  },
  {
   "cell_type": "code",
   "execution_count": 2,
   "id": "037f016e",
   "metadata": {
    "ExecuteTime": {
     "end_time": "2021-12-12T12:17:13.631952Z",
     "start_time": "2021-12-12T12:17:13.610011Z"
    }
   },
   "outputs": [
    {
     "name": "stdout",
     "output_type": "stream",
     "text": [
      "['a', 'm', 'a', 'n', 'a', 'p', 'l', 'a', 'n', 'a', 'c', 'a', 'n', 'a', 'l', 'p', 'a', 'n', 'a', 'm', 'a']\n"
     ]
    }
   ],
   "source": [
    "# 풀이 1 리스트로 변환\n",
    "\n",
    "strs=[]\n",
    "for char in s:\n",
    "    if char.isalnum():\n",
    "        strs.append(char.lower())\n",
    "        \n",
    "print(strs)"
   ]
  },
  {
   "cell_type": "markdown",
   "id": "563e0e06",
   "metadata": {
    "ExecuteTime": {
     "end_time": "2021-12-12T12:17:49.559328Z",
     "start_time": "2021-12-12T12:17:49.544366Z"
    }
   },
   "source": [
    "이제 다음과 같이 팰린드롬 여부를 판별해보자."
   ]
  },
  {
   "cell_type": "code",
   "execution_count": 5,
   "id": "7bab064a",
   "metadata": {
    "ExecuteTime": {
     "end_time": "2021-12-12T12:20:17.735336Z",
     "start_time": "2021-12-12T12:20:17.714390Z"
    }
   },
   "outputs": [],
   "source": [
    "while len(strs)>1:\n",
    "    if strs.pop(0) != strs.pop():\n",
    "        return False\n",
    "    \n",
    "return True"
   ]
  },
  {
   "cell_type": "code",
   "execution_count": 9,
   "id": "663f92c3",
   "metadata": {
    "ExecuteTime": {
     "end_time": "2021-12-12T12:21:45.709677Z",
     "start_time": "2021-12-12T12:21:45.676779Z"
    }
   },
   "outputs": [
    {
     "data": {
      "text/plain": [
       "True"
      ]
     },
     "execution_count": 9,
     "metadata": {},
     "output_type": "execute_result"
    }
   ],
   "source": [
    "# 풀이 1 리스트로 변환 O(n^2)\n",
    "\n",
    "def isPaildrome(s: str)->bool:\n",
    "\n",
    "    strs=[]\n",
    "    for char in s:\n",
    "        if char.isalnum():\n",
    "            strs.append(char.lower())\n",
    "\n",
    "#     print(strs)\n",
    "\n",
    "    while len(strs)>1:\n",
    "        if strs.pop(0) != strs.pop():\n",
    "            return False\n",
    "\n",
    "    return True\n",
    "\n",
    "\n",
    "isPaildrome(s)"
   ]
  },
  {
   "cell_type": "markdown",
   "id": "9d5d01d9",
   "metadata": {},
   "source": [
    "데크 자료형을 이용한 최적화 O(n)"
   ]
  },
  {
   "cell_type": "code",
   "execution_count": 14,
   "id": "c1356889",
   "metadata": {
    "ExecuteTime": {
     "end_time": "2021-12-12T12:26:05.695369Z",
     "start_time": "2021-12-12T12:26:05.665918Z"
    }
   },
   "outputs": [
    {
     "data": {
      "text/plain": [
       "True"
      ]
     },
     "execution_count": 14,
     "metadata": {},
     "output_type": "execute_result"
    }
   ],
   "source": [
    "from collections import deque\n",
    "\n",
    "def isPaildrome2(s:str) -> bool:\n",
    "    \n",
    "    # 자료형 데크로 선언\n",
    "    strs: Deque = deque()\n",
    "        \n",
    "    for char in s:\n",
    "        if char.isalnum():\n",
    "            strs.append(char.lower())\n",
    "            \n",
    "    while len(strs)>1:\n",
    "        if strs.popleft()!=strs.pop():\n",
    "            return False\n",
    "            \n",
    "    return True\n",
    "\n",
    "\n",
    "isPaildrome2(s)"
   ]
  },
  {
   "cell_type": "markdown",
   "id": "2d6f5b93",
   "metadata": {},
   "source": [
    "### 문자열 뒤집기"
   ]
  },
  {
   "cell_type": "markdown",
   "id": "68d5c4e6",
   "metadata": {},
   "source": [
    "입력 : ['h','e','l','l','o']   \n",
    "출력 : ['o','l','l','e','h']"
   ]
  },
  {
   "cell_type": "code",
   "execution_count": 42,
   "id": "dc67203c",
   "metadata": {
    "ExecuteTime": {
     "end_time": "2021-12-12T12:59:14.831030Z",
     "start_time": "2021-12-12T12:59:14.813595Z"
    }
   },
   "outputs": [],
   "source": [
    "s=['h','e','l','l','o']"
   ]
  },
  {
   "cell_type": "code",
   "execution_count": 51,
   "id": "e614f6b2",
   "metadata": {
    "ExecuteTime": {
     "end_time": "2021-12-12T13:05:09.624340Z",
     "start_time": "2021-12-12T13:05:09.603433Z"
    }
   },
   "outputs": [
    {
     "data": {
      "text/plain": [
       "['o', 'l', 'l', 'e', 'h']"
      ]
     },
     "execution_count": 51,
     "metadata": {},
     "output_type": "execute_result"
    }
   ],
   "source": [
    "# 간단한 방식\n",
    "#s=s[::-1]\n",
    "\n",
    "# 투 포인터\n",
    "\n",
    "def reverseString(s:str)->str:\n",
    "    \n",
    "    left,right =0, len(s)-1\n",
    "    \n",
    "    while left<right:\n",
    "        \n",
    "        s[left], s[right] = s[right], s[left]\n",
    "        left+=1\n",
    "        right-=1\n",
    "        \n",
    "    return s\n",
    "        \n",
    "        \n",
    "reverseString(s)"
   ]
  },
  {
   "cell_type": "markdown",
   "id": "43b2968f",
   "metadata": {
    "ExecuteTime": {
     "end_time": "2021-12-12T12:59:06.578573Z",
     "start_time": "2021-12-12T12:59:06.555539Z"
    }
   },
   "source": [
    "### 로그파일 재정렬 \n",
    "148p"
   ]
  },
  {
   "cell_type": "markdown",
   "id": "88d0e4b6",
   "metadata": {
    "ExecuteTime": {
     "end_time": "2021-12-12T13:07:54.631707Z",
     "start_time": "2021-12-12T13:07:54.614214Z"
    }
   },
   "source": [
    "정렬기준\n",
    "\n",
    "1. 로그의 가장 앞 부분은 식별자다.\n",
    "2. 문자로 구성된 로그가 숫자 로그보다 앞에 온다.\n",
    "3. 식별자는 순서에 영향을 끼치지 않지만, 문자가 동일할 경우 식별자 순으로 한다.\n",
    "4. 숫자 로그는 입력 순서대로 한다."
   ]
  },
  {
   "cell_type": "code",
   "execution_count": 60,
   "id": "f52ebc89",
   "metadata": {
    "ExecuteTime": {
     "end_time": "2021-12-12T13:10:34.581195Z",
     "start_time": "2021-12-12T13:10:34.564176Z"
    }
   },
   "outputs": [],
   "source": [
    "logs = ['dig1 8 1 5 1','let1 art can','dig2 3 6','let2 own kit dig','let3 art zero']"
   ]
  },
  {
   "cell_type": "code",
   "execution_count": 61,
   "id": "40924752",
   "metadata": {
    "ExecuteTime": {
     "end_time": "2021-12-12T13:17:01.792703Z",
     "start_time": "2021-12-12T13:17:01.773640Z"
    }
   },
   "outputs": [],
   "source": [
    "def reorderLogFiles(logs:str) -> str:\n",
    "    \n",
    "    letters, digits =[],[]\n",
    "    \n",
    "    for log in logs:\n",
    "        if log.split()[1].isdigit():\n",
    "            digits.append(log)\n",
    "            \n",
    "        else:\n",
    "            letters.append(log)\n",
    "            \n",
    "    # 2개의 키를 람다 표현식으로 정렬\n",
    "    \n",
    "    letters.sort(key=lambda x: (x.split()[1:],x.split()[0]))\n",
    "    return letters+digits"
   ]
  },
  {
   "cell_type": "code",
   "execution_count": 63,
   "id": "ba843b40",
   "metadata": {
    "ExecuteTime": {
     "end_time": "2021-12-12T13:17:57.035700Z",
     "start_time": "2021-12-12T13:17:57.020739Z"
    }
   },
   "outputs": [
    {
     "name": "stdout",
     "output_type": "stream",
     "text": [
      "let1 art canlet3 art zerolet2 own kit digdig1 8 1 5 1dig2 3 6"
     ]
    }
   ],
   "source": [
    "reorderLogFiles(logs)\n",
    "\n",
    "for i in reorderLogFiles(logs):\n",
    "    print(i,end='')"
   ]
  },
  {
   "cell_type": "markdown",
   "id": "e6d7b7ad",
   "metadata": {},
   "source": [
    "### 가장 흔한 단어\n",
    "\n",
    "819p"
   ]
  },
  {
   "cell_type": "markdown",
   "id": "b7108836",
   "metadata": {},
   "source": [
    "금지된 단어를 제외한 가장 흔하게 등장하는 단어를 출력하라. 대소문자 구분을 하지 않으며, 구두점(마침표,쉼표 등) 또한 무시한다."
   ]
  },
  {
   "cell_type": "code",
   "execution_count": 64,
   "id": "04f061b7",
   "metadata": {
    "ExecuteTime": {
     "end_time": "2021-12-12T13:19:41.301980Z",
     "start_time": "2021-12-12T13:19:41.294001Z"
    }
   },
   "outputs": [],
   "source": [
    "#입력\n",
    "\n",
    "paragraph='Bob hit a ball, the hit BALL flew far after it was hit'\n",
    "banned = ['hit']"
   ]
  },
  {
   "cell_type": "code",
   "execution_count": 71,
   "id": "0215ed1c",
   "metadata": {
    "ExecuteTime": {
     "end_time": "2021-12-12T14:50:01.106775Z",
     "start_time": "2021-12-12T14:50:01.074833Z"
    }
   },
   "outputs": [
    {
     "data": {
      "text/plain": [
       "'ball'"
      ]
     },
     "execution_count": 71,
     "metadata": {},
     "output_type": "execute_result"
    }
   ],
   "source": [
    "# 풀이\n",
    "#입력값에는 대소문자가 섞여 있으며, 쉼표 등 구두점이 존재한다.\n",
    "#따라서 데이터 클렌징(Data Cleansing)이라 부르는 입력값에 대한 전처리 작업이 필요하다.\n",
    "\n",
    "def words(s:str)->str:\n",
    "    import re\n",
    "    import collections\n",
    "\n",
    "    word = [word for word in re.sub(r'[^\\w]',' ',paragraph)  # 단어 문자가 아닌 모든 문자를 공백으로 치환\n",
    "            .lower().split()\n",
    "            if word not in banned]\n",
    "\n",
    "    counts = collections.Counter(word)\n",
    "\n",
    "    # 가장 흔하게 등장하는 단어의 첫 번째 인덱스 리턴\n",
    "\n",
    "    return (counts.most_common(1)[0][0])\n",
    "\n",
    "words(s)"
   ]
  },
  {
   "cell_type": "markdown",
   "id": "27345458",
   "metadata": {},
   "source": [
    "### 그룹 애너그램\n",
    "\n",
    "153p"
   ]
  },
  {
   "cell_type": "markdown",
   "id": "97b3fa54",
   "metadata": {},
   "source": [
    "애너그램 푸는 법:   \n",
    "    1.정렬\n",
    "    2.비교"
   ]
  },
  {
   "cell_type": "code",
   "execution_count": 74,
   "id": "44ca9782",
   "metadata": {
    "ExecuteTime": {
     "end_time": "2021-12-12T14:59:44.500538Z",
     "start_time": "2021-12-12T14:59:44.482585Z"
    }
   },
   "outputs": [],
   "source": [
    "s=['eat','tea','tan','ate','nat','bat']\n",
    "\n",
    "from collections import defaultdict\n",
    "def groupana(strs:str)->str:\n",
    "    anagrams = defaultdict(list)\n",
    "    \n",
    "    for word in strs:\n",
    "        # 정렬하여 딕셔너리에 추가\n",
    "        anagrams[''.join(sorted(word))].append(word)\n",
    "        \n",
    "    return list(anagrams.values())"
   ]
  },
  {
   "cell_type": "code",
   "execution_count": 75,
   "id": "49b7fded",
   "metadata": {
    "ExecuteTime": {
     "end_time": "2021-12-12T14:59:44.902244Z",
     "start_time": "2021-12-12T14:59:44.881299Z"
    }
   },
   "outputs": [
    {
     "data": {
      "text/plain": [
       "[['eat', 'tea', 'ate'], ['tan', 'nat'], ['bat']]"
      ]
     },
     "execution_count": 75,
     "metadata": {},
     "output_type": "execute_result"
    }
   ],
   "source": [
    "groupana(s)"
   ]
  },
  {
   "cell_type": "markdown",
   "id": "dee994b2",
   "metadata": {},
   "source": [
    "### 가장 긴 팰린드롬 부분 문자열\n",
    "\n",
    "159p"
   ]
  },
  {
   "cell_type": "code",
   "execution_count": 77,
   "id": "f3e362aa",
   "metadata": {
    "ExecuteTime": {
     "end_time": "2021-12-12T15:03:19.187754Z",
     "start_time": "2021-12-12T15:03:19.177780Z"
    }
   },
   "outputs": [],
   "source": [
    "s='babad'\n",
    "s2='cbbd'"
   ]
  },
  {
   "cell_type": "code",
   "execution_count": 80,
   "id": "67e09470",
   "metadata": {
    "ExecuteTime": {
     "end_time": "2021-12-12T15:19:05.370935Z",
     "start_time": "2021-12-12T15:19:05.346887Z"
    }
   },
   "outputs": [],
   "source": [
    "def longstPalidrome(s:str)->str:\n",
    "    #팰린드롬 판별 및 투 포인터 확장\n",
    "    \n",
    "    def expand(left:int,right:int)->str:\n",
    "        while left >= 0 and right <len(s) and s[left] == s[right]:\n",
    "            left-=1\n",
    "            right+=1\n",
    "            \n",
    "        return s[left+1:right]\n",
    "    \n",
    "    \n",
    "    # 해당 사항이 없을 때 빠르게 리턴\n",
    "    \n",
    "    if len(s)<2 or s==s[::-1]:\n",
    "        return s\n",
    "    result=''\n",
    "    \n",
    "    \n",
    "    # 슬라이딩 윈도우 우측으로 이동\n",
    "    for i in range(len(s)-1):\n",
    "        \n",
    "        result=max(result,\n",
    "                  expand(i,i+1), # 짝수\n",
    "                  expand(i,i+2), # 홀수\n",
    "                  key=len)\n",
    "    return result"
   ]
  },
  {
   "cell_type": "code",
   "execution_count": 81,
   "id": "3180ec51",
   "metadata": {
    "ExecuteTime": {
     "end_time": "2021-12-12T15:19:06.058334Z",
     "start_time": "2021-12-12T15:19:06.044260Z"
    }
   },
   "outputs": [
    {
     "data": {
      "text/plain": [
       "'bab'"
      ]
     },
     "execution_count": 81,
     "metadata": {},
     "output_type": "execute_result"
    }
   ],
   "source": [
    "longstPalidrome(s)"
   ]
  },
  {
   "cell_type": "markdown",
   "id": "addd0609",
   "metadata": {},
   "source": [
    "### 배열 파티션 1\n",
    "n개의 페어를 이용한 min(a,b)의 합으로 만들 수 있는 가장 큰 수를 출력하라.\n",
    "190p"
   ]
  },
  {
   "cell_type": "markdown",
   "id": "57ac2f45",
   "metadata": {},
   "source": [
    "풀이 : 앞에서부터 오름차순으로 정렬하고 인접 요소 페어를 만들면 곧 만들 수 있는 최대 합이 된다."
   ]
  },
  {
   "cell_type": "code",
   "execution_count": 82,
   "id": "3e0bd772",
   "metadata": {
    "ExecuteTime": {
     "end_time": "2021-12-12T15:21:43.084812Z",
     "start_time": "2021-12-12T15:21:43.071823Z"
    }
   },
   "outputs": [],
   "source": [
    "s= [1,4,3,2]\n",
    "# output 4"
   ]
  },
  {
   "cell_type": "code",
   "execution_count": 87,
   "id": "167c4f71",
   "metadata": {
    "ExecuteTime": {
     "end_time": "2021-12-12T15:41:57.036798Z",
     "start_time": "2021-12-12T15:41:57.014849Z"
    }
   },
   "outputs": [],
   "source": [
    "# 코드\n",
    "\n",
    "def arrayPairSum(nums:int)->int:\n",
    "    \n",
    "    sum=0\n",
    "    pair=[]\n",
    "    nums.sort() # 오름차순 정렬\n",
    "    \n",
    "    for n in nums:\n",
    "        \n",
    "        pair.append(n)\n",
    "        if len(pair)==2:\n",
    "            sum+=min(pair)\n",
    "            pair=[] # 다음 턴을 위해 초기화\n",
    "            \n",
    "    return sum\n",
    "\n",
    "\n",
    "#--------------\n",
    "\n",
    "# 풀이 2 : 짝수 번째 값 계산 , 정렬하면 짝수값은 늘 작다\n",
    "\n",
    "\n",
    "def arrayPairSum2(nums:int)->int:\n",
    "    \n",
    "    sum=0\n",
    "    nums.sort()\n",
    "    \n",
    "    for i,n in enumerate(nums):\n",
    "        \n",
    "        # 짝수 번째 값의 합 계산\n",
    "        \n",
    "        if i%2==0:\n",
    "            sum+=n\n",
    "            \n",
    "    return sum\n",
    "\n",
    "# 파이썬 다운 방식\n",
    "\n",
    "def arrayPairSum3(nums:int)->int:\n",
    "    \n",
    "    sum=0\n",
    "    \n",
    "    return sum(sorted(nums)[::2])\n",
    "    "
   ]
  },
  {
   "cell_type": "code",
   "execution_count": 89,
   "id": "f7498a74",
   "metadata": {
    "ExecuteTime": {
     "end_time": "2021-12-12T15:42:31.909780Z",
     "start_time": "2021-12-12T15:42:31.904791Z"
    }
   },
   "outputs": [
    {
     "data": {
      "text/plain": [
       "4"
      ]
     },
     "execution_count": 89,
     "metadata": {},
     "output_type": "execute_result"
    }
   ],
   "source": [
    "arrayPairSum2(s)"
   ]
  },
  {
   "cell_type": "markdown",
   "id": "f78b533c",
   "metadata": {},
   "source": [
    "### 자신을 제외한 배열의 곱 \n",
    "193p"
   ]
  },
  {
   "cell_type": "code",
   "execution_count": 90,
   "id": "3e56394d",
   "metadata": {
    "ExecuteTime": {
     "end_time": "2021-12-12T15:43:17.672198Z",
     "start_time": "2021-12-12T15:43:17.652252Z"
    }
   },
   "outputs": [],
   "source": [
    "#"
   ]
  },
  {
   "cell_type": "markdown",
   "id": "82b51843",
   "metadata": {},
   "source": [
    "### 팰린드롬 연결 리스트\n",
    "연결 리스트가 팰린드롬 구조인지 판별하라.\n",
    "201p\n",
    "\n",
    "1. 해결방법: 리스트(데크)로 변환"
   ]
  },
  {
   "cell_type": "code",
   "execution_count": 129,
   "id": "4b2724ce",
   "metadata": {
    "ExecuteTime": {
     "end_time": "2021-12-12T16:01:01.360524Z",
     "start_time": "2021-12-12T16:01:01.340576Z"
    }
   },
   "outputs": [],
   "source": [
    "s= '1->2'"
   ]
  },
  {
   "cell_type": "code",
   "execution_count": 135,
   "id": "f00947da",
   "metadata": {
    "ExecuteTime": {
     "end_time": "2021-12-12T16:02:25.416947Z",
     "start_time": "2021-12-12T16:02:25.389015Z"
    }
   },
   "outputs": [],
   "source": [
    "# 데크 버전\n",
    "import collections\n",
    "\n",
    "def isPalindrome(head)->bool:\n",
    "    # 데크 자료형 선언\n",
    "    q = collections.deque()\n",
    "    \n",
    "    if not head:\n",
    "        return True\n",
    "    \n",
    "    node = head\n",
    "    while node is not None: # 노드가 비어있지 않다면 반복해서 노드를 데크에 추가\n",
    "        q.append(node)\n",
    "        q.node.next\n",
    "        \n",
    "    while len(q)>1:\n",
    "        if q.popleft() != q.pop():\n",
    "            return False\n",
    "        \n",
    "    return True"
   ]
  },
  {
   "cell_type": "markdown",
   "id": "53733162",
   "metadata": {},
   "source": [
    "### 유효한 괄호\n",
    "245p"
   ]
  },
  {
   "cell_type": "code",
   "execution_count": null,
   "id": "392b6496",
   "metadata": {},
   "outputs": [],
   "source": []
  }
 ],
 "metadata": {
  "hide_input": false,
  "kernelspec": {
   "display_name": "Python 3 (ipykernel)",
   "language": "python",
   "name": "python3"
  },
  "language_info": {
   "codemirror_mode": {
    "name": "ipython",
    "version": 3
   },
   "file_extension": ".py",
   "mimetype": "text/x-python",
   "name": "python",
   "nbconvert_exporter": "python",
   "pygments_lexer": "ipython3",
   "version": "3.8.11"
  },
  "toc": {
   "base_numbering": 1,
   "nav_menu": {},
   "number_sections": true,
   "sideBar": true,
   "skip_h1_title": false,
   "title_cell": "Table of Contents",
   "title_sidebar": "Contents",
   "toc_cell": false,
   "toc_position": {},
   "toc_section_display": true,
   "toc_window_display": false
  }
 },
 "nbformat": 4,
 "nbformat_minor": 5
}
